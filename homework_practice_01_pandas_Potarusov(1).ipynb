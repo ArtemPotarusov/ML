{
  "cells": [
    {
      "cell_type": "markdown",
      "metadata": {
        "id": "HcF9My_FhLuk"
      },
      "source": [
        "## Машинное обучение 1, ПМИ ФКН ВШЭ\n",
        "\n",
        "## Практическое домашнее задание 1\n",
        "\n",
        "### Общая информация\n",
        "\n",
        "Дата выдачи: 25.09.2024\n",
        "\n",
        "Мягкий дедлайн: 23:59MSK 06.10.2024\n",
        "\n",
        "Жесткий дедлайн: 23:59MSK 10.10.2024"
      ]
    },
    {
      "cell_type": "markdown",
      "metadata": {
        "id": "G64TptyJhLuo"
      },
      "source": [
        "### О задании\n",
        "\n",
        "Задание состоит из двух разделов, посвященных работе с табличными данными с помощью библиотеки `pandas` и визуализации с помощью `matplotlib`. В первом разделе вам предстоит выполнить базовые задания с помощью вышеуказанных библиотек, а во втором распределить студентов по курсам. Баллы даются за выполнение отдельных пунктов. Задачи в рамках одного раздела рекомендуется решать в том порядке, в котором они даны в задании.\n",
        "\n",
        "Задание направлено на освоение jupyter notebook (будет использоваться в дальнейших заданиях), библиотек pandas и matplotlib.\n",
        "\n",
        "### Оценивание и штрафы\n",
        "Каждая из задач имеет определенную «стоимость» (указана в скобках около задачи). Максимально допустимая оценка за работу — 10 баллов без учёта бонусов. Сдавать задание после жёсткого дедлайна нельзя.\n",
        "\n",
        "Задание выполняется самостоятельно. «Похожие» решения считаются плагиатом и все задействованные студенты (в том числе те, у кого списали) не могут получить за него больше 0 баллов (подробнее о плагиате см. на странице курса). Если вы нашли решение какого-то из заданий (или его часть) в открытом источнике, необходимо указать ссылку на этот источник (скорее всего вы будете не единственным, кто это нашел, поэтому чтобы исключить подозрение в плагиате, необходима ссылка на источник).\n",
        "\n",
        "### Формат сдачи\n",
        "Задания сдаются через систему Anytask. Инвайт можно получить у семинариста или ассистента. Присылать необходимо ноутбук с выполненным заданием. Сам ноутбук называйте в формате `homework-practice-01-pandas-Username.ipynb`, где Username — ваша фамилия.\n",
        "\n",
        "Для удобства проверки самостоятельно посчитайте свою максимальную оценку (исходя из набора решенных задач) и укажите ниже.\n",
        "\n",
        "Оценка: xx."
      ]
    },
    {
      "cell_type": "markdown",
      "metadata": {
        "id": "BaXlfHE_hLup"
      },
      "source": [
        "## 0. Введение"
      ]
    },
    {
      "cell_type": "markdown",
      "metadata": {
        "id": "wirAvJNxhLup"
      },
      "source": [
        "Сейчас мы находимся в jupyter-ноутбуке (или ipython-ноутбуке). Это удобная среда для написания кода, проведения экспериментов, изучения данных, построения визуализаций и других нужд, не связанных с написанием production-кода.\n",
        "\n",
        "Ноутбук состоит из ячеек, каждая из которых может быть либо ячейкой с кодом, либо ячейкой с текстом размеченным и неразмеченным. Текст поддерживает markdown-разметку и формулы в Latex.\n",
        "\n",
        "Для работы с содержимым ячейки используется *режим редактирования* (*Edit mode*, включается нажатием клавиши **Enter** после выбора ячейки), а для навигации между ячейками искользуется *командный режим* (*Command mode*, включается нажатием клавиши **Esc**). Тип ячейки можно задать в командном режиме либо с помощью горячих клавиш (**y** to code, **m** to markdown, **r** to edit raw text), либо в меню *Cell -> Cell type*.\n",
        "\n",
        "После заполнения ячейки нужно нажать *Shift + Enter*, эта команда обработает содержимое ячейки: проинтерпретирует код или сверстает размеченный текст."
      ]
    },
    {
      "cell_type": "code",
      "execution_count": null,
      "metadata": {
        "colab": {
          "base_uri": "https://localhost:8080/"
        },
        "id": "aQ2_j3nkhLuq",
        "outputId": "a7d37d1a-7695-4d71-f83a-e3a6c370af67"
      },
      "outputs": [
        {
          "output_type": "execute_result",
          "data": {
            "text/plain": [
              "4"
            ]
          },
          "metadata": {},
          "execution_count": 291
        }
      ],
      "source": [
        "# ячейка с кодом, при выполнении которой появится output\n",
        "2 + 2"
      ]
    },
    {
      "cell_type": "markdown",
      "metadata": {
        "id": "ZlulCwVKhLur"
      },
      "source": [
        "Ячейка с неразмеченным текстом."
      ]
    },
    {
      "cell_type": "markdown",
      "metadata": {
        "id": "A4wkVlIehLur"
      },
      "source": [
        "Попробуйте создать свои ячейки, написать какой-нибудь код и текст какой-нибудь формулой."
      ]
    },
    {
      "cell_type": "code",
      "execution_count": null,
      "metadata": {
        "colab": {
          "base_uri": "https://localhost:8080/"
        },
        "id": "BIuaYSvqhLus",
        "outputId": "a8e7bd48-6d61-46b4-a42c-776440affacb"
      },
      "outputs": [
        {
          "output_type": "stream",
          "name": "stdout",
          "text": [
            "Hello world\n"
          ]
        }
      ],
      "source": [
        "print(\"Hello world\")"
      ]
    },
    {
      "cell_type": "markdown",
      "metadata": {
        "id": "S-rrhAW2o90X"
      },
      "source": [
        "$svd(A) = UΣV^t$"
      ]
    },
    {
      "cell_type": "markdown",
      "metadata": {
        "id": "iWs6ljrIhLus"
      },
      "source": [
        "[Здесь](https://athena.brynmawr.edu/jupyter/hub/dblank/public/Jupyter%20Notebook%20Users%20Manual.ipynb) находится <s>не</s>большая заметка о используемом языке разметки Markdown. Он позволяет:\n",
        "\n",
        "0. Составлять упорядоченные списки\n",
        "1. Выделять *текст* <s>при</s> **необходимости**\n",
        "2. Добавлять [ссылки](http://imgs.xkcd.com/comics/the_universal_label.png)\n",
        "\n",
        "\n",
        "* Составлять неупорядоченные списки\n",
        "\n",
        "Делать вставки с помощью LaTex:\n",
        "    \n",
        "$\n",
        "\\left\\{\n",
        "\\begin{array}{ll}\n",
        "x = 16 \\sin^3 (t) \\\\\n",
        "y = 13 \\cos (t) - 5 \\cos (2t) - 2 \\cos (3t) - \\cos (4t) \\\\\n",
        "t \\in [0, 2 \\pi]\n",
        "\\end{array}\n",
        "\\right.$"
      ]
    },
    {
      "cell_type": "markdown",
      "metadata": {
        "id": "6fmTGcXOhLus"
      },
      "source": [
        "А ещё можно вставлять картинки, или гифки, или что захотите:\n",
        "\n",
        "<img src=\"https://media1.tenor.com/images/9b8fbe9214504bcf6c60fe4e4f7e114e/tenor.gif?itemid=5416416\" style=\"width: 400px\">"
      ]
    },
    {
      "cell_type": "markdown",
      "metadata": {
        "id": "J_toGw7DhLut"
      },
      "source": [
        "### Google Colab"
      ]
    },
    {
      "cell_type": "markdown",
      "metadata": {
        "id": "jpkbCVjGhLut"
      },
      "source": [
        "Что за колаб?\n",
        "\n",
        "**Google Colab (Colaboratory)** это **Jupyter Notebook + Cloud + Google Drive.**\n",
        "\n",
        "Компания Google предоставляет возможность бесплатно запускать ноутбуки (предварительно загрузив их на свой гугл-диск) прямо в облаке. При этом вам не требуется установка никаких пакетов на свою машину, а работать можно прямиком из браузера. Вот ссылка:"
      ]
    },
    {
      "cell_type": "markdown",
      "metadata": {
        "id": "06MQog3yhLut"
      },
      "source": [
        "https://colab.research.google.com"
      ]
    },
    {
      "cell_type": "markdown",
      "metadata": {
        "id": "5_hfWXKPhLut"
      },
      "source": [
        "При использовании вы увидите много сходств с jupyter ноутбуком. Одним из преимуществ является доступность GPU, соответствующую опцию можно активировать в настройках сервиса. При желании вы сможете найти в интернете много туториалов по использованию или разобраться самостоятельно"
      ]
    },
    {
      "cell_type": "markdown",
      "metadata": {
        "id": "DcRcwHpG8pxB"
      },
      "source": [
        "### Kaggle\n",
        "\n",
        "Альтернативой является **Kaggle**, он же площадка для самых разных соревнований по машинному обучению\n",
        "\n",
        "Он, как и колаб, предоставляет бесплатный GPU, и даже не один, с чётким лимитом в 30 часов в неделю (colab может его внезапно отобрать, kaggle - нет) более мощные CPU с большим числом ядер, и больше Гб ОЗУ (раз так в 2.5)\n",
        "\n",
        "https://www.kaggle.com\n",
        "\n",
        "К сожалению мир не идеален, недостатки следующие:\n",
        "- необходимость загружать датасеты через специальную кнопочку\n",
        "- невозможность использовать свои скрипты и модули :(\n",
        "- нужно тыкать техподдержку, чтобы создать аккаунт из России"
      ]
    },
    {
      "cell_type": "markdown",
      "metadata": {
        "id": "sUe2vnFGhLuu"
      },
      "source": [
        "## 1. Табличные данные и Pandas"
      ]
    },
    {
      "cell_type": "markdown",
      "metadata": {
        "id": "DJQzjjqJhLuu"
      },
      "source": [
        "Pandas — удобная библиотека для работы с табличными данными в Python, если данных не слишком много и они помещаются в оперативную память вашего компьютера. Несмотря на неэффективность реализации и некоторые проблемы, библиотека стала стандартом в анализе данных.\n",
        "\n",
        "Основной объект в `pandas` — это `pd.DataFrame`, представляющий собой таблицу с именованными колонками различных типов, индексом (может быть многоуровневым). DataFrame можно создавать, считывая таблицу из файла или задавая вручную из других объектов.\n",
        "\n",
        "В этой части потребуется выполнить несколько небольших заданий. Можно пойти двумя путями: сначала изучить материалы, а потом приступить к заданиям, или же разбираться \"по ходу\". Выбирайте сами.\n",
        "\n",
        "Материалы:\n",
        "1. [Pandas за 10 минут из официального руководства](http://pandas.pydata.org/pandas-docs/stable/10min.html)\n",
        "2. [Документация](http://pandas.pydata.org/pandas-docs/stable/index.html) (стоит обращаться, если не понятно, как вызывать конкретный метод)\n",
        "3. [Примеры использования функционала](http://nbviewer.jupyter.org/github/justmarkham/pandas-videos/blob/master/pandas.ipynb)\n",
        "\n",
        "Многие из заданий можно выполнить несколькими способами. Не существуют единственно верного, но попробуйте максимально задействовать арсенал pandas и ориентируйтесь на простоту и понятность вашего кода. Мы не будем подсказывать, что нужно использовать для решения конкретной задачи, попробуйте находить необходимый функционал сами (название метода чаще всего очевидно). В помощь вам документация, поиск и StackOverflow."
      ]
    },
    {
      "cell_type": "code",
      "execution_count": 391,
      "metadata": {
        "colab": {
          "base_uri": "https://localhost:8080/"
        },
        "id": "26zbFY25hLuv",
        "outputId": "e307d829-84e7-4115-de20-7f6095d83e62"
      },
      "outputs": [
        {
          "output_type": "stream",
          "name": "stdout",
          "text": [
            "Populating the interactive namespace from numpy and matplotlib\n"
          ]
        },
        {
          "output_type": "stream",
          "name": "stderr",
          "text": [
            "/usr/local/lib/python3.10/dist-packages/IPython/core/magics/pylab.py:159: UserWarning: pylab import has clobbered these variables: ['copy']\n",
            "`%matplotlib` prevents importing * from pylab and numpy\n",
            "  warn(\"pylab import has clobbered these variables: %s\"  % clobbered +\n"
          ]
        }
      ],
      "source": [
        "%pylab inline\n",
        "import pandas as pd"
      ]
    },
    {
      "cell_type": "markdown",
      "metadata": {
        "id": "QZmj3q3c8A8c"
      },
      "source": [
        "<span style=\"color:red\">Перед выполнением задания необходимо ознакомиться с первым семинаром (seminars/sem01-pandas.ipynb) </span>.\n",
        "\n",
        "Это поможет вам получить общее понимание происходяшего и успешнее справиться с заданием.\n",
        "\n",
        "Также успешному выполнению способствует внимательное чтение текста задания от начала до конца.\n",
        "\n",
        "Удачи!"
      ]
    },
    {
      "cell_type": "markdown",
      "metadata": {
        "id": "dneJl9TyhLuv"
      },
      "source": [
        "Скачаем подготовленные на семинаре данные:"
      ]
    },
    {
      "cell_type": "code",
      "execution_count": 392,
      "metadata": {
        "id": "rj_I0RslhLuw"
      },
      "outputs": [],
      "source": [
        "!wget  -O 'end_seminar.xlsx' -q 'https://www.dropbox.com/s/f4rm8sjc3v99p0m/_end_seminar.xlsx?dl=0'"
      ]
    },
    {
      "cell_type": "markdown",
      "metadata": {
        "id": "5hp7bn_ThLuw"
      },
      "source": [
        "Для пользователей Windows: скачайте файл самостоятельно и поместите его в папку с тетрадкой. Или попробуйте один из следующих вариантов:"
      ]
    },
    {
      "cell_type": "code",
      "execution_count": null,
      "metadata": {
        "id": "4h4_BaX8hLuw"
      },
      "outputs": [],
      "source": [
        "# !powershell iwr -outf somefile https://somesite/somefile"
      ]
    },
    {
      "cell_type": "code",
      "execution_count": null,
      "metadata": {
        "id": "7bHroLGChLuw"
      },
      "outputs": [],
      "source": [
        "# !pip install wget\n",
        "# import wget\n",
        "# wget.download('https://dropbox.com/s/f4rm8sjc3v99p0m/_end_seminar.xlsx?dl=1', 'end_seminar.xlsx')"
      ]
    },
    {
      "cell_type": "markdown",
      "metadata": {
        "id": "VFs_6IythLux"
      },
      "source": [
        "##### В первой части задания (до раздела \"Распределение студентов по курсам\") использование циклов запрещается и повлечет за собой снижение оценки. Использование <code>vectorize</code> и  <code>apply</code>, <code>apply_along_axis</code> и всего, где можно применить лямбда-функции (`assign`, `map`, ...) крайне нежелательно"
      ]
    },
    {
      "cell_type": "markdown",
      "metadata": {
        "id": "shFkfJkohLux"
      },
      "source": [
        "Для каждой задачи из этого раздела вы должны написать код для получения ответа, а также дать текстовый ответ, если он предполагается.\n",
        "\n",
        "На некоторые вопросы вы можете получить путём пристального взгляда на таблицу, но это не будет засчитываться. Вы в любом случае должны получить ответ с помощью кода."
      ]
    },
    {
      "cell_type": "markdown",
      "metadata": {
        "id": "gDD85M7bhLux"
      },
      "source": [
        "#### 1. [0.5 баллов] Откройте файл с таблицей (не забудьте про её формат). Выведите 3 последних строки.\n",
        "\n",
        "Посмотрите на данные и скажите, что они из себя представляют, сколько в таблице строк, какие столбцы? (на это не надо отвечать, просто подумайте об этом)"
      ]
    },
    {
      "cell_type": "code",
      "execution_count": 393,
      "metadata": {
        "colab": {
          "base_uri": "https://localhost:8080/",
          "height": 268
        },
        "id": "PKulur3LhLuy",
        "outputId": "fce2a98d-199e-4fad-c7dc-f251b919ce03"
      },
      "outputs": [
        {
          "output_type": "execute_result",
          "data": {
            "text/plain": [
              "                  timestamp                                id  rating  \\\n",
              "358 2020-05-20 11:54:38.318  d7118b44c7e8fdbbaaca226d2da6fef1    1111   \n",
              "359 2020-05-23 21:16:40.916  79d14db48e4737af731960ae212d5134     966   \n",
              "360 2020-05-23 21:16:40.916  f2d210ace25a841e1e58036b257d5d47    1195   \n",
              "\n",
              "     18_group  is_mi                                           fall_1  \\\n",
              "358       NaN    NaN  Сбор и обработка данных с помощью краудсорсинга   \n",
              "359       NaN    NaN                 Безопасность компьютерных систем   \n",
              "360       NaN    NaN                Анализ неструктурированных данных   \n",
              "\n",
              "                                                fall_2  \\\n",
              "358                        Statistical Learning Theory   \n",
              "359  Принятие решений в условиях риска и неопределё...   \n",
              "360                      Моделирование временных рядов   \n",
              "\n",
              "                                fall_3  \\\n",
              "358  Анализ неструктурированных данных   \n",
              "359  Анализ неструктурированных данных   \n",
              "360  Высокопроизводительные вычисления   \n",
              "\n",
              "                                              spring_1  \\\n",
              "358  Проектирование и разработка высоконагруженных ...   \n",
              "359  Проектирование и разработка высоконагруженных ...   \n",
              "360                           Обучение с подкреплением   \n",
              "\n",
              "                                 spring_2  \\\n",
              "358  Методы сжатия и передачи медиаданных   \n",
              "359  Методы сжатия и передачи медиаданных   \n",
              "360                   Компьютерное зрение   \n",
              "\n",
              "                                 spring_3 is_first_time  percentile  17_group  \\\n",
              "358                      Численные методы            Да    0.652174     173.0   \n",
              "359                   Компьютерное зрение            Да    0.985507     172.0   \n",
              "360  Методы сжатия и передачи медиаданных           NaN    0.369565     176.0   \n",
              "\n",
              "                            blended  is_ml_student  \n",
              "358  Соревновательный анализ данных            NaN  \n",
              "359                          DevOps            NaN  \n",
              "360  Соревновательный анализ данных            NaN  "
            ],
            "text/html": [
              "\n",
              "  <div id=\"df-80877094-2871-4acc-85da-2fbdba68dcb7\" class=\"colab-df-container\">\n",
              "    <div>\n",
              "<style scoped>\n",
              "    .dataframe tbody tr th:only-of-type {\n",
              "        vertical-align: middle;\n",
              "    }\n",
              "\n",
              "    .dataframe tbody tr th {\n",
              "        vertical-align: top;\n",
              "    }\n",
              "\n",
              "    .dataframe thead th {\n",
              "        text-align: right;\n",
              "    }\n",
              "</style>\n",
              "<table border=\"1\" class=\"dataframe\">\n",
              "  <thead>\n",
              "    <tr style=\"text-align: right;\">\n",
              "      <th></th>\n",
              "      <th>timestamp</th>\n",
              "      <th>id</th>\n",
              "      <th>rating</th>\n",
              "      <th>18_group</th>\n",
              "      <th>is_mi</th>\n",
              "      <th>fall_1</th>\n",
              "      <th>fall_2</th>\n",
              "      <th>fall_3</th>\n",
              "      <th>spring_1</th>\n",
              "      <th>spring_2</th>\n",
              "      <th>spring_3</th>\n",
              "      <th>is_first_time</th>\n",
              "      <th>percentile</th>\n",
              "      <th>17_group</th>\n",
              "      <th>blended</th>\n",
              "      <th>is_ml_student</th>\n",
              "    </tr>\n",
              "  </thead>\n",
              "  <tbody>\n",
              "    <tr>\n",
              "      <th>358</th>\n",
              "      <td>2020-05-20 11:54:38.318</td>\n",
              "      <td>d7118b44c7e8fdbbaaca226d2da6fef1</td>\n",
              "      <td>1111</td>\n",
              "      <td>NaN</td>\n",
              "      <td>NaN</td>\n",
              "      <td>Сбор и обработка данных с помощью краудсорсинга</td>\n",
              "      <td>Statistical Learning Theory</td>\n",
              "      <td>Анализ неструктурированных данных</td>\n",
              "      <td>Проектирование и разработка высоконагруженных ...</td>\n",
              "      <td>Методы сжатия и передачи медиаданных</td>\n",
              "      <td>Численные методы</td>\n",
              "      <td>Да</td>\n",
              "      <td>0.652174</td>\n",
              "      <td>173.0</td>\n",
              "      <td>Соревновательный анализ данных</td>\n",
              "      <td>NaN</td>\n",
              "    </tr>\n",
              "    <tr>\n",
              "      <th>359</th>\n",
              "      <td>2020-05-23 21:16:40.916</td>\n",
              "      <td>79d14db48e4737af731960ae212d5134</td>\n",
              "      <td>966</td>\n",
              "      <td>NaN</td>\n",
              "      <td>NaN</td>\n",
              "      <td>Безопасность компьютерных систем</td>\n",
              "      <td>Принятие решений в условиях риска и неопределё...</td>\n",
              "      <td>Анализ неструктурированных данных</td>\n",
              "      <td>Проектирование и разработка высоконагруженных ...</td>\n",
              "      <td>Методы сжатия и передачи медиаданных</td>\n",
              "      <td>Компьютерное зрение</td>\n",
              "      <td>Да</td>\n",
              "      <td>0.985507</td>\n",
              "      <td>172.0</td>\n",
              "      <td>DevOps</td>\n",
              "      <td>NaN</td>\n",
              "    </tr>\n",
              "    <tr>\n",
              "      <th>360</th>\n",
              "      <td>2020-05-23 21:16:40.916</td>\n",
              "      <td>f2d210ace25a841e1e58036b257d5d47</td>\n",
              "      <td>1195</td>\n",
              "      <td>NaN</td>\n",
              "      <td>NaN</td>\n",
              "      <td>Анализ неструктурированных данных</td>\n",
              "      <td>Моделирование временных рядов</td>\n",
              "      <td>Высокопроизводительные вычисления</td>\n",
              "      <td>Обучение с подкреплением</td>\n",
              "      <td>Компьютерное зрение</td>\n",
              "      <td>Методы сжатия и передачи медиаданных</td>\n",
              "      <td>NaN</td>\n",
              "      <td>0.369565</td>\n",
              "      <td>176.0</td>\n",
              "      <td>Соревновательный анализ данных</td>\n",
              "      <td>NaN</td>\n",
              "    </tr>\n",
              "  </tbody>\n",
              "</table>\n",
              "</div>\n",
              "    <div class=\"colab-df-buttons\">\n",
              "\n",
              "  <div class=\"colab-df-container\">\n",
              "    <button class=\"colab-df-convert\" onclick=\"convertToInteractive('df-80877094-2871-4acc-85da-2fbdba68dcb7')\"\n",
              "            title=\"Convert this dataframe to an interactive table.\"\n",
              "            style=\"display:none;\">\n",
              "\n",
              "  <svg xmlns=\"http://www.w3.org/2000/svg\" height=\"24px\" viewBox=\"0 -960 960 960\">\n",
              "    <path d=\"M120-120v-720h720v720H120Zm60-500h600v-160H180v160Zm220 220h160v-160H400v160Zm0 220h160v-160H400v160ZM180-400h160v-160H180v160Zm440 0h160v-160H620v160ZM180-180h160v-160H180v160Zm440 0h160v-160H620v160Z\"/>\n",
              "  </svg>\n",
              "    </button>\n",
              "\n",
              "  <style>\n",
              "    .colab-df-container {\n",
              "      display:flex;\n",
              "      gap: 12px;\n",
              "    }\n",
              "\n",
              "    .colab-df-convert {\n",
              "      background-color: #E8F0FE;\n",
              "      border: none;\n",
              "      border-radius: 50%;\n",
              "      cursor: pointer;\n",
              "      display: none;\n",
              "      fill: #1967D2;\n",
              "      height: 32px;\n",
              "      padding: 0 0 0 0;\n",
              "      width: 32px;\n",
              "    }\n",
              "\n",
              "    .colab-df-convert:hover {\n",
              "      background-color: #E2EBFA;\n",
              "      box-shadow: 0px 1px 2px rgba(60, 64, 67, 0.3), 0px 1px 3px 1px rgba(60, 64, 67, 0.15);\n",
              "      fill: #174EA6;\n",
              "    }\n",
              "\n",
              "    .colab-df-buttons div {\n",
              "      margin-bottom: 4px;\n",
              "    }\n",
              "\n",
              "    [theme=dark] .colab-df-convert {\n",
              "      background-color: #3B4455;\n",
              "      fill: #D2E3FC;\n",
              "    }\n",
              "\n",
              "    [theme=dark] .colab-df-convert:hover {\n",
              "      background-color: #434B5C;\n",
              "      box-shadow: 0px 1px 3px 1px rgba(0, 0, 0, 0.15);\n",
              "      filter: drop-shadow(0px 1px 2px rgba(0, 0, 0, 0.3));\n",
              "      fill: #FFFFFF;\n",
              "    }\n",
              "  </style>\n",
              "\n",
              "    <script>\n",
              "      const buttonEl =\n",
              "        document.querySelector('#df-80877094-2871-4acc-85da-2fbdba68dcb7 button.colab-df-convert');\n",
              "      buttonEl.style.display =\n",
              "        google.colab.kernel.accessAllowed ? 'block' : 'none';\n",
              "\n",
              "      async function convertToInteractive(key) {\n",
              "        const element = document.querySelector('#df-80877094-2871-4acc-85da-2fbdba68dcb7');\n",
              "        const dataTable =\n",
              "          await google.colab.kernel.invokeFunction('convertToInteractive',\n",
              "                                                    [key], {});\n",
              "        if (!dataTable) return;\n",
              "\n",
              "        const docLinkHtml = 'Like what you see? Visit the ' +\n",
              "          '<a target=\"_blank\" href=https://colab.research.google.com/notebooks/data_table.ipynb>data table notebook</a>'\n",
              "          + ' to learn more about interactive tables.';\n",
              "        element.innerHTML = '';\n",
              "        dataTable['output_type'] = 'display_data';\n",
              "        await google.colab.output.renderOutput(dataTable, element);\n",
              "        const docLink = document.createElement('div');\n",
              "        docLink.innerHTML = docLinkHtml;\n",
              "        element.appendChild(docLink);\n",
              "      }\n",
              "    </script>\n",
              "  </div>\n",
              "\n",
              "\n",
              "<div id=\"df-c4590ae9-f5ae-442c-b940-12efcaef299b\">\n",
              "  <button class=\"colab-df-quickchart\" onclick=\"quickchart('df-c4590ae9-f5ae-442c-b940-12efcaef299b')\"\n",
              "            title=\"Suggest charts\"\n",
              "            style=\"display:none;\">\n",
              "\n",
              "<svg xmlns=\"http://www.w3.org/2000/svg\" height=\"24px\"viewBox=\"0 0 24 24\"\n",
              "     width=\"24px\">\n",
              "    <g>\n",
              "        <path d=\"M19 3H5c-1.1 0-2 .9-2 2v14c0 1.1.9 2 2 2h14c1.1 0 2-.9 2-2V5c0-1.1-.9-2-2-2zM9 17H7v-7h2v7zm4 0h-2V7h2v10zm4 0h-2v-4h2v4z\"/>\n",
              "    </g>\n",
              "</svg>\n",
              "  </button>\n",
              "\n",
              "<style>\n",
              "  .colab-df-quickchart {\n",
              "      --bg-color: #E8F0FE;\n",
              "      --fill-color: #1967D2;\n",
              "      --hover-bg-color: #E2EBFA;\n",
              "      --hover-fill-color: #174EA6;\n",
              "      --disabled-fill-color: #AAA;\n",
              "      --disabled-bg-color: #DDD;\n",
              "  }\n",
              "\n",
              "  [theme=dark] .colab-df-quickchart {\n",
              "      --bg-color: #3B4455;\n",
              "      --fill-color: #D2E3FC;\n",
              "      --hover-bg-color: #434B5C;\n",
              "      --hover-fill-color: #FFFFFF;\n",
              "      --disabled-bg-color: #3B4455;\n",
              "      --disabled-fill-color: #666;\n",
              "  }\n",
              "\n",
              "  .colab-df-quickchart {\n",
              "    background-color: var(--bg-color);\n",
              "    border: none;\n",
              "    border-radius: 50%;\n",
              "    cursor: pointer;\n",
              "    display: none;\n",
              "    fill: var(--fill-color);\n",
              "    height: 32px;\n",
              "    padding: 0;\n",
              "    width: 32px;\n",
              "  }\n",
              "\n",
              "  .colab-df-quickchart:hover {\n",
              "    background-color: var(--hover-bg-color);\n",
              "    box-shadow: 0 1px 2px rgba(60, 64, 67, 0.3), 0 1px 3px 1px rgba(60, 64, 67, 0.15);\n",
              "    fill: var(--button-hover-fill-color);\n",
              "  }\n",
              "\n",
              "  .colab-df-quickchart-complete:disabled,\n",
              "  .colab-df-quickchart-complete:disabled:hover {\n",
              "    background-color: var(--disabled-bg-color);\n",
              "    fill: var(--disabled-fill-color);\n",
              "    box-shadow: none;\n",
              "  }\n",
              "\n",
              "  .colab-df-spinner {\n",
              "    border: 2px solid var(--fill-color);\n",
              "    border-color: transparent;\n",
              "    border-bottom-color: var(--fill-color);\n",
              "    animation:\n",
              "      spin 1s steps(1) infinite;\n",
              "  }\n",
              "\n",
              "  @keyframes spin {\n",
              "    0% {\n",
              "      border-color: transparent;\n",
              "      border-bottom-color: var(--fill-color);\n",
              "      border-left-color: var(--fill-color);\n",
              "    }\n",
              "    20% {\n",
              "      border-color: transparent;\n",
              "      border-left-color: var(--fill-color);\n",
              "      border-top-color: var(--fill-color);\n",
              "    }\n",
              "    30% {\n",
              "      border-color: transparent;\n",
              "      border-left-color: var(--fill-color);\n",
              "      border-top-color: var(--fill-color);\n",
              "      border-right-color: var(--fill-color);\n",
              "    }\n",
              "    40% {\n",
              "      border-color: transparent;\n",
              "      border-right-color: var(--fill-color);\n",
              "      border-top-color: var(--fill-color);\n",
              "    }\n",
              "    60% {\n",
              "      border-color: transparent;\n",
              "      border-right-color: var(--fill-color);\n",
              "    }\n",
              "    80% {\n",
              "      border-color: transparent;\n",
              "      border-right-color: var(--fill-color);\n",
              "      border-bottom-color: var(--fill-color);\n",
              "    }\n",
              "    90% {\n",
              "      border-color: transparent;\n",
              "      border-bottom-color: var(--fill-color);\n",
              "    }\n",
              "  }\n",
              "</style>\n",
              "\n",
              "  <script>\n",
              "    async function quickchart(key) {\n",
              "      const quickchartButtonEl =\n",
              "        document.querySelector('#' + key + ' button');\n",
              "      quickchartButtonEl.disabled = true;  // To prevent multiple clicks.\n",
              "      quickchartButtonEl.classList.add('colab-df-spinner');\n",
              "      try {\n",
              "        const charts = await google.colab.kernel.invokeFunction(\n",
              "            'suggestCharts', [key], {});\n",
              "      } catch (error) {\n",
              "        console.error('Error during call to suggestCharts:', error);\n",
              "      }\n",
              "      quickchartButtonEl.classList.remove('colab-df-spinner');\n",
              "      quickchartButtonEl.classList.add('colab-df-quickchart-complete');\n",
              "    }\n",
              "    (() => {\n",
              "      let quickchartButtonEl =\n",
              "        document.querySelector('#df-c4590ae9-f5ae-442c-b940-12efcaef299b button');\n",
              "      quickchartButtonEl.style.display =\n",
              "        google.colab.kernel.accessAllowed ? 'block' : 'none';\n",
              "    })();\n",
              "  </script>\n",
              "</div>\n",
              "    </div>\n",
              "  </div>\n"
            ],
            "application/vnd.google.colaboratory.intrinsic+json": {
              "type": "dataframe",
              "summary": "{\n  \"name\": \"df\",\n  \"rows\": 3,\n  \"fields\": [\n    {\n      \"column\": \"timestamp\",\n      \"properties\": {\n        \"dtype\": \"date\",\n        \"min\": \"2020-05-20 11:54:38.318000\",\n        \"max\": \"2020-05-23 21:16:40.916000\",\n        \"num_unique_values\": 2,\n        \"samples\": [\n          \"2020-05-23 21:16:40.916000\",\n          \"2020-05-20 11:54:38.318000\"\n        ],\n        \"semantic_type\": \"\",\n        \"description\": \"\"\n      }\n    },\n    {\n      \"column\": \"id\",\n      \"properties\": {\n        \"dtype\": \"string\",\n        \"num_unique_values\": 3,\n        \"samples\": [\n          \"d7118b44c7e8fdbbaaca226d2da6fef1\",\n          \"79d14db48e4737af731960ae212d5134\"\n        ],\n        \"semantic_type\": \"\",\n        \"description\": \"\"\n      }\n    },\n    {\n      \"column\": \"rating\",\n      \"properties\": {\n        \"dtype\": \"number\",\n        \"std\": 115,\n        \"min\": 966,\n        \"max\": 1195,\n        \"num_unique_values\": 3,\n        \"samples\": [\n          1111,\n          966\n        ],\n        \"semantic_type\": \"\",\n        \"description\": \"\"\n      }\n    },\n    {\n      \"column\": \"18_group\",\n      \"properties\": {\n        \"dtype\": \"number\",\n        \"std\": null,\n        \"min\": null,\n        \"max\": null,\n        \"num_unique_values\": 0,\n        \"samples\": [],\n        \"semantic_type\": \"\",\n        \"description\": \"\"\n      }\n    },\n    {\n      \"column\": \"is_mi\",\n      \"properties\": {\n        \"dtype\": \"number\",\n        \"std\": null,\n        \"min\": null,\n        \"max\": null,\n        \"num_unique_values\": 0,\n        \"samples\": [],\n        \"semantic_type\": \"\",\n        \"description\": \"\"\n      }\n    },\n    {\n      \"column\": \"fall_1\",\n      \"properties\": {\n        \"dtype\": \"string\",\n        \"num_unique_values\": 3,\n        \"samples\": [],\n        \"semantic_type\": \"\",\n        \"description\": \"\"\n      }\n    },\n    {\n      \"column\": \"fall_2\",\n      \"properties\": {\n        \"dtype\": \"string\",\n        \"num_unique_values\": 3,\n        \"samples\": [],\n        \"semantic_type\": \"\",\n        \"description\": \"\"\n      }\n    },\n    {\n      \"column\": \"fall_3\",\n      \"properties\": {\n        \"dtype\": \"string\",\n        \"num_unique_values\": 2,\n        \"samples\": [],\n        \"semantic_type\": \"\",\n        \"description\": \"\"\n      }\n    },\n    {\n      \"column\": \"spring_1\",\n      \"properties\": {\n        \"dtype\": \"string\",\n        \"num_unique_values\": 2,\n        \"samples\": [],\n        \"semantic_type\": \"\",\n        \"description\": \"\"\n      }\n    },\n    {\n      \"column\": \"spring_2\",\n      \"properties\": {\n        \"dtype\": \"string\",\n        \"num_unique_values\": 2,\n        \"samples\": [],\n        \"semantic_type\": \"\",\n        \"description\": \"\"\n      }\n    },\n    {\n      \"column\": \"spring_3\",\n      \"properties\": {\n        \"dtype\": \"string\",\n        \"num_unique_values\": 3,\n        \"samples\": [],\n        \"semantic_type\": \"\",\n        \"description\": \"\"\n      }\n    },\n    {\n      \"column\": \"is_first_time\",\n      \"properties\": {\n        \"dtype\": \"category\",\n        \"num_unique_values\": 1,\n        \"samples\": [],\n        \"semantic_type\": \"\",\n        \"description\": \"\"\n      }\n    },\n    {\n      \"column\": \"percentile\",\n      \"properties\": {\n        \"dtype\": \"number\",\n        \"std\": 0.30831892823290347,\n        \"min\": 0.3695652173913043,\n        \"max\": 0.9855072463768116,\n        \"num_unique_values\": 3,\n        \"samples\": [],\n        \"semantic_type\": \"\",\n        \"description\": \"\"\n      }\n    },\n    {\n      \"column\": \"17_group\",\n      \"properties\": {\n        \"dtype\": \"number\",\n        \"std\": 2.081665999466133,\n        \"min\": 172.0,\n        \"max\": 176.0,\n        \"num_unique_values\": 3,\n        \"samples\": [],\n        \"semantic_type\": \"\",\n        \"description\": \"\"\n      }\n    },\n    {\n      \"column\": \"blended\",\n      \"properties\": {\n        \"dtype\": \"string\",\n        \"num_unique_values\": 2,\n        \"samples\": [],\n        \"semantic_type\": \"\",\n        \"description\": \"\"\n      }\n    },\n    {\n      \"column\": \"is_ml_student\",\n      \"properties\": {\n        \"dtype\": \"number\",\n        \"std\": null,\n        \"min\": null,\n        \"max\": null,\n        \"num_unique_values\": 0,\n        \"samples\": [],\n        \"semantic_type\": \"\",\n        \"description\": \"\"\n      }\n    }\n  ]\n}"
            }
          },
          "metadata": {},
          "execution_count": 393
        }
      ],
      "source": [
        "df = pd.read_excel('end_seminar.xlsx')\n",
        "df.tail(3)"
      ]
    },
    {
      "cell_type": "markdown",
      "metadata": {
        "id": "XnXq2JSe7CM_"
      },
      "source": [
        "**Дисклеймер**\n",
        "\n",
        "Если код полностью отвечает на вопрос, при этом не возникает вопроса на какой (например в след блоке я написал кто же отвечает), я не пишу комментарий (т.к. комментарий будет переписывание вопроса)"
      ]
    },
    {
      "cell_type": "markdown",
      "metadata": {
        "id": "P6dOzc7e85Bs"
      },
      "source": [
        "### Ответьте на вопросы:\n",
        "1. Сколько было уникальных пользователей из групп 18-го года набора, а сколько из групп 17-го года?"
      ]
    },
    {
      "cell_type": "code",
      "execution_count": 394,
      "metadata": {
        "colab": {
          "base_uri": "https://localhost:8080/"
        },
        "id": "ZLBcHvHf890B",
        "outputId": "0c003acc-d1bf-4001-b907-49612a4e8cda"
      },
      "outputs": [
        {
          "output_type": "execute_result",
          "data": {
            "text/plain": [
              "213"
            ]
          },
          "metadata": {},
          "execution_count": 394
        }
      ],
      "source": [
        "df[df['17_group'].isna()]['id'].value_counts().count() # unique of 18-year"
      ]
    },
    {
      "cell_type": "code",
      "execution_count": 395,
      "metadata": {
        "colab": {
          "base_uri": "https://localhost:8080/"
        },
        "id": "8gEbqlC70p4u",
        "outputId": "d4bb9600-9cc7-45d7-ca71-351db82ff20c"
      },
      "outputs": [
        {
          "output_type": "execute_result",
          "data": {
            "text/plain": [
              "134"
            ]
          },
          "metadata": {},
          "execution_count": 395
        }
      ],
      "source": [
        "df[df['18_group'].isna()]['id'].nunique() # unique of 17-year (just another function)"
      ]
    },
    {
      "cell_type": "markdown",
      "metadata": {
        "id": "dt89P1sG88NN"
      },
      "source": [
        "2. Есть ли уникальные студенты с равными перцентилями?"
      ]
    },
    {
      "cell_type": "code",
      "execution_count": 396,
      "metadata": {
        "colab": {
          "base_uri": "https://localhost:8080/",
          "height": 202
        },
        "id": "NA8Yy9D98-Nv",
        "outputId": "f538e4cf-1f10-44c4-be1b-de99c9617d38"
      },
      "outputs": [
        {
          "output_type": "execute_result",
          "data": {
            "text/plain": [
              "                  timestamp                                id  rating  \\\n",
              "80  2020-05-18 17:09:23.589  3e106aaef8b24dbb01319c73e14c2936     784   \n",
              "231 2020-05-14 21:52:43.844  3a7326c9e355a67d3805824ca34c4bc5    1457   \n",
              "\n",
              "     18_group  is_mi                            fall_1  \\\n",
              "80      182.0    NaN  Безопасность компьютерных систем   \n",
              "231       NaN    NaN       Statistical Learning Theory   \n",
              "\n",
              "                                fall_2                       fall_3  \\\n",
              "80         Statistical Learning Theory         Матричные вычисления   \n",
              "231  Высокопроизводительные вычисления  Statistical Learning Theory   \n",
              "\n",
              "                   spring_1                                     spring_2  \\\n",
              "80   Дискретная оптимизация  Промышленное программирование на языке Java   \n",
              "231   Символьные вычисления                             Численные методы   \n",
              "\n",
              "                                       spring_3 is_first_time  percentile  \\\n",
              "80   Дополнительные главы прикладной статистики            Да         0.0   \n",
              "231                       Символьные вычисления            Да         0.0   \n",
              "\n",
              "     17_group                                blended  is_ml_student  \n",
              "80        NaN                                    NaN            1.0  \n",
              "231     173.0  Введение в дифференциальную геометрию            NaN  "
            ],
            "text/html": [
              "\n",
              "  <div id=\"df-2b2d0a37-ca6d-441b-94a4-25e3a0543eb3\" class=\"colab-df-container\">\n",
              "    <div>\n",
              "<style scoped>\n",
              "    .dataframe tbody tr th:only-of-type {\n",
              "        vertical-align: middle;\n",
              "    }\n",
              "\n",
              "    .dataframe tbody tr th {\n",
              "        vertical-align: top;\n",
              "    }\n",
              "\n",
              "    .dataframe thead th {\n",
              "        text-align: right;\n",
              "    }\n",
              "</style>\n",
              "<table border=\"1\" class=\"dataframe\">\n",
              "  <thead>\n",
              "    <tr style=\"text-align: right;\">\n",
              "      <th></th>\n",
              "      <th>timestamp</th>\n",
              "      <th>id</th>\n",
              "      <th>rating</th>\n",
              "      <th>18_group</th>\n",
              "      <th>is_mi</th>\n",
              "      <th>fall_1</th>\n",
              "      <th>fall_2</th>\n",
              "      <th>fall_3</th>\n",
              "      <th>spring_1</th>\n",
              "      <th>spring_2</th>\n",
              "      <th>spring_3</th>\n",
              "      <th>is_first_time</th>\n",
              "      <th>percentile</th>\n",
              "      <th>17_group</th>\n",
              "      <th>blended</th>\n",
              "      <th>is_ml_student</th>\n",
              "    </tr>\n",
              "  </thead>\n",
              "  <tbody>\n",
              "    <tr>\n",
              "      <th>80</th>\n",
              "      <td>2020-05-18 17:09:23.589</td>\n",
              "      <td>3e106aaef8b24dbb01319c73e14c2936</td>\n",
              "      <td>784</td>\n",
              "      <td>182.0</td>\n",
              "      <td>NaN</td>\n",
              "      <td>Безопасность компьютерных систем</td>\n",
              "      <td>Statistical Learning Theory</td>\n",
              "      <td>Матричные вычисления</td>\n",
              "      <td>Дискретная оптимизация</td>\n",
              "      <td>Промышленное программирование на языке Java</td>\n",
              "      <td>Дополнительные главы прикладной статистики</td>\n",
              "      <td>Да</td>\n",
              "      <td>0.0</td>\n",
              "      <td>NaN</td>\n",
              "      <td>NaN</td>\n",
              "      <td>1.0</td>\n",
              "    </tr>\n",
              "    <tr>\n",
              "      <th>231</th>\n",
              "      <td>2020-05-14 21:52:43.844</td>\n",
              "      <td>3a7326c9e355a67d3805824ca34c4bc5</td>\n",
              "      <td>1457</td>\n",
              "      <td>NaN</td>\n",
              "      <td>NaN</td>\n",
              "      <td>Statistical Learning Theory</td>\n",
              "      <td>Высокопроизводительные вычисления</td>\n",
              "      <td>Statistical Learning Theory</td>\n",
              "      <td>Символьные вычисления</td>\n",
              "      <td>Численные методы</td>\n",
              "      <td>Символьные вычисления</td>\n",
              "      <td>Да</td>\n",
              "      <td>0.0</td>\n",
              "      <td>173.0</td>\n",
              "      <td>Введение в дифференциальную геометрию</td>\n",
              "      <td>NaN</td>\n",
              "    </tr>\n",
              "  </tbody>\n",
              "</table>\n",
              "</div>\n",
              "    <div class=\"colab-df-buttons\">\n",
              "\n",
              "  <div class=\"colab-df-container\">\n",
              "    <button class=\"colab-df-convert\" onclick=\"convertToInteractive('df-2b2d0a37-ca6d-441b-94a4-25e3a0543eb3')\"\n",
              "            title=\"Convert this dataframe to an interactive table.\"\n",
              "            style=\"display:none;\">\n",
              "\n",
              "  <svg xmlns=\"http://www.w3.org/2000/svg\" height=\"24px\" viewBox=\"0 -960 960 960\">\n",
              "    <path d=\"M120-120v-720h720v720H120Zm60-500h600v-160H180v160Zm220 220h160v-160H400v160Zm0 220h160v-160H400v160ZM180-400h160v-160H180v160Zm440 0h160v-160H620v160ZM180-180h160v-160H180v160Zm440 0h160v-160H620v160Z\"/>\n",
              "  </svg>\n",
              "    </button>\n",
              "\n",
              "  <style>\n",
              "    .colab-df-container {\n",
              "      display:flex;\n",
              "      gap: 12px;\n",
              "    }\n",
              "\n",
              "    .colab-df-convert {\n",
              "      background-color: #E8F0FE;\n",
              "      border: none;\n",
              "      border-radius: 50%;\n",
              "      cursor: pointer;\n",
              "      display: none;\n",
              "      fill: #1967D2;\n",
              "      height: 32px;\n",
              "      padding: 0 0 0 0;\n",
              "      width: 32px;\n",
              "    }\n",
              "\n",
              "    .colab-df-convert:hover {\n",
              "      background-color: #E2EBFA;\n",
              "      box-shadow: 0px 1px 2px rgba(60, 64, 67, 0.3), 0px 1px 3px 1px rgba(60, 64, 67, 0.15);\n",
              "      fill: #174EA6;\n",
              "    }\n",
              "\n",
              "    .colab-df-buttons div {\n",
              "      margin-bottom: 4px;\n",
              "    }\n",
              "\n",
              "    [theme=dark] .colab-df-convert {\n",
              "      background-color: #3B4455;\n",
              "      fill: #D2E3FC;\n",
              "    }\n",
              "\n",
              "    [theme=dark] .colab-df-convert:hover {\n",
              "      background-color: #434B5C;\n",
              "      box-shadow: 0px 1px 3px 1px rgba(0, 0, 0, 0.15);\n",
              "      filter: drop-shadow(0px 1px 2px rgba(0, 0, 0, 0.3));\n",
              "      fill: #FFFFFF;\n",
              "    }\n",
              "  </style>\n",
              "\n",
              "    <script>\n",
              "      const buttonEl =\n",
              "        document.querySelector('#df-2b2d0a37-ca6d-441b-94a4-25e3a0543eb3 button.colab-df-convert');\n",
              "      buttonEl.style.display =\n",
              "        google.colab.kernel.accessAllowed ? 'block' : 'none';\n",
              "\n",
              "      async function convertToInteractive(key) {\n",
              "        const element = document.querySelector('#df-2b2d0a37-ca6d-441b-94a4-25e3a0543eb3');\n",
              "        const dataTable =\n",
              "          await google.colab.kernel.invokeFunction('convertToInteractive',\n",
              "                                                    [key], {});\n",
              "        if (!dataTable) return;\n",
              "\n",
              "        const docLinkHtml = 'Like what you see? Visit the ' +\n",
              "          '<a target=\"_blank\" href=https://colab.research.google.com/notebooks/data_table.ipynb>data table notebook</a>'\n",
              "          + ' to learn more about interactive tables.';\n",
              "        element.innerHTML = '';\n",
              "        dataTable['output_type'] = 'display_data';\n",
              "        await google.colab.output.renderOutput(dataTable, element);\n",
              "        const docLink = document.createElement('div');\n",
              "        docLink.innerHTML = docLinkHtml;\n",
              "        element.appendChild(docLink);\n",
              "      }\n",
              "    </script>\n",
              "  </div>\n",
              "\n",
              "\n",
              "<div id=\"df-9028b436-7214-4d64-9c81-08c1ca846370\">\n",
              "  <button class=\"colab-df-quickchart\" onclick=\"quickchart('df-9028b436-7214-4d64-9c81-08c1ca846370')\"\n",
              "            title=\"Suggest charts\"\n",
              "            style=\"display:none;\">\n",
              "\n",
              "<svg xmlns=\"http://www.w3.org/2000/svg\" height=\"24px\"viewBox=\"0 0 24 24\"\n",
              "     width=\"24px\">\n",
              "    <g>\n",
              "        <path d=\"M19 3H5c-1.1 0-2 .9-2 2v14c0 1.1.9 2 2 2h14c1.1 0 2-.9 2-2V5c0-1.1-.9-2-2-2zM9 17H7v-7h2v7zm4 0h-2V7h2v10zm4 0h-2v-4h2v4z\"/>\n",
              "    </g>\n",
              "</svg>\n",
              "  </button>\n",
              "\n",
              "<style>\n",
              "  .colab-df-quickchart {\n",
              "      --bg-color: #E8F0FE;\n",
              "      --fill-color: #1967D2;\n",
              "      --hover-bg-color: #E2EBFA;\n",
              "      --hover-fill-color: #174EA6;\n",
              "      --disabled-fill-color: #AAA;\n",
              "      --disabled-bg-color: #DDD;\n",
              "  }\n",
              "\n",
              "  [theme=dark] .colab-df-quickchart {\n",
              "      --bg-color: #3B4455;\n",
              "      --fill-color: #D2E3FC;\n",
              "      --hover-bg-color: #434B5C;\n",
              "      --hover-fill-color: #FFFFFF;\n",
              "      --disabled-bg-color: #3B4455;\n",
              "      --disabled-fill-color: #666;\n",
              "  }\n",
              "\n",
              "  .colab-df-quickchart {\n",
              "    background-color: var(--bg-color);\n",
              "    border: none;\n",
              "    border-radius: 50%;\n",
              "    cursor: pointer;\n",
              "    display: none;\n",
              "    fill: var(--fill-color);\n",
              "    height: 32px;\n",
              "    padding: 0;\n",
              "    width: 32px;\n",
              "  }\n",
              "\n",
              "  .colab-df-quickchart:hover {\n",
              "    background-color: var(--hover-bg-color);\n",
              "    box-shadow: 0 1px 2px rgba(60, 64, 67, 0.3), 0 1px 3px 1px rgba(60, 64, 67, 0.15);\n",
              "    fill: var(--button-hover-fill-color);\n",
              "  }\n",
              "\n",
              "  .colab-df-quickchart-complete:disabled,\n",
              "  .colab-df-quickchart-complete:disabled:hover {\n",
              "    background-color: var(--disabled-bg-color);\n",
              "    fill: var(--disabled-fill-color);\n",
              "    box-shadow: none;\n",
              "  }\n",
              "\n",
              "  .colab-df-spinner {\n",
              "    border: 2px solid var(--fill-color);\n",
              "    border-color: transparent;\n",
              "    border-bottom-color: var(--fill-color);\n",
              "    animation:\n",
              "      spin 1s steps(1) infinite;\n",
              "  }\n",
              "\n",
              "  @keyframes spin {\n",
              "    0% {\n",
              "      border-color: transparent;\n",
              "      border-bottom-color: var(--fill-color);\n",
              "      border-left-color: var(--fill-color);\n",
              "    }\n",
              "    20% {\n",
              "      border-color: transparent;\n",
              "      border-left-color: var(--fill-color);\n",
              "      border-top-color: var(--fill-color);\n",
              "    }\n",
              "    30% {\n",
              "      border-color: transparent;\n",
              "      border-left-color: var(--fill-color);\n",
              "      border-top-color: var(--fill-color);\n",
              "      border-right-color: var(--fill-color);\n",
              "    }\n",
              "    40% {\n",
              "      border-color: transparent;\n",
              "      border-right-color: var(--fill-color);\n",
              "      border-top-color: var(--fill-color);\n",
              "    }\n",
              "    60% {\n",
              "      border-color: transparent;\n",
              "      border-right-color: var(--fill-color);\n",
              "    }\n",
              "    80% {\n",
              "      border-color: transparent;\n",
              "      border-right-color: var(--fill-color);\n",
              "      border-bottom-color: var(--fill-color);\n",
              "    }\n",
              "    90% {\n",
              "      border-color: transparent;\n",
              "      border-bottom-color: var(--fill-color);\n",
              "    }\n",
              "  }\n",
              "</style>\n",
              "\n",
              "  <script>\n",
              "    async function quickchart(key) {\n",
              "      const quickchartButtonEl =\n",
              "        document.querySelector('#' + key + ' button');\n",
              "      quickchartButtonEl.disabled = true;  // To prevent multiple clicks.\n",
              "      quickchartButtonEl.classList.add('colab-df-spinner');\n",
              "      try {\n",
              "        const charts = await google.colab.kernel.invokeFunction(\n",
              "            'suggestCharts', [key], {});\n",
              "      } catch (error) {\n",
              "        console.error('Error during call to suggestCharts:', error);\n",
              "      }\n",
              "      quickchartButtonEl.classList.remove('colab-df-spinner');\n",
              "      quickchartButtonEl.classList.add('colab-df-quickchart-complete');\n",
              "    }\n",
              "    (() => {\n",
              "      let quickchartButtonEl =\n",
              "        document.querySelector('#df-9028b436-7214-4d64-9c81-08c1ca846370 button');\n",
              "      quickchartButtonEl.style.display =\n",
              "        google.colab.kernel.accessAllowed ? 'block' : 'none';\n",
              "    })();\n",
              "  </script>\n",
              "</div>\n",
              "    </div>\n",
              "  </div>\n"
            ],
            "application/vnd.google.colaboratory.intrinsic+json": {
              "type": "dataframe",
              "variable_name": "res",
              "summary": "{\n  \"name\": \"res\",\n  \"rows\": 2,\n  \"fields\": [\n    {\n      \"column\": \"timestamp\",\n      \"properties\": {\n        \"dtype\": \"date\",\n        \"min\": \"2020-05-14 21:52:43.844000\",\n        \"max\": \"2020-05-18 17:09:23.589000\",\n        \"num_unique_values\": 2,\n        \"samples\": [\n          \"2020-05-14 21:52:43.844000\",\n          \"2020-05-18 17:09:23.589000\"\n        ],\n        \"semantic_type\": \"\",\n        \"description\": \"\"\n      }\n    },\n    {\n      \"column\": \"id\",\n      \"properties\": {\n        \"dtype\": \"string\",\n        \"num_unique_values\": 2,\n        \"samples\": [\n          \"3a7326c9e355a67d3805824ca34c4bc5\",\n          \"3e106aaef8b24dbb01319c73e14c2936\"\n        ],\n        \"semantic_type\": \"\",\n        \"description\": \"\"\n      }\n    },\n    {\n      \"column\": \"rating\",\n      \"properties\": {\n        \"dtype\": \"number\",\n        \"std\": 475,\n        \"min\": 784,\n        \"max\": 1457,\n        \"num_unique_values\": 2,\n        \"samples\": [\n          1457,\n          784\n        ],\n        \"semantic_type\": \"\",\n        \"description\": \"\"\n      }\n    },\n    {\n      \"column\": \"18_group\",\n      \"properties\": {\n        \"dtype\": \"number\",\n        \"std\": null,\n        \"min\": 182.0,\n        \"max\": 182.0,\n        \"num_unique_values\": 1,\n        \"samples\": [\n          182.0\n        ],\n        \"semantic_type\": \"\",\n        \"description\": \"\"\n      }\n    },\n    {\n      \"column\": \"is_mi\",\n      \"properties\": {\n        \"dtype\": \"number\",\n        \"std\": null,\n        \"min\": null,\n        \"max\": null,\n        \"num_unique_values\": 0,\n        \"samples\": [],\n        \"semantic_type\": \"\",\n        \"description\": \"\"\n      }\n    },\n    {\n      \"column\": \"fall_1\",\n      \"properties\": {\n        \"dtype\": \"string\",\n        \"num_unique_values\": 2,\n        \"samples\": [],\n        \"semantic_type\": \"\",\n        \"description\": \"\"\n      }\n    },\n    {\n      \"column\": \"fall_2\",\n      \"properties\": {\n        \"dtype\": \"string\",\n        \"num_unique_values\": 2,\n        \"samples\": [],\n        \"semantic_type\": \"\",\n        \"description\": \"\"\n      }\n    },\n    {\n      \"column\": \"fall_3\",\n      \"properties\": {\n        \"dtype\": \"string\",\n        \"num_unique_values\": 2,\n        \"samples\": [],\n        \"semantic_type\": \"\",\n        \"description\": \"\"\n      }\n    },\n    {\n      \"column\": \"spring_1\",\n      \"properties\": {\n        \"dtype\": \"string\",\n        \"num_unique_values\": 2,\n        \"samples\": [],\n        \"semantic_type\": \"\",\n        \"description\": \"\"\n      }\n    },\n    {\n      \"column\": \"spring_2\",\n      \"properties\": {\n        \"dtype\": \"string\",\n        \"num_unique_values\": 2,\n        \"samples\": [],\n        \"semantic_type\": \"\",\n        \"description\": \"\"\n      }\n    },\n    {\n      \"column\": \"spring_3\",\n      \"properties\": {\n        \"dtype\": \"string\",\n        \"num_unique_values\": 2,\n        \"samples\": [],\n        \"semantic_type\": \"\",\n        \"description\": \"\"\n      }\n    },\n    {\n      \"column\": \"is_first_time\",\n      \"properties\": {\n        \"dtype\": \"string\",\n        \"num_unique_values\": 1,\n        \"samples\": [],\n        \"semantic_type\": \"\",\n        \"description\": \"\"\n      }\n    },\n    {\n      \"column\": \"percentile\",\n      \"properties\": {\n        \"dtype\": \"number\",\n        \"std\": 0.0,\n        \"min\": 0.0,\n        \"max\": 0.0,\n        \"num_unique_values\": 1,\n        \"samples\": [],\n        \"semantic_type\": \"\",\n        \"description\": \"\"\n      }\n    },\n    {\n      \"column\": \"17_group\",\n      \"properties\": {\n        \"dtype\": \"number\",\n        \"std\": null,\n        \"min\": 173.0,\n        \"max\": 173.0,\n        \"num_unique_values\": 1,\n        \"samples\": [],\n        \"semantic_type\": \"\",\n        \"description\": \"\"\n      }\n    },\n    {\n      \"column\": \"blended\",\n      \"properties\": {\n        \"dtype\": \"string\",\n        \"num_unique_values\": 1,\n        \"samples\": [],\n        \"semantic_type\": \"\",\n        \"description\": \"\"\n      }\n    },\n    {\n      \"column\": \"is_ml_student\",\n      \"properties\": {\n        \"dtype\": \"number\",\n        \"std\": null,\n        \"min\": 1.0,\n        \"max\": 1.0,\n        \"num_unique_values\": 1,\n        \"samples\": [],\n        \"semantic_type\": \"\",\n        \"description\": \"\"\n      }\n    }\n  ]\n}"
            }
          },
          "metadata": {},
          "execution_count": 396
        }
      ],
      "source": [
        "res = df[df.groupby('percentile')['id'].transform('nunique') > 1]\n",
        "res"
      ]
    },
    {
      "cell_type": "markdown",
      "metadata": {
        "id": "4sQVv9sT4mGQ"
      },
      "source": [
        "В текущей постановке вопроса ответ да (но они из разных годов)"
      ]
    },
    {
      "cell_type": "markdown",
      "metadata": {
        "id": "jPiMwyqHhLuy"
      },
      "source": [
        "#### 2. [0.5 балла] Есть ли в данных пропуски? В каких колонках? Сколько их в каждой из этих колонок?"
      ]
    },
    {
      "cell_type": "code",
      "execution_count": 397,
      "metadata": {
        "colab": {
          "base_uri": "https://localhost:8080/",
          "height": 606
        },
        "collapsed": true,
        "id": "edY1RrSOhLuy",
        "outputId": "f507550f-89b5-4838-a240-76a3d0c16df8"
      },
      "outputs": [
        {
          "output_type": "execute_result",
          "data": {
            "text/plain": [
              "timestamp          0\n",
              "id                 0\n",
              "rating             0\n",
              "18_group         138\n",
              "is_mi            343\n",
              "fall_1             0\n",
              "fall_2             0\n",
              "fall_3             0\n",
              "spring_1           0\n",
              "spring_2           0\n",
              "spring_3           0\n",
              "is_first_time      2\n",
              "percentile         0\n",
              "17_group         223\n",
              "blended          223\n",
              "is_ml_student    304\n",
              "dtype: int64"
            ],
            "text/html": [
              "<div>\n",
              "<style scoped>\n",
              "    .dataframe tbody tr th:only-of-type {\n",
              "        vertical-align: middle;\n",
              "    }\n",
              "\n",
              "    .dataframe tbody tr th {\n",
              "        vertical-align: top;\n",
              "    }\n",
              "\n",
              "    .dataframe thead th {\n",
              "        text-align: right;\n",
              "    }\n",
              "</style>\n",
              "<table border=\"1\" class=\"dataframe\">\n",
              "  <thead>\n",
              "    <tr style=\"text-align: right;\">\n",
              "      <th></th>\n",
              "      <th>0</th>\n",
              "    </tr>\n",
              "  </thead>\n",
              "  <tbody>\n",
              "    <tr>\n",
              "      <th>timestamp</th>\n",
              "      <td>0</td>\n",
              "    </tr>\n",
              "    <tr>\n",
              "      <th>id</th>\n",
              "      <td>0</td>\n",
              "    </tr>\n",
              "    <tr>\n",
              "      <th>rating</th>\n",
              "      <td>0</td>\n",
              "    </tr>\n",
              "    <tr>\n",
              "      <th>18_group</th>\n",
              "      <td>138</td>\n",
              "    </tr>\n",
              "    <tr>\n",
              "      <th>is_mi</th>\n",
              "      <td>343</td>\n",
              "    </tr>\n",
              "    <tr>\n",
              "      <th>fall_1</th>\n",
              "      <td>0</td>\n",
              "    </tr>\n",
              "    <tr>\n",
              "      <th>fall_2</th>\n",
              "      <td>0</td>\n",
              "    </tr>\n",
              "    <tr>\n",
              "      <th>fall_3</th>\n",
              "      <td>0</td>\n",
              "    </tr>\n",
              "    <tr>\n",
              "      <th>spring_1</th>\n",
              "      <td>0</td>\n",
              "    </tr>\n",
              "    <tr>\n",
              "      <th>spring_2</th>\n",
              "      <td>0</td>\n",
              "    </tr>\n",
              "    <tr>\n",
              "      <th>spring_3</th>\n",
              "      <td>0</td>\n",
              "    </tr>\n",
              "    <tr>\n",
              "      <th>is_first_time</th>\n",
              "      <td>2</td>\n",
              "    </tr>\n",
              "    <tr>\n",
              "      <th>percentile</th>\n",
              "      <td>0</td>\n",
              "    </tr>\n",
              "    <tr>\n",
              "      <th>17_group</th>\n",
              "      <td>223</td>\n",
              "    </tr>\n",
              "    <tr>\n",
              "      <th>blended</th>\n",
              "      <td>223</td>\n",
              "    </tr>\n",
              "    <tr>\n",
              "      <th>is_ml_student</th>\n",
              "      <td>304</td>\n",
              "    </tr>\n",
              "  </tbody>\n",
              "</table>\n",
              "</div><br><label><b>dtype:</b> int64</label>"
            ]
          },
          "metadata": {},
          "execution_count": 397
        }
      ],
      "source": [
        "df.isna().sum()"
      ]
    },
    {
      "cell_type": "markdown",
      "metadata": {
        "id": "qTxag1fa7jYH"
      },
      "source": [
        "Да, есть, ответы выше."
      ]
    },
    {
      "cell_type": "markdown",
      "metadata": {
        "id": "B5ORhP2uhLuz"
      },
      "source": [
        "Заполните пропуски пустой строкой для строковых колонок, нулём для числовых и False для булевых (постарайтесь избежать перечисления названий всех столбцов)."
      ]
    },
    {
      "cell_type": "code",
      "execution_count": 398,
      "metadata": {
        "colab": {
          "base_uri": "https://localhost:8080/",
          "height": 606
        },
        "collapsed": true,
        "id": "TlF_JJ2ghLuz",
        "outputId": "31c84826-11f8-431f-ac04-e93c3d23d90a"
      },
      "outputs": [
        {
          "output_type": "execute_result",
          "data": {
            "text/plain": [
              "timestamp        0\n",
              "id               0\n",
              "rating           0\n",
              "18_group         0\n",
              "is_mi            0\n",
              "fall_1           0\n",
              "fall_2           0\n",
              "fall_3           0\n",
              "spring_1         0\n",
              "spring_2         0\n",
              "spring_3         0\n",
              "is_first_time    0\n",
              "percentile       0\n",
              "17_group         0\n",
              "blended          0\n",
              "is_ml_student    0\n",
              "dtype: int64"
            ],
            "text/html": [
              "<div>\n",
              "<style scoped>\n",
              "    .dataframe tbody tr th:only-of-type {\n",
              "        vertical-align: middle;\n",
              "    }\n",
              "\n",
              "    .dataframe tbody tr th {\n",
              "        vertical-align: top;\n",
              "    }\n",
              "\n",
              "    .dataframe thead th {\n",
              "        text-align: right;\n",
              "    }\n",
              "</style>\n",
              "<table border=\"1\" class=\"dataframe\">\n",
              "  <thead>\n",
              "    <tr style=\"text-align: right;\">\n",
              "      <th></th>\n",
              "      <th>0</th>\n",
              "    </tr>\n",
              "  </thead>\n",
              "  <tbody>\n",
              "    <tr>\n",
              "      <th>timestamp</th>\n",
              "      <td>0</td>\n",
              "    </tr>\n",
              "    <tr>\n",
              "      <th>id</th>\n",
              "      <td>0</td>\n",
              "    </tr>\n",
              "    <tr>\n",
              "      <th>rating</th>\n",
              "      <td>0</td>\n",
              "    </tr>\n",
              "    <tr>\n",
              "      <th>18_group</th>\n",
              "      <td>0</td>\n",
              "    </tr>\n",
              "    <tr>\n",
              "      <th>is_mi</th>\n",
              "      <td>0</td>\n",
              "    </tr>\n",
              "    <tr>\n",
              "      <th>fall_1</th>\n",
              "      <td>0</td>\n",
              "    </tr>\n",
              "    <tr>\n",
              "      <th>fall_2</th>\n",
              "      <td>0</td>\n",
              "    </tr>\n",
              "    <tr>\n",
              "      <th>fall_3</th>\n",
              "      <td>0</td>\n",
              "    </tr>\n",
              "    <tr>\n",
              "      <th>spring_1</th>\n",
              "      <td>0</td>\n",
              "    </tr>\n",
              "    <tr>\n",
              "      <th>spring_2</th>\n",
              "      <td>0</td>\n",
              "    </tr>\n",
              "    <tr>\n",
              "      <th>spring_3</th>\n",
              "      <td>0</td>\n",
              "    </tr>\n",
              "    <tr>\n",
              "      <th>is_first_time</th>\n",
              "      <td>0</td>\n",
              "    </tr>\n",
              "    <tr>\n",
              "      <th>percentile</th>\n",
              "      <td>0</td>\n",
              "    </tr>\n",
              "    <tr>\n",
              "      <th>17_group</th>\n",
              "      <td>0</td>\n",
              "    </tr>\n",
              "    <tr>\n",
              "      <th>blended</th>\n",
              "      <td>0</td>\n",
              "    </tr>\n",
              "    <tr>\n",
              "      <th>is_ml_student</th>\n",
              "      <td>0</td>\n",
              "    </tr>\n",
              "  </tbody>\n",
              "</table>\n",
              "</div><br><label><b>dtype:</b> int64</label>"
            ]
          },
          "metadata": {},
          "execution_count": 398
        }
      ],
      "source": [
        "df[df.select_dtypes(include=['object']).columns] = df.select_dtypes(include=['object']).fillna('')\n",
        "df[df.select_dtypes(include=['number']).columns] = df.select_dtypes(include=['number']).fillna(0)\n",
        "df[df.select_dtypes(include=['bool']).columns] = df.select_dtypes(include=['bool']).fillna(False)\n",
        "df.isna().sum()"
      ]
    },
    {
      "cell_type": "markdown",
      "metadata": {
        "id": "GZrOZl30-DaE"
      },
      "source": [
        "Булевых не нашлось, как видим все наны ушли"
      ]
    },
    {
      "cell_type": "markdown",
      "metadata": {
        "id": "w5ELhkT1hLuz"
      },
      "source": [
        "#### 3. [0.5 балла] Посмотрите повнимательнее на колонку 'is_first_time'.\n",
        "\n",
        "Каково процентное соотношение ответов? Сколько из них \"Нет\"?"
      ]
    },
    {
      "cell_type": "code",
      "execution_count": 399,
      "metadata": {
        "colab": {
          "base_uri": "https://localhost:8080/",
          "height": 266
        },
        "id": "VEfiNsyQhLuz",
        "outputId": "a6509a19-49de-4696-c326-91a309d1f18c"
      },
      "outputs": [
        {
          "output_type": "stream",
          "name": "stdout",
          "text": [
            "Percentage of No: 14.13%\n",
            "Number of No 51\n"
          ]
        },
        {
          "output_type": "execute_result",
          "data": {
            "text/plain": [
              "is_first_time\n",
              "Да     308\n",
              "Нет     51\n",
              "         2\n",
              "Name: count, dtype: int64"
            ],
            "text/html": [
              "<div>\n",
              "<style scoped>\n",
              "    .dataframe tbody tr th:only-of-type {\n",
              "        vertical-align: middle;\n",
              "    }\n",
              "\n",
              "    .dataframe tbody tr th {\n",
              "        vertical-align: top;\n",
              "    }\n",
              "\n",
              "    .dataframe thead th {\n",
              "        text-align: right;\n",
              "    }\n",
              "</style>\n",
              "<table border=\"1\" class=\"dataframe\">\n",
              "  <thead>\n",
              "    <tr style=\"text-align: right;\">\n",
              "      <th></th>\n",
              "      <th>count</th>\n",
              "    </tr>\n",
              "    <tr>\n",
              "      <th>is_first_time</th>\n",
              "      <th></th>\n",
              "    </tr>\n",
              "  </thead>\n",
              "  <tbody>\n",
              "    <tr>\n",
              "      <th>Да</th>\n",
              "      <td>308</td>\n",
              "    </tr>\n",
              "    <tr>\n",
              "      <th>Нет</th>\n",
              "      <td>51</td>\n",
              "    </tr>\n",
              "    <tr>\n",
              "      <th></th>\n",
              "      <td>2</td>\n",
              "    </tr>\n",
              "  </tbody>\n",
              "</table>\n",
              "</div><br><label><b>dtype:</b> int64</label>"
            ]
          },
          "metadata": {},
          "execution_count": 399
        }
      ],
      "source": [
        "res1 = df['is_first_time'].value_counts()\n",
        "r = res1['Нет']\n",
        "print(f'Percentage of No: {(r / res1.sum()) * 100:.2f}%')\n",
        "print(f'Number of No {r}')\n",
        "res1"
      ]
    },
    {
      "cell_type": "markdown",
      "metadata": {
        "id": "7ufxpSDO9Hyc"
      },
      "source": [
        "Если вы найдете повторные обращения студентов, оставьте только самую позднюю версию. В дальнейших заданиях используйте версию данных без повторов.\n",
        "\n",
        "<i>Обращения со значением \"Нет\" в 'is_first_time' могут быть как повторными, так и первичными, поскольку поле заполняли сами студенты.</i>"
      ]
    },
    {
      "cell_type": "code",
      "execution_count": 400,
      "metadata": {
        "colab": {
          "base_uri": "https://localhost:8080/",
          "height": 230
        },
        "id": "M0Wx60oU9IkX",
        "outputId": "9a3fb9f9-a328-4189-c74a-71195d920571"
      },
      "outputs": [
        {
          "output_type": "execute_result",
          "data": {
            "text/plain": [
              "is_first_time\n",
              "Да     294\n",
              "Нет     51\n",
              "         2\n",
              "Name: count, dtype: int64"
            ],
            "text/html": [
              "<div>\n",
              "<style scoped>\n",
              "    .dataframe tbody tr th:only-of-type {\n",
              "        vertical-align: middle;\n",
              "    }\n",
              "\n",
              "    .dataframe tbody tr th {\n",
              "        vertical-align: top;\n",
              "    }\n",
              "\n",
              "    .dataframe thead th {\n",
              "        text-align: right;\n",
              "    }\n",
              "</style>\n",
              "<table border=\"1\" class=\"dataframe\">\n",
              "  <thead>\n",
              "    <tr style=\"text-align: right;\">\n",
              "      <th></th>\n",
              "      <th>count</th>\n",
              "    </tr>\n",
              "    <tr>\n",
              "      <th>is_first_time</th>\n",
              "      <th></th>\n",
              "    </tr>\n",
              "  </thead>\n",
              "  <tbody>\n",
              "    <tr>\n",
              "      <th>Да</th>\n",
              "      <td>294</td>\n",
              "    </tr>\n",
              "    <tr>\n",
              "      <th>Нет</th>\n",
              "      <td>51</td>\n",
              "    </tr>\n",
              "    <tr>\n",
              "      <th></th>\n",
              "      <td>2</td>\n",
              "    </tr>\n",
              "  </tbody>\n",
              "</table>\n",
              "</div><br><label><b>dtype:</b> int64</label>"
            ]
          },
          "metadata": {},
          "execution_count": 400
        }
      ],
      "source": [
        "df = df.drop_duplicates('id', keep='last')\n",
        "df['is_first_time'].value_counts()"
      ]
    },
    {
      "cell_type": "markdown",
      "metadata": {
        "id": "jOwDtm4_CQEp"
      },
      "source": [
        "Какие-то ребята повыпадали"
      ]
    },
    {
      "cell_type": "markdown",
      "metadata": {
        "id": "IlzHp3HVhLuz"
      },
      "source": [
        "#### 4. [0.5 балла] Какие  blended-курсы для четверокурсников существуют? На какой blended-курс записалось наибольшее количество студентов? На каком из blended-курсов собрались студенты с самым высоким средним рейтингом (выведите этот курс и количество студентов на нем)?"
      ]
    },
    {
      "cell_type": "code",
      "execution_count": 401,
      "metadata": {
        "colab": {
          "base_uri": "https://localhost:8080/",
          "height": 248
        },
        "id": "bsn4vn8RhLuy",
        "outputId": "a43fa3dd-e3e3-4b13-facd-4476b08e5072"
      },
      "outputs": [
        {
          "output_type": "stream",
          "name": "stdout",
          "text": [
            "Больше всего студентов на DevOps\n"
          ]
        },
        {
          "output_type": "execute_result",
          "data": {
            "text/plain": [
              "blended\n",
              "DevOps                                   87\n",
              "Соревновательный анализ данных           32\n",
              "Введение в дифференциальную геометрию    15\n",
              "Name: count, dtype: int64"
            ],
            "text/html": [
              "<div>\n",
              "<style scoped>\n",
              "    .dataframe tbody tr th:only-of-type {\n",
              "        vertical-align: middle;\n",
              "    }\n",
              "\n",
              "    .dataframe tbody tr th {\n",
              "        vertical-align: top;\n",
              "    }\n",
              "\n",
              "    .dataframe thead th {\n",
              "        text-align: right;\n",
              "    }\n",
              "</style>\n",
              "<table border=\"1\" class=\"dataframe\">\n",
              "  <thead>\n",
              "    <tr style=\"text-align: right;\">\n",
              "      <th></th>\n",
              "      <th>count</th>\n",
              "    </tr>\n",
              "    <tr>\n",
              "      <th>blended</th>\n",
              "      <th></th>\n",
              "    </tr>\n",
              "  </thead>\n",
              "  <tbody>\n",
              "    <tr>\n",
              "      <th>DevOps</th>\n",
              "      <td>87</td>\n",
              "    </tr>\n",
              "    <tr>\n",
              "      <th>Соревновательный анализ данных</th>\n",
              "      <td>32</td>\n",
              "    </tr>\n",
              "    <tr>\n",
              "      <th>Введение в дифференциальную геометрию</th>\n",
              "      <td>15</td>\n",
              "    </tr>\n",
              "  </tbody>\n",
              "</table>\n",
              "</div><br><label><b>dtype:</b> int64</label>"
            ]
          },
          "metadata": {},
          "execution_count": 401
        }
      ],
      "source": [
        "res = df[df['17_group'] != 0]['blended'].value_counts()\n",
        "print(f\"Больше всего студентов на {res.idxmax()}\")\n",
        "res"
      ]
    },
    {
      "cell_type": "code",
      "execution_count": 402,
      "metadata": {
        "colab": {
          "base_uri": "https://localhost:8080/"
        },
        "id": "1yUD2-pQDA26",
        "outputId": "cb2d781b-f210-4524-9ebc-694b42577fca"
      },
      "outputs": [
        {
          "output_type": "stream",
          "name": "stdout",
          "text": [
            "Самый выскокий рейтинг на Введение в дифференциальную геометрию, а студентов на нем 15\n"
          ]
        }
      ],
      "source": [
        "res1 = df[df['17_group'] != 0].groupby(\"blended\")['rating'].mean().idxmax()\n",
        "print(f'Самый выскокий рейтинг на {res1}, а студентов на нем {res[res1]}')\n"
      ]
    },
    {
      "cell_type": "markdown",
      "metadata": {
        "id": "IU_FLt8HhLu0"
      },
      "source": [
        "#### 5. [1 балл] Выясните, есть ли студенты с абсолютно одинаковыми предпочтениями по всем курсам.\n",
        "\n",
        "Для этого сформируйте таблицу, где для каждого возможного набора курсов посчитано количество студентов, выбравших такой набор, и оставьте только строки где это количество больше 1.\n",
        "\n",
        "В данном случае набор курсов задается упорядоченным множеством ('fall_1', 'fall_2', 'fall_3', 'spring_1', 'spring_2', 'spring_3', 'blended'). Элемент blended будет нулевым для 3-го курса."
      ]
    },
    {
      "cell_type": "code",
      "execution_count": 403,
      "metadata": {
        "colab": {
          "base_uri": "https://localhost:8080/",
          "height": 749
        },
        "id": "j_BRWerHhLu0",
        "outputId": "b1395685-2ccf-443b-e9f4-1945dc449843"
      },
      "outputs": [
        {
          "output_type": "execute_result",
          "data": {
            "text/plain": [
              "                                             fall_1  \\\n",
              "0                       Statistical Learning Theory   \n",
              "1             Байесовские методы машинного обучения   \n",
              "2             Байесовские методы машинного обучения   \n",
              "3                  Безопасность компьютерных систем   \n",
              "4                  Безопасность компьютерных систем   \n",
              "5                  Безопасность компьютерных систем   \n",
              "6                  Безопасность компьютерных систем   \n",
              "7                  Безопасность компьютерных систем   \n",
              "8                  Безопасность компьютерных систем   \n",
              "9                  Безопасность компьютерных систем   \n",
              "10                Высокопроизводительные вычисления   \n",
              "11                Высокопроизводительные вычисления   \n",
              "12                    Моделирование временных рядов   \n",
              "13  Сбор и обработка данных с помощью краудсорсинга   \n",
              "14                                         Язык SQL   \n",
              "\n",
              "                                             fall_2  \\\n",
              "0                 Анализ неструктурированных данных   \n",
              "1                 Анализ неструктурированных данных   \n",
              "2                 Анализ неструктурированных данных   \n",
              "3                       Statistical Learning Theory   \n",
              "4                 Высокопроизводительные вычисления   \n",
              "5                 Высокопроизводительные вычисления   \n",
              "6                 Высокопроизводительные вычисления   \n",
              "7                              Матричные вычисления   \n",
              "8   Сбор и обработка данных с помощью краудсорсинга   \n",
              "9                                 Теория баз данных   \n",
              "10                 Безопасность компьютерных систем   \n",
              "11  Сбор и обработка данных с помощью краудсорсинга   \n",
              "12  Сбор и обработка данных с помощью краудсорсинга   \n",
              "13                                         Язык SQL   \n",
              "14                Высокопроизводительные вычисления   \n",
              "\n",
              "                                             fall_3  \\\n",
              "0   Сбор и обработка данных с помощью краудсорсинга   \n",
              "1              Глубинное обучение в обработке звука   \n",
              "2   Сбор и обработка данных с помощью краудсорсинга   \n",
              "3                              Матричные вычисления   \n",
              "4                 Анализ неструктурированных данных   \n",
              "5                                          Язык SQL   \n",
              "6                                          Язык SQL   \n",
              "7                     Моделирование временных рядов   \n",
              "8                              Матричные вычисления   \n",
              "9                                          Язык SQL   \n",
              "10  Сбор и обработка данных с помощью краудсорсинга   \n",
              "11                    Моделирование временных рядов   \n",
              "12                 Безопасность компьютерных систем   \n",
              "13                                Теория баз данных   \n",
              "14                                Теория баз данных   \n",
              "\n",
              "                                             spring_1  \\\n",
              "0                            Обучение с подкреплением   \n",
              "1                            Обучение с подкреплением   \n",
              "2                            Обучение с подкреплением   \n",
              "3                              Дискретная оптимизация   \n",
              "4   Проектирование и разработка высоконагруженных ...   \n",
              "5                                   Компьютерные сети   \n",
              "6         Промышленное программирование на языке Java   \n",
              "7         Промышленное программирование на языке Java   \n",
              "8                                   Компьютерные сети   \n",
              "9                                 Машинное обучение 2   \n",
              "10  Проектирование и разработка высоконагруженных ...   \n",
              "11  Проектирование и разработка высоконагруженных ...   \n",
              "12                                  Компьютерные сети   \n",
              "13        Промышленное программирование на языке Java   \n",
              "14                                  Компьютерные сети   \n",
              "\n",
              "                                       spring_2  \\\n",
              "0                        Конфликты и кооперация   \n",
              "1       Генеративные модели в машинном обучении   \n",
              "2                           Компьютерное зрение   \n",
              "3   Промышленное программирование на языке Java   \n",
              "4          Методы сжатия и передачи медиаданных   \n",
              "5   Промышленное программирование на языке Java   \n",
              "6                             Компьютерные сети   \n",
              "7                             Компьютерные сети   \n",
              "8   Промышленное программирование на языке Java   \n",
              "9                             Компьютерные сети   \n",
              "10         Методы сжатия и передачи медиаданных   \n",
              "11         Методы сжатия и передачи медиаданных   \n",
              "12   Дополнительные главы прикладной статистики   \n",
              "13                          Машинное обучение 2   \n",
              "14  Промышленное программирование на языке Java   \n",
              "\n",
              "                                       spring_3 blended  0  \n",
              "0                           Компьютерное зрение  DevOps  2  \n",
              "1                           Компьютерное зрение  DevOps  2  \n",
              "2       Генеративные модели в машинном обучении  DevOps  2  \n",
              "3    Дополнительные главы прикладной статистики          3  \n",
              "4                        Конфликты и кооперация  DevOps  2  \n",
              "5                        Дискретная оптимизация          3  \n",
              "6                            Системы баз данных          2  \n",
              "7                        Дискретная оптимизация          2  \n",
              "8                       Анализ данных в бизнесе          2  \n",
              "9   Промышленное программирование на языке Java          2  \n",
              "10                          Компьютерное зрение  DevOps  2  \n",
              "11         Методы сжатия и передачи медиаданных  DevOps  2  \n",
              "12                           Системы баз данных          2  \n",
              "13                            Компьютерные сети          2  \n",
              "14                       Дискретная оптимизация          2  "
            ],
            "text/html": [
              "\n",
              "  <div id=\"df-7371cd0e-9b16-4246-8478-ddd048ed5d1c\" class=\"colab-df-container\">\n",
              "    <div>\n",
              "<style scoped>\n",
              "    .dataframe tbody tr th:only-of-type {\n",
              "        vertical-align: middle;\n",
              "    }\n",
              "\n",
              "    .dataframe tbody tr th {\n",
              "        vertical-align: top;\n",
              "    }\n",
              "\n",
              "    .dataframe thead th {\n",
              "        text-align: right;\n",
              "    }\n",
              "</style>\n",
              "<table border=\"1\" class=\"dataframe\">\n",
              "  <thead>\n",
              "    <tr style=\"text-align: right;\">\n",
              "      <th></th>\n",
              "      <th>fall_1</th>\n",
              "      <th>fall_2</th>\n",
              "      <th>fall_3</th>\n",
              "      <th>spring_1</th>\n",
              "      <th>spring_2</th>\n",
              "      <th>spring_3</th>\n",
              "      <th>blended</th>\n",
              "      <th>0</th>\n",
              "    </tr>\n",
              "  </thead>\n",
              "  <tbody>\n",
              "    <tr>\n",
              "      <th>0</th>\n",
              "      <td>Statistical Learning Theory</td>\n",
              "      <td>Анализ неструктурированных данных</td>\n",
              "      <td>Сбор и обработка данных с помощью краудсорсинга</td>\n",
              "      <td>Обучение с подкреплением</td>\n",
              "      <td>Конфликты и кооперация</td>\n",
              "      <td>Компьютерное зрение</td>\n",
              "      <td>DevOps</td>\n",
              "      <td>2</td>\n",
              "    </tr>\n",
              "    <tr>\n",
              "      <th>1</th>\n",
              "      <td>Байесовские методы машинного обучения</td>\n",
              "      <td>Анализ неструктурированных данных</td>\n",
              "      <td>Глубинное обучение в обработке звука</td>\n",
              "      <td>Обучение с подкреплением</td>\n",
              "      <td>Генеративные модели в машинном обучении</td>\n",
              "      <td>Компьютерное зрение</td>\n",
              "      <td>DevOps</td>\n",
              "      <td>2</td>\n",
              "    </tr>\n",
              "    <tr>\n",
              "      <th>2</th>\n",
              "      <td>Байесовские методы машинного обучения</td>\n",
              "      <td>Анализ неструктурированных данных</td>\n",
              "      <td>Сбор и обработка данных с помощью краудсорсинга</td>\n",
              "      <td>Обучение с подкреплением</td>\n",
              "      <td>Компьютерное зрение</td>\n",
              "      <td>Генеративные модели в машинном обучении</td>\n",
              "      <td>DevOps</td>\n",
              "      <td>2</td>\n",
              "    </tr>\n",
              "    <tr>\n",
              "      <th>3</th>\n",
              "      <td>Безопасность компьютерных систем</td>\n",
              "      <td>Statistical Learning Theory</td>\n",
              "      <td>Матричные вычисления</td>\n",
              "      <td>Дискретная оптимизация</td>\n",
              "      <td>Промышленное программирование на языке Java</td>\n",
              "      <td>Дополнительные главы прикладной статистики</td>\n",
              "      <td></td>\n",
              "      <td>3</td>\n",
              "    </tr>\n",
              "    <tr>\n",
              "      <th>4</th>\n",
              "      <td>Безопасность компьютерных систем</td>\n",
              "      <td>Высокопроизводительные вычисления</td>\n",
              "      <td>Анализ неструктурированных данных</td>\n",
              "      <td>Проектирование и разработка высоконагруженных ...</td>\n",
              "      <td>Методы сжатия и передачи медиаданных</td>\n",
              "      <td>Конфликты и кооперация</td>\n",
              "      <td>DevOps</td>\n",
              "      <td>2</td>\n",
              "    </tr>\n",
              "    <tr>\n",
              "      <th>5</th>\n",
              "      <td>Безопасность компьютерных систем</td>\n",
              "      <td>Высокопроизводительные вычисления</td>\n",
              "      <td>Язык SQL</td>\n",
              "      <td>Компьютерные сети</td>\n",
              "      <td>Промышленное программирование на языке Java</td>\n",
              "      <td>Дискретная оптимизация</td>\n",
              "      <td></td>\n",
              "      <td>3</td>\n",
              "    </tr>\n",
              "    <tr>\n",
              "      <th>6</th>\n",
              "      <td>Безопасность компьютерных систем</td>\n",
              "      <td>Высокопроизводительные вычисления</td>\n",
              "      <td>Язык SQL</td>\n",
              "      <td>Промышленное программирование на языке Java</td>\n",
              "      <td>Компьютерные сети</td>\n",
              "      <td>Системы баз данных</td>\n",
              "      <td></td>\n",
              "      <td>2</td>\n",
              "    </tr>\n",
              "    <tr>\n",
              "      <th>7</th>\n",
              "      <td>Безопасность компьютерных систем</td>\n",
              "      <td>Матричные вычисления</td>\n",
              "      <td>Моделирование временных рядов</td>\n",
              "      <td>Промышленное программирование на языке Java</td>\n",
              "      <td>Компьютерные сети</td>\n",
              "      <td>Дискретная оптимизация</td>\n",
              "      <td></td>\n",
              "      <td>2</td>\n",
              "    </tr>\n",
              "    <tr>\n",
              "      <th>8</th>\n",
              "      <td>Безопасность компьютерных систем</td>\n",
              "      <td>Сбор и обработка данных с помощью краудсорсинга</td>\n",
              "      <td>Матричные вычисления</td>\n",
              "      <td>Компьютерные сети</td>\n",
              "      <td>Промышленное программирование на языке Java</td>\n",
              "      <td>Анализ данных в бизнесе</td>\n",
              "      <td></td>\n",
              "      <td>2</td>\n",
              "    </tr>\n",
              "    <tr>\n",
              "      <th>9</th>\n",
              "      <td>Безопасность компьютерных систем</td>\n",
              "      <td>Теория баз данных</td>\n",
              "      <td>Язык SQL</td>\n",
              "      <td>Машинное обучение 2</td>\n",
              "      <td>Компьютерные сети</td>\n",
              "      <td>Промышленное программирование на языке Java</td>\n",
              "      <td></td>\n",
              "      <td>2</td>\n",
              "    </tr>\n",
              "    <tr>\n",
              "      <th>10</th>\n",
              "      <td>Высокопроизводительные вычисления</td>\n",
              "      <td>Безопасность компьютерных систем</td>\n",
              "      <td>Сбор и обработка данных с помощью краудсорсинга</td>\n",
              "      <td>Проектирование и разработка высоконагруженных ...</td>\n",
              "      <td>Методы сжатия и передачи медиаданных</td>\n",
              "      <td>Компьютерное зрение</td>\n",
              "      <td>DevOps</td>\n",
              "      <td>2</td>\n",
              "    </tr>\n",
              "    <tr>\n",
              "      <th>11</th>\n",
              "      <td>Высокопроизводительные вычисления</td>\n",
              "      <td>Сбор и обработка данных с помощью краудсорсинга</td>\n",
              "      <td>Моделирование временных рядов</td>\n",
              "      <td>Проектирование и разработка высоконагруженных ...</td>\n",
              "      <td>Методы сжатия и передачи медиаданных</td>\n",
              "      <td>Методы сжатия и передачи медиаданных</td>\n",
              "      <td>DevOps</td>\n",
              "      <td>2</td>\n",
              "    </tr>\n",
              "    <tr>\n",
              "      <th>12</th>\n",
              "      <td>Моделирование временных рядов</td>\n",
              "      <td>Сбор и обработка данных с помощью краудсорсинга</td>\n",
              "      <td>Безопасность компьютерных систем</td>\n",
              "      <td>Компьютерные сети</td>\n",
              "      <td>Дополнительные главы прикладной статистики</td>\n",
              "      <td>Системы баз данных</td>\n",
              "      <td></td>\n",
              "      <td>2</td>\n",
              "    </tr>\n",
              "    <tr>\n",
              "      <th>13</th>\n",
              "      <td>Сбор и обработка данных с помощью краудсорсинга</td>\n",
              "      <td>Язык SQL</td>\n",
              "      <td>Теория баз данных</td>\n",
              "      <td>Промышленное программирование на языке Java</td>\n",
              "      <td>Машинное обучение 2</td>\n",
              "      <td>Компьютерные сети</td>\n",
              "      <td></td>\n",
              "      <td>2</td>\n",
              "    </tr>\n",
              "    <tr>\n",
              "      <th>14</th>\n",
              "      <td>Язык SQL</td>\n",
              "      <td>Высокопроизводительные вычисления</td>\n",
              "      <td>Теория баз данных</td>\n",
              "      <td>Компьютерные сети</td>\n",
              "      <td>Промышленное программирование на языке Java</td>\n",
              "      <td>Дискретная оптимизация</td>\n",
              "      <td></td>\n",
              "      <td>2</td>\n",
              "    </tr>\n",
              "  </tbody>\n",
              "</table>\n",
              "</div>\n",
              "    <div class=\"colab-df-buttons\">\n",
              "\n",
              "  <div class=\"colab-df-container\">\n",
              "    <button class=\"colab-df-convert\" onclick=\"convertToInteractive('df-7371cd0e-9b16-4246-8478-ddd048ed5d1c')\"\n",
              "            title=\"Convert this dataframe to an interactive table.\"\n",
              "            style=\"display:none;\">\n",
              "\n",
              "  <svg xmlns=\"http://www.w3.org/2000/svg\" height=\"24px\" viewBox=\"0 -960 960 960\">\n",
              "    <path d=\"M120-120v-720h720v720H120Zm60-500h600v-160H180v160Zm220 220h160v-160H400v160Zm0 220h160v-160H400v160ZM180-400h160v-160H180v160Zm440 0h160v-160H620v160ZM180-180h160v-160H180v160Zm440 0h160v-160H620v160Z\"/>\n",
              "  </svg>\n",
              "    </button>\n",
              "\n",
              "  <style>\n",
              "    .colab-df-container {\n",
              "      display:flex;\n",
              "      gap: 12px;\n",
              "    }\n",
              "\n",
              "    .colab-df-convert {\n",
              "      background-color: #E8F0FE;\n",
              "      border: none;\n",
              "      border-radius: 50%;\n",
              "      cursor: pointer;\n",
              "      display: none;\n",
              "      fill: #1967D2;\n",
              "      height: 32px;\n",
              "      padding: 0 0 0 0;\n",
              "      width: 32px;\n",
              "    }\n",
              "\n",
              "    .colab-df-convert:hover {\n",
              "      background-color: #E2EBFA;\n",
              "      box-shadow: 0px 1px 2px rgba(60, 64, 67, 0.3), 0px 1px 3px 1px rgba(60, 64, 67, 0.15);\n",
              "      fill: #174EA6;\n",
              "    }\n",
              "\n",
              "    .colab-df-buttons div {\n",
              "      margin-bottom: 4px;\n",
              "    }\n",
              "\n",
              "    [theme=dark] .colab-df-convert {\n",
              "      background-color: #3B4455;\n",
              "      fill: #D2E3FC;\n",
              "    }\n",
              "\n",
              "    [theme=dark] .colab-df-convert:hover {\n",
              "      background-color: #434B5C;\n",
              "      box-shadow: 0px 1px 3px 1px rgba(0, 0, 0, 0.15);\n",
              "      filter: drop-shadow(0px 1px 2px rgba(0, 0, 0, 0.3));\n",
              "      fill: #FFFFFF;\n",
              "    }\n",
              "  </style>\n",
              "\n",
              "    <script>\n",
              "      const buttonEl =\n",
              "        document.querySelector('#df-7371cd0e-9b16-4246-8478-ddd048ed5d1c button.colab-df-convert');\n",
              "      buttonEl.style.display =\n",
              "        google.colab.kernel.accessAllowed ? 'block' : 'none';\n",
              "\n",
              "      async function convertToInteractive(key) {\n",
              "        const element = document.querySelector('#df-7371cd0e-9b16-4246-8478-ddd048ed5d1c');\n",
              "        const dataTable =\n",
              "          await google.colab.kernel.invokeFunction('convertToInteractive',\n",
              "                                                    [key], {});\n",
              "        if (!dataTable) return;\n",
              "\n",
              "        const docLinkHtml = 'Like what you see? Visit the ' +\n",
              "          '<a target=\"_blank\" href=https://colab.research.google.com/notebooks/data_table.ipynb>data table notebook</a>'\n",
              "          + ' to learn more about interactive tables.';\n",
              "        element.innerHTML = '';\n",
              "        dataTable['output_type'] = 'display_data';\n",
              "        await google.colab.output.renderOutput(dataTable, element);\n",
              "        const docLink = document.createElement('div');\n",
              "        docLink.innerHTML = docLinkHtml;\n",
              "        element.appendChild(docLink);\n",
              "      }\n",
              "    </script>\n",
              "  </div>\n",
              "\n",
              "\n",
              "<div id=\"df-91378b87-415b-46bc-8fa2-e3ce0527609a\">\n",
              "  <button class=\"colab-df-quickchart\" onclick=\"quickchart('df-91378b87-415b-46bc-8fa2-e3ce0527609a')\"\n",
              "            title=\"Suggest charts\"\n",
              "            style=\"display:none;\">\n",
              "\n",
              "<svg xmlns=\"http://www.w3.org/2000/svg\" height=\"24px\"viewBox=\"0 0 24 24\"\n",
              "     width=\"24px\">\n",
              "    <g>\n",
              "        <path d=\"M19 3H5c-1.1 0-2 .9-2 2v14c0 1.1.9 2 2 2h14c1.1 0 2-.9 2-2V5c0-1.1-.9-2-2-2zM9 17H7v-7h2v7zm4 0h-2V7h2v10zm4 0h-2v-4h2v4z\"/>\n",
              "    </g>\n",
              "</svg>\n",
              "  </button>\n",
              "\n",
              "<style>\n",
              "  .colab-df-quickchart {\n",
              "      --bg-color: #E8F0FE;\n",
              "      --fill-color: #1967D2;\n",
              "      --hover-bg-color: #E2EBFA;\n",
              "      --hover-fill-color: #174EA6;\n",
              "      --disabled-fill-color: #AAA;\n",
              "      --disabled-bg-color: #DDD;\n",
              "  }\n",
              "\n",
              "  [theme=dark] .colab-df-quickchart {\n",
              "      --bg-color: #3B4455;\n",
              "      --fill-color: #D2E3FC;\n",
              "      --hover-bg-color: #434B5C;\n",
              "      --hover-fill-color: #FFFFFF;\n",
              "      --disabled-bg-color: #3B4455;\n",
              "      --disabled-fill-color: #666;\n",
              "  }\n",
              "\n",
              "  .colab-df-quickchart {\n",
              "    background-color: var(--bg-color);\n",
              "    border: none;\n",
              "    border-radius: 50%;\n",
              "    cursor: pointer;\n",
              "    display: none;\n",
              "    fill: var(--fill-color);\n",
              "    height: 32px;\n",
              "    padding: 0;\n",
              "    width: 32px;\n",
              "  }\n",
              "\n",
              "  .colab-df-quickchart:hover {\n",
              "    background-color: var(--hover-bg-color);\n",
              "    box-shadow: 0 1px 2px rgba(60, 64, 67, 0.3), 0 1px 3px 1px rgba(60, 64, 67, 0.15);\n",
              "    fill: var(--button-hover-fill-color);\n",
              "  }\n",
              "\n",
              "  .colab-df-quickchart-complete:disabled,\n",
              "  .colab-df-quickchart-complete:disabled:hover {\n",
              "    background-color: var(--disabled-bg-color);\n",
              "    fill: var(--disabled-fill-color);\n",
              "    box-shadow: none;\n",
              "  }\n",
              "\n",
              "  .colab-df-spinner {\n",
              "    border: 2px solid var(--fill-color);\n",
              "    border-color: transparent;\n",
              "    border-bottom-color: var(--fill-color);\n",
              "    animation:\n",
              "      spin 1s steps(1) infinite;\n",
              "  }\n",
              "\n",
              "  @keyframes spin {\n",
              "    0% {\n",
              "      border-color: transparent;\n",
              "      border-bottom-color: var(--fill-color);\n",
              "      border-left-color: var(--fill-color);\n",
              "    }\n",
              "    20% {\n",
              "      border-color: transparent;\n",
              "      border-left-color: var(--fill-color);\n",
              "      border-top-color: var(--fill-color);\n",
              "    }\n",
              "    30% {\n",
              "      border-color: transparent;\n",
              "      border-left-color: var(--fill-color);\n",
              "      border-top-color: var(--fill-color);\n",
              "      border-right-color: var(--fill-color);\n",
              "    }\n",
              "    40% {\n",
              "      border-color: transparent;\n",
              "      border-right-color: var(--fill-color);\n",
              "      border-top-color: var(--fill-color);\n",
              "    }\n",
              "    60% {\n",
              "      border-color: transparent;\n",
              "      border-right-color: var(--fill-color);\n",
              "    }\n",
              "    80% {\n",
              "      border-color: transparent;\n",
              "      border-right-color: var(--fill-color);\n",
              "      border-bottom-color: var(--fill-color);\n",
              "    }\n",
              "    90% {\n",
              "      border-color: transparent;\n",
              "      border-bottom-color: var(--fill-color);\n",
              "    }\n",
              "  }\n",
              "</style>\n",
              "\n",
              "  <script>\n",
              "    async function quickchart(key) {\n",
              "      const quickchartButtonEl =\n",
              "        document.querySelector('#' + key + ' button');\n",
              "      quickchartButtonEl.disabled = true;  // To prevent multiple clicks.\n",
              "      quickchartButtonEl.classList.add('colab-df-spinner');\n",
              "      try {\n",
              "        const charts = await google.colab.kernel.invokeFunction(\n",
              "            'suggestCharts', [key], {});\n",
              "      } catch (error) {\n",
              "        console.error('Error during call to suggestCharts:', error);\n",
              "      }\n",
              "      quickchartButtonEl.classList.remove('colab-df-spinner');\n",
              "      quickchartButtonEl.classList.add('colab-df-quickchart-complete');\n",
              "    }\n",
              "    (() => {\n",
              "      let quickchartButtonEl =\n",
              "        document.querySelector('#df-91378b87-415b-46bc-8fa2-e3ce0527609a button');\n",
              "      quickchartButtonEl.style.display =\n",
              "        google.colab.kernel.accessAllowed ? 'block' : 'none';\n",
              "    })();\n",
              "  </script>\n",
              "</div>\n",
              "    </div>\n",
              "  </div>\n"
            ],
            "application/vnd.google.colaboratory.intrinsic+json": {
              "type": "dataframe",
              "summary": "{\n  \"name\": \"bal[bal > 1]\",\n  \"rows\": 15,\n  \"fields\": [\n    {\n      \"column\": \"fall_1\",\n      \"properties\": {\n        \"dtype\": \"category\",\n        \"num_unique_values\": 7,\n        \"samples\": [\n          \"Statistical Learning Theory\",\n          \"\\u0411\\u0430\\u0439\\u0435\\u0441\\u043e\\u0432\\u0441\\u043a\\u0438\\u0435 \\u043c\\u0435\\u0442\\u043e\\u0434\\u044b \\u043c\\u0430\\u0448\\u0438\\u043d\\u043d\\u043e\\u0433\\u043e \\u043e\\u0431\\u0443\\u0447\\u0435\\u043d\\u0438\\u044f\",\n          \"\\u0421\\u0431\\u043e\\u0440 \\u0438 \\u043e\\u0431\\u0440\\u0430\\u0431\\u043e\\u0442\\u043a\\u0430 \\u0434\\u0430\\u043d\\u043d\\u044b\\u0445 \\u0441 \\u043f\\u043e\\u043c\\u043e\\u0449\\u044c\\u044e \\u043a\\u0440\\u0430\\u0443\\u0434\\u0441\\u043e\\u0440\\u0441\\u0438\\u043d\\u0433\\u0430\"\n        ],\n        \"semantic_type\": \"\",\n        \"description\": \"\"\n      }\n    },\n    {\n      \"column\": \"fall_2\",\n      \"properties\": {\n        \"dtype\": \"string\",\n        \"num_unique_values\": 8,\n        \"samples\": [\n          \"Statistical Learning Theory\",\n          \"\\u0422\\u0435\\u043e\\u0440\\u0438\\u044f \\u0431\\u0430\\u0437 \\u0434\\u0430\\u043d\\u043d\\u044b\\u0445\",\n          \"\\u0410\\u043d\\u0430\\u043b\\u0438\\u0437 \\u043d\\u0435\\u0441\\u0442\\u0440\\u0443\\u043a\\u0442\\u0443\\u0440\\u0438\\u0440\\u043e\\u0432\\u0430\\u043d\\u043d\\u044b\\u0445 \\u0434\\u0430\\u043d\\u043d\\u044b\\u0445\"\n        ],\n        \"semantic_type\": \"\",\n        \"description\": \"\"\n      }\n    },\n    {\n      \"column\": \"fall_3\",\n      \"properties\": {\n        \"dtype\": \"string\",\n        \"num_unique_values\": 8,\n        \"samples\": [\n          \"\\u0413\\u043b\\u0443\\u0431\\u0438\\u043d\\u043d\\u043e\\u0435 \\u043e\\u0431\\u0443\\u0447\\u0435\\u043d\\u0438\\u0435 \\u0432 \\u043e\\u0431\\u0440\\u0430\\u0431\\u043e\\u0442\\u043a\\u0435 \\u0437\\u0432\\u0443\\u043a\\u0430\",\n          \"\\u041c\\u043e\\u0434\\u0435\\u043b\\u0438\\u0440\\u043e\\u0432\\u0430\\u043d\\u0438\\u0435 \\u0432\\u0440\\u0435\\u043c\\u0435\\u043d\\u043d\\u044b\\u0445 \\u0440\\u044f\\u0434\\u043e\\u0432\",\n          \"\\u0421\\u0431\\u043e\\u0440 \\u0438 \\u043e\\u0431\\u0440\\u0430\\u0431\\u043e\\u0442\\u043a\\u0430 \\u0434\\u0430\\u043d\\u043d\\u044b\\u0445 \\u0441 \\u043f\\u043e\\u043c\\u043e\\u0449\\u044c\\u044e \\u043a\\u0440\\u0430\\u0443\\u0434\\u0441\\u043e\\u0440\\u0441\\u0438\\u043d\\u0433\\u0430\"\n        ],\n        \"semantic_type\": \"\",\n        \"description\": \"\"\n      }\n    },\n    {\n      \"column\": \"spring_1\",\n      \"properties\": {\n        \"dtype\": \"category\",\n        \"num_unique_values\": 6,\n        \"samples\": [\n          \"\\u041e\\u0431\\u0443\\u0447\\u0435\\u043d\\u0438\\u0435 \\u0441 \\u043f\\u043e\\u0434\\u043a\\u0440\\u0435\\u043f\\u043b\\u0435\\u043d\\u0438\\u0435\\u043c\",\n          \"\\u0414\\u0438\\u0441\\u043a\\u0440\\u0435\\u0442\\u043d\\u0430\\u044f \\u043e\\u043f\\u0442\\u0438\\u043c\\u0438\\u0437\\u0430\\u0446\\u0438\\u044f\",\n          \"\\u041c\\u0430\\u0448\\u0438\\u043d\\u043d\\u043e\\u0435 \\u043e\\u0431\\u0443\\u0447\\u0435\\u043d\\u0438\\u0435 2\"\n        ],\n        \"semantic_type\": \"\",\n        \"description\": \"\"\n      }\n    },\n    {\n      \"column\": \"spring_2\",\n      \"properties\": {\n        \"dtype\": \"string\",\n        \"num_unique_values\": 8,\n        \"samples\": [\n          \"\\u0413\\u0435\\u043d\\u0435\\u0440\\u0430\\u0442\\u0438\\u0432\\u043d\\u044b\\u0435 \\u043c\\u043e\\u0434\\u0435\\u043b\\u0438 \\u0432 \\u043c\\u0430\\u0448\\u0438\\u043d\\u043d\\u043e\\u043c \\u043e\\u0431\\u0443\\u0447\\u0435\\u043d\\u0438\\u0438\",\n          \"\\u041a\\u043e\\u043c\\u043f\\u044c\\u044e\\u0442\\u0435\\u0440\\u043d\\u044b\\u0435 \\u0441\\u0435\\u0442\\u0438\",\n          \"\\u041a\\u043e\\u043d\\u0444\\u043b\\u0438\\u043a\\u0442\\u044b \\u0438 \\u043a\\u043e\\u043e\\u043f\\u0435\\u0440\\u0430\\u0446\\u0438\\u044f\"\n        ],\n        \"semantic_type\": \"\",\n        \"description\": \"\"\n      }\n    },\n    {\n      \"column\": \"spring_3\",\n      \"properties\": {\n        \"dtype\": \"string\",\n        \"num_unique_values\": 10,\n        \"samples\": [\n          \"\\u041c\\u0435\\u0442\\u043e\\u0434\\u044b \\u0441\\u0436\\u0430\\u0442\\u0438\\u044f \\u0438 \\u043f\\u0435\\u0440\\u0435\\u0434\\u0430\\u0447\\u0438 \\u043c\\u0435\\u0434\\u0438\\u0430\\u0434\\u0430\\u043d\\u043d\\u044b\\u0445\",\n          \"\\u0413\\u0435\\u043d\\u0435\\u0440\\u0430\\u0442\\u0438\\u0432\\u043d\\u044b\\u0435 \\u043c\\u043e\\u0434\\u0435\\u043b\\u0438 \\u0432 \\u043c\\u0430\\u0448\\u0438\\u043d\\u043d\\u043e\\u043c \\u043e\\u0431\\u0443\\u0447\\u0435\\u043d\\u0438\\u0438\",\n          \"\\u0421\\u0438\\u0441\\u0442\\u0435\\u043c\\u044b \\u0431\\u0430\\u0437 \\u0434\\u0430\\u043d\\u043d\\u044b\\u0445\"\n        ],\n        \"semantic_type\": \"\",\n        \"description\": \"\"\n      }\n    },\n    {\n      \"column\": \"blended\",\n      \"properties\": {\n        \"dtype\": \"category\",\n        \"num_unique_values\": 2,\n        \"samples\": [\n          \"\",\n          \"DevOps\"\n        ],\n        \"semantic_type\": \"\",\n        \"description\": \"\"\n      }\n    },\n    {\n      \"column\": 0,\n      \"properties\": {\n        \"dtype\": \"number\",\n        \"std\": 0,\n        \"min\": 2,\n        \"max\": 3,\n        \"num_unique_values\": 2,\n        \"samples\": [\n          3,\n          2\n        ],\n        \"semantic_type\": \"\",\n        \"description\": \"\"\n      }\n    }\n  ]\n}"
            }
          },
          "metadata": {},
          "execution_count": 403
        }
      ],
      "source": [
        "bal = df.groupby(['fall_1', 'fall_2', 'fall_3', 'spring_1', 'spring_2', 'spring_3', 'blended']).size()\n",
        "bal[bal > 1].reset_index()"
      ]
    },
    {
      "cell_type": "markdown",
      "metadata": {
        "id": "spu3r3vchLu0"
      },
      "source": [
        "#### 6. [0.5 балла] Найдите курсы по выбору, на которые записывались как студенты 18-го года набора, так и студенты 17-го года."
      ]
    },
    {
      "cell_type": "code",
      "execution_count": 404,
      "metadata": {
        "colab": {
          "base_uri": "https://localhost:8080/"
        },
        "id": "t21fWi8ShLu0",
        "outputId": "faf26c5c-a7ce-416f-ec21-fe5f690155b8"
      },
      "outputs": [
        {
          "output_type": "stream",
          "name": "stdout",
          "text": [
            "Statistical Learning Theory\n",
            "Принятие решений в условиях риска и неопределённости\n",
            "Моделирование временных рядов\n",
            "Высокопроизводительные вычисления\n",
            "Численные методы\n",
            "Безопасность компьютерных систем\n",
            "Сбор и обработка данных с помощью краудсорсинга\n"
          ]
        }
      ],
      "source": [
        "st17, st18 = set(), set()\n",
        "for course in ['fall_1', 'fall_2', 'fall_3', 'spring_1', 'spring_2', 'spring_3', 'blended']:\n",
        "  #it is not loop, just not to write 6 conditions\n",
        "  #we grouped to count when subject is visited by students\n",
        "  courses_17 = df[df['17_group'] > 0].groupby(course)['17_group'].sum()\n",
        "  courses_18 = df[df['18_group'] > 0].groupby(course)['18_group'].sum()\n",
        "  st17 |= set(courses_17[courses_17 > 0].index)\n",
        "  st18 |= set(courses_18[courses_18 > 0].index)\n",
        "st18.discard('')\n",
        "print(*list(st17.intersection(st18)), sep='\\n')"
      ]
    },
    {
      "cell_type": "markdown",
      "metadata": {
        "id": "PYfX-Dr5hLu0"
      },
      "source": [
        "Методом исключения найдите курсы, которые предлагались только студентам 18-го года и только студентам 17-го года."
      ]
    },
    {
      "cell_type": "code",
      "execution_count": 405,
      "metadata": {
        "colab": {
          "base_uri": "https://localhost:8080/"
        },
        "id": "G9SWBOpehLu1",
        "outputId": "d278eb86-5ec4-40fb-9db9-0fd53bab5505"
      },
      "outputs": [
        {
          "output_type": "stream",
          "name": "stdout",
          "text": [
            "Только 18 год\n",
            "Теория баз данных\n",
            "Промышленное программирование на языке Java\n",
            "Дополнительные главы прикладной статистики\n",
            "Машинное обучение 2\n",
            "Язык SQL\n",
            "Дискретная оптимизация\n",
            "Компьютерные сети\n",
            "Матричные вычисления\n",
            "Анализ данных в бизнесе\n",
            "Системы баз данных\n"
          ]
        }
      ],
      "source": [
        "print(\"Только 18 год\")\n",
        "print(*list(st18.difference(st17)), sep='\\n')"
      ]
    },
    {
      "cell_type": "code",
      "execution_count": 406,
      "metadata": {
        "colab": {
          "base_uri": "https://localhost:8080/"
        },
        "id": "obYQ5WcaW7jP",
        "outputId": "99d3a7a6-b506-4afa-f1d9-d7714b8c2fa8"
      },
      "outputs": [
        {
          "output_type": "stream",
          "name": "stdout",
          "text": [
            "Только 17 год\n",
            "Проектирование и разработка высоконагруженных сервисов\n",
            "Глубинное обучение в обработке звука\n",
            "Генеративные модели в машинном обучении\n",
            "Обучение с подкреплением\n",
            "Анализ неструктурированных данных\n",
            "Конфликты и кооперация\n",
            "Методы сжатия и передачи медиаданных\n",
            "Соревновательный анализ данных\n",
            "Введение в дифференциальную геометрию\n",
            "Байесовские методы машинного обучения\n",
            "Символьные вычисления\n",
            "DevOps\n",
            "Компьютерное зрение\n"
          ]
        }
      ],
      "source": [
        "print(\"Только 17 год\")\n",
        "print(*list(st17.difference(st18)), sep='\\n')"
      ]
    },
    {
      "cell_type": "markdown",
      "metadata": {
        "id": "uL45Tg5fhLu1"
      },
      "source": [
        "### Визуализации и matplotlib"
      ]
    },
    {
      "cell_type": "markdown",
      "metadata": {
        "id": "MY9lKmP2hLu1"
      },
      "source": [
        "При работе с данными часто неудобно делать какие-то выводы, если смотреть на таблицу и числа в частности, поэтому важно уметь визуализировать данные. Здесь будут описаны ключевые правила оформления графиков для **всех** домашних заданий.\n",
        "\n",
        "У matplotlib, конечно же, есть [документация](https://matplotlib.org/users/index.html) с большим количеством [примеров](https://matplotlib.org/examples/), но для начала достаточно знать про несколько основных типов графиков:\n",
        "- plot — обычный поточечный график, которым можно изображать кривые или отдельные точки;\n",
        "- hist — гистограмма, показывающая распределение некоторой величины;\n",
        "- scatter — график, показывающий взаимосвязь двух величин;\n",
        "- bar — столбцовый график, показывающий взаимосвязь количественной величины от категориальной.\n",
        "\n",
        "В этом задании вы попробуете построить один из них. Не забывайте про базовые принципы построения приличных графиков:\n",
        "- оси должны быть подписаны, причём не слишком мелко;\n",
        "- у графика должно быть название;\n",
        "- если изображено несколько графиков, то необходима поясняющая легенда;\n",
        "- все линии на графиках должны быть чётко видны (нет похожих цветов или цветов, сливающихся с фоном);\n",
        "- если отображена величина, имеющая очевидный диапазон значений (например, проценты могут быть от 0 до 100), то желательно масштабировать ось на весь диапазон значений (исключением является случай, когда вам необходимо показать малое отличие, которое незаметно в таких масштабах);\n",
        "- сетка на графике помогает оценить значения в точках на глаз, это обычно полезно, поэтому лучше ее отрисовывать;\n",
        "- если распределение на гистограмме имеет тяжёлые хвосты, лучше использовать логарифмическую шкалу.\n",
        "\n",
        "Еще одна билиотека для визуализации: [seaborn](https://jakevdp.github.io/PythonDataScienceHandbook/04.14-visualization-with-seaborn.html) (обычно сокращается до sns). Это настройка над matplotlib, иногда удобнее и красивее делать визуализации через неё.\n",
        "\n",
        "**5 пунктов после которых ваши графики не будут прежними:**\n",
        "- для красивой картинки <code>%config InlineBackend.figure_format = 'retina'</code>\n",
        "- задаем размер (почти) всех графиков (можно выбрать другие значения) <code>plt.rcParams['figure.figsize'] = 8, 5</code>\n",
        "- размер шрифта подписей графиков <code>plt.rcParams['font.size'] = 12</code>\n",
        "- формат в котором сохраняется изображение <code>mpl.rcParams['savefig.format'] = 'pdf'</code>\n",
        "- sns – seaborn, добавляет решетку <code>sns.set_style('darkgrid')</code>\n",
        "\n",
        "Добавьте эти функции в ячейку ниже. Каждый график все равно придется настраивать отдельно, но указанные строчки позволят значительно упростить процесс.  "
      ]
    },
    {
      "cell_type": "code",
      "execution_count": 407,
      "metadata": {
        "id": "na9doUOFhLu1"
      },
      "outputs": [],
      "source": [
        "%matplotlib inline\n",
        "import matplotlib.pyplot as plt\n",
        "import seaborn as sns\n",
        "\n",
        "%config InlineBackend.figure_format = 'retina'\n",
        "plt.rcParams['figure.figsize'] = 8, 5\n",
        "plt.rcParams['font.size'] = 12\n",
        "mpl.rcParams['savefig.format'] = 'pdf'\n",
        "sns.set_style('darkgrid')"
      ]
    },
    {
      "cell_type": "markdown",
      "metadata": {
        "id": "kikwLpxfhLu1"
      },
      "source": [
        "#### 7. [0.5 балла] Постройте график средних рейтингов по дням получения ответов (bar plot)."
      ]
    },
    {
      "cell_type": "code",
      "execution_count": 408,
      "metadata": {
        "colab": {
          "base_uri": "https://localhost:8080/",
          "height": 538
        },
        "id": "UTPLVeQvhLu2",
        "outputId": "97197cc4-e57e-425c-8449-852f23dcc4a1"
      },
      "outputs": [
        {
          "output_type": "display_data",
          "data": {
            "text/plain": [
              "<Figure size 800x500 with 1 Axes>"
            ],
            "image/png": "[encoded data removed]"
          },
          "metadata": {
            "image/png": {
              "width": 714,
              "height": 501
            }
          }
        }
      ],
      "source": [
        "df['date'] = df['timestamp'].dt.date\n",
        "pl = df.groupby('date')['rating'].mean()\n",
        "df = df.drop('date', axis=1)\n",
        "plt.xlabel('Days of submissions')\n",
        "plt.ylabel('Mean rating')\n",
        "plt.title('Mean rating per days')\n",
        "pl.plot.bar()\n",
        "plt.xticks(rotation=45)\n",
        "plt.xticks(fontsize=6)\n",
        "plt.savefig('plot_of_means.pdf')"
      ]
    },
    {
      "cell_type": "markdown",
      "metadata": {
        "id": "AmsQg9_xhLu2"
      },
      "source": [
        "Сохраните график в формате pdf (так он останется векторизованным)."
      ]
    },
    {
      "cell_type": "markdown",
      "metadata": {
        "id": "sCgWwjl0hLu2"
      },
      "source": [
        "### 2. Распределение студентов по курсам."
      ]
    },
    {
      "cell_type": "markdown",
      "metadata": {
        "id": "6rjOnzRN8A8l"
      },
      "source": [
        "<span style=\"color:red\">!!!ВНИМАТЕЛЬНО ИЗУЧИТЕ ТЕКСТ НИЖЕ!!!</span>.\n",
        "\n",
        "<span style=\"color:orange\">Если во время выполнения заданий у вас вознинут вопросы -- еще раз перечитайте текст целиком, скорее всего ответы уже содержатся в нем.</span>"
      ]
    },
    {
      "cell_type": "markdown",
      "metadata": {
        "id": "VNqXUpr4hLu3"
      },
      "source": [
        "Теперь вам нужно распределить студентов по осенним курсам по выбору, учитывая их предпочтения."
      ]
    },
    {
      "cell_type": "markdown",
      "metadata": {
        "id": "5cAR2FgphLu3"
      },
      "source": [
        "## 📌 **Алгоритм распределения студентов по курсам**:\n",
        "1. По умолчанию на каждой дисциплине по выбору у 3 и 4 курсов может учиться 1 группа (до 30 студентов). Исключения описаны ниже. На blended-дисциплинах для четверокурсников количество мест не ограничено.\n",
        "2. Проводится первая волна отбора. Для каждой дисциплины формируется список тех, кто указал её первым приоритетом (если студент должен выбрать два курса по выбору, то для него дисциплины, которые он указал первым и вторым приоритетом, рассматриваются как дисциплины первого приоритета). Если желающих больше, чем мест, то выбирается топ по перцентилю рейтинга.\n",
        "3. На дисциплинах, где остались места после первой волны, формируются списки тех, кто выбрал их вторым приоритетом, и места заполняются лучшими по перцентили рейтинга студентами. После этого проводится такая же процедура для дисциплин третьего приоритета.\n",
        "4. Если студент не попал на необходимое количество курсов по итогам трёх волн, с ним связывается учебный офис и решает вопрос в индивидуальном порядке."
      ]
    },
    {
      "cell_type": "markdown",
      "metadata": {
        "id": "BiNKVwS6hLu3"
      },
      "source": [
        "## ☝️ **Обращаем ваше внимание на следующие детали:**\n",
        "- Конкурс на каждый курс общий для 3-го и 4-го курса\n",
        "\n",
        "- По умолчанию студент выбирает один осенний и один весенний курс по выбору, а также четверокурсники выбирают один blended-курс. Студенты групп 17-го года специализаций МОП и ТИ выбирают по 2 осенних и 2 весенних курса по выбору, также студенты групп 18' специализации МИ выбирают 2 осенних курса. <i>Для студентов, которые выбирают 2 курса (например, осенних) первый приоритет — <code>fall_1</code> и <code>fall_2</code>, второй приоритет — <code>fall_3</code>. Такие студенты участвуют только в двух волнах отбора</i>.\n",
        "\n",
        "- Студенты специализации МОП не могут выбрать весенним курсом по выбору Машинное обучение 2. **Если студент специализации МОП выбрал Машинное обучение 2, то его приоритеты сдвигаются.** Из-за совпадений первого и второго курса по выбору двигать приоритеты не надо.\n",
        "\n",
        "- Blended-курсы не трогайте, по ним не надо распределять, на другие курсы они никак не влияют.\n",
        "\n",
        "- Заведомо известно, что в процессе распределения не возникнет ситуации, когда на одно место претендуют студенты с одинаковым перцентилем.\n",
        "\n",
        "- Постарайтесь воздержаться от использования циклов там, где это возможно. <i>Допустимо итерироваться по <b>курсам</b>, на которые проводится отбор, и по <b>волнам</b> отбора. Если вы придумаете, как обойтись и без этих циклов, то на усмотрение проверяющего могут быть добавлены бонусные баллы. <b>Дублирование кода не признается успешным избавлением от циклов</b></i>\n",
        "\n",
        "- На выходе ожидается файл res_fall.csv с результатами распределения на осенние курсы по выбору. Файл должен быть следующего формата:\n",
        "\n",
        "    * Три колонки: ID, course1, course2\n",
        "    \n",
        "    * Если студент не попал на курс, но должен был, то вместо названия курса в ячейке должна быть строка \"???\"\n",
        "    \n",
        "    * Если студент должен выбрать только один курс, то в колонке course2 для него должна стоять строка \"-\"\n",
        "    \n",
        "    * Если студент должен выбрать два курса по выбору, то порядок в колонках course1 и course2 не важен.\n",
        "    \n",
        "    * hint: для сохранения воспользуйтесь `df.to_csv('solution.csv', index=None)`\n",
        "    \n",
        "\n",
        "Для работы вам могут понадобиться следующие данные:\n",
        "\n",
        "- Результаты опроса (вы уже использовали этот файл в первой части задания, но на всякий случай ссылка: https://www.dropbox.com/s/f4rm8sjc3v99p0m/_end_seminar.xlsx?dl=0)\n",
        "\n",
        "- Соответствие номеров групп специализациям:\n",
        "\n",
        "    * 171, 172 - МОП; 173 - ТИ; 174 — АДИС; 175, 176 — РС; 177 — АПР\n",
        "    \n",
        "    * У студентов 18-го года номера групп соответствуют номерам до распределения по специализациям. Это означает, что по номеру группы 18* нельзя однозначно определить специализацию студента. При этом в рамках распределения важно знать информацию только о двух из них: МОП и МИ. Эти знание можно получить из колонок 'is_ml_student\n",
        "' и 'is_mi' соответственно.\n",
        "\n",
        "- Ограничения по количеству мест на курсах по выбору:\n",
        "\n",
        "    * Осенние: везде 30 мест, кроме Statistical Learning Theory (60 мест), Высокопроизводительных вычислений (60 мест), Анализа неструктурированных данных ($\\infty$ мест)\n",
        "\n",
        "    * Весенние: везде 30 мест, кроме Обучения с подкреплением (60 мест), Анализа данных в бизнесе (60 мест).\n",
        "\n",
        "\n",
        "Кстати, убедитесь, что в данных больше нет пропусков и повторных записей."
      ]
    },
    {
      "cell_type": "markdown",
      "metadata": {
        "id": "o5t55IcQhLu4"
      },
      "source": [
        "#### 0. Проверка\n",
        "\n",
        "Для начала давайте убедимся, что вы успешно выполнили задания первой части и проверим ваши данные на наличие пропусков и повторов:"
      ]
    },
    {
      "cell_type": "code",
      "execution_count": 409,
      "metadata": {
        "id": "34HWEdVdhLu4"
      },
      "outputs": [],
      "source": [
        "assert df.shape[0] == 347, 'В таблице остались повторы или потеряны данные'\n",
        "\n",
        "assert df.isna().sum().sum() == 0, 'В таблице остались пропуски'"
      ]
    },
    {
      "cell_type": "markdown",
      "metadata": {
        "id": "_ImUFyG3hLu4"
      },
      "source": [
        "Если вы не получили AssertionError, то можете продолжать."
      ]
    },
    {
      "cell_type": "markdown",
      "metadata": {
        "id": "LTGSwwvAhLu4"
      },
      "source": [
        "#### 1. [1 балл] Создайте новый признак, обозначающий, сколько осенних курсов должен выбрать студент\n",
        "\n",
        "В этом вам может помочь информация о специализации и группе стундента."
      ]
    },
    {
      "cell_type": "code",
      "execution_count": 410,
      "metadata": {
        "id": "ouxo0kHFhLu4"
      },
      "outputs": [],
      "source": [
        "def fall_courses_num(row):\n",
        "  if (student := row['17_group']) != 0:\n",
        "    return 2 if student in [171, 172, 173] else 1\n",
        "  else:\n",
        "    return 2 if row['is_mi'] else 1\n",
        "\n",
        "df['fall_courses_num'] = df.apply(fall_courses_num, axis=1)"
      ]
    },
    {
      "cell_type": "markdown",
      "metadata": {
        "id": "S47aq1sQhLu4"
      },
      "source": [
        "Проверка:"
      ]
    },
    {
      "cell_type": "code",
      "execution_count": 411,
      "metadata": {
        "id": "OlOgzDKDhLu5"
      },
      "outputs": [],
      "source": [
        "col_name = 'fall_courses_num'\n",
        "\n",
        "assert(df[df['id'] == '2662600c2c37e11e62f6ee0b88452f22'][col_name] == 2).all()\n",
        "assert(df[df['id'] == 'd555d2805e1d93d4f023e57dc4c8f403'][col_name] == 2).all()\n",
        "assert(df[df['id'] == '8fe79f84f36e3a5d2d6745621321302c'][col_name] == 1).all()\n",
        "assert(df[df['id'] == 'e4caca755ee0bdd711e18fb8084958b5'][col_name] == 1).all()"
      ]
    },
    {
      "cell_type": "markdown",
      "metadata": {
        "id": "VtQYhwuPhLu5"
      },
      "source": [
        "#### 2. [2 балла] Распределите студентов в соответствии с первым приоритетом"
      ]
    },
    {
      "cell_type": "code",
      "execution_count": 412,
      "metadata": {
        "id": "6gWfT3vqhLu5"
      },
      "outputs": [],
      "source": [
        "import copy\n",
        "import numpy as np\n",
        "\n",
        "courses = st17 | st18\n",
        "df['course1'] = \"\"\n",
        "df['course2'] = \"\"\n",
        "space_max = dict.fromkeys(courses, 30)\n",
        "space_max['Statistical Learning Theory'] = 60\n",
        "space_max['Высокопроизводительные вычисления'] = 60\n",
        "space_max['Анализ неструктурированных данных'] = 360\n",
        "space_max['Обучение с подкреплением'] = 60\n",
        "space_max['Анализ данных в бизнесе'] = 60\n",
        "\n",
        "data = copy.deepcopy(df)"
      ]
    },
    {
      "cell_type": "markdown",
      "metadata": {
        "id": "ZZurU-wRIdaA"
      },
      "source": [
        "Идея слона ниже: мы взяли сортированных по перцентилю студентов количеством в оставшееся число мест на курсе. А брали мы тех, кто: еще не зачислен на первый курс или зачислен на первый, но первый не равен текущему курсу, а число мест позволяет зачислить на второй."
      ]
    },
    {
      "cell_type": "code",
      "execution_count": 413,
      "metadata": {
        "id": "tQW-tEOgLWiE"
      },
      "outputs": [],
      "source": [
        "for course in courses:\n",
        "  if space_max[course] > 0:\n",
        "    candidates = df[\n",
        "            ((df['course1'] == \"\") |\n",
        "             ((df['course2'] == \"\") & (df['course1'] != course) & (df['fall_courses_num'] > 1))) &\n",
        "            ((df['fall_1'] == course) | ((df['fall_2'] == course) & (df['fall_courses_num'] > 1)))\n",
        "        ].sort_values('percentile').head(space_max[course])['id']\n",
        "    for cand_id in candidates:\n",
        "      cand = df[df['id'] == cand_id]\n",
        "      if cand['course1'].values[0] == \"\":\n",
        "        df.loc[df['id'] == cand_id, 'course1'] = course\n",
        "        space_max[course] -= 1\n",
        "      elif (cand['course2'].values[0] == \"\" and cand['course1'].values[0] != course and cand['fall_courses_num'].values[0] > 1):\n",
        "        df.loc[df['id'] == cand_id, 'course2'] = course\n",
        "        space_max[course] -= 1"
      ]
    },
    {
      "cell_type": "markdown",
      "source": [
        "Т.к. вариант с циклом быстрее (я проводил тесты), дальше я буду использовать его (вроде как тут уже можно использовать циклы, но если нет, прошу написать, я кину версию без (из истории версий))"
      ],
      "metadata": {
        "id": "xPlxsONBkxR5"
      }
    },
    {
      "cell_type": "markdown",
      "metadata": {
        "id": "vc5zXP5hhLu5"
      },
      "source": [
        "Здесь для проверки приведена таблица, в которой есть 2 дополнительные колонки:\n",
        "    \n",
        "    1) is_first_place - является ли студент лучшим по перцентили хотя бы на одном из курсов, куда он был зачислен\n",
        "    (True / NaN)\n",
        "    \n",
        "    2) is_last_place  - является ли студент худшим по перцентили хотя бы на одном из курсов, куда он был зачислен (True / NaN)"
      ]
    },
    {
      "cell_type": "code",
      "execution_count": 414,
      "metadata": {
        "id": "64EIuluWFQ04",
        "colab": {
          "base_uri": "https://localhost:8080/"
        },
        "outputId": "5fc7df2c-4a75-4ebc-c7a8-2cb23198e932"
      },
      "outputs": [
        {
          "output_type": "stream",
          "name": "stderr",
          "text": [
            "<ipython-input-414-af25c250da34>:6: FutureWarning: Setting an item of incompatible dtype is deprecated and will raise an error in a future version of pandas. Value 'True' has dtype incompatible with float64, please explicitly cast to a compatible dtype first.\n",
            "  df.loc[rows['percentile'].idxmin(), 'is_first_place'] = True\n",
            "<ipython-input-414-af25c250da34>:7: FutureWarning: Setting an item of incompatible dtype is deprecated and will raise an error in a future version of pandas. Value 'True' has dtype incompatible with float64, please explicitly cast to a compatible dtype first.\n",
            "  df.loc[rows['percentile'].idxmax(), 'is_last_place'] = True\n"
          ]
        }
      ],
      "source": [
        "df[\"is_first_place\"] = np.nan\n",
        "df[\"is_last_place\"] = np.nan\n",
        "for course in courses:\n",
        "    rows = df.loc[(df['course1'] == course) | (df['course2'] == course)]\n",
        "    if len(rows) > 0:\n",
        "        df.loc[rows['percentile'].idxmin(), 'is_first_place'] = True\n",
        "        df.loc[rows['percentile'].idxmax(), 'is_last_place'] = True"
      ]
    },
    {
      "cell_type": "code",
      "execution_count": null,
      "metadata": {
        "id": "uZTkGEq5hLu5"
      },
      "outputs": [],
      "source": [
        "!wget  -O '2_task_check.csv' -q 'https://www.dropbox.com/s/v8o2zzq3iz5gc9w/_2_task_check.csv?dl=0'\n",
        "check_df = pd.read_csv('2_task_check.csv')"
      ]
    },
    {
      "cell_type": "markdown",
      "metadata": {
        "id": "E_fbyB9qhLu5"
      },
      "source": [
        "После распределения студентов в соответствии с первым приоритетом добавьте в свой датафрейм аналогичные признаки и запустите проверку:"
      ]
    },
    {
      "cell_type": "code",
      "execution_count": 415,
      "metadata": {
        "id": "GOAzQeYehLu6"
      },
      "outputs": [],
      "source": [
        "fir_col_name =  'is_first_place'     # insert name of your new column with is_first_place as str\n",
        "last_col_name = 'is_last_place'     # insert name of your new column with is_last_place as str\n",
        "\n",
        "assert((df[df[fir_col_name].isna() == False][['id']].sort_values('id').reset_index(drop=True)\n",
        "        ==\n",
        "        check_df[check_df['is_first_place'].isna() == False][['id']].sort_values('id').reset_index(drop=True)\n",
        "       ).id.values).all()\n",
        "\n",
        "\n",
        "assert((df[df[last_col_name].isna() == False][['id']].sort_values('id').reset_index(drop=True)\n",
        "       ==\n",
        "       check_df[check_df['is_last_place'].isna() == False][['id']].sort_values('id').reset_index(drop=True)\n",
        "      ).id.values).all()"
      ]
    },
    {
      "cell_type": "markdown",
      "metadata": {
        "id": "RO6DwNNFhLu6"
      },
      "source": [
        "#### 3. [2 балла] Проведите все три волны отбора студентов на курсы по выбору"
      ]
    },
    {
      "cell_type": "code",
      "execution_count": 416,
      "metadata": {
        "id": "6ySWJhh6NcZU"
      },
      "outputs": [],
      "source": [
        "for course in courses:\n",
        "  if space_max[course] > 0:\n",
        "    candidates = df[\n",
        "            ((df['course1'] == \"\") |\n",
        "             ((df['course2'] == \"\") & (df['course1'] != course) & (df['fall_courses_num'] > 1))) &\n",
        "            ((df['fall_2'] == course) | ((df['fall_3'] == course) & (df['fall_courses_num'] > 1)))\n",
        "        ].sort_values('percentile').head(space_max[course])['id']\n",
        "    for cand_id in candidates:\n",
        "      cand = df[df['id'] == cand_id]\n",
        "      if cand['course1'].values[0] == \"\":\n",
        "        df.loc[df['id'] == cand_id, 'course1'] = course\n",
        "        space_max[course] -= 1\n",
        "      elif (cand['course2'].values[0] == \"\" and cand['course1'].values[0] != course and cand['fall_courses_num'].values[0] > 1):\n",
        "        df.loc[df['id'] == cand_id, 'course2'] = course\n",
        "        space_max[course] -= 1"
      ]
    },
    {
      "cell_type": "code",
      "execution_count": 417,
      "metadata": {
        "collapsed": true,
        "id": "jn2OOrLjhLu6"
      },
      "outputs": [],
      "source": [
        "# (￣^￣)ゞ\n",
        "for course in courses:\n",
        "  if space_max[course] > 0:\n",
        "    candidates = df[\n",
        "            ((df['course1'] == \"\") |\n",
        "             ((df['course2'] == \"\") & (df['course1'] != course) & (df['fall_courses_num'] > 1))) & (df['fall_3'] == course)\n",
        "        ].sort_values('percentile').head(space_max[course])['id']\n",
        "    for cand_id in candidates:\n",
        "      cand = df[df['id'] == cand_id]\n",
        "      if cand['course1'].values[0] == \"\":\n",
        "        df.loc[df['id'] == cand_id, 'course1'] = course\n",
        "        space_max[course] -= 1\n",
        "      elif (cand['course2'].values[0] == \"\" and cand['course1'].values[0] != course and cand['fall_courses_num'].values[0] > 1):\n",
        "        df.loc[df['id'] == cand_id, 'course2'] = course\n",
        "        space_max[course] -= 1\n",
        "df.loc[df['fall_courses_num'] == 1, 'course2'] = '-'\n",
        "df.loc[(df['course1'] == \"\"), 'course1'] = '???'\n",
        "df.loc[(df['course2'] == \"\"), 'course2'] = '???'"
      ]
    },
    {
      "cell_type": "code",
      "execution_count": 418,
      "metadata": {
        "colab": {
          "base_uri": "https://localhost:8080/",
          "height": 444
        },
        "collapsed": true,
        "id": "hc5fwiCRVhgO",
        "outputId": "5e35840b-eb73-47cd-cd53-48dcbd2f63bc"
      },
      "outputs": [
        {
          "output_type": "execute_result",
          "data": {
            "text/plain": [
              "                                   ID  \\\n",
              "0    93ff79a51cd602f1dd3028ba2c129503   \n",
              "1    26b01b1c4cd5656bab18d24c548834fb   \n",
              "2    30f3653fc176d54e89ac3179c455c6dd   \n",
              "3    1528f0eaa027580820ccf0d92a53ad68   \n",
              "4    496ea4f0d4abe264b1bb1b80eb3830c5   \n",
              "..                                ...   \n",
              "356  c5870b37ee3f672e4259dfb2fc02ed8f   \n",
              "357  f44aea1095f9f5b8e2f5f0ed2b17891b   \n",
              "358  d7118b44c7e8fdbbaaca226d2da6fef1   \n",
              "359  79d14db48e4737af731960ae212d5134   \n",
              "360  f2d210ace25a841e1e58036b257d5d47   \n",
              "\n",
              "                                               course1  \\\n",
              "0                                             Язык SQL   \n",
              "1                    Высокопроизводительные вычисления   \n",
              "2                                 Матричные вычисления   \n",
              "3                          Statistical Learning Theory   \n",
              "4                    Высокопроизводительные вычисления   \n",
              "..                                                 ...   \n",
              "356                        Statistical Learning Theory   \n",
              "357                  Анализ неструктурированных данных   \n",
              "358                        Statistical Learning Theory   \n",
              "359  Принятие решений в условиях риска и неопределё...   \n",
              "360                  Анализ неструктурированных данных   \n",
              "\n",
              "                               course2  \n",
              "0                                    -  \n",
              "1                                    -  \n",
              "2                                    -  \n",
              "3                                    -  \n",
              "4                                    -  \n",
              "..                                 ...  \n",
              "356                                  -  \n",
              "357                                  -  \n",
              "358  Анализ неструктурированных данных  \n",
              "359  Анализ неструктурированных данных  \n",
              "360                                  -  \n",
              "\n",
              "[347 rows x 3 columns]"
            ],
            "text/html": [
              "\n",
              "  <div id=\"df-213f2b97-2b24-48f4-ae8d-0e34eb402758\" class=\"colab-df-container\">\n",
              "    <div>\n",
              "<style scoped>\n",
              "    .dataframe tbody tr th:only-of-type {\n",
              "        vertical-align: middle;\n",
              "    }\n",
              "\n",
              "    .dataframe tbody tr th {\n",
              "        vertical-align: top;\n",
              "    }\n",
              "\n",
              "    .dataframe thead th {\n",
              "        text-align: right;\n",
              "    }\n",
              "</style>\n",
              "<table border=\"1\" class=\"dataframe\">\n",
              "  <thead>\n",
              "    <tr style=\"text-align: right;\">\n",
              "      <th></th>\n",
              "      <th>ID</th>\n",
              "      <th>course1</th>\n",
              "      <th>course2</th>\n",
              "    </tr>\n",
              "  </thead>\n",
              "  <tbody>\n",
              "    <tr>\n",
              "      <th>0</th>\n",
              "      <td>93ff79a51cd602f1dd3028ba2c129503</td>\n",
              "      <td>Язык SQL</td>\n",
              "      <td>-</td>\n",
              "    </tr>\n",
              "    <tr>\n",
              "      <th>1</th>\n",
              "      <td>26b01b1c4cd5656bab18d24c548834fb</td>\n",
              "      <td>Высокопроизводительные вычисления</td>\n",
              "      <td>-</td>\n",
              "    </tr>\n",
              "    <tr>\n",
              "      <th>2</th>\n",
              "      <td>30f3653fc176d54e89ac3179c455c6dd</td>\n",
              "      <td>Матричные вычисления</td>\n",
              "      <td>-</td>\n",
              "    </tr>\n",
              "    <tr>\n",
              "      <th>3</th>\n",
              "      <td>1528f0eaa027580820ccf0d92a53ad68</td>\n",
              "      <td>Statistical Learning Theory</td>\n",
              "      <td>-</td>\n",
              "    </tr>\n",
              "    <tr>\n",
              "      <th>4</th>\n",
              "      <td>496ea4f0d4abe264b1bb1b80eb3830c5</td>\n",
              "      <td>Высокопроизводительные вычисления</td>\n",
              "      <td>-</td>\n",
              "    </tr>\n",
              "    <tr>\n",
              "      <th>...</th>\n",
              "      <td>...</td>\n",
              "      <td>...</td>\n",
              "      <td>...</td>\n",
              "    </tr>\n",
              "    <tr>\n",
              "      <th>356</th>\n",
              "      <td>c5870b37ee3f672e4259dfb2fc02ed8f</td>\n",
              "      <td>Statistical Learning Theory</td>\n",
              "      <td>-</td>\n",
              "    </tr>\n",
              "    <tr>\n",
              "      <th>357</th>\n",
              "      <td>f44aea1095f9f5b8e2f5f0ed2b17891b</td>\n",
              "      <td>Анализ неструктурированных данных</td>\n",
              "      <td>-</td>\n",
              "    </tr>\n",
              "    <tr>\n",
              "      <th>358</th>\n",
              "      <td>d7118b44c7e8fdbbaaca226d2da6fef1</td>\n",
              "      <td>Statistical Learning Theory</td>\n",
              "      <td>Анализ неструктурированных данных</td>\n",
              "    </tr>\n",
              "    <tr>\n",
              "      <th>359</th>\n",
              "      <td>79d14db48e4737af731960ae212d5134</td>\n",
              "      <td>Принятие решений в условиях риска и неопределё...</td>\n",
              "      <td>Анализ неструктурированных данных</td>\n",
              "    </tr>\n",
              "    <tr>\n",
              "      <th>360</th>\n",
              "      <td>f2d210ace25a841e1e58036b257d5d47</td>\n",
              "      <td>Анализ неструктурированных данных</td>\n",
              "      <td>-</td>\n",
              "    </tr>\n",
              "  </tbody>\n",
              "</table>\n",
              "<p>347 rows × 3 columns</p>\n",
              "</div>\n",
              "    <div class=\"colab-df-buttons\">\n",
              "\n",
              "  <div class=\"colab-df-container\">\n",
              "    <button class=\"colab-df-convert\" onclick=\"convertToInteractive('df-213f2b97-2b24-48f4-ae8d-0e34eb402758')\"\n",
              "            title=\"Convert this dataframe to an interactive table.\"\n",
              "            style=\"display:none;\">\n",
              "\n",
              "  <svg xmlns=\"http://www.w3.org/2000/svg\" height=\"24px\" viewBox=\"0 -960 960 960\">\n",
              "    <path d=\"M120-120v-720h720v720H120Zm60-500h600v-160H180v160Zm220 220h160v-160H400v160Zm0 220h160v-160H400v160ZM180-400h160v-160H180v160Zm440 0h160v-160H620v160ZM180-180h160v-160H180v160Zm440 0h160v-160H620v160Z\"/>\n",
              "  </svg>\n",
              "    </button>\n",
              "\n",
              "  <style>\n",
              "    .colab-df-container {\n",
              "      display:flex;\n",
              "      gap: 12px;\n",
              "    }\n",
              "\n",
              "    .colab-df-convert {\n",
              "      background-color: #E8F0FE;\n",
              "      border: none;\n",
              "      border-radius: 50%;\n",
              "      cursor: pointer;\n",
              "      display: none;\n",
              "      fill: #1967D2;\n",
              "      height: 32px;\n",
              "      padding: 0 0 0 0;\n",
              "      width: 32px;\n",
              "    }\n",
              "\n",
              "    .colab-df-convert:hover {\n",
              "      background-color: #E2EBFA;\n",
              "      box-shadow: 0px 1px 2px rgba(60, 64, 67, 0.3), 0px 1px 3px 1px rgba(60, 64, 67, 0.15);\n",
              "      fill: #174EA6;\n",
              "    }\n",
              "\n",
              "    .colab-df-buttons div {\n",
              "      margin-bottom: 4px;\n",
              "    }\n",
              "\n",
              "    [theme=dark] .colab-df-convert {\n",
              "      background-color: #3B4455;\n",
              "      fill: #D2E3FC;\n",
              "    }\n",
              "\n",
              "    [theme=dark] .colab-df-convert:hover {\n",
              "      background-color: #434B5C;\n",
              "      box-shadow: 0px 1px 3px 1px rgba(0, 0, 0, 0.15);\n",
              "      filter: drop-shadow(0px 1px 2px rgba(0, 0, 0, 0.3));\n",
              "      fill: #FFFFFF;\n",
              "    }\n",
              "  </style>\n",
              "\n",
              "    <script>\n",
              "      const buttonEl =\n",
              "        document.querySelector('#df-213f2b97-2b24-48f4-ae8d-0e34eb402758 button.colab-df-convert');\n",
              "      buttonEl.style.display =\n",
              "        google.colab.kernel.accessAllowed ? 'block' : 'none';\n",
              "\n",
              "      async function convertToInteractive(key) {\n",
              "        const element = document.querySelector('#df-213f2b97-2b24-48f4-ae8d-0e34eb402758');\n",
              "        const dataTable =\n",
              "          await google.colab.kernel.invokeFunction('convertToInteractive',\n",
              "                                                    [key], {});\n",
              "        if (!dataTable) return;\n",
              "\n",
              "        const docLinkHtml = 'Like what you see? Visit the ' +\n",
              "          '<a target=\"_blank\" href=https://colab.research.google.com/notebooks/data_table.ipynb>data table notebook</a>'\n",
              "          + ' to learn more about interactive tables.';\n",
              "        element.innerHTML = '';\n",
              "        dataTable['output_type'] = 'display_data';\n",
              "        await google.colab.output.renderOutput(dataTable, element);\n",
              "        const docLink = document.createElement('div');\n",
              "        docLink.innerHTML = docLinkHtml;\n",
              "        element.appendChild(docLink);\n",
              "      }\n",
              "    </script>\n",
              "  </div>\n",
              "\n",
              "\n",
              "<div id=\"df-4c7447fd-ebb1-4aa3-8a07-331e2bd5fe4e\">\n",
              "  <button class=\"colab-df-quickchart\" onclick=\"quickchart('df-4c7447fd-ebb1-4aa3-8a07-331e2bd5fe4e')\"\n",
              "            title=\"Suggest charts\"\n",
              "            style=\"display:none;\">\n",
              "\n",
              "<svg xmlns=\"http://www.w3.org/2000/svg\" height=\"24px\"viewBox=\"0 0 24 24\"\n",
              "     width=\"24px\">\n",
              "    <g>\n",
              "        <path d=\"M19 3H5c-1.1 0-2 .9-2 2v14c0 1.1.9 2 2 2h14c1.1 0 2-.9 2-2V5c0-1.1-.9-2-2-2zM9 17H7v-7h2v7zm4 0h-2V7h2v10zm4 0h-2v-4h2v4z\"/>\n",
              "    </g>\n",
              "</svg>\n",
              "  </button>\n",
              "\n",
              "<style>\n",
              "  .colab-df-quickchart {\n",
              "      --bg-color: #E8F0FE;\n",
              "      --fill-color: #1967D2;\n",
              "      --hover-bg-color: #E2EBFA;\n",
              "      --hover-fill-color: #174EA6;\n",
              "      --disabled-fill-color: #AAA;\n",
              "      --disabled-bg-color: #DDD;\n",
              "  }\n",
              "\n",
              "  [theme=dark] .colab-df-quickchart {\n",
              "      --bg-color: #3B4455;\n",
              "      --fill-color: #D2E3FC;\n",
              "      --hover-bg-color: #434B5C;\n",
              "      --hover-fill-color: #FFFFFF;\n",
              "      --disabled-bg-color: #3B4455;\n",
              "      --disabled-fill-color: #666;\n",
              "  }\n",
              "\n",
              "  .colab-df-quickchart {\n",
              "    background-color: var(--bg-color);\n",
              "    border: none;\n",
              "    border-radius: 50%;\n",
              "    cursor: pointer;\n",
              "    display: none;\n",
              "    fill: var(--fill-color);\n",
              "    height: 32px;\n",
              "    padding: 0;\n",
              "    width: 32px;\n",
              "  }\n",
              "\n",
              "  .colab-df-quickchart:hover {\n",
              "    background-color: var(--hover-bg-color);\n",
              "    box-shadow: 0 1px 2px rgba(60, 64, 67, 0.3), 0 1px 3px 1px rgba(60, 64, 67, 0.15);\n",
              "    fill: var(--button-hover-fill-color);\n",
              "  }\n",
              "\n",
              "  .colab-df-quickchart-complete:disabled,\n",
              "  .colab-df-quickchart-complete:disabled:hover {\n",
              "    background-color: var(--disabled-bg-color);\n",
              "    fill: var(--disabled-fill-color);\n",
              "    box-shadow: none;\n",
              "  }\n",
              "\n",
              "  .colab-df-spinner {\n",
              "    border: 2px solid var(--fill-color);\n",
              "    border-color: transparent;\n",
              "    border-bottom-color: var(--fill-color);\n",
              "    animation:\n",
              "      spin 1s steps(1) infinite;\n",
              "  }\n",
              "\n",
              "  @keyframes spin {\n",
              "    0% {\n",
              "      border-color: transparent;\n",
              "      border-bottom-color: var(--fill-color);\n",
              "      border-left-color: var(--fill-color);\n",
              "    }\n",
              "    20% {\n",
              "      border-color: transparent;\n",
              "      border-left-color: var(--fill-color);\n",
              "      border-top-color: var(--fill-color);\n",
              "    }\n",
              "    30% {\n",
              "      border-color: transparent;\n",
              "      border-left-color: var(--fill-color);\n",
              "      border-top-color: var(--fill-color);\n",
              "      border-right-color: var(--fill-color);\n",
              "    }\n",
              "    40% {\n",
              "      border-color: transparent;\n",
              "      border-right-color: var(--fill-color);\n",
              "      border-top-color: var(--fill-color);\n",
              "    }\n",
              "    60% {\n",
              "      border-color: transparent;\n",
              "      border-right-color: var(--fill-color);\n",
              "    }\n",
              "    80% {\n",
              "      border-color: transparent;\n",
              "      border-right-color: var(--fill-color);\n",
              "      border-bottom-color: var(--fill-color);\n",
              "    }\n",
              "    90% {\n",
              "      border-color: transparent;\n",
              "      border-bottom-color: var(--fill-color);\n",
              "    }\n",
              "  }\n",
              "</style>\n",
              "\n",
              "  <script>\n",
              "    async function quickchart(key) {\n",
              "      const quickchartButtonEl =\n",
              "        document.querySelector('#' + key + ' button');\n",
              "      quickchartButtonEl.disabled = true;  // To prevent multiple clicks.\n",
              "      quickchartButtonEl.classList.add('colab-df-spinner');\n",
              "      try {\n",
              "        const charts = await google.colab.kernel.invokeFunction(\n",
              "            'suggestCharts', [key], {});\n",
              "      } catch (error) {\n",
              "        console.error('Error during call to suggestCharts:', error);\n",
              "      }\n",
              "      quickchartButtonEl.classList.remove('colab-df-spinner');\n",
              "      quickchartButtonEl.classList.add('colab-df-quickchart-complete');\n",
              "    }\n",
              "    (() => {\n",
              "      let quickchartButtonEl =\n",
              "        document.querySelector('#df-4c7447fd-ebb1-4aa3-8a07-331e2bd5fe4e button');\n",
              "      quickchartButtonEl.style.display =\n",
              "        google.colab.kernel.accessAllowed ? 'block' : 'none';\n",
              "    })();\n",
              "  </script>\n",
              "</div>\n",
              "    </div>\n",
              "  </div>\n"
            ],
            "application/vnd.google.colaboratory.intrinsic+json": {
              "type": "dataframe",
              "variable_name": "fall_selection",
              "summary": "{\n  \"name\": \"fall_selection\",\n  \"rows\": 347,\n  \"fields\": [\n    {\n      \"column\": \"ID\",\n      \"properties\": {\n        \"dtype\": \"string\",\n        \"num_unique_values\": 347,\n        \"samples\": [\n          \"842a87d59de90b711fe3266830fe608c\",\n          \"6cd7de3774f07c65e44668cdf7e987b6\",\n          \"07b6ce7fd93bde95ce5fe14a5131a960\"\n        ],\n        \"semantic_type\": \"\",\n        \"description\": \"\"\n      }\n    },\n    {\n      \"column\": \"course1\",\n      \"properties\": {\n        \"dtype\": \"category\",\n        \"num_unique_values\": 13,\n        \"samples\": [\n          \"\\u0410\\u043d\\u0430\\u043b\\u0438\\u0437 \\u043d\\u0435\\u0441\\u0442\\u0440\\u0443\\u043a\\u0442\\u0443\\u0440\\u0438\\u0440\\u043e\\u0432\\u0430\\u043d\\u043d\\u044b\\u0445 \\u0434\\u0430\\u043d\\u043d\\u044b\\u0445\",\n          \"\\u041c\\u043e\\u0434\\u0435\\u043b\\u0438\\u0440\\u043e\\u0432\\u0430\\u043d\\u0438\\u0435 \\u0432\\u0440\\u0435\\u043c\\u0435\\u043d\\u043d\\u044b\\u0445 \\u0440\\u044f\\u0434\\u043e\\u0432\",\n          \"\\u042f\\u0437\\u044b\\u043a SQL\"\n        ],\n        \"semantic_type\": \"\",\n        \"description\": \"\"\n      }\n    },\n    {\n      \"column\": \"course2\",\n      \"properties\": {\n        \"dtype\": \"category\",\n        \"num_unique_values\": 12,\n        \"samples\": [\n          \"\\u0410\\u043d\\u0430\\u043b\\u0438\\u0437 \\u043d\\u0435\\u0441\\u0442\\u0440\\u0443\\u043a\\u0442\\u0443\\u0440\\u0438\\u0440\\u043e\\u0432\\u0430\\u043d\\u043d\\u044b\\u0445 \\u0434\\u0430\\u043d\\u043d\\u044b\\u0445\",\n          \"\\u0413\\u043b\\u0443\\u0431\\u0438\\u043d\\u043d\\u043e\\u0435 \\u043e\\u0431\\u0443\\u0447\\u0435\\u043d\\u0438\\u0435 \\u0432 \\u043e\\u0431\\u0440\\u0430\\u0431\\u043e\\u0442\\u043a\\u0435 \\u0437\\u0432\\u0443\\u043a\\u0430\",\n          \"-\"\n        ],\n        \"semantic_type\": \"\",\n        \"description\": \"\"\n      }\n    }\n  ]\n}"
            }
          },
          "metadata": {},
          "execution_count": 418
        }
      ],
      "source": [
        "fall_selection = df[['id', 'course1', 'course2']].rename(columns={'id' : 'ID'})\n",
        "fall_selection"
      ]
    },
    {
      "cell_type": "code",
      "execution_count": 419,
      "metadata": {
        "id": "zxzuHHXiWMMF"
      },
      "outputs": [],
      "source": [
        "fall_selection.to_csv('res_fall.csv', index=None)"
      ]
    },
    {
      "cell_type": "markdown",
      "metadata": {
        "id": "1xQjV9BuhLu6"
      },
      "source": [
        "**Отправьте свой файл res_fall.csv в контест (будет в ближайшее время, следите за новостями) и прикрепите/укажите ниже ваш никнейм и ссылку на успешную посылку.**"
      ]
    },
    {
      "cell_type": "markdown",
      "metadata": {
        "id": "QRTbPrgbhLu6"
      },
      "source": [
        "*Дисклеймер:*\n",
        "\n",
        "Успешная посылка в контесте является **обязательным** условием получения полного балла за этот (и следующий) пункт. Если добиться успешной посылки не удастся, баллы будут выставляться на усмотрение проверяюшего.\n",
        "\n",
        "При этом ОК в контесте не гарантирует полный балл. Оценка всё равно может быть снижена в случае обнаружения неэффективностей или ошибок в коде. Если вы сдадите в AnyTask очевидно неработающий код или ноутбук без кода, но при этом в контест будет сдан корректный файл, то это будет расцениваться как плагиат."
      ]
    },
    {
      "cell_type": "markdown",
      "metadata": {
        "id": "1IkQa_gdhLu6"
      },
      "source": [
        "На всякий случай просим вас сдать вместе с ноутбуком файл res_fall.csv в anytask"
      ]
    },
    {
      "cell_type": "code",
      "execution_count": null,
      "metadata": {
        "id": "FiCu2Lo-ylux"
      },
      "outputs": [],
      "source": [
        "https://contest.yandex.ru/contest/68637/run-report/119489731/"
      ]
    },
    {
      "cell_type": "markdown",
      "metadata": {
        "id": "k8d711qGhLu7"
      },
      "source": [
        "### 4. [1 балла] Распределите таким же образом студентов еще и на весенние курсы по выбору.\n",
        "\n",
        "Если ваш код был хорошо структурирован, то это не составит проблем.\n",
        "\n",
        "Если вы выполнили это задание, сдайте среди прочего файл res_spring.csv в таком же формате, как и res_fall.csv."
      ]
    },
    {
      "cell_type": "code",
      "execution_count": 420,
      "metadata": {
        "id": "33zOooVOWfS9"
      },
      "outputs": [],
      "source": [
        "def spring_courses_num(row):\n",
        "  if (student := row['17_group']) != 0:\n",
        "    return 2 if student in [171, 172, 173] else 1\n",
        "  else:\n",
        "    return 1\n",
        "\n",
        "df = data\n",
        "df['spring_courses_num'] = df.apply(spring_courses_num, axis=1)"
      ]
    },
    {
      "cell_type": "code",
      "execution_count": 421,
      "metadata": {
        "id": "ZPnwksMWSi5E"
      },
      "outputs": [],
      "source": [
        "import numpy as np\n",
        "\n",
        "courses = st17 | st18\n",
        "df['course1'] = \"\"\n",
        "df['course2'] = \"\"\n",
        "space_max = dict.fromkeys(courses, 30)\n",
        "space_max['Statistical Learning Theory'] = 60\n",
        "space_max['Высокопроизводительные вычисления'] = 60\n",
        "space_max['Анализ неструктурированных данных'] = 360\n",
        "space_max['Обучение с подкреплением'] = 60\n",
        "space_max['Анализ данных в бизнесе'] = 60"
      ]
    },
    {
      "cell_type": "code",
      "execution_count": 422,
      "metadata": {
        "id": "9KifIu7eablC"
      },
      "outputs": [],
      "source": [
        "# (￣^'￣)ゞ\n",
        "ml_1 = df[(df['spring_1'] == 'Машинное обучение 2') & (df['is_ml_student'] == 1)]\n",
        "df.loc[ml_1.index, 'spring_1'] = df.loc[ml_1.index, 'spring_2']\n",
        "ml_2 = df[(df['spring_2'] == 'Машинное обучение 2') & (df['is_ml_student'] == 1)]\n",
        "df.loc[ml_2.index, 'spring_2'] = df.loc[ml_2.index, 'spring_3']"
      ]
    },
    {
      "cell_type": "code",
      "execution_count": 423,
      "metadata": {
        "id": "9PiZpG6mXFKx"
      },
      "outputs": [],
      "source": [
        "for course in courses:\n",
        "  if space_max[course] > 0:\n",
        "    candidates = df[\n",
        "            ((df['course1'] == \"\") |\n",
        "             ((df['course2'] == \"\") & (df['course1'] != course) & (df['spring_courses_num'] > 1))) &\n",
        "            ((df['spring_1'] == course) | ((df['spring_2'] == course) & (df['spring_courses_num'] > 1)))\n",
        "        ].sort_values('percentile').head(space_max[course])['id']\n",
        "    for cand_id in candidates:\n",
        "      cand = df[df['id'] == cand_id]\n",
        "      if cand['course1'].values[0] == \"\":\n",
        "        df.loc[df['id'] == cand_id, 'course1'] = course\n",
        "        space_max[course] -= 1\n",
        "      elif (cand['course2'].values[0] == \"\" and cand['course1'].values[0] != course and cand['spring_courses_num'].values[0] > 1):\n",
        "        df.loc[df['id'] == cand_id, 'course2'] = course\n",
        "        space_max[course] -= 1"
      ]
    },
    {
      "cell_type": "code",
      "execution_count": 424,
      "metadata": {
        "id": "xV0xY6VlT5ig"
      },
      "outputs": [],
      "source": [
        "for course in courses:\n",
        "  if space_max[course] > 0:\n",
        "    candidates = df[\n",
        "            ((df['course1'] == \"\") |\n",
        "             ((df['course2'] == \"\") & (df['course1'] != course) & (df['spring_courses_num'] > 1))) &\n",
        "            ((df['spring_2'] == course) | ((df['spring_3'] == course) & (df['spring_courses_num'] > 1)))\n",
        "        ].sort_values('percentile').head(space_max[course])['id']\n",
        "    for cand_id in candidates:\n",
        "      cand = df[df['id'] == cand_id]\n",
        "      if cand['course1'].values[0] == \"\":\n",
        "        df.loc[df['id'] == cand_id, 'course1'] = course\n",
        "        space_max[course] -= 1\n",
        "      elif (cand['course2'].values[0] == \"\" and cand['course1'].values[0] != course and cand['spring_courses_num'].values[0] > 1):\n",
        "        df.loc[df['id'] == cand_id, 'course2'] = course\n",
        "        space_max[course] -= 1"
      ]
    },
    {
      "cell_type": "code",
      "execution_count": 425,
      "metadata": {
        "id": "tu3Qs3HqYRvC"
      },
      "outputs": [],
      "source": [
        "for course in courses:\n",
        "  if space_max[course] > 0:\n",
        "    candidates = df[\n",
        "            ((df['course1'] == \"\") |\n",
        "             ((df['course2'] == \"\") & (df['course1'] != course) & (df['spring_courses_num'] > 1))) & (df['spring_3'] == course)\n",
        "        ].sort_values('percentile').head(space_max[course])['id']\n",
        "    for cand_id in candidates:\n",
        "      cand = df[df['id'] == cand_id]\n",
        "      if cand['course1'].values[0] == \"\":\n",
        "        df.loc[df['id'] == cand_id, 'course1'] = course\n",
        "        space_max[course] -= 1\n",
        "      elif (cand['course2'].values[0] == \"\" and cand['course1'].values[0] != course and cand['spring_courses_num'].values[0] > 1):\n",
        "        df.loc[df['id'] == cand_id, 'course2'] = course\n",
        "        space_max[course] -= 1\n",
        "df.loc[df['spring_courses_num'] == 1, 'course2'] = '-'\n",
        "df.loc[(df['course1'] == \"\"), 'course1'] = '???'\n",
        "df.loc[(df['course2'] == \"\"), 'course2'] = '???'\n"
      ]
    },
    {
      "cell_type": "code",
      "execution_count": 426,
      "metadata": {
        "colab": {
          "base_uri": "https://localhost:8080/",
          "height": 444
        },
        "id": "P-rtvJ4hZduw",
        "outputId": "42c49b88-5a88-4ee4-f7b8-27df295f6b9b"
      },
      "outputs": [
        {
          "output_type": "execute_result",
          "data": {
            "text/plain": [
              "                                   ID                               course1  \\\n",
              "0    93ff79a51cd602f1dd3028ba2c129503                Дискретная оптимизация   \n",
              "1    26b01b1c4cd5656bab18d24c548834fb                Дискретная оптимизация   \n",
              "2    30f3653fc176d54e89ac3179c455c6dd                Дискретная оптимизация   \n",
              "3    1528f0eaa027580820ccf0d92a53ad68                Дискретная оптимизация   \n",
              "4    496ea4f0d4abe264b1bb1b80eb3830c5                      Численные методы   \n",
              "..                                ...                                   ...   \n",
              "356  c5870b37ee3f672e4259dfb2fc02ed8f              Обучение с подкреплением   \n",
              "357  f44aea1095f9f5b8e2f5f0ed2b17891b                Конфликты и кооперация   \n",
              "358  d7118b44c7e8fdbbaaca226d2da6fef1  Методы сжатия и передачи медиаданных   \n",
              "359  79d14db48e4737af731960ae212d5134  Методы сжатия и передачи медиаданных   \n",
              "360  f2d210ace25a841e1e58036b257d5d47              Обучение с подкреплением   \n",
              "\n",
              "              course2  \n",
              "0                   -  \n",
              "1                   -  \n",
              "2                   -  \n",
              "3                   -  \n",
              "4                   -  \n",
              "..                ...  \n",
              "356                 -  \n",
              "357                 -  \n",
              "358  Численные методы  \n",
              "359               ???  \n",
              "360                 -  \n",
              "\n",
              "[347 rows x 3 columns]"
            ],
            "text/html": [
              "\n",
              "  <div id=\"df-c1f004d0-87c1-4bc1-af60-8d9c73f65c4f\" class=\"colab-df-container\">\n",
              "    <div>\n",
              "<style scoped>\n",
              "    .dataframe tbody tr th:only-of-type {\n",
              "        vertical-align: middle;\n",
              "    }\n",
              "\n",
              "    .dataframe tbody tr th {\n",
              "        vertical-align: top;\n",
              "    }\n",
              "\n",
              "    .dataframe thead th {\n",
              "        text-align: right;\n",
              "    }\n",
              "</style>\n",
              "<table border=\"1\" class=\"dataframe\">\n",
              "  <thead>\n",
              "    <tr style=\"text-align: right;\">\n",
              "      <th></th>\n",
              "      <th>ID</th>\n",
              "      <th>course1</th>\n",
              "      <th>course2</th>\n",
              "    </tr>\n",
              "  </thead>\n",
              "  <tbody>\n",
              "    <tr>\n",
              "      <th>0</th>\n",
              "      <td>93ff79a51cd602f1dd3028ba2c129503</td>\n",
              "      <td>Дискретная оптимизация</td>\n",
              "      <td>-</td>\n",
              "    </tr>\n",
              "    <tr>\n",
              "      <th>1</th>\n",
              "      <td>26b01b1c4cd5656bab18d24c548834fb</td>\n",
              "      <td>Дискретная оптимизация</td>\n",
              "      <td>-</td>\n",
              "    </tr>\n",
              "    <tr>\n",
              "      <th>2</th>\n",
              "      <td>30f3653fc176d54e89ac3179c455c6dd</td>\n",
              "      <td>Дискретная оптимизация</td>\n",
              "      <td>-</td>\n",
              "    </tr>\n",
              "    <tr>\n",
              "      <th>3</th>\n",
              "      <td>1528f0eaa027580820ccf0d92a53ad68</td>\n",
              "      <td>Дискретная оптимизация</td>\n",
              "      <td>-</td>\n",
              "    </tr>\n",
              "    <tr>\n",
              "      <th>4</th>\n",
              "      <td>496ea4f0d4abe264b1bb1b80eb3830c5</td>\n",
              "      <td>Численные методы</td>\n",
              "      <td>-</td>\n",
              "    </tr>\n",
              "    <tr>\n",
              "      <th>...</th>\n",
              "      <td>...</td>\n",
              "      <td>...</td>\n",
              "      <td>...</td>\n",
              "    </tr>\n",
              "    <tr>\n",
              "      <th>356</th>\n",
              "      <td>c5870b37ee3f672e4259dfb2fc02ed8f</td>\n",
              "      <td>Обучение с подкреплением</td>\n",
              "      <td>-</td>\n",
              "    </tr>\n",
              "    <tr>\n",
              "      <th>357</th>\n",
              "      <td>f44aea1095f9f5b8e2f5f0ed2b17891b</td>\n",
              "      <td>Конфликты и кооперация</td>\n",
              "      <td>-</td>\n",
              "    </tr>\n",
              "    <tr>\n",
              "      <th>358</th>\n",
              "      <td>d7118b44c7e8fdbbaaca226d2da6fef1</td>\n",
              "      <td>Методы сжатия и передачи медиаданных</td>\n",
              "      <td>Численные методы</td>\n",
              "    </tr>\n",
              "    <tr>\n",
              "      <th>359</th>\n",
              "      <td>79d14db48e4737af731960ae212d5134</td>\n",
              "      <td>Методы сжатия и передачи медиаданных</td>\n",
              "      <td>???</td>\n",
              "    </tr>\n",
              "    <tr>\n",
              "      <th>360</th>\n",
              "      <td>f2d210ace25a841e1e58036b257d5d47</td>\n",
              "      <td>Обучение с подкреплением</td>\n",
              "      <td>-</td>\n",
              "    </tr>\n",
              "  </tbody>\n",
              "</table>\n",
              "<p>347 rows × 3 columns</p>\n",
              "</div>\n",
              "    <div class=\"colab-df-buttons\">\n",
              "\n",
              "  <div class=\"colab-df-container\">\n",
              "    <button class=\"colab-df-convert\" onclick=\"convertToInteractive('df-c1f004d0-87c1-4bc1-af60-8d9c73f65c4f')\"\n",
              "            title=\"Convert this dataframe to an interactive table.\"\n",
              "            style=\"display:none;\">\n",
              "\n",
              "  <svg xmlns=\"http://www.w3.org/2000/svg\" height=\"24px\" viewBox=\"0 -960 960 960\">\n",
              "    <path d=\"M120-120v-720h720v720H120Zm60-500h600v-160H180v160Zm220 220h160v-160H400v160Zm0 220h160v-160H400v160ZM180-400h160v-160H180v160Zm440 0h160v-160H620v160ZM180-180h160v-160H180v160Zm440 0h160v-160H620v160Z\"/>\n",
              "  </svg>\n",
              "    </button>\n",
              "\n",
              "  <style>\n",
              "    .colab-df-container {\n",
              "      display:flex;\n",
              "      gap: 12px;\n",
              "    }\n",
              "\n",
              "    .colab-df-convert {\n",
              "      background-color: #E8F0FE;\n",
              "      border: none;\n",
              "      border-radius: 50%;\n",
              "      cursor: pointer;\n",
              "      display: none;\n",
              "      fill: #1967D2;\n",
              "      height: 32px;\n",
              "      padding: 0 0 0 0;\n",
              "      width: 32px;\n",
              "    }\n",
              "\n",
              "    .colab-df-convert:hover {\n",
              "      background-color: #E2EBFA;\n",
              "      box-shadow: 0px 1px 2px rgba(60, 64, 67, 0.3), 0px 1px 3px 1px rgba(60, 64, 67, 0.15);\n",
              "      fill: #174EA6;\n",
              "    }\n",
              "\n",
              "    .colab-df-buttons div {\n",
              "      margin-bottom: 4px;\n",
              "    }\n",
              "\n",
              "    [theme=dark] .colab-df-convert {\n",
              "      background-color: #3B4455;\n",
              "      fill: #D2E3FC;\n",
              "    }\n",
              "\n",
              "    [theme=dark] .colab-df-convert:hover {\n",
              "      background-color: #434B5C;\n",
              "      box-shadow: 0px 1px 3px 1px rgba(0, 0, 0, 0.15);\n",
              "      filter: drop-shadow(0px 1px 2px rgba(0, 0, 0, 0.3));\n",
              "      fill: #FFFFFF;\n",
              "    }\n",
              "  </style>\n",
              "\n",
              "    <script>\n",
              "      const buttonEl =\n",
              "        document.querySelector('#df-c1f004d0-87c1-4bc1-af60-8d9c73f65c4f button.colab-df-convert');\n",
              "      buttonEl.style.display =\n",
              "        google.colab.kernel.accessAllowed ? 'block' : 'none';\n",
              "\n",
              "      async function convertToInteractive(key) {\n",
              "        const element = document.querySelector('#df-c1f004d0-87c1-4bc1-af60-8d9c73f65c4f');\n",
              "        const dataTable =\n",
              "          await google.colab.kernel.invokeFunction('convertToInteractive',\n",
              "                                                    [key], {});\n",
              "        if (!dataTable) return;\n",
              "\n",
              "        const docLinkHtml = 'Like what you see? Visit the ' +\n",
              "          '<a target=\"_blank\" href=https://colab.research.google.com/notebooks/data_table.ipynb>data table notebook</a>'\n",
              "          + ' to learn more about interactive tables.';\n",
              "        element.innerHTML = '';\n",
              "        dataTable['output_type'] = 'display_data';\n",
              "        await google.colab.output.renderOutput(dataTable, element);\n",
              "        const docLink = document.createElement('div');\n",
              "        docLink.innerHTML = docLinkHtml;\n",
              "        element.appendChild(docLink);\n",
              "      }\n",
              "    </script>\n",
              "  </div>\n",
              "\n",
              "\n",
              "<div id=\"df-dfe6a1ac-f9f6-4500-91ce-447aa143908b\">\n",
              "  <button class=\"colab-df-quickchart\" onclick=\"quickchart('df-dfe6a1ac-f9f6-4500-91ce-447aa143908b')\"\n",
              "            title=\"Suggest charts\"\n",
              "            style=\"display:none;\">\n",
              "\n",
              "<svg xmlns=\"http://www.w3.org/2000/svg\" height=\"24px\"viewBox=\"0 0 24 24\"\n",
              "     width=\"24px\">\n",
              "    <g>\n",
              "        <path d=\"M19 3H5c-1.1 0-2 .9-2 2v14c0 1.1.9 2 2 2h14c1.1 0 2-.9 2-2V5c0-1.1-.9-2-2-2zM9 17H7v-7h2v7zm4 0h-2V7h2v10zm4 0h-2v-4h2v4z\"/>\n",
              "    </g>\n",
              "</svg>\n",
              "  </button>\n",
              "\n",
              "<style>\n",
              "  .colab-df-quickchart {\n",
              "      --bg-color: #E8F0FE;\n",
              "      --fill-color: #1967D2;\n",
              "      --hover-bg-color: #E2EBFA;\n",
              "      --hover-fill-color: #174EA6;\n",
              "      --disabled-fill-color: #AAA;\n",
              "      --disabled-bg-color: #DDD;\n",
              "  }\n",
              "\n",
              "  [theme=dark] .colab-df-quickchart {\n",
              "      --bg-color: #3B4455;\n",
              "      --fill-color: #D2E3FC;\n",
              "      --hover-bg-color: #434B5C;\n",
              "      --hover-fill-color: #FFFFFF;\n",
              "      --disabled-bg-color: #3B4455;\n",
              "      --disabled-fill-color: #666;\n",
              "  }\n",
              "\n",
              "  .colab-df-quickchart {\n",
              "    background-color: var(--bg-color);\n",
              "    border: none;\n",
              "    border-radius: 50%;\n",
              "    cursor: pointer;\n",
              "    display: none;\n",
              "    fill: var(--fill-color);\n",
              "    height: 32px;\n",
              "    padding: 0;\n",
              "    width: 32px;\n",
              "  }\n",
              "\n",
              "  .colab-df-quickchart:hover {\n",
              "    background-color: var(--hover-bg-color);\n",
              "    box-shadow: 0 1px 2px rgba(60, 64, 67, 0.3), 0 1px 3px 1px rgba(60, 64, 67, 0.15);\n",
              "    fill: var(--button-hover-fill-color);\n",
              "  }\n",
              "\n",
              "  .colab-df-quickchart-complete:disabled,\n",
              "  .colab-df-quickchart-complete:disabled:hover {\n",
              "    background-color: var(--disabled-bg-color);\n",
              "    fill: var(--disabled-fill-color);\n",
              "    box-shadow: none;\n",
              "  }\n",
              "\n",
              "  .colab-df-spinner {\n",
              "    border: 2px solid var(--fill-color);\n",
              "    border-color: transparent;\n",
              "    border-bottom-color: var(--fill-color);\n",
              "    animation:\n",
              "      spin 1s steps(1) infinite;\n",
              "  }\n",
              "\n",
              "  @keyframes spin {\n",
              "    0% {\n",
              "      border-color: transparent;\n",
              "      border-bottom-color: var(--fill-color);\n",
              "      border-left-color: var(--fill-color);\n",
              "    }\n",
              "    20% {\n",
              "      border-color: transparent;\n",
              "      border-left-color: var(--fill-color);\n",
              "      border-top-color: var(--fill-color);\n",
              "    }\n",
              "    30% {\n",
              "      border-color: transparent;\n",
              "      border-left-color: var(--fill-color);\n",
              "      border-top-color: var(--fill-color);\n",
              "      border-right-color: var(--fill-color);\n",
              "    }\n",
              "    40% {\n",
              "      border-color: transparent;\n",
              "      border-right-color: var(--fill-color);\n",
              "      border-top-color: var(--fill-color);\n",
              "    }\n",
              "    60% {\n",
              "      border-color: transparent;\n",
              "      border-right-color: var(--fill-color);\n",
              "    }\n",
              "    80% {\n",
              "      border-color: transparent;\n",
              "      border-right-color: var(--fill-color);\n",
              "      border-bottom-color: var(--fill-color);\n",
              "    }\n",
              "    90% {\n",
              "      border-color: transparent;\n",
              "      border-bottom-color: var(--fill-color);\n",
              "    }\n",
              "  }\n",
              "</style>\n",
              "\n",
              "  <script>\n",
              "    async function quickchart(key) {\n",
              "      const quickchartButtonEl =\n",
              "        document.querySelector('#' + key + ' button');\n",
              "      quickchartButtonEl.disabled = true;  // To prevent multiple clicks.\n",
              "      quickchartButtonEl.classList.add('colab-df-spinner');\n",
              "      try {\n",
              "        const charts = await google.colab.kernel.invokeFunction(\n",
              "            'suggestCharts', [key], {});\n",
              "      } catch (error) {\n",
              "        console.error('Error during call to suggestCharts:', error);\n",
              "      }\n",
              "      quickchartButtonEl.classList.remove('colab-df-spinner');\n",
              "      quickchartButtonEl.classList.add('colab-df-quickchart-complete');\n",
              "    }\n",
              "    (() => {\n",
              "      let quickchartButtonEl =\n",
              "        document.querySelector('#df-dfe6a1ac-f9f6-4500-91ce-447aa143908b button');\n",
              "      quickchartButtonEl.style.display =\n",
              "        google.colab.kernel.accessAllowed ? 'block' : 'none';\n",
              "    })();\n",
              "  </script>\n",
              "</div>\n",
              "    </div>\n",
              "  </div>\n"
            ],
            "application/vnd.google.colaboratory.intrinsic+json": {
              "type": "dataframe",
              "variable_name": "spring_selection",
              "summary": "{\n  \"name\": \"spring_selection\",\n  \"rows\": 347,\n  \"fields\": [\n    {\n      \"column\": \"ID\",\n      \"properties\": {\n        \"dtype\": \"string\",\n        \"num_unique_values\": 347,\n        \"samples\": [\n          \"842a87d59de90b711fe3266830fe608c\",\n          \"6cd7de3774f07c65e44668cdf7e987b6\",\n          \"07b6ce7fd93bde95ce5fe14a5131a960\"\n        ],\n        \"semantic_type\": \"\",\n        \"description\": \"\"\n      }\n    },\n    {\n      \"column\": \"course1\",\n      \"properties\": {\n        \"dtype\": \"category\",\n        \"num_unique_values\": 16,\n        \"samples\": [\n          \"\\u0414\\u0438\\u0441\\u043a\\u0440\\u0435\\u0442\\u043d\\u0430\\u044f \\u043e\\u043f\\u0442\\u0438\\u043c\\u0438\\u0437\\u0430\\u0446\\u0438\\u044f\",\n          \"\\u0427\\u0438\\u0441\\u043b\\u0435\\u043d\\u043d\\u044b\\u0435 \\u043c\\u0435\\u0442\\u043e\\u0434\\u044b\",\n          \"\\u0410\\u043d\\u0430\\u043b\\u0438\\u0437 \\u0434\\u0430\\u043d\\u043d\\u044b\\u0445 \\u0432 \\u0431\\u0438\\u0437\\u043d\\u0435\\u0441\\u0435\"\n        ],\n        \"semantic_type\": \"\",\n        \"description\": \"\"\n      }\n    },\n    {\n      \"column\": \"course2\",\n      \"properties\": {\n        \"dtype\": \"category\",\n        \"num_unique_values\": 10,\n        \"samples\": [\n          \"\\u041f\\u0440\\u043e\\u0435\\u043a\\u0442\\u0438\\u0440\\u043e\\u0432\\u0430\\u043d\\u0438\\u0435 \\u0438 \\u0440\\u0430\\u0437\\u0440\\u0430\\u0431\\u043e\\u0442\\u043a\\u0430 \\u0432\\u044b\\u0441\\u043e\\u043a\\u043e\\u043d\\u0430\\u0433\\u0440\\u0443\\u0436\\u0435\\u043d\\u043d\\u044b\\u0445 \\u0441\\u0435\\u0440\\u0432\\u0438\\u0441\\u043e\\u0432\",\n          \"\\u041a\\u043e\\u043c\\u043f\\u044c\\u044e\\u0442\\u0435\\u0440\\u043d\\u043e\\u0435 \\u0437\\u0440\\u0435\\u043d\\u0438\\u0435\",\n          \"???\"\n        ],\n        \"semantic_type\": \"\",\n        \"description\": \"\"\n      }\n    }\n  ]\n}"
            }
          },
          "metadata": {},
          "execution_count": 426
        }
      ],
      "source": [
        "spring_selection = df[['id', 'course1', 'course2']].rename(columns={'id' : 'ID'})\n",
        "spring_selection"
      ]
    },
    {
      "cell_type": "code",
      "execution_count": 427,
      "metadata": {
        "id": "8sLSgAQJZhp4"
      },
      "outputs": [],
      "source": [
        "spring_selection.to_csv('res_spring.csv', index=None)"
      ]
    },
    {
      "cell_type": "markdown",
      "metadata": {
        "id": "It7QQZLYhLu7"
      },
      "source": [
        "**Отправьте свой файл res_spring.csv в контест (будет в ближайшее время, следите за новостями) и прикрепите/укажите ниже ваш никнейм и ссылку на успешную посылку.**"
      ]
    },
    {
      "cell_type": "markdown",
      "metadata": {
        "id": "1YcouVTihLu7"
      },
      "source": [
        "На всякий случай просим вас сдать вместе с ноутбуком файл res_spring.csv в anytask"
      ]
    },
    {
      "cell_type": "code",
      "execution_count": null,
      "metadata": {
        "id": "ey5f6Devyfc8"
      },
      "outputs": [],
      "source": [
        "https://contest.yandex.ru/contest/68637/run-report/119501228/"
      ]
    },
    {
      "cell_type": "markdown",
      "metadata": {
        "id": "uY_OY6inhLu7"
      },
      "source": [
        "Вставьте картинку, описывающую ваш опыт выполнения этого задания:"
      ]
    },
    {
      "cell_type": "markdown",
      "metadata": {
        "id": "WUwyjDEq2Kax"
      },
      "source": [
        "![759258856ddd7e0214ab1ad9dc632a91.jpg](data:image/jpeg;base64,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)"
      ]
    },
    {
      "cell_type": "code",
      "execution_count": null,
      "metadata": {
        "id": "R9_7CnSFhLu7"
      },
      "outputs": [],
      "source": []
    }
  ],
  "metadata": {
    "colab": {
      "provenance": []
    },
    "kernelspec": {
      "display_name": "Python 3 (ipykernel)",
      "language": "python",
      "name": "python3"
    },
    "language_info": {
      "codemirror_mode": {
        "name": "ipython",
        "version": 3
      },
      "file_extension": ".py",
      "mimetype": "text/x-python",
      "name": "python",
      "nbconvert_exporter": "python",
      "pygments_lexer": "ipython3",
      "version": "3.10.4"
    },
    "varInspector": {
      "cols": {
        "lenName": 16,
        "lenType": 16,
        "lenVar": 40
      },
      "kernels_config": {
        "python": {
          "delete_cmd_postfix": "",
          "delete_cmd_prefix": "del ",
          "library": "var_list.py",
          "varRefreshCmd": "print(var_dic_list())"
        },
        "r": {
          "delete_cmd_postfix": ") ",
          "delete_cmd_prefix": "rm(",
          "library": "var_list.r",
          "varRefreshCmd": "cat(var_dic_list()) "
        }
      },
      "types_to_exclude": [
        "module",
        "function",
        "builtin_function_or_method",
        "instance",
        "_Feature"
      ],
      "window_display": false
    },
    "vscode": {
      "interpreter": {
        "hash": "e7370f93d1d0cde622a1f8e1c04877d8463912d04d973331ad4851f04de6915a"
      }
    }
  },
  "nbformat": 4,
  "nbformat_minor": 0
}