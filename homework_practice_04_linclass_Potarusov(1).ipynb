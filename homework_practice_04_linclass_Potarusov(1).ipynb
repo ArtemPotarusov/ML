{
  "cells": [
    {
      "cell_type": "markdown",
      "metadata": {
        "id": "LTlmjXExP75I"
      },
      "source": [
        "# Машинное обучение, ФКН ВШЭ\n",
        "\n",
        "## Практическое задание 4. Классификация"
      ]
    },
    {
      "cell_type": "markdown",
      "metadata": {
        "id": "kH11bAAV2SoV"
      },
      "source": [
        "### Общая информация\n",
        "Дата выдачи: 16.11.2024\n",
        "\n",
        "Мягкий дедлайн: 28.11.2024\n",
        "\n",
        "Жесткий дедлайн: 02.12.2024"
      ]
    },
    {
      "cell_type": "markdown",
      "metadata": {
        "id": "iWjJuhqS3Ucc"
      },
      "source": [
        "### О задании\n",
        "\n",
        "В этом задании вы:\n",
        "- ознакомитесь с тем, что происходит \"внутри\" метода опорных векторов и логистической регрессии\n",
        "- познакомитесь с калибровкой вероятности\n",
        "- изучите методы трансформации переменных и методы отбора признаков\n",
        "- попробуете оценить экономический эффект модели\n",
        "\n",
        "----\n",
        "\n",
        "#### Самостоятельная оценка результатов\n",
        "\n",
        "Для удобства проверки, исходя из набора решенных задач, посчитайте свою максимальную оценку.\n",
        "\n",
        "**Оценка**:"
      ]
    },
    {
      "cell_type": "markdown",
      "metadata": {
        "id": "Or0r6z5v1Mmt"
      },
      "source": [
        "### Оценивание и штрафы"
      ]
    },
    {
      "cell_type": "markdown",
      "metadata": {
        "id": "CecLXG_w3zs0"
      },
      "source": [
        "Каждая из задач имеет определенную «стоимость» (указана в скобках около задачи). Максимально допустимая оценка за работу — 10 баллов.\n",
        "\n",
        "Задание выполняется самостоятельно. «Похожие» решения считаются плагиатом и все задействованные студенты (в том числе те, у кого списали) не могут получить за него больше 0 баллов (подробнее о плагиате см. на странице курса). Если вы нашли решение какого-то из заданий (или его часть) в открытом источнике, необходимо указать ссылку на этот источник в отдельном блоке в конце вашей работы (скорее всего вы будете не единственным, кто это нашел, поэтому чтобы исключить подозрение в плагиате, необходима ссылка на источник).\n",
        "\n",
        "Неэффективная реализация кода может негативно отразиться на оценке."
      ]
    },
    {
      "cell_type": "markdown",
      "metadata": {
        "id": "eMwMhTpA1MwR"
      },
      "source": [
        "### Формат сдачи"
      ]
    },
    {
      "cell_type": "markdown",
      "metadata": {
        "id": "O5qs8FC_35h7"
      },
      "source": [
        "Для сдачи задания переименуйте получившийся файл *.ipynb в соответствии со следующим форматом: homework-practice-04-linclass-__Username__.ipynb, где Username — ваша фамилия и имя на латинице именно в таком порядке (например, homework-practice-04-linclass-__IvanovIvan__.ipynb)."
      ]
    },
    {
      "cell_type": "markdown",
      "metadata": {
        "id": "KGWDDNDyP75O"
      },
      "source": [
        "# Часть 1. SVM, LR и калибровка вероятностей (2 балла + 0.5 бонус)"
      ]
    },
    {
      "cell_type": "code",
      "execution_count": 1,
      "metadata": {
        "id": "KyqoX1BNP75N"
      },
      "outputs": [],
      "source": [
        "import numpy as np\n",
        "import pandas as pd\n",
        "# import polars as pl\n",
        "import matplotlib.pyplot as plt\n",
        "%matplotlib inline\n",
        "\n",
        "pd.set_option('display.max_rows', 100)\n",
        "pd.set_option('display.max_columns', 100)\n",
        "# pl.Config().set_tbl_rows(100)\n",
        "# pl.Config().set_tbl_cols(100)"
      ]
    },
    {
      "cell_type": "markdown",
      "metadata": {
        "id": "xvhLtt4OP75Q"
      },
      "source": [
        "#### __Задание 1.1  Сравнение методов__ (0.5 балла)\n",
        "\n"
      ]
    },
    {
      "cell_type": "markdown",
      "metadata": {
        "id": "LZw2aOq9P75O"
      },
      "source": [
        "Сгенерируем синтетические данные."
      ]
    },
    {
      "cell_type": "code",
      "execution_count": 2,
      "metadata": {
        "id": "mqkczFrQP75P"
      },
      "outputs": [],
      "source": [
        "from sklearn.datasets import make_classification\n",
        "from sklearn.model_selection import train_test_split\n",
        "\n",
        "# фиксируем random_state для воспроизводимости результатов\n",
        "X, y = make_classification(\n",
        "    n_samples=10000, n_features=10, n_informative=5, n_redundant=5, random_state=42\n",
        ")\n",
        "\n",
        "X_train, X_test, y_train, y_test = train_test_split(X, y, test_size=0.3, random_state=42)"
      ]
    },
    {
      "cell_type": "markdown",
      "metadata": {
        "id": "BdPx-lQbtaRe"
      },
      "source": [
        "__Случайный классификатор__\n",
        "\n",
        "Для начала зададим самую простую модель, которая на каждом объекте выдаёт случайный ответ. По тестовой выборке вычислим AUC-ROC, AUC-PR."
      ]
    },
    {
      "cell_type": "code",
      "execution_count": null,
      "metadata": {
        "id": "5gcSglAOjVn-",
        "colab": {
          "base_uri": "https://localhost:8080/"
        },
        "outputId": "435b9cd5-c061-40b0-ae92-f601937aeeb5"
      },
      "outputs": [
        {
          "output_type": "execute_result",
          "data": {
            "text/plain": [
              "array([0.5, 0.5, 0.5, ..., 0.5, 0.5, 0.5])"
            ]
          },
          "metadata": {},
          "execution_count": 22
        }
      ],
      "source": [
        "from sklearn.dummy import DummyClassifier\n",
        "random_classifier = DummyClassifier(strategy='uniform', random_state=42).fit(X_train, y_train)\n",
        "y_random = random_classifier.predict_proba(X_test)[:,1]\n",
        "y_random"
      ]
    },
    {
      "cell_type": "markdown",
      "metadata": {
        "id": "bUhBXPre7jNi"
      },
      "source": [
        "**Вопрос:** решаем задачу бинарной классификации, но y\\_random содержит какие-то дробные числа, а не 0/1. Почему?\n",
        "\n"
      ]
    },
    {
      "cell_type": "markdown",
      "metadata": {
        "id": "RpIDxyuHH1bt"
      },
      "source": [
        "**Ответ**: Потому как это вероятности принадлежности положительному классу."
      ]
    },
    {
      "cell_type": "markdown",
      "metadata": {
        "id": "LnmZFwEYDVqx"
      },
      "source": [
        "*Ниже приведен **пример** работы* со встроенными функциями `sklearn` для отрисовки ROC и PR кривых, сохранения метрик. Пайплайн можно изменять как вам удобно."
      ]
    },
    {
      "cell_type": "code",
      "execution_count": 3,
      "metadata": {
        "id": "gNJLhNj7DkLx"
      },
      "outputs": [],
      "source": [
        "from sklearn.metrics import average_precision_score\n",
        "from sklearn.metrics import auc\n",
        "from sklearn.metrics import precision_recall_curve\n",
        "from sklearn.metrics import PrecisionRecallDisplay\n",
        "\n",
        "from sklearn.metrics import roc_auc_score\n",
        "from sklearn.metrics import RocCurveDisplay\n",
        "from sklearn.svm import LinearSVC\n",
        "from sklearn.model_selection import GridSearchCV\n",
        "from sklearn.linear_model import LogisticRegression\n",
        "from sklearn.datasets import make_classification\n",
        "from sklearn.svm import SVC"
      ]
    },
    {
      "cell_type": "code",
      "execution_count": null,
      "metadata": {
        "colab": {
          "base_uri": "https://localhost:8080/",
          "height": 559
        },
        "id": "-WHELzN6_fsQ",
        "outputId": "67b0ed97-ef83-48b4-8375-9e62edcbddd4"
      },
      "outputs": [
        {
          "output_type": "stream",
          "name": "stdout",
          "text": [
            "Random Classifier metrics\n",
            "AUC-PR: 0.5057\n",
            "AUC-ROC: 0.5000\n"
          ]
        },
        {
          "output_type": "display_data",
          "data": {
            "text/plain": [
              "<Figure size 1100x500 with 2 Axes>"
            ],
            "image/png": "[encoded data removed]"
          },
          "metadata": {}
        }
      ],
      "source": [
        "def depict_pr_roc(y_true, y_pred, classifier_name='Some Classifier', ax=None):\n",
        "    if ax is None:\n",
        "        fig, ax = plt.subplots(1, 2, figsize=(11, 5))\n",
        "\n",
        "    print(classifier_name, 'metrics')\n",
        "    PrecisionRecallDisplay.from_predictions(y_true, y_pred, ax=ax[0], name=classifier_name)\n",
        "    print('AUC-PR: %.4f' % average_precision_score(y_true, y_pred))\n",
        "    ax[0].set_title(\"PRC\")\n",
        "    ax[0].set_ylim(0, 1.1)\n",
        "\n",
        "    RocCurveDisplay.from_predictions(y_true, y_pred, ax=ax[1], name=classifier_name)\n",
        "    print('AUC-ROC: %.4f' % roc_auc_score(y_true, y_pred))\n",
        "    ax[1].set_title(\"ROC\")\n",
        "    ax[1].set_ylim(0, 1.1)\n",
        "\n",
        "    plt.tight_layout()\n",
        "    plt.legend()\n",
        "\n",
        "\n",
        "depict_pr_roc(y_test, y_random, 'Random Classifier')"
      ]
    },
    {
      "cell_type": "code",
      "execution_count": null,
      "metadata": {
        "colab": {
          "base_uri": "https://localhost:8080/",
          "height": 89
        },
        "id": "pSugCdAAEF2z",
        "outputId": "8b0bc243-d888-4808-fc83-c5b6a5025a22"
      },
      "outputs": [
        {
          "output_type": "execute_result",
          "data": {
            "text/plain": [
              "                     auc_pr  roc_auc_score  reg_const\n",
              "Random Classifier  0.505667            0.5        0.0"
            ],
            "text/html": [
              "\n",
              "  <div id=\"df-568d7ddc-a845-4bea-9afe-802a036f18d4\" class=\"colab-df-container\">\n",
              "    <div>\n",
              "<style scoped>\n",
              "    .dataframe tbody tr th:only-of-type {\n",
              "        vertical-align: middle;\n",
              "    }\n",
              "\n",
              "    .dataframe tbody tr th {\n",
              "        vertical-align: top;\n",
              "    }\n",
              "\n",
              "    .dataframe thead th {\n",
              "        text-align: right;\n",
              "    }\n",
              "</style>\n",
              "<table border=\"1\" class=\"dataframe\">\n",
              "  <thead>\n",
              "    <tr style=\"text-align: right;\">\n",
              "      <th></th>\n",
              "      <th>auc_pr</th>\n",
              "      <th>roc_auc_score</th>\n",
              "      <th>reg_const</th>\n",
              "    </tr>\n",
              "  </thead>\n",
              "  <tbody>\n",
              "    <tr>\n",
              "      <th>Random Classifier</th>\n",
              "      <td>0.505667</td>\n",
              "      <td>0.5</td>\n",
              "      <td>0.0</td>\n",
              "    </tr>\n",
              "  </tbody>\n",
              "</table>\n",
              "</div>\n",
              "    <div class=\"colab-df-buttons\">\n",
              "\n",
              "  <div class=\"colab-df-container\">\n",
              "    <button class=\"colab-df-convert\" onclick=\"convertToInteractive('df-568d7ddc-a845-4bea-9afe-802a036f18d4')\"\n",
              "            title=\"Convert this dataframe to an interactive table.\"\n",
              "            style=\"display:none;\">\n",
              "\n",
              "  <svg xmlns=\"http://www.w3.org/2000/svg\" height=\"24px\" viewBox=\"0 -960 960 960\">\n",
              "    <path d=\"M120-120v-720h720v720H120Zm60-500h600v-160H180v160Zm220 220h160v-160H400v160Zm0 220h160v-160H400v160ZM180-400h160v-160H180v160Zm440 0h160v-160H620v160ZM180-180h160v-160H180v160Zm440 0h160v-160H620v160Z\"/>\n",
              "  </svg>\n",
              "    </button>\n",
              "\n",
              "  <style>\n",
              "    .colab-df-container {\n",
              "      display:flex;\n",
              "      gap: 12px;\n",
              "    }\n",
              "\n",
              "    .colab-df-convert {\n",
              "      background-color: #E8F0FE;\n",
              "      border: none;\n",
              "      border-radius: 50%;\n",
              "      cursor: pointer;\n",
              "      display: none;\n",
              "      fill: #1967D2;\n",
              "      height: 32px;\n",
              "      padding: 0 0 0 0;\n",
              "      width: 32px;\n",
              "    }\n",
              "\n",
              "    .colab-df-convert:hover {\n",
              "      background-color: #E2EBFA;\n",
              "      box-shadow: 0px 1px 2px rgba(60, 64, 67, 0.3), 0px 1px 3px 1px rgba(60, 64, 67, 0.15);\n",
              "      fill: #174EA6;\n",
              "    }\n",
              "\n",
              "    .colab-df-buttons div {\n",
              "      margin-bottom: 4px;\n",
              "    }\n",
              "\n",
              "    [theme=dark] .colab-df-convert {\n",
              "      background-color: #3B4455;\n",
              "      fill: #D2E3FC;\n",
              "    }\n",
              "\n",
              "    [theme=dark] .colab-df-convert:hover {\n",
              "      background-color: #434B5C;\n",
              "      box-shadow: 0px 1px 3px 1px rgba(0, 0, 0, 0.15);\n",
              "      filter: drop-shadow(0px 1px 2px rgba(0, 0, 0, 0.3));\n",
              "      fill: #FFFFFF;\n",
              "    }\n",
              "  </style>\n",
              "\n",
              "    <script>\n",
              "      const buttonEl =\n",
              "        document.querySelector('#df-568d7ddc-a845-4bea-9afe-802a036f18d4 button.colab-df-convert');\n",
              "      buttonEl.style.display =\n",
              "        google.colab.kernel.accessAllowed ? 'block' : 'none';\n",
              "\n",
              "      async function convertToInteractive(key) {\n",
              "        const element = document.querySelector('#df-568d7ddc-a845-4bea-9afe-802a036f18d4');\n",
              "        const dataTable =\n",
              "          await google.colab.kernel.invokeFunction('convertToInteractive',\n",
              "                                                    [key], {});\n",
              "        if (!dataTable) return;\n",
              "\n",
              "        const docLinkHtml = 'Like what you see? Visit the ' +\n",
              "          '<a target=\"_blank\" href=https://colab.research.google.com/notebooks/data_table.ipynb>data table notebook</a>'\n",
              "          + ' to learn more about interactive tables.';\n",
              "        element.innerHTML = '';\n",
              "        dataTable['output_type'] = 'display_data';\n",
              "        await google.colab.output.renderOutput(dataTable, element);\n",
              "        const docLink = document.createElement('div');\n",
              "        docLink.innerHTML = docLinkHtml;\n",
              "        element.appendChild(docLink);\n",
              "      }\n",
              "    </script>\n",
              "  </div>\n",
              "\n",
              "\n",
              "  <div id=\"id_8302b6c7-a564-41fe-a976-bc8cdcd86827\">\n",
              "    <style>\n",
              "      .colab-df-generate {\n",
              "        background-color: #E8F0FE;\n",
              "        border: none;\n",
              "        border-radius: 50%;\n",
              "        cursor: pointer;\n",
              "        display: none;\n",
              "        fill: #1967D2;\n",
              "        height: 32px;\n",
              "        padding: 0 0 0 0;\n",
              "        width: 32px;\n",
              "      }\n",
              "\n",
              "      .colab-df-generate:hover {\n",
              "        background-color: #E2EBFA;\n",
              "        box-shadow: 0px 1px 2px rgba(60, 64, 67, 0.3), 0px 1px 3px 1px rgba(60, 64, 67, 0.15);\n",
              "        fill: #174EA6;\n",
              "      }\n",
              "\n",
              "      [theme=dark] .colab-df-generate {\n",
              "        background-color: #3B4455;\n",
              "        fill: #D2E3FC;\n",
              "      }\n",
              "\n",
              "      [theme=dark] .colab-df-generate:hover {\n",
              "        background-color: #434B5C;\n",
              "        box-shadow: 0px 1px 3px 1px rgba(0, 0, 0, 0.15);\n",
              "        filter: drop-shadow(0px 1px 2px rgba(0, 0, 0, 0.3));\n",
              "        fill: #FFFFFF;\n",
              "      }\n",
              "    </style>\n",
              "    <button class=\"colab-df-generate\" onclick=\"generateWithVariable('df_metrics')\"\n",
              "            title=\"Generate code using this dataframe.\"\n",
              "            style=\"display:none;\">\n",
              "\n",
              "  <svg xmlns=\"http://www.w3.org/2000/svg\" height=\"24px\"viewBox=\"0 0 24 24\"\n",
              "       width=\"24px\">\n",
              "    <path d=\"M7,19H8.4L18.45,9,17,7.55,7,17.6ZM5,21V16.75L18.45,3.32a2,2,0,0,1,2.83,0l1.4,1.43a1.91,1.91,0,0,1,.58,1.4,1.91,1.91,0,0,1-.58,1.4L9.25,21ZM18.45,9,17,7.55Zm-12,3A5.31,5.31,0,0,0,4.9,8.1,5.31,5.31,0,0,0,1,6.5,5.31,5.31,0,0,0,4.9,4.9,5.31,5.31,0,0,0,6.5,1,5.31,5.31,0,0,0,8.1,4.9,5.31,5.31,0,0,0,12,6.5,5.46,5.46,0,0,0,6.5,12Z\"/>\n",
              "  </svg>\n",
              "    </button>\n",
              "    <script>\n",
              "      (() => {\n",
              "      const buttonEl =\n",
              "        document.querySelector('#id_8302b6c7-a564-41fe-a976-bc8cdcd86827 button.colab-df-generate');\n",
              "      buttonEl.style.display =\n",
              "        google.colab.kernel.accessAllowed ? 'block' : 'none';\n",
              "\n",
              "      buttonEl.onclick = () => {\n",
              "        google.colab.notebook.generateWithVariable('df_metrics');\n",
              "      }\n",
              "      })();\n",
              "    </script>\n",
              "  </div>\n",
              "\n",
              "    </div>\n",
              "  </div>\n"
            ],
            "application/vnd.google.colaboratory.intrinsic+json": {
              "type": "dataframe",
              "variable_name": "df_metrics",
              "summary": "{\n  \"name\": \"df_metrics\",\n  \"rows\": 1,\n  \"fields\": [\n    {\n      \"column\": \"auc_pr\",\n      \"properties\": {\n        \"dtype\": \"number\",\n        \"std\": null,\n        \"min\": 0.5056666666666667,\n        \"max\": 0.5056666666666667,\n        \"num_unique_values\": 1,\n        \"samples\": [\n          0.5056666666666667\n        ],\n        \"semantic_type\": \"\",\n        \"description\": \"\"\n      }\n    },\n    {\n      \"column\": \"roc_auc_score\",\n      \"properties\": {\n        \"dtype\": \"number\",\n        \"std\": null,\n        \"min\": 0.5,\n        \"max\": 0.5,\n        \"num_unique_values\": 1,\n        \"samples\": [\n          0.5\n        ],\n        \"semantic_type\": \"\",\n        \"description\": \"\"\n      }\n    },\n    {\n      \"column\": \"reg_const\",\n      \"properties\": {\n        \"dtype\": \"number\",\n        \"std\": null,\n        \"min\": 0.0,\n        \"max\": 0.0,\n        \"num_unique_values\": 1,\n        \"samples\": [\n          0.0\n        ],\n        \"semantic_type\": \"\",\n        \"description\": \"\"\n      }\n    }\n  ]\n}"
            }
          },
          "metadata": {},
          "execution_count": 25
        }
      ],
      "source": [
        "# dataframe для сравнения\n",
        "# методов классификации по метрикам\n",
        "df_metrics = pd.DataFrame(\n",
        "    columns=['auc_pr', 'roc_auc_score', 'reg_const']\n",
        ")\n",
        "precision, recall, _ = precision_recall_curve(y_test, y_random)\n",
        "# добавление очередной строки с характеристиками метода\n",
        "df_metrics.loc['Random Classifier'] = [\n",
        "      average_precision_score(y_test, y_random),\n",
        "      roc_auc_score(y_test, y_random),\n",
        "      0,\n",
        "]\n",
        "\n",
        "# по аналогии результаты следующих экспериментов можно будет собрать в табличку\n",
        "df_metrics"
      ]
    },
    {
      "cell_type": "markdown",
      "metadata": {
        "id": "9IwDobmQtW2P"
      },
      "source": [
        "__Support Vector Machine (Linear Kernel)__\n",
        "\n",
        "Обучите метод опорных векторов.\n",
        "\n",
        "Подберите параметр регуляризации `C` с точки зрения AUC-PR (можете воспользоваться кросс-валидацией или отделить валидационную выборку от обучающей).\n"
      ]
    },
    {
      "cell_type": "code",
      "execution_count": null,
      "metadata": {
        "id": "eyjF-qc3P75Q",
        "colab": {
          "base_uri": "https://localhost:8080/"
        },
        "outputId": "5348b998-e29c-4a10-c7e5-9a2d1f8f2dc0"
      },
      "outputs": [
        {
          "output_type": "execute_result",
          "data": {
            "text/plain": [
              "0.0001"
            ]
          },
          "metadata": {},
          "execution_count": 26
        }
      ],
      "source": [
        "from sklearn.svm import LinearSVC\n",
        "from sklearn.model_selection import GridSearchCV\n",
        "\n",
        "grid_search = GridSearchCV(LinearSVC(), param_grid={\"C\": np.logspace(-4, 1 , 10)}, cv=5, scoring=\"average_precision\")\n",
        "grid_search.fit(X_train, y_train)\n",
        "best_c_svm = grid_search.best_params_[\"C\"]\n",
        "best_c_svm"
      ]
    },
    {
      "cell_type": "markdown",
      "metadata": {
        "id": "fapa63xlP75R"
      },
      "source": [
        "  На тестовой части:\n",
        "  - постройте ROC и PR кривые,\n",
        "  - посчитайте AUC-ROC, AUC-PR"
      ]
    },
    {
      "cell_type": "code",
      "execution_count": null,
      "metadata": {
        "id": "xTvNT5uRP75S",
        "colab": {
          "base_uri": "https://localhost:8080/",
          "height": 559
        },
        "outputId": "d2cae2a8-cba0-466a-c3da-9b0c9797798c"
      },
      "outputs": [
        {
          "output_type": "stream",
          "name": "stdout",
          "text": [
            "svm, LinearSVC metrics\n",
            "AUC-PR: 0.8299\n",
            "AUC-ROC: 0.8451\n"
          ]
        },
        {
          "output_type": "display_data",
          "data": {
            "text/plain": [
              "<Figure size 1100x500 with 2 Axes>"
            ],
            "image/png": "[encoded data removed]"
          },
          "metadata": {}
        }
      ],
      "source": [
        "y_linsvc = LinearSVC(C=best_c_svm).fit(X_train, y_train).decision_function(X_test)\n",
        "depict_pr_roc(y_test, y_linsvc, 'svm, LinearSVC')"
      ]
    },
    {
      "cell_type": "markdown",
      "source": [
        "Проанализируйте, как себя ведут обе кривые:\n",
        "- Что происходит при увеличении порога? Как бы вы это проинтерпретировали?\n",
        "- Монотонные ли кривые? Как вы это объясните?"
      ],
      "metadata": {
        "id": "FTvgDyaFhkYz"
      }
    },
    {
      "cell_type": "markdown",
      "source": [
        "Ну ROC монотонна (как и следовало ожидать), вторая практически монотонна (за исключением флуктуаций в начале). При уменьшении порога падает точность, но повышается полнота (больше относим к положительному классу)."
      ],
      "metadata": {
        "id": "iGoQRRXNIWOU"
      }
    },
    {
      "cell_type": "markdown",
      "metadata": {
        "id": "tEoGp5EDtIzW"
      },
      "source": [
        "Сравните AUC-ROC и AUC-PR для вашей модели с этими же метриками для случайного классификатора."
      ]
    },
    {
      "cell_type": "code",
      "execution_count": null,
      "metadata": {
        "id": "wnRTMhsm6Hvv",
        "colab": {
          "base_uri": "https://localhost:8080/",
          "height": 125
        },
        "outputId": "6e334867-d4df-4dd0-f392-3e420456e6fc"
      },
      "outputs": [
        {
          "output_type": "execute_result",
          "data": {
            "text/plain": [
              "                     auc_pr  roc_auc_score  reg_const\n",
              "Random Classifier  0.505667       0.500000     0.0000\n",
              "SVM LinearSVC      0.829657       0.845116     0.0001"
            ],
            "text/html": [
              "\n",
              "  <div id=\"df-2f76c1d6-bff0-4827-b6cb-a36de99a1b65\" class=\"colab-df-container\">\n",
              "    <div>\n",
              "<style scoped>\n",
              "    .dataframe tbody tr th:only-of-type {\n",
              "        vertical-align: middle;\n",
              "    }\n",
              "\n",
              "    .dataframe tbody tr th {\n",
              "        vertical-align: top;\n",
              "    }\n",
              "\n",
              "    .dataframe thead th {\n",
              "        text-align: right;\n",
              "    }\n",
              "</style>\n",
              "<table border=\"1\" class=\"dataframe\">\n",
              "  <thead>\n",
              "    <tr style=\"text-align: right;\">\n",
              "      <th></th>\n",
              "      <th>auc_pr</th>\n",
              "      <th>roc_auc_score</th>\n",
              "      <th>reg_const</th>\n",
              "    </tr>\n",
              "  </thead>\n",
              "  <tbody>\n",
              "    <tr>\n",
              "      <th>Random Classifier</th>\n",
              "      <td>0.505667</td>\n",
              "      <td>0.500000</td>\n",
              "      <td>0.0000</td>\n",
              "    </tr>\n",
              "    <tr>\n",
              "      <th>SVM LinearSVC</th>\n",
              "      <td>0.829657</td>\n",
              "      <td>0.845116</td>\n",
              "      <td>0.0001</td>\n",
              "    </tr>\n",
              "  </tbody>\n",
              "</table>\n",
              "</div>\n",
              "    <div class=\"colab-df-buttons\">\n",
              "\n",
              "  <div class=\"colab-df-container\">\n",
              "    <button class=\"colab-df-convert\" onclick=\"convertToInteractive('df-2f76c1d6-bff0-4827-b6cb-a36de99a1b65')\"\n",
              "            title=\"Convert this dataframe to an interactive table.\"\n",
              "            style=\"display:none;\">\n",
              "\n",
              "  <svg xmlns=\"http://www.w3.org/2000/svg\" height=\"24px\" viewBox=\"0 -960 960 960\">\n",
              "    <path d=\"M120-120v-720h720v720H120Zm60-500h600v-160H180v160Zm220 220h160v-160H400v160Zm0 220h160v-160H400v160ZM180-400h160v-160H180v160Zm440 0h160v-160H620v160ZM180-180h160v-160H180v160Zm440 0h160v-160H620v160Z\"/>\n",
              "  </svg>\n",
              "    </button>\n",
              "\n",
              "  <style>\n",
              "    .colab-df-container {\n",
              "      display:flex;\n",
              "      gap: 12px;\n",
              "    }\n",
              "\n",
              "    .colab-df-convert {\n",
              "      background-color: #E8F0FE;\n",
              "      border: none;\n",
              "      border-radius: 50%;\n",
              "      cursor: pointer;\n",
              "      display: none;\n",
              "      fill: #1967D2;\n",
              "      height: 32px;\n",
              "      padding: 0 0 0 0;\n",
              "      width: 32px;\n",
              "    }\n",
              "\n",
              "    .colab-df-convert:hover {\n",
              "      background-color: #E2EBFA;\n",
              "      box-shadow: 0px 1px 2px rgba(60, 64, 67, 0.3), 0px 1px 3px 1px rgba(60, 64, 67, 0.15);\n",
              "      fill: #174EA6;\n",
              "    }\n",
              "\n",
              "    .colab-df-buttons div {\n",
              "      margin-bottom: 4px;\n",
              "    }\n",
              "\n",
              "    [theme=dark] .colab-df-convert {\n",
              "      background-color: #3B4455;\n",
              "      fill: #D2E3FC;\n",
              "    }\n",
              "\n",
              "    [theme=dark] .colab-df-convert:hover {\n",
              "      background-color: #434B5C;\n",
              "      box-shadow: 0px 1px 3px 1px rgba(0, 0, 0, 0.15);\n",
              "      filter: drop-shadow(0px 1px 2px rgba(0, 0, 0, 0.3));\n",
              "      fill: #FFFFFF;\n",
              "    }\n",
              "  </style>\n",
              "\n",
              "    <script>\n",
              "      const buttonEl =\n",
              "        document.querySelector('#df-2f76c1d6-bff0-4827-b6cb-a36de99a1b65 button.colab-df-convert');\n",
              "      buttonEl.style.display =\n",
              "        google.colab.kernel.accessAllowed ? 'block' : 'none';\n",
              "\n",
              "      async function convertToInteractive(key) {\n",
              "        const element = document.querySelector('#df-2f76c1d6-bff0-4827-b6cb-a36de99a1b65');\n",
              "        const dataTable =\n",
              "          await google.colab.kernel.invokeFunction('convertToInteractive',\n",
              "                                                    [key], {});\n",
              "        if (!dataTable) return;\n",
              "\n",
              "        const docLinkHtml = 'Like what you see? Visit the ' +\n",
              "          '<a target=\"_blank\" href=https://colab.research.google.com/notebooks/data_table.ipynb>data table notebook</a>'\n",
              "          + ' to learn more about interactive tables.';\n",
              "        element.innerHTML = '';\n",
              "        dataTable['output_type'] = 'display_data';\n",
              "        await google.colab.output.renderOutput(dataTable, element);\n",
              "        const docLink = document.createElement('div');\n",
              "        docLink.innerHTML = docLinkHtml;\n",
              "        element.appendChild(docLink);\n",
              "      }\n",
              "    </script>\n",
              "  </div>\n",
              "\n",
              "\n",
              "<div id=\"df-cfd7854a-1a71-4e03-8ac6-b0388d73bb17\">\n",
              "  <button class=\"colab-df-quickchart\" onclick=\"quickchart('df-cfd7854a-1a71-4e03-8ac6-b0388d73bb17')\"\n",
              "            title=\"Suggest charts\"\n",
              "            style=\"display:none;\">\n",
              "\n",
              "<svg xmlns=\"http://www.w3.org/2000/svg\" height=\"24px\"viewBox=\"0 0 24 24\"\n",
              "     width=\"24px\">\n",
              "    <g>\n",
              "        <path d=\"M19 3H5c-1.1 0-2 .9-2 2v14c0 1.1.9 2 2 2h14c1.1 0 2-.9 2-2V5c0-1.1-.9-2-2-2zM9 17H7v-7h2v7zm4 0h-2V7h2v10zm4 0h-2v-4h2v4z\"/>\n",
              "    </g>\n",
              "</svg>\n",
              "  </button>\n",
              "\n",
              "<style>\n",
              "  .colab-df-quickchart {\n",
              "      --bg-color: #E8F0FE;\n",
              "      --fill-color: #1967D2;\n",
              "      --hover-bg-color: #E2EBFA;\n",
              "      --hover-fill-color: #174EA6;\n",
              "      --disabled-fill-color: #AAA;\n",
              "      --disabled-bg-color: #DDD;\n",
              "  }\n",
              "\n",
              "  [theme=dark] .colab-df-quickchart {\n",
              "      --bg-color: #3B4455;\n",
              "      --fill-color: #D2E3FC;\n",
              "      --hover-bg-color: #434B5C;\n",
              "      --hover-fill-color: #FFFFFF;\n",
              "      --disabled-bg-color: #3B4455;\n",
              "      --disabled-fill-color: #666;\n",
              "  }\n",
              "\n",
              "  .colab-df-quickchart {\n",
              "    background-color: var(--bg-color);\n",
              "    border: none;\n",
              "    border-radius: 50%;\n",
              "    cursor: pointer;\n",
              "    display: none;\n",
              "    fill: var(--fill-color);\n",
              "    height: 32px;\n",
              "    padding: 0;\n",
              "    width: 32px;\n",
              "  }\n",
              "\n",
              "  .colab-df-quickchart:hover {\n",
              "    background-color: var(--hover-bg-color);\n",
              "    box-shadow: 0 1px 2px rgba(60, 64, 67, 0.3), 0 1px 3px 1px rgba(60, 64, 67, 0.15);\n",
              "    fill: var(--button-hover-fill-color);\n",
              "  }\n",
              "\n",
              "  .colab-df-quickchart-complete:disabled,\n",
              "  .colab-df-quickchart-complete:disabled:hover {\n",
              "    background-color: var(--disabled-bg-color);\n",
              "    fill: var(--disabled-fill-color);\n",
              "    box-shadow: none;\n",
              "  }\n",
              "\n",
              "  .colab-df-spinner {\n",
              "    border: 2px solid var(--fill-color);\n",
              "    border-color: transparent;\n",
              "    border-bottom-color: var(--fill-color);\n",
              "    animation:\n",
              "      spin 1s steps(1) infinite;\n",
              "  }\n",
              "\n",
              "  @keyframes spin {\n",
              "    0% {\n",
              "      border-color: transparent;\n",
              "      border-bottom-color: var(--fill-color);\n",
              "      border-left-color: var(--fill-color);\n",
              "    }\n",
              "    20% {\n",
              "      border-color: transparent;\n",
              "      border-left-color: var(--fill-color);\n",
              "      border-top-color: var(--fill-color);\n",
              "    }\n",
              "    30% {\n",
              "      border-color: transparent;\n",
              "      border-left-color: var(--fill-color);\n",
              "      border-top-color: var(--fill-color);\n",
              "      border-right-color: var(--fill-color);\n",
              "    }\n",
              "    40% {\n",
              "      border-color: transparent;\n",
              "      border-right-color: var(--fill-color);\n",
              "      border-top-color: var(--fill-color);\n",
              "    }\n",
              "    60% {\n",
              "      border-color: transparent;\n",
              "      border-right-color: var(--fill-color);\n",
              "    }\n",
              "    80% {\n",
              "      border-color: transparent;\n",
              "      border-right-color: var(--fill-color);\n",
              "      border-bottom-color: var(--fill-color);\n",
              "    }\n",
              "    90% {\n",
              "      border-color: transparent;\n",
              "      border-bottom-color: var(--fill-color);\n",
              "    }\n",
              "  }\n",
              "</style>\n",
              "\n",
              "  <script>\n",
              "    async function quickchart(key) {\n",
              "      const quickchartButtonEl =\n",
              "        document.querySelector('#' + key + ' button');\n",
              "      quickchartButtonEl.disabled = true;  // To prevent multiple clicks.\n",
              "      quickchartButtonEl.classList.add('colab-df-spinner');\n",
              "      try {\n",
              "        const charts = await google.colab.kernel.invokeFunction(\n",
              "            'suggestCharts', [key], {});\n",
              "      } catch (error) {\n",
              "        console.error('Error during call to suggestCharts:', error);\n",
              "      }\n",
              "      quickchartButtonEl.classList.remove('colab-df-spinner');\n",
              "      quickchartButtonEl.classList.add('colab-df-quickchart-complete');\n",
              "    }\n",
              "    (() => {\n",
              "      let quickchartButtonEl =\n",
              "        document.querySelector('#df-cfd7854a-1a71-4e03-8ac6-b0388d73bb17 button');\n",
              "      quickchartButtonEl.style.display =\n",
              "        google.colab.kernel.accessAllowed ? 'block' : 'none';\n",
              "    })();\n",
              "  </script>\n",
              "</div>\n",
              "\n",
              "  <div id=\"id_6a18c4cc-33f2-4700-8767-b3fdb346d27c\">\n",
              "    <style>\n",
              "      .colab-df-generate {\n",
              "        background-color: #E8F0FE;\n",
              "        border: none;\n",
              "        border-radius: 50%;\n",
              "        cursor: pointer;\n",
              "        display: none;\n",
              "        fill: #1967D2;\n",
              "        height: 32px;\n",
              "        padding: 0 0 0 0;\n",
              "        width: 32px;\n",
              "      }\n",
              "\n",
              "      .colab-df-generate:hover {\n",
              "        background-color: #E2EBFA;\n",
              "        box-shadow: 0px 1px 2px rgba(60, 64, 67, 0.3), 0px 1px 3px 1px rgba(60, 64, 67, 0.15);\n",
              "        fill: #174EA6;\n",
              "      }\n",
              "\n",
              "      [theme=dark] .colab-df-generate {\n",
              "        background-color: #3B4455;\n",
              "        fill: #D2E3FC;\n",
              "      }\n",
              "\n",
              "      [theme=dark] .colab-df-generate:hover {\n",
              "        background-color: #434B5C;\n",
              "        box-shadow: 0px 1px 3px 1px rgba(0, 0, 0, 0.15);\n",
              "        filter: drop-shadow(0px 1px 2px rgba(0, 0, 0, 0.3));\n",
              "        fill: #FFFFFF;\n",
              "      }\n",
              "    </style>\n",
              "    <button class=\"colab-df-generate\" onclick=\"generateWithVariable('df_metrics')\"\n",
              "            title=\"Generate code using this dataframe.\"\n",
              "            style=\"display:none;\">\n",
              "\n",
              "  <svg xmlns=\"http://www.w3.org/2000/svg\" height=\"24px\"viewBox=\"0 0 24 24\"\n",
              "       width=\"24px\">\n",
              "    <path d=\"M7,19H8.4L18.45,9,17,7.55,7,17.6ZM5,21V16.75L18.45,3.32a2,2,0,0,1,2.83,0l1.4,1.43a1.91,1.91,0,0,1,.58,1.4,1.91,1.91,0,0,1-.58,1.4L9.25,21ZM18.45,9,17,7.55Zm-12,3A5.31,5.31,0,0,0,4.9,8.1,5.31,5.31,0,0,0,1,6.5,5.31,5.31,0,0,0,4.9,4.9,5.31,5.31,0,0,0,6.5,1,5.31,5.31,0,0,0,8.1,4.9,5.31,5.31,0,0,0,12,6.5,5.46,5.46,0,0,0,6.5,12Z\"/>\n",
              "  </svg>\n",
              "    </button>\n",
              "    <script>\n",
              "      (() => {\n",
              "      const buttonEl =\n",
              "        document.querySelector('#id_6a18c4cc-33f2-4700-8767-b3fdb346d27c button.colab-df-generate');\n",
              "      buttonEl.style.display =\n",
              "        google.colab.kernel.accessAllowed ? 'block' : 'none';\n",
              "\n",
              "      buttonEl.onclick = () => {\n",
              "        google.colab.notebook.generateWithVariable('df_metrics');\n",
              "      }\n",
              "      })();\n",
              "    </script>\n",
              "  </div>\n",
              "\n",
              "    </div>\n",
              "  </div>\n"
            ],
            "application/vnd.google.colaboratory.intrinsic+json": {
              "type": "dataframe",
              "variable_name": "df_metrics",
              "summary": "{\n  \"name\": \"df_metrics\",\n  \"rows\": 2,\n  \"fields\": [\n    {\n      \"column\": \"auc_pr\",\n      \"properties\": {\n        \"dtype\": \"number\",\n        \"std\": 0.22909578500695374,\n        \"min\": 0.5056666666666667,\n        \"max\": 0.8296570329060114,\n        \"num_unique_values\": 2,\n        \"samples\": [\n          0.8296570329060114,\n          0.5056666666666667\n        ],\n        \"semantic_type\": \"\",\n        \"description\": \"\"\n      }\n    },\n    {\n      \"column\": \"roc_auc_score\",\n      \"properties\": {\n        \"dtype\": \"number\",\n        \"std\": 0.24403362455641556,\n        \"min\": 0.5,\n        \"max\": 0.8451156615227469,\n        \"num_unique_values\": 2,\n        \"samples\": [\n          0.8451156615227469,\n          0.5\n        ],\n        \"semantic_type\": \"\",\n        \"description\": \"\"\n      }\n    },\n    {\n      \"column\": \"reg_const\",\n      \"properties\": {\n        \"dtype\": \"number\",\n        \"std\": 7.071067811865475e-05,\n        \"min\": 0.0,\n        \"max\": 0.0001,\n        \"num_unique_values\": 2,\n        \"samples\": [\n          0.0001,\n          0.0\n        ],\n        \"semantic_type\": \"\",\n        \"description\": \"\"\n      }\n    }\n  ]\n}"
            }
          },
          "metadata": {},
          "execution_count": 28
        }
      ],
      "source": [
        "precision, recall, _ = precision_recall_curve(y_test, y_linsvc)\n",
        "df_metrics.loc['SVM LinearSVC'] = [\n",
        "      auc(recall, precision),\n",
        "      roc_auc_score(y_test, y_linsvc),\n",
        "      best_c_svm\n",
        "]\n",
        "df_metrics"
      ]
    },
    {
      "cell_type": "markdown",
      "source": [
        "Мы получили улучшение сразу по двум метрикам."
      ],
      "metadata": {
        "id": "XIGKGo6reQyQ"
      }
    },
    {
      "cell_type": "markdown",
      "metadata": {
        "id": "Ln5VaZE_P75S"
      },
      "source": [
        "__Logistic Regression__\n",
        "\n",
        "\n",
        "Аналогичное задание для логистической регрессии с L2 регуляризатором:\n",
        "\n",
        "\n",
        "*   подберите гиперпараметр C, используя метрику AUC-PR\n",
        "*   нарисуйте ROC, PR кривые для тестовой части\n",
        "*   выведите метрики для тестовых данных и сравните их с результатами случайного классификатора\n",
        "\n"
      ]
    },
    {
      "cell_type": "code",
      "execution_count": null,
      "metadata": {
        "id": "r1TlamoBP75S",
        "colab": {
          "base_uri": "https://localhost:8080/"
        },
        "outputId": "426f569b-2782-488a-cd70-8e2fd025b9cc"
      },
      "outputs": [
        {
          "output_type": "execute_result",
          "data": {
            "text/plain": [
              "0.00035938136638046257"
            ]
          },
          "metadata": {},
          "execution_count": 29
        }
      ],
      "source": [
        "from sklearn.linear_model import LogisticRegression\n",
        "\n",
        "logreg_grid_search = GridSearchCV(\n",
        "    LogisticRegression(),\n",
        "    param_grid={\"C\": np.logspace(-4, 1, 10)},\n",
        "    cv=5,\n",
        "    scoring=\"average_precision\"\n",
        ")\n",
        "logreg_grid_search.fit(X_train, y_train)\n",
        "best_c_logreg = logreg_grid_search.best_params_[\"C\"]\n",
        "best_c_logreg"
      ]
    },
    {
      "cell_type": "markdown",
      "metadata": {
        "id": "Gnj5PG1Rm5qX"
      },
      "source": [
        "Нарисуйте ROC, PR кривые для тестовой части для всех 3 классификаторов на одном графике"
      ]
    },
    {
      "cell_type": "code",
      "execution_count": null,
      "metadata": {
        "id": "X3BaXTRBnAwK",
        "colab": {
          "base_uri": "https://localhost:8080/",
          "height": 763
        },
        "outputId": "1c3302a4-aa81-4a64-b824-578b02888ce9"
      },
      "outputs": [
        {
          "output_type": "stream",
          "name": "stdout",
          "text": [
            "Random Classifier metrics\n",
            "AUC-PR: 0.5057\n",
            "AUC-ROC: 0.5000\n",
            "svm, LinearSVC metrics\n",
            "AUC-PR: 0.8299\n",
            "AUC-ROC: 0.8451\n",
            "Logistic Regression metrics\n",
            "AUC-PR: 0.8348\n",
            "AUC-ROC: 0.8420\n"
          ]
        },
        {
          "output_type": "display_data",
          "data": {
            "text/plain": [
              "<Figure size 1200x600 with 2 Axes>"
            ],
            "image/png": "[encoded data removed]"
          },
          "metadata": {}
        }
      ],
      "source": [
        "y_logreg = LogisticRegression(C=best_c_logreg).fit(X_train, y_train).predict_proba(X_test)[:, 1]\n",
        "\n",
        "_, ax = plt.subplots(1, 2, figsize=(12, 6))\n",
        "\n",
        "depict_pr_roc(y_test, y_random, 'Random Classifier', ax=ax)\n",
        "depict_pr_roc(y_test, y_linsvc, 'svm, LinearSVC', ax=ax)\n",
        "depict_pr_roc(y_test, y_logreg, 'Logistic Regression', ax=ax)"
      ]
    },
    {
      "cell_type": "code",
      "source": [
        "precision, recall, _ = precision_recall_curve(y_test, y_logreg)\n",
        "df_metrics.loc['Logistic Regression'] = [\n",
        "    auc(recall, precision),\n",
        "    roc_auc_score(y_test, y_logreg),\n",
        "    best_c_logreg\n",
        "]\n",
        "df_metrics"
      ],
      "metadata": {
        "colab": {
          "base_uri": "https://localhost:8080/",
          "height": 143
        },
        "id": "CwEy1Yl13SxP",
        "outputId": "4ebac07d-bc26-4485-d8fd-a60d06175515"
      },
      "execution_count": null,
      "outputs": [
        {
          "output_type": "execute_result",
          "data": {
            "text/plain": [
              "                       auc_pr  roc_auc_score  reg_const\n",
              "Random Classifier    0.505667       0.500000   0.000000\n",
              "SVM LinearSVC        0.829657       0.845116   0.000100\n",
              "Logistic Regression  0.834676       0.842038   0.000359"
            ],
            "text/html": [
              "\n",
              "  <div id=\"df-d12654f1-8454-4119-9f30-0b9bf702aa9e\" class=\"colab-df-container\">\n",
              "    <div>\n",
              "<style scoped>\n",
              "    .dataframe tbody tr th:only-of-type {\n",
              "        vertical-align: middle;\n",
              "    }\n",
              "\n",
              "    .dataframe tbody tr th {\n",
              "        vertical-align: top;\n",
              "    }\n",
              "\n",
              "    .dataframe thead th {\n",
              "        text-align: right;\n",
              "    }\n",
              "</style>\n",
              "<table border=\"1\" class=\"dataframe\">\n",
              "  <thead>\n",
              "    <tr style=\"text-align: right;\">\n",
              "      <th></th>\n",
              "      <th>auc_pr</th>\n",
              "      <th>roc_auc_score</th>\n",
              "      <th>reg_const</th>\n",
              "    </tr>\n",
              "  </thead>\n",
              "  <tbody>\n",
              "    <tr>\n",
              "      <th>Random Classifier</th>\n",
              "      <td>0.505667</td>\n",
              "      <td>0.500000</td>\n",
              "      <td>0.000000</td>\n",
              "    </tr>\n",
              "    <tr>\n",
              "      <th>SVM LinearSVC</th>\n",
              "      <td>0.829657</td>\n",
              "      <td>0.845116</td>\n",
              "      <td>0.000100</td>\n",
              "    </tr>\n",
              "    <tr>\n",
              "      <th>Logistic Regression</th>\n",
              "      <td>0.834676</td>\n",
              "      <td>0.842038</td>\n",
              "      <td>0.000359</td>\n",
              "    </tr>\n",
              "  </tbody>\n",
              "</table>\n",
              "</div>\n",
              "    <div class=\"colab-df-buttons\">\n",
              "\n",
              "  <div class=\"colab-df-container\">\n",
              "    <button class=\"colab-df-convert\" onclick=\"convertToInteractive('df-d12654f1-8454-4119-9f30-0b9bf702aa9e')\"\n",
              "            title=\"Convert this dataframe to an interactive table.\"\n",
              "            style=\"display:none;\">\n",
              "\n",
              "  <svg xmlns=\"http://www.w3.org/2000/svg\" height=\"24px\" viewBox=\"0 -960 960 960\">\n",
              "    <path d=\"M120-120v-720h720v720H120Zm60-500h600v-160H180v160Zm220 220h160v-160H400v160Zm0 220h160v-160H400v160ZM180-400h160v-160H180v160Zm440 0h160v-160H620v160ZM180-180h160v-160H180v160Zm440 0h160v-160H620v160Z\"/>\n",
              "  </svg>\n",
              "    </button>\n",
              "\n",
              "  <style>\n",
              "    .colab-df-container {\n",
              "      display:flex;\n",
              "      gap: 12px;\n",
              "    }\n",
              "\n",
              "    .colab-df-convert {\n",
              "      background-color: #E8F0FE;\n",
              "      border: none;\n",
              "      border-radius: 50%;\n",
              "      cursor: pointer;\n",
              "      display: none;\n",
              "      fill: #1967D2;\n",
              "      height: 32px;\n",
              "      padding: 0 0 0 0;\n",
              "      width: 32px;\n",
              "    }\n",
              "\n",
              "    .colab-df-convert:hover {\n",
              "      background-color: #E2EBFA;\n",
              "      box-shadow: 0px 1px 2px rgba(60, 64, 67, 0.3), 0px 1px 3px 1px rgba(60, 64, 67, 0.15);\n",
              "      fill: #174EA6;\n",
              "    }\n",
              "\n",
              "    .colab-df-buttons div {\n",
              "      margin-bottom: 4px;\n",
              "    }\n",
              "\n",
              "    [theme=dark] .colab-df-convert {\n",
              "      background-color: #3B4455;\n",
              "      fill: #D2E3FC;\n",
              "    }\n",
              "\n",
              "    [theme=dark] .colab-df-convert:hover {\n",
              "      background-color: #434B5C;\n",
              "      box-shadow: 0px 1px 3px 1px rgba(0, 0, 0, 0.15);\n",
              "      filter: drop-shadow(0px 1px 2px rgba(0, 0, 0, 0.3));\n",
              "      fill: #FFFFFF;\n",
              "    }\n",
              "  </style>\n",
              "\n",
              "    <script>\n",
              "      const buttonEl =\n",
              "        document.querySelector('#df-d12654f1-8454-4119-9f30-0b9bf702aa9e button.colab-df-convert');\n",
              "      buttonEl.style.display =\n",
              "        google.colab.kernel.accessAllowed ? 'block' : 'none';\n",
              "\n",
              "      async function convertToInteractive(key) {\n",
              "        const element = document.querySelector('#df-d12654f1-8454-4119-9f30-0b9bf702aa9e');\n",
              "        const dataTable =\n",
              "          await google.colab.kernel.invokeFunction('convertToInteractive',\n",
              "                                                    [key], {});\n",
              "        if (!dataTable) return;\n",
              "\n",
              "        const docLinkHtml = 'Like what you see? Visit the ' +\n",
              "          '<a target=\"_blank\" href=https://colab.research.google.com/notebooks/data_table.ipynb>data table notebook</a>'\n",
              "          + ' to learn more about interactive tables.';\n",
              "        element.innerHTML = '';\n",
              "        dataTable['output_type'] = 'display_data';\n",
              "        await google.colab.output.renderOutput(dataTable, element);\n",
              "        const docLink = document.createElement('div');\n",
              "        docLink.innerHTML = docLinkHtml;\n",
              "        element.appendChild(docLink);\n",
              "      }\n",
              "    </script>\n",
              "  </div>\n",
              "\n",
              "\n",
              "<div id=\"df-2d968bf2-397e-4e20-a385-8062e467e5eb\">\n",
              "  <button class=\"colab-df-quickchart\" onclick=\"quickchart('df-2d968bf2-397e-4e20-a385-8062e467e5eb')\"\n",
              "            title=\"Suggest charts\"\n",
              "            style=\"display:none;\">\n",
              "\n",
              "<svg xmlns=\"http://www.w3.org/2000/svg\" height=\"24px\"viewBox=\"0 0 24 24\"\n",
              "     width=\"24px\">\n",
              "    <g>\n",
              "        <path d=\"M19 3H5c-1.1 0-2 .9-2 2v14c0 1.1.9 2 2 2h14c1.1 0 2-.9 2-2V5c0-1.1-.9-2-2-2zM9 17H7v-7h2v7zm4 0h-2V7h2v10zm4 0h-2v-4h2v4z\"/>\n",
              "    </g>\n",
              "</svg>\n",
              "  </button>\n",
              "\n",
              "<style>\n",
              "  .colab-df-quickchart {\n",
              "      --bg-color: #E8F0FE;\n",
              "      --fill-color: #1967D2;\n",
              "      --hover-bg-color: #E2EBFA;\n",
              "      --hover-fill-color: #174EA6;\n",
              "      --disabled-fill-color: #AAA;\n",
              "      --disabled-bg-color: #DDD;\n",
              "  }\n",
              "\n",
              "  [theme=dark] .colab-df-quickchart {\n",
              "      --bg-color: #3B4455;\n",
              "      --fill-color: #D2E3FC;\n",
              "      --hover-bg-color: #434B5C;\n",
              "      --hover-fill-color: #FFFFFF;\n",
              "      --disabled-bg-color: #3B4455;\n",
              "      --disabled-fill-color: #666;\n",
              "  }\n",
              "\n",
              "  .colab-df-quickchart {\n",
              "    background-color: var(--bg-color);\n",
              "    border: none;\n",
              "    border-radius: 50%;\n",
              "    cursor: pointer;\n",
              "    display: none;\n",
              "    fill: var(--fill-color);\n",
              "    height: 32px;\n",
              "    padding: 0;\n",
              "    width: 32px;\n",
              "  }\n",
              "\n",
              "  .colab-df-quickchart:hover {\n",
              "    background-color: var(--hover-bg-color);\n",
              "    box-shadow: 0 1px 2px rgba(60, 64, 67, 0.3), 0 1px 3px 1px rgba(60, 64, 67, 0.15);\n",
              "    fill: var(--button-hover-fill-color);\n",
              "  }\n",
              "\n",
              "  .colab-df-quickchart-complete:disabled,\n",
              "  .colab-df-quickchart-complete:disabled:hover {\n",
              "    background-color: var(--disabled-bg-color);\n",
              "    fill: var(--disabled-fill-color);\n",
              "    box-shadow: none;\n",
              "  }\n",
              "\n",
              "  .colab-df-spinner {\n",
              "    border: 2px solid var(--fill-color);\n",
              "    border-color: transparent;\n",
              "    border-bottom-color: var(--fill-color);\n",
              "    animation:\n",
              "      spin 1s steps(1) infinite;\n",
              "  }\n",
              "\n",
              "  @keyframes spin {\n",
              "    0% {\n",
              "      border-color: transparent;\n",
              "      border-bottom-color: var(--fill-color);\n",
              "      border-left-color: var(--fill-color);\n",
              "    }\n",
              "    20% {\n",
              "      border-color: transparent;\n",
              "      border-left-color: var(--fill-color);\n",
              "      border-top-color: var(--fill-color);\n",
              "    }\n",
              "    30% {\n",
              "      border-color: transparent;\n",
              "      border-left-color: var(--fill-color);\n",
              "      border-top-color: var(--fill-color);\n",
              "      border-right-color: var(--fill-color);\n",
              "    }\n",
              "    40% {\n",
              "      border-color: transparent;\n",
              "      border-right-color: var(--fill-color);\n",
              "      border-top-color: var(--fill-color);\n",
              "    }\n",
              "    60% {\n",
              "      border-color: transparent;\n",
              "      border-right-color: var(--fill-color);\n",
              "    }\n",
              "    80% {\n",
              "      border-color: transparent;\n",
              "      border-right-color: var(--fill-color);\n",
              "      border-bottom-color: var(--fill-color);\n",
              "    }\n",
              "    90% {\n",
              "      border-color: transparent;\n",
              "      border-bottom-color: var(--fill-color);\n",
              "    }\n",
              "  }\n",
              "</style>\n",
              "\n",
              "  <script>\n",
              "    async function quickchart(key) {\n",
              "      const quickchartButtonEl =\n",
              "        document.querySelector('#' + key + ' button');\n",
              "      quickchartButtonEl.disabled = true;  // To prevent multiple clicks.\n",
              "      quickchartButtonEl.classList.add('colab-df-spinner');\n",
              "      try {\n",
              "        const charts = await google.colab.kernel.invokeFunction(\n",
              "            'suggestCharts', [key], {});\n",
              "      } catch (error) {\n",
              "        console.error('Error during call to suggestCharts:', error);\n",
              "      }\n",
              "      quickchartButtonEl.classList.remove('colab-df-spinner');\n",
              "      quickchartButtonEl.classList.add('colab-df-quickchart-complete');\n",
              "    }\n",
              "    (() => {\n",
              "      let quickchartButtonEl =\n",
              "        document.querySelector('#df-2d968bf2-397e-4e20-a385-8062e467e5eb button');\n",
              "      quickchartButtonEl.style.display =\n",
              "        google.colab.kernel.accessAllowed ? 'block' : 'none';\n",
              "    })();\n",
              "  </script>\n",
              "</div>\n",
              "\n",
              "  <div id=\"id_01a875b1-d079-468a-846f-2262a582faa0\">\n",
              "    <style>\n",
              "      .colab-df-generate {\n",
              "        background-color: #E8F0FE;\n",
              "        border: none;\n",
              "        border-radius: 50%;\n",
              "        cursor: pointer;\n",
              "        display: none;\n",
              "        fill: #1967D2;\n",
              "        height: 32px;\n",
              "        padding: 0 0 0 0;\n",
              "        width: 32px;\n",
              "      }\n",
              "\n",
              "      .colab-df-generate:hover {\n",
              "        background-color: #E2EBFA;\n",
              "        box-shadow: 0px 1px 2px rgba(60, 64, 67, 0.3), 0px 1px 3px 1px rgba(60, 64, 67, 0.15);\n",
              "        fill: #174EA6;\n",
              "      }\n",
              "\n",
              "      [theme=dark] .colab-df-generate {\n",
              "        background-color: #3B4455;\n",
              "        fill: #D2E3FC;\n",
              "      }\n",
              "\n",
              "      [theme=dark] .colab-df-generate:hover {\n",
              "        background-color: #434B5C;\n",
              "        box-shadow: 0px 1px 3px 1px rgba(0, 0, 0, 0.15);\n",
              "        filter: drop-shadow(0px 1px 2px rgba(0, 0, 0, 0.3));\n",
              "        fill: #FFFFFF;\n",
              "      }\n",
              "    </style>\n",
              "    <button class=\"colab-df-generate\" onclick=\"generateWithVariable('df_metrics')\"\n",
              "            title=\"Generate code using this dataframe.\"\n",
              "            style=\"display:none;\">\n",
              "\n",
              "  <svg xmlns=\"http://www.w3.org/2000/svg\" height=\"24px\"viewBox=\"0 0 24 24\"\n",
              "       width=\"24px\">\n",
              "    <path d=\"M7,19H8.4L18.45,9,17,7.55,7,17.6ZM5,21V16.75L18.45,3.32a2,2,0,0,1,2.83,0l1.4,1.43a1.91,1.91,0,0,1,.58,1.4,1.91,1.91,0,0,1-.58,1.4L9.25,21ZM18.45,9,17,7.55Zm-12,3A5.31,5.31,0,0,0,4.9,8.1,5.31,5.31,0,0,0,1,6.5,5.31,5.31,0,0,0,4.9,4.9,5.31,5.31,0,0,0,6.5,1,5.31,5.31,0,0,0,8.1,4.9,5.31,5.31,0,0,0,12,6.5,5.46,5.46,0,0,0,6.5,12Z\"/>\n",
              "  </svg>\n",
              "    </button>\n",
              "    <script>\n",
              "      (() => {\n",
              "      const buttonEl =\n",
              "        document.querySelector('#id_01a875b1-d079-468a-846f-2262a582faa0 button.colab-df-generate');\n",
              "      buttonEl.style.display =\n",
              "        google.colab.kernel.accessAllowed ? 'block' : 'none';\n",
              "\n",
              "      buttonEl.onclick = () => {\n",
              "        google.colab.notebook.generateWithVariable('df_metrics');\n",
              "      }\n",
              "      })();\n",
              "    </script>\n",
              "  </div>\n",
              "\n",
              "    </div>\n",
              "  </div>\n"
            ],
            "application/vnd.google.colaboratory.intrinsic+json": {
              "type": "dataframe",
              "variable_name": "df_metrics",
              "summary": "{\n  \"name\": \"df_metrics\",\n  \"rows\": 3,\n  \"fields\": [\n    {\n      \"column\": \"auc_pr\",\n      \"properties\": {\n        \"dtype\": \"number\",\n        \"std\": 0.1885214226625517,\n        \"min\": 0.5056666666666667,\n        \"max\": 0.8346758083233693,\n        \"num_unique_values\": 3,\n        \"samples\": [\n          0.5056666666666667,\n          0.8296570329060114,\n          0.8346758083233693\n        ],\n        \"semantic_type\": \"\",\n        \"description\": \"\"\n      }\n    },\n    {\n      \"column\": \"roc_auc_score\",\n      \"properties\": {\n        \"dtype\": \"number\",\n        \"std\": 0.1983702519291144,\n        \"min\": 0.5,\n        \"max\": 0.8451156615227469,\n        \"num_unique_values\": 3,\n        \"samples\": [\n          0.5,\n          0.8451156615227469,\n          0.8420383773738049\n        ],\n        \"semantic_type\": \"\",\n        \"description\": \"\"\n      }\n    },\n    {\n      \"column\": \"reg_const\",\n      \"properties\": {\n        \"dtype\": \"number\",\n        \"std\": 0.00018548749271711198,\n        \"min\": 0.0,\n        \"max\": 0.00035938136638046257,\n        \"num_unique_values\": 3,\n        \"samples\": [\n          0.0,\n          0.0001,\n          0.00035938136638046257\n        ],\n        \"semantic_type\": \"\",\n        \"description\": \"\"\n      }\n    }\n  ]\n}"
            }
          },
          "metadata": {},
          "execution_count": 31
        }
      ]
    },
    {
      "cell_type": "markdown",
      "metadata": {
        "id": "khlorKXtr1Sy"
      },
      "source": [
        "**Вопрос:** Сравните результаты LR и SVM с точки зрения всех вычисленных критериев качества, объясните различия (если они есть).\n",
        "\n"
      ]
    },
    {
      "cell_type": "markdown",
      "metadata": {
        "id": "Un_w7BMZIAf2"
      },
      "source": [
        "**Ответ:** Различий практически нет. Как видим, одна метрка чуть ниже, другая чуть выше, но в целом суть одно и то же."
      ]
    },
    {
      "cell_type": "markdown",
      "metadata": {
        "id": "RvWzOe4wP75T"
      },
      "source": [
        "#### __Задание 1.2. Визуализация в подходах SVM, LR__ (0.5 балла)\n",
        "\n"
      ]
    },
    {
      "cell_type": "markdown",
      "metadata": {
        "id": "kWS1NfYwBbQ_"
      },
      "source": [
        "В названии метода опорных векторов присутствуют некоторые \"опорные векторы\". По сути, это объекты из обучающей выборки, которые задали положение разделяющей гиперплоскости.\n",
        "\n",
        "* Сгенерируйте синтетические данные с помощью `make_classification` __с 2 признаками__, обучите на нём метод опорных векторов. Не забудьте зафиксировать seed для воспроизводимости\n",
        "\n",
        "* Визуализируйте разделяющую прямую, все объекты и выделите опорные векторы. Ниже есть шаблоны, можете воспользоваться ими, либо написать своё"
      ]
    },
    {
      "cell_type": "code",
      "execution_count": null,
      "metadata": {
        "id": "qIS-aGxi-Nr0"
      },
      "outputs": [],
      "source": [
        "from sklearn.datasets import make_classification\n",
        "from sklearn.svm import SVC\n",
        "\n",
        "X, y = make_classification(n_samples=1000, n_features=2, n_informative=2, n_redundant=0, random_state=42)\n",
        "\n",
        "model = SVC(kernel='linear').fit(X, y)"
      ]
    },
    {
      "cell_type": "code",
      "execution_count": null,
      "metadata": {
        "colab": {
          "base_uri": "https://localhost:8080/",
          "height": 430
        },
        "id": "9jA3GbO9-wcU",
        "outputId": "b099f91a-1aee-454d-ac65-6654eec63642"
      },
      "outputs": [
        {
          "output_type": "display_data",
          "data": {
            "text/plain": [
              "<Figure size 640x480 with 1 Axes>"
            ],
            "image/png": "[encoded data removed]"
          },
          "metadata": {}
        }
      ],
      "source": [
        "def plot_svm_2D(X, y, model,  plot_support=True):\n",
        "\n",
        "    # создали сетку\n",
        "    xx = np.linspace(X[:,0].min(), X[:,0].max(), 30)\n",
        "    yy = np.linspace(X[:,1].min(), X[:,1].max(), 30)\n",
        "    YY, XX = np.meshgrid(yy, xx)\n",
        "    xy = np.vstack([XX.ravel(), YY.ravel()]).T\n",
        "\n",
        "    # Ответы модели для сетки для отрисовки разделяющей прямой\n",
        "    Z = model.decision_function(xy).reshape(30, 30)\n",
        "\n",
        "    plt.contour(XX, YY, Z, colors='k', levels=[-1, 0, 1], alpha=0.5, linestyles=['--', '-', '--'])\n",
        "\n",
        "    # Отрисовали выборку\n",
        "    plt.scatter(X[:, 0], X[:, 1], c=y)\n",
        "\n",
        "    # Отрисовали опорные векторы\n",
        "    if plot_support:\n",
        "        plt.scatter(\n",
        "            model.support_vectors_[:, 0],\n",
        "            model.support_vectors_[:, 1],\n",
        "            label='support vectors',\n",
        "            s=100,\n",
        "            linewidth=1,\n",
        "            edgecolor=\"blue\",\n",
        "            facecolors='none'\n",
        "        )\n",
        "\n",
        "    plt.legend()\n",
        "\n",
        "plot_svm_2D(X, y, model)"
      ]
    },
    {
      "cell_type": "markdown",
      "metadata": {
        "id": "gdMs4iQAIYpu"
      },
      "source": [
        "**Вопрос:** какие объекты выделяются как \"опорные\"?\n",
        "\n"
      ]
    },
    {
      "cell_type": "markdown",
      "metadata": {
        "id": "dplr4chfIXnm"
      },
      "source": [
        "**Ответ:** те, что на границе между классами (ну еще в другом классе)"
      ]
    },
    {
      "cell_type": "markdown",
      "metadata": {
        "id": "gfpVN70PP75U"
      },
      "source": [
        "В отличие от метода опорных векторов, логистическая регрессия не пытается построить разделяющую гиперплоскость с максимальным отступом, а приближает в каждой точке пространства объектов вероятность положительных ответов $p(y=+1|x)$. Попробуйте нарисовать это распределение на плоскости, не забудьте отметить на ней все объекты."
      ]
    },
    {
      "cell_type": "code",
      "source": [
        "model = LogisticRegression(C=best_c_logreg).fit(X_train, y_train)"
      ],
      "metadata": {
        "id": "jfAPKb169HbB"
      },
      "execution_count": null,
      "outputs": []
    },
    {
      "cell_type": "code",
      "execution_count": null,
      "metadata": {
        "colab": {
          "base_uri": "https://localhost:8080/",
          "height": 434
        },
        "id": "k5D2jq87f3MC",
        "outputId": "df39e68b-f11b-4865-ea7f-c75cb872b7b2"
      },
      "outputs": [
        {
          "output_type": "display_data",
          "data": {
            "text/plain": [
              "<Figure size 640x480 with 2 Axes>"
            ],
            "image/png": "[encoded data removed]"
          },
          "metadata": {}
        }
      ],
      "source": [
        "def plot_logreg_2D(X, y, model):\n",
        "\n",
        "    # создали сетку\n",
        "    xx = np.linspace(X[:,0].min(), X[:,0].max(), 100)\n",
        "    yy = np.linspace(X[:,1].min(), X[:,1].max(), 100)\n",
        "    YY, XX = np.meshgrid(yy, xx)\n",
        "    xy = np.vstack([XX.ravel(), YY.ravel()]).T\n",
        "\n",
        "    # Ответы модели для сетки для отрисовки распределения\n",
        "    Z = model.predict_proba(xy)[:,1]\n",
        "    Z = Z.reshape((xx.shape[0], -1)).T\n",
        "\n",
        "    image = plt.imshow(\n",
        "        Z,\n",
        "        interpolation='nearest',\n",
        "        extent=(xx.min(), xx.max(), yy.min(), yy.max()),\n",
        "        aspect='auto',\n",
        "        origin='lower',\n",
        "        cmap=plt.cm.PuOr_r\n",
        "    )\n",
        "\n",
        "    #Отрисовали выборку\n",
        "    plt.scatter(\n",
        "        X[:, 0], X[:, 1], c=y,\n",
        "        cmap=plt.cm.Paired\n",
        "    )\n",
        "\n",
        "    plt.colorbar(image)\n",
        "\n",
        "plot_logreg_2D(X, y, model)"
      ]
    },
    {
      "cell_type": "markdown",
      "metadata": {
        "id": "AQ-Um7-6JnAp"
      },
      "source": [
        "**Вопрос:** Как на картинке визуализирована область, где модель не уверена ($p(y=+1|x) = 0.5$)? Как это обосновать теоритечески?\n",
        "\n"
      ]
    },
    {
      "cell_type": "markdown",
      "metadata": {
        "id": "SAAF0HiaIh9Z"
      },
      "source": [
        "**Ответ:** Белая прямая по горизонтали. Не уверена, потому и не окрасили"
      ]
    },
    {
      "cell_type": "markdown",
      "metadata": {
        "id": "4VbJR0e3P75U"
      },
      "source": [
        "#### __Задание 2. Калибровка вероятностей__ (1 балл)\n",
        "\n"
      ]
    },
    {
      "cell_type": "markdown",
      "metadata": {
        "id": "I8taLYSgBd9u"
      },
      "source": [
        "Перейдём к оценке качества выдаваемых алгоритмами вероятностей. Начнём с калибровочных кривых.\n",
        "\n",
        "Допустим, алгоритм возвращает некоторые числа от нуля до единицы. Хорошо ли они оценивают вероятность?\n",
        "\n",
        "Хорошо откалиброванный  классификатор должен выдавать значения так, чтобы среди образцов, для которых он дал значение, близкое к $\\alpha$, примерно $\\alpha * 100 \\%$ фактически принадлежали к положительному классу. (Например, если классификатор выдает 0.3 для некоторых, то 30% из них должны принадлежать классу 1)"
      ]
    },
    {
      "cell_type": "markdown",
      "metadata": {
        "id": "TRBGtMArIxMc"
      },
      "source": [
        "Для построения калибровочной криовой используем следующий алгоритм:\n",
        "\n",
        "Разобьем отрезок $[0, 1]$ на несколько маленьких отрезков одинаковой длины.\n",
        "\n",
        "Рассмотрим $i$-й отрезок с границами $[a_i, b_i]$ и предсказания $p_1, p_2, \\dots, p_k$, которые попали в него. Пусть им соответствуют истинные ответы $y_1, y_2, \\dots, y_k$. Если алгоритм выдает корректные вероятности, то среди этих истинных ответов должно быть примерно $(a_i + b_i) / 2$ единиц. Иными словами, если нарисовать кривую, у которой по оси X отложены центры отрезков, а по оси Y — доли единичных ответов этих в отрезках, то она должна оказаться диагональной.\n",
        "\n",
        "Ниже приведена функция, которая должна рисовать такие кривые. В ней допущено две ошибки — найдите и исправьте их."
      ]
    },
    {
      "cell_type": "code",
      "execution_count": null,
      "metadata": {
        "id": "R75uefZuP75V"
      },
      "outputs": [],
      "source": [
        "def plot_calibration_curve(y_test, preds, ax=None):\n",
        "    bin_middle_points = []\n",
        "    bin_real_ratios = []\n",
        "    n_bins = 10\n",
        "    for i in range(n_bins):\n",
        "        l = 1.0 / n_bins * i\n",
        "        r = 1.0 / n_bins * (i + 1)\n",
        "        bin_middle_points.append((l + r) / 2)\n",
        "        bin_real_ratios.append(np.mean(y_test[(preds >= l) & (preds < r)] == 1))\n",
        "    if ax is None:\n",
        "        plt.figure(figsize=(6,6))\n",
        "        plt.plot(bin_middle_points, bin_real_ratios)\n",
        "        plt.ylim([-0.05, 1.05])\n",
        "        plt.grid()\n",
        "        return\n",
        "    ax.plot(bin_middle_points, bin_real_ratios)\n",
        "    ax.set_ylim([-0.05, 1.05])\n",
        "    ax.grid()"
      ]
    },
    {
      "cell_type": "markdown",
      "metadata": {
        "id": "R13YCkxMO_R4"
      },
      "source": [
        "Сгенерируйте синтетические данные аналогично использованным в самом первом задании. Постройте калибровочные кривые на тестовой части для логистической регрессии и метода опорных векторов (не забудьте перевести его предсказания в $[0;1]$).\n",
        "\n",
        "Отрисуйте калибровочную кривую идеально откалиброванной модели (диагональ)"
      ]
    },
    {
      "cell_type": "code",
      "execution_count": null,
      "metadata": {
        "id": "Jk6pz90lQYST"
      },
      "outputs": [],
      "source": [
        "X, y = make_classification(n_samples=10000, n_features=10, n_informative=5, n_redundant=5, random_state=42)\n",
        "\n",
        "X_train, X_test, y_train, y_test = train_test_split(X, y, test_size=0.3, random_state=42)"
      ]
    },
    {
      "cell_type": "code",
      "source": [
        "fig, ax = plt.subplots(1, 2, figsize=(10, 5))\n",
        "\n",
        "y_logreg = LogisticRegression(C=best_c_logreg).fit(X_train, y_train).predict_proba(X_test)[:,1]\n",
        "plot_calibration_curve(y_test, y_logreg, ax=ax[0])\n",
        "ax[0].plot(np.linspace(0, 1, 10), np.linspace(0, 1, 10), '--')\n",
        "ax[0].set_title(\"Logistic Regression\")\n",
        "\n",
        "y_linsvc = LinearSVC(C=best_c_svm).fit(X_train, y_train).decision_function(X_test)\n",
        "plot_calibration_curve(y_test, (y_linsvc - np.min(y_linsvc)) / (np.max(y_linsvc) - np.min(y_linsvc)), ax=ax[1])\n",
        "ax[1].plot(np.linspace(0, 1, 10), np.linspace(0, 1, 10), '--')\n",
        "ax[1].set_title(\"SVM\")\n",
        "\n",
        "plt.tight_layout()\n",
        "plt.show()"
      ],
      "metadata": {
        "colab": {
          "base_uri": "https://localhost:8080/",
          "height": 507
        },
        "id": "47wejK0nEkLR",
        "outputId": "f8f04d3f-e6d7-43b7-ab72-c361196b4255"
      },
      "execution_count": null,
      "outputs": [
        {
          "output_type": "display_data",
          "data": {
            "text/plain": [
              "<Figure size 1000x500 with 2 Axes>"
            ],
            "image/png": "[encoded data removed]"
          },
          "metadata": {}
        }
      ]
    },
    {
      "cell_type": "markdown",
      "metadata": {
        "id": "t15IAX7GPJjF"
      },
      "source": [
        "**Вопрос**: хорошо ли откалиброваны кривые для SVM, логистической регрессии? Подумайте, как это следует из вида кривой\n",
        "\n",
        "**Ответ:** Это видно из колебаний от диагонали, т.е. лог рег лучше откалиброван.\n",
        "\n",
        "Из формальных способов в этом убедиться есть знакомый вам LogLoss, который напрямую оценивает вероятности,\n",
        "$$\\text{LogLoss} = -\\frac{1}{N}\\sum_{i} \\sum_{k \\in {0. 1}}\\log p_k[y_i = k]$$\n",
        "а так же BrierScore, который подсчитывает отклонение между получившейся вероятностью и реальным значением таргета.\n",
        "$$\\text{BrierScore} = \\frac{1}{N}\\sum_{i} (p_i - y_i)^2$$\n",
        "Посмотрите на них тоже и сделайте вывод"
      ]
    },
    {
      "cell_type": "code",
      "source": [
        "from sklearn.metrics import log_loss, brier_score_loss\n",
        "\n",
        "logloss_logreg = log_loss(y_test, y_logreg)\n",
        "brier_logreg = brier_score_loss(y_test, y_logreg)\n",
        "\n",
        "logloss_svm = log_loss(y_test, (y_linsvc - np.min(y_linsvc)) / (np.max(y_linsvc) - np.min(y_linsvc)))\n",
        "brier_svm = brier_score_loss(y_test, (y_linsvc - np.min(y_linsvc)) / (np.max(y_linsvc) - np.min(y_linsvc)))\n",
        "\n",
        "print(f\"Logistic Regression - LogLoss: {logloss_logreg:.4f}, BrierScore: {brier_logreg:.4f}\")\n",
        "print(f\"SVM - LogLoss: {logloss_svm:.4f}, BrierScore: {brier_svm:.4f}\")\n"
      ],
      "metadata": {
        "id": "tQ8d-pl26rQU",
        "colab": {
          "base_uri": "https://localhost:8080/"
        },
        "outputId": "48f51e3c-cb5b-4100-8bd1-f339507014e8"
      },
      "execution_count": null,
      "outputs": [
        {
          "output_type": "stream",
          "name": "stdout",
          "text": [
            "Logistic Regression - LogLoss: 0.5018, BrierScore: 0.1651\n",
            "SVM - LogLoss: 0.5585, BrierScore: 0.1863\n"
          ]
        }
      ]
    },
    {
      "cell_type": "markdown",
      "source": [
        "По обеим метрикам выигрывает лог лосс."
      ],
      "metadata": {
        "id": "oZPls8IgCt09"
      }
    },
    {
      "cell_type": "markdown",
      "metadata": {
        "id": "cgANQZyhPHIX"
      },
      "source": [
        "Изучите распределение ответов классификаторов при помощи гистограмм"
      ]
    },
    {
      "cell_type": "code",
      "execution_count": null,
      "metadata": {
        "id": "GAP1X3NObCXp",
        "colab": {
          "base_uri": "https://localhost:8080/",
          "height": 506
        },
        "outputId": "a1c10810-b6f8-4380-ba08-3a28c722eac3"
      },
      "outputs": [
        {
          "output_type": "display_data",
          "data": {
            "text/plain": [
              "<Figure size 1000x500 with 2 Axes>"
            ],
            "image/png": "[encoded data removed]"
          },
          "metadata": {}
        }
      ],
      "source": [
        "plt.figure(figsize=(10, 5))\n",
        "\n",
        "plt.subplot(1, 2, 1)\n",
        "plt.hist(y_logreg, bins=10, alpha=0.7, label=\"Logistic Regression\")\n",
        "plt.xlabel(\"Predicted probabilities\")\n",
        "plt.ylabel(\"Frequency\")\n",
        "plt.legend()\n",
        "\n",
        "plt.subplot(1, 2, 2)\n",
        "plt.hist((y_linsvc - np.min(y_linsvc)) / (np.max(y_linsvc) - np.min(y_linsvc)), bins=10, alpha=0.7, label=\"SVM\")\n",
        "plt.xlabel(\"Predicted probabilities\")\n",
        "plt.ylabel(\"Frequency\")\n",
        "plt.legend()\n",
        "\n",
        "plt.tight_layout()\n",
        "plt.show()\n"
      ]
    },
    {
      "cell_type": "markdown",
      "metadata": {
        "id": "S7ga-L4CPK_O"
      },
      "source": [
        "**Вопрос:** Чем они различаются? Чем вы можете объяснить это?"
      ]
    },
    {
      "cell_type": "markdown",
      "metadata": {
        "id": "LOmrLYqdPP_0"
      },
      "source": [
        "**Ответ:** У лог рега график более равномерный, т.к. мы предсказываем вероятности. У свм мохож на нормальное, т.к. мы производим перенормировку, но сам свм он же про расстояния, а не вероятности, потому получается какаяя-то ерунда."
      ]
    },
    {
      "cell_type": "markdown",
      "metadata": {
        "id": "M9-6ClfaP75W"
      },
      "source": [
        "Воспользуйтесь `CalibratedClassifierCV` из `sklearn` для калибровки вероятностей метода опорных векторов на обучении и постройте с его помощью  предсказания для тестовой выборки."
      ]
    },
    {
      "cell_type": "code",
      "execution_count": null,
      "metadata": {
        "id": "RR3pVlSNP75W",
        "colab": {
          "base_uri": "https://localhost:8080/",
          "height": 545
        },
        "outputId": "53807797-176b-4ed4-da19-2df1f48be4a7"
      },
      "outputs": [
        {
          "output_type": "display_data",
          "data": {
            "text/plain": [
              "<Figure size 600x600 with 1 Axes>"
            ],
            "image/png": "[encoded data removed]"
          },
          "metadata": {}
        }
      ],
      "source": [
        "from sklearn.calibration import CalibratedClassifierCV\n",
        "\n",
        "model = SVC(kernel='linear', C=best_c_svm).fit(X_train, y_train)\n",
        "calibrated_svm = CalibratedClassifierCV(model, cv='prefit')\n",
        "calibrated_svm.fit(X_train, y_train)\n",
        "\n",
        "y_cal = calibrated_svm.predict_proba(X_test)[:,1]\n",
        "plot_calibration_curve(y_test, y_cal)\n",
        "plt.plot(np.linspace(0, 1, 10), np.linspace(0, 1, 10), '--')\n",
        "plt.title(\"Calibrated SVM\")\n",
        "plt.show()"
      ]
    },
    {
      "cell_type": "markdown",
      "metadata": {
        "id": "PnwOFuW6XyPc"
      },
      "source": [
        "**Вопрос:** Улучшились ли калибровочная кривая и качество калибровки?\n",
        "\n",
        "**Ответ:** Стало намного лучше (если вместо базового sigmoid поставить isotonic, не совсем так гладео получаестя, но так все ок)"
      ]
    },
    {
      "cell_type": "markdown",
      "metadata": {
        "id": "p2dpbXgoP75X"
      },
      "source": [
        "##### __Бонус: Авторское решение__ (0.5 балла)\n",
        "\n",
        "Реализуйте свою функцию для калибровки вероятностей, используя любой из известных подходов. Кратко опишите ваш подход и продемонстрируйте результаты. Ключевые слова для вдохновения: `Platt`, `Isotonic`."
      ]
    },
    {
      "cell_type": "code",
      "execution_count": null,
      "metadata": {
        "id": "R8mtQgBJP75X"
      },
      "outputs": [],
      "source": [
        "# your code here"
      ]
    },
    {
      "cell_type": "markdown",
      "metadata": {
        "id": "FaOVU4vJP75X"
      },
      "source": [
        "# Часть 2. Обработка категориальных переменных (4 балла + 1.5 бонус)"
      ]
    },
    {
      "cell_type": "markdown",
      "metadata": {
        "id": "8KQ9ywUEP75X"
      },
      "source": [
        "Как мы знаем, перекодировать категориальную переменную в список чисел (к примеру 1, 2, 3, ..., n) плохо, поскольку это бы задало на множестве ее значений некоторый порядок, не имеющий смысла.\n",
        "\n",
        "В этой части мы рассмотрим два основных способа обработки категориальных значений:\n",
        "- One-hot-кодирование\n",
        "- Счётчики (CTR, mean-target кодирование, ...) — каждый категориальный признак заменяется на среднее значение целевой переменной по всем объектам, имеющим одинаковое значение в этом признаке.\n",
        "\n",
        "Начнём с one-hot-кодирования. Допустим наш категориальный признак $f_j(x)$ принимает значения из множества $C=\\{c_1, \\dots, c_m\\}$. Заменим его на $m$ бинарных признаков $b_1(x), \\dots, b_m(x)$, каждый из которых является индикатором одного из возможных категориальных значений:\n",
        "$$\n",
        "b_i(x) = [f_j(x) = c_i]\n",
        "$$"
      ]
    },
    {
      "cell_type": "markdown",
      "metadata": {
        "id": "pPsScraBP75Y"
      },
      "source": [
        "#### __Подготовка данных__\n",
        "\n",
        "*(бесценный шаг)*\n",
        "\n",
        "Разберем датасет [покупок велосипедов](https://www.kaggle.com/datasets/heeraldedhia/bike-buyers/): даны признаки покупателя, требуется предсказать, купит ли он/она велосипед\n",
        "\n"
      ]
    },
    {
      "cell_type": "markdown",
      "metadata": {
        "id": "BPuDzNoCo2nk"
      },
      "source": [
        "Замените пропуски в категориальных переменных на новую категорию (`'undefined'`)\n",
        "\n",
        "Разделите признаки на 2 таблицы: категориальные и числовые признаки"
      ]
    },
    {
      "cell_type": "code",
      "source": [
        "import kagglehub\n",
        "\n",
        "path = kagglehub.dataset_download(\"heeraldedhia/bike-buyers\") +  \"/bike_buyers.csv\""
      ],
      "metadata": {
        "id": "5MTr7gi1PMqv"
      },
      "execution_count": 189,
      "outputs": []
    },
    {
      "cell_type": "code",
      "execution_count": 190,
      "metadata": {
        "id": "rGWlojJwOEjL"
      },
      "outputs": [],
      "source": [
        "# Прочитаем датасет\n",
        "data = pd.read_csv(\"bike_buyers.csv\")\n",
        "\n",
        "# Заменим пропуски категориальных переменных\n",
        "categorical_columns = data.select_dtypes(include='object').columns\n",
        "data[categorical_columns] = data[categorical_columns].fillna('undefined')\n",
        "\n",
        "# Отделим X и y\n",
        "X = data.drop(columns=['Purchased Bike'])\n",
        "y = (data['Purchased Bike'] == 'Yes').astype('int64')\n",
        "\n",
        "# Разделим на категориальные признаки и числовые\n",
        "X_numerical = X.select_dtypes(include=['int64', 'float64'])\n",
        "X_categorical = X.select_dtypes(include='object')"
      ]
    },
    {
      "cell_type": "markdown",
      "metadata": {
        "id": "ch0M2v8Akirw"
      },
      "source": [
        "В начале поработаем только с категориальными признаками"
      ]
    },
    {
      "cell_type": "code",
      "execution_count": 191,
      "metadata": {
        "id": "QIYErZMnP75Z"
      },
      "outputs": [],
      "source": [
        "from sklearn.model_selection import train_test_split\n",
        "\n",
        "X_train, X_test, y_train, y_test = train_test_split(X_categorical, y, test_size=0.25, random_state=777, stratify=y)"
      ]
    },
    {
      "cell_type": "markdown",
      "metadata": {
        "id": "m5LjHkuCP75Z"
      },
      "source": [
        "#### __Задание 3. OrdinalEncoder__  (0.5 балла)\n",
        "\n",
        "Закодируйте категориальные признаки с помощью `OrdinalEncoder`. Посчитайте качество (в этом задании будем работать c __`AUC-PR`__) при применении логистической регрессии. Замерьте время, потребовавшееся на обучение модели, с учетом кодирования признаков."
      ]
    },
    {
      "cell_type": "code",
      "execution_count": 192,
      "metadata": {
        "id": "bdZT2tXXP75a",
        "colab": {
          "base_uri": "https://localhost:8080/"
        },
        "outputId": "5cbbf2bd-4e47-457a-ab91-f7c8db9aafcb"
      },
      "outputs": [
        {
          "output_type": "stream",
          "name": "stdout",
          "text": [
            "AUC-PR: 0.5793\n",
            "Time: 0.0144\n"
          ]
        }
      ],
      "source": [
        "from sklearn.preprocessing import OrdinalEncoder\n",
        "import time\n",
        "\n",
        "ordinal_encoder = OrdinalEncoder()\n",
        "start_time = time.time()\n",
        "\n",
        "X_train_ordinal = ordinal_encoder.fit_transform(X_train)\n",
        "X_test_ordinal = ordinal_encoder.transform(X_test)\n",
        "\n",
        "logreg = LogisticRegression().fit(X_train_ordinal, y_train)\n",
        "\n",
        "ordinal_time = time.time() - start_time\n",
        "\n",
        "y_pred_ordinal = logreg.predict_proba(X_test_ordinal)[:, 1]\n",
        "precision, recall, _ = precision_recall_curve(y_test, y_pred_ordinal)\n",
        "\n",
        "print(f\"AUC-PR: {auc(recall, precision):.4f}\")\n",
        "print(f\"Time: {ordinal_time:.4f}\")\n"
      ]
    },
    {
      "cell_type": "markdown",
      "metadata": {
        "id": "ScIo7NthP75a"
      },
      "source": [
        "#### __Задание 4. One-Hot Encoding__ (0.5 балла)\n",
        "\n"
      ]
    },
    {
      "cell_type": "markdown",
      "metadata": {
        "id": "p3sFuKAtLwOx"
      },
      "source": [
        "Закодируйте все категориальные признаки с помощью one-hot-кодирования. Обучите логистическую регрессию и посмотрите, как изменилось качество модели (в сравнении с тем, что было до кодирования). Измерьте время, потребовавшееся на кодирование категориальных признаков и обучение модели."
      ]
    },
    {
      "cell_type": "code",
      "execution_count": 193,
      "metadata": {
        "id": "t4PbjLIHP75a",
        "colab": {
          "base_uri": "https://localhost:8080/"
        },
        "outputId": "33e99ae8-5f4f-4a1b-ab2b-280382ccaef7"
      },
      "outputs": [
        {
          "output_type": "stream",
          "name": "stdout",
          "text": [
            "AUC-PR: 0.6615\n",
            "Time: 0.0262\n"
          ]
        }
      ],
      "source": [
        "from sklearn.preprocessing import OneHotEncoder\n",
        "import time\n",
        "\n",
        "onehot_encoder  = OneHotEncoder()\n",
        "start_time = time.time()\n",
        "\n",
        "X_train_ordinal = onehot_encoder.fit_transform(X_train)\n",
        "X_test_ordinal = onehot_encoder.transform(X_test)\n",
        "\n",
        "logreg = LogisticRegression().fit(X_train_ordinal, y_train)\n",
        "\n",
        "ordinal_time = time.time() - start_time\n",
        "\n",
        "y_pred_ordinal = logreg.predict_proba(X_test_ordinal)[:, 1]\n",
        "precision, recall, _ = precision_recall_curve(y_test, y_pred_ordinal)\n",
        "\n",
        "print(f\"AUC-PR: {auc(recall, precision):.4f}\")\n",
        "print(f\"Time: {ordinal_time:.4f}\")\n"
      ]
    },
    {
      "cell_type": "markdown",
      "metadata": {
        "id": "9p-qOs6lP75b"
      },
      "source": [
        "Как можно заметить, one-hot-кодирование может сильно увеличивать количество признаков. Это сказывается на объеме необходимой памяти, особенно, если некоторый признак имеет большое количество значений.\n"
      ]
    },
    {
      "cell_type": "markdown",
      "metadata": {
        "id": "l1q3k3yaLF8Y"
      },
      "source": [
        "#### __Задание 5. Mean-target Encoding__ (1 балл)"
      ]
    },
    {
      "cell_type": "markdown",
      "metadata": {
        "id": "tanu5Hm5Lr7R"
      },
      "source": [
        "> Проблемы разрастания числа признаков можно избежать в другом способе кодирования категориальных признаков — mean-target encoding (для простоты будем называть это __счётчиками__). Сравним эффективность методов в рамках нашей маркетинговой задачи.\n",
        "\n",
        "> Основная идея в том, что важны не сами категории, а значения целевой переменной, которые имеют объекты этой категории. Каждый категориальный признак мы заменим средним значением целевой переменной по всем объектам этой же категории:\n",
        "\n",
        "$$\n",
        "g_j(x, X) = \\frac{\\sum_{i=1}^{\\ell} [f_j(x) = f_j(x_i)][y_i = +1]}{\\sum_{i=1}^{\\ell} [f_j(x) = f_j(x_i)]}\n",
        "$$\n",
        "\n",
        "Закодируйте категориальные переменные с помощью счётчиков (ровно так, как описано выше, без каких-либо хитростей). Обучите логистическую регрессию и посмотрите на качество модели на тестовом множестве.\n",
        "\n",
        "Сравните время обучения с предыдущими экспериментами (с учетом кодирования признаков)."
      ]
    },
    {
      "cell_type": "code",
      "execution_count": 194,
      "metadata": {
        "id": "v9MNSGWrgz5-",
        "colab": {
          "base_uri": "https://localhost:8080/"
        },
        "outputId": "fda09308-dfec-4c50-cc7f-ca896d008232"
      },
      "outputs": [
        {
          "output_type": "stream",
          "name": "stdout",
          "text": [
            "AUC-PR: 0.6527\n",
            "Time: 0.0457\n"
          ]
        }
      ],
      "source": [
        "start_time = time.time()\n",
        "\n",
        "train_encoded = X_train.copy()\n",
        "test_encoded = X_test.copy()\n",
        "for col in X_train.columns:\n",
        "    means = y_train.groupby(X_train[col]).mean()\n",
        "    train_encoded[col] = X_train[col].map(means)\n",
        "    test_encoded[col] = X_test[col].map(means).fillna(means.mean())\n",
        "\n",
        "logreg = LogisticRegression().fit(train_encoded, y_train)\n",
        "\n",
        "ordinal_time = time.time() - start_time\n",
        "\n",
        "y_pred_ordinal = logreg.predict_proba(test_encoded)[:, 1]\n",
        "precision, recall, _ = precision_recall_curve(y_test, y_pred_ordinal)\n",
        "\n",
        "print(f\"AUC-PR: {auc(recall, precision):.4f}\")\n",
        "print(f\"Time: {ordinal_time:.4f}\")"
      ]
    },
    {
      "cell_type": "markdown",
      "source": [
        "Учимся в среднем столько же, сколько и OneHot (может чуть быстрееее), по качеству так же"
      ],
      "metadata": {
        "id": "19wXJUepXbZg"
      }
    },
    {
      "cell_type": "markdown",
      "metadata": {
        "id": "ABXherJ3LGBj"
      },
      "source": [
        "##### __Бонус: Эффективная реализация (1 балл)__\n",
        "\n",
        "Здесь и далее реализуйте вычисление счетчиков с помощью трансформера (наследуйтесь от классов `BaseEstimator, TransformerMixin` из `sklearn.base`). Обратите внимание, что все вычисления должны быть векторизованными, трансформер не должен модифицировать передаваемую ему выборку inplace, а все необходимые статистики нужно считать только по обучающей выборке в методе `fit`. Ваш трансформер должен принимать при инициализации список из категориальных признаков и изменять только их."
      ]
    },
    {
      "cell_type": "code",
      "execution_count": 195,
      "metadata": {
        "id": "Kk8D4dDuP75b"
      },
      "outputs": [],
      "source": [
        "from sklearn.base import BaseEstimator, TransformerMixin\n",
        "\n",
        "class MeanTargetEncoder(BaseEstimator, TransformerMixin):\n",
        "    def __init__(self, categorical_columns):\n",
        "        self.categorical_columns = categorical_columns\n",
        "        self.encodings = {}\n",
        "\n",
        "    def fit(self, X, y):\n",
        "        for col in self.categorical_columns:\n",
        "            self.encodings[col] = y.groupby(X[col]).mean()\n",
        "        return self\n",
        "\n",
        "    def transform(self, X):\n",
        "        X_transformed = X.copy()\n",
        "        for col in self.categorical_columns:\n",
        "            X_transformed[col] = X[col].map(self.encodings[col])\n",
        "        return X_transformed"
      ]
    },
    {
      "cell_type": "code",
      "source": [
        "start_time = time.time()\n",
        "\n",
        "encoder = MeanTargetEncoder(X_train.columns)\n",
        "train_encoded = encoder.fit_transform(X_train, y_train)\n",
        "test_encoded = encoder.transform(X_test)\n",
        "\n",
        "logreg = LogisticRegression().fit(train_encoded, y_train)\n",
        "\n",
        "ordinal_time = time.time() - start_time\n",
        "\n",
        "y_pred_ordinal = logreg.predict_proba(test_encoded)[:, 1]\n",
        "precision, recall, _ = precision_recall_curve(y_test, y_pred_ordinal)\n",
        "\n",
        "print(f\"AUC-PR: {auc(recall, precision):.4f}\")\n",
        "print(f\"Time: {ordinal_time:.4f}\")"
      ],
      "metadata": {
        "colab": {
          "base_uri": "https://localhost:8080/"
        },
        "id": "koR0doTwYd4_",
        "outputId": "931ef79d-52c0-4258-8eb9-1d22d1b9e88e"
      },
      "execution_count": 196,
      "outputs": [
        {
          "output_type": "stream",
          "name": "stdout",
          "text": [
            "AUC-PR: 0.6527\n",
            "Time: 0.0253\n"
          ]
        }
      ]
    },
    {
      "cell_type": "markdown",
      "metadata": {
        "id": "bH-JPoINqJ62"
      },
      "source": [
        "_______\n",
        "\n",
        "__Методы борьбы с переобучением счетчиков__\n",
        "\n",
        "\n",
        "Отметим, что mean-target encoding признаки сами по себе являются классификаторами и, обучаясь на них, мы допускаем \"утечку\" целевой переменной в признаки. Это ведёт к __переобучению__, поэтому считать такие признаки необходимо таким образом, чтобы при вычислении для конкретного объекта его __целевая метка не использовалась__.\n",
        "\n",
        "Это можно делать следующими способами:\n",
        "1. Вычислять значение счётчика по всем объектам расположенным выше в датасете (например, если у нас выборка отсортирована по времени).\n",
        "2. Вычислять по фолдам, то есть делить выборку на некоторое количество частей и подсчитывать значение признаков по всем фолдам кроме текущего (как делается в кросс-валидации).\n",
        "3. Внесение некоторого шума в посчитанные признаки.\n",
        "\n",
        "#### __Задание 6. Пошумим__  (0.5 балла)\n",
        "\n",
        "Реализуйте корректное вычисление счётчиков самым простым способом — добавление шума к значениям.  При этом постарайтесь найти баланс между борьбой с переобучением и сохранением полезности признаков. Снова обучите логистическую регрессию, оцените качество."
      ]
    },
    {
      "cell_type": "code",
      "execution_count": 197,
      "metadata": {
        "id": "HiqJBxrAP75c"
      },
      "outputs": [],
      "source": [
        "class MeanTargetEncoderWithNoise(BaseEstimator, TransformerMixin):\n",
        "    def __init__(self, categorical_columns, noise_std=0.01):\n",
        "        self.categorical_columns = categorical_columns\n",
        "        self.noise_std = noise_std\n",
        "        self.encodings = {}\n",
        "\n",
        "    def fit(self, X, y):\n",
        "        self.encodings = {}\n",
        "        for col in self.categorical_columns:\n",
        "            means = y.groupby(X[col]).mean()\n",
        "            noise = np.random.normal(0, self.noise_std, size=means.shape)\n",
        "            self.encodings[col] = means + noise\n",
        "        return self\n",
        "\n",
        "    def transform(self, X):\n",
        "        X_transformed = X.copy()\n",
        "        for col in self.categorical_columns:\n",
        "            X_transformed[col] = X[col].map(self.encodings[col]).fillna(self.encodings[col].mean())\n",
        "        return X_transformed"
      ]
    },
    {
      "cell_type": "code",
      "source": [
        "start_time = time.time()\n",
        "\n",
        "encoder = MeanTargetEncoderWithNoise(X_train.columns)\n",
        "train_encoded = encoder.fit_transform(X_train, y_train)\n",
        "test_encoded = encoder.transform(X_test)\n",
        "\n",
        "logreg = LogisticRegression().fit(train_encoded, y_train)\n",
        "\n",
        "ordinal_time = time.time() - start_time\n",
        "\n",
        "y_pred_ordinal = logreg.predict_proba(test_encoded)[:, 1]\n",
        "precision, recall, _ = precision_recall_curve(y_test, y_pred_ordinal)\n",
        "\n",
        "print(f\"AUC-PR: {auc(recall, precision):.4f}\")\n",
        "print(f\"Time: {ordinal_time:.4f}\")"
      ],
      "metadata": {
        "colab": {
          "base_uri": "https://localhost:8080/"
        },
        "id": "nxwfXj9Pamly",
        "outputId": "c3472259-6aaf-42bf-f716-284843a85a1d"
      },
      "execution_count": 198,
      "outputs": [
        {
          "output_type": "stream",
          "name": "stdout",
          "text": [
            "AUC-PR: 0.6694\n",
            "Time: 0.0272\n"
          ]
        }
      ]
    },
    {
      "cell_type": "markdown",
      "metadata": {
        "id": "UOxwE8rGLSzH"
      },
      "source": [
        "**Вопрос:** Сделайте выводы. Помогло ли добавление шума? Почему?\n",
        "\n",
        "**Ответ:** Стало совсем чут лучше (если взять больше шума, то станет плохо). Ковариация билинейна, а потому добавление шума как сохраняло, так и сохранит зависимоть"
      ]
    },
    {
      "cell_type": "markdown",
      "metadata": {
        "id": "1GtUtPCjP75c"
      },
      "source": [
        "##### __Бонус: другой подход__ (0.5 балла)\n",
        "\n",
        "Посчитайте корректные счётчики первым или вторым способов из описанных выше (не забудьте добавить и шум).\n",
        "\n",
        "\n"
      ]
    },
    {
      "cell_type": "code",
      "execution_count": 199,
      "metadata": {
        "id": "AjqsSTd6P75c"
      },
      "outputs": [],
      "source": [
        "from sklearn.model_selection import KFold\n",
        "\n",
        "class MeanTargetEncoderWithKFold(BaseEstimator, TransformerMixin):\n",
        "    def __init__(self, categorical_columns, n_splits=5, noise_std=0.01):\n",
        "        self.categorical_columns = categorical_columns\n",
        "        self.n_splits = n_splits\n",
        "        self.noise_std = noise_std\n",
        "        self.encodings = {}\n",
        "\n",
        "    def fit(self, X, y):\n",
        "        self.encodings = {}\n",
        "        kf = KFold(n_splits=self.n_splits, shuffle=True, random_state=42)\n",
        "        for col in self.categorical_columns:\n",
        "            self.encodings[col] = {}\n",
        "            for train_index, val_index in kf.split(X):\n",
        "                X_train, X_val = X.iloc[train_index], X.iloc[val_index]\n",
        "                y_train, y_val = y.iloc[train_index], y.iloc[val_index]\n",
        "\n",
        "                means = y_train.groupby(X_train[col]).mean()\n",
        "                noise = np.random.normal(0, self.noise_std, size=means.shape)\n",
        "                self.encodings[col].update((k, v + noise[i]) for i, (k, v) in enumerate(means.items()))\n",
        "\n",
        "        return self\n",
        "\n",
        "    def transform(self, X):\n",
        "        X_transformed = X.copy()\n",
        "        for col in self.categorical_columns:\n",
        "            X_transformed[col] = X_transformed[col].map(self.encodings[col])\n",
        "        return X_transformed"
      ]
    },
    {
      "cell_type": "code",
      "source": [
        "start_time = time.time()\n",
        "\n",
        "encoder = MeanTargetEncoderWithKFold(X_train.columns)\n",
        "train_encoded = encoder.fit_transform(X_train, y_train)\n",
        "test_encoded = encoder.transform(X_test)\n",
        "\n",
        "logreg = LogisticRegression().fit(train_encoded, y_train)\n",
        "\n",
        "ordinal_time = time.time() - start_time\n",
        "\n",
        "y_pred_ordinal = logreg.predict_proba(test_encoded)[:, 1]\n",
        "precision, recall, _ = precision_recall_curve(y_test, y_pred_ordinal)\n",
        "\n",
        "print(f\"AUC-PR: {auc(recall, precision):.4f}\")\n",
        "print(f\"Time: {ordinal_time:.4f}\")"
      ],
      "metadata": {
        "colab": {
          "base_uri": "https://localhost:8080/"
        },
        "id": "rpEUsJt9Y9lY",
        "outputId": "27ccf47b-f308-4d77-c07e-a4b49be90bb4"
      },
      "execution_count": 200,
      "outputs": [
        {
          "output_type": "stream",
          "name": "stdout",
          "text": [
            "AUC-PR: 0.6665\n",
            "Time: 0.1029\n"
          ]
        }
      ]
    },
    {
      "cell_type": "markdown",
      "metadata": {
        "id": "aMe2b5i6P75d"
      },
      "source": [
        "#### __Задание 7. Сглаживание счетчиков__  (1 балл)"
      ]
    },
    {
      "cell_type": "markdown",
      "metadata": {
        "id": "4gnmTaJqP75d"
      },
      "source": [
        "> Теперь ответим на следующий вопрос: что будет, если некоторая категория встречается в выборке всего несколько раз? По этой причине производится сглаживание счётчиков. Например, на практике хорошие результаты показывает использование сглаживания средним по всей выборке:\n",
        "$$\n",
        "g_j(x, X) = \\frac{\\sum_{i=1}^{\\ell} [f_j(x) = f_j(x_i)][y_i = +1] + C \\times \\text{global_mean}}{\\sum_{i=1}^{\\ell} [f_j(x) = f_j(x_i)] + C}\n",
        "$$\n",
        "где $\\text{global_mean}$ — доля объектов положительного класса в выборке, $C$ — параметр, определяющий степень сглаживания (можно использовать 10 или подобрать для каждого признака свой). Идея в том, что мы \"разбавляем\" среднее значение по категории глобальным средним значением. И тем меньше, чем большее количество объектов этой категории встречается в выборке.\n",
        "\n",
        "> Вместо среднего значения целевой переменной для сглаживания можно использовать любое другое значение от 0 до 1 (этот параметр иногда называют $prior$). Можно сделать несколько признаков с разными значениями параметра. На практике в задачах бинарной классификации полезными бывают даже отрицательные значения!\n",
        "\n",
        "Добавьте сглаживание, описанное выше и повторите эксперименты. Подберите $C$, чтобы качество было лучше, чем при использовании One-Hot-Encoding\n"
      ]
    },
    {
      "cell_type": "code",
      "execution_count": 201,
      "metadata": {
        "id": "4xRMlYQlP75d"
      },
      "outputs": [],
      "source": [
        "class SmoothedMeanTargetEncoder(BaseEstimator, TransformerMixin):\n",
        "    def __init__(self, categorical_columns, smoothing=10):\n",
        "        self.categorical_columns = categorical_columns\n",
        "        self.smoothing = smoothing\n",
        "        self.encodings = {}\n",
        "        self.global_mean = None\n",
        "\n",
        "    def fit(self, X, y):\n",
        "        self.global_mean = y.mean()\n",
        "        self.encodings = {}\n",
        "        for col in self.categorical_columns:\n",
        "            means = y.groupby(X[col]).sum()\n",
        "            length = y.groupby(X[col]).size()\n",
        "            self.encodings[col] = ((means + self.smoothing * np.mean(y_train)) /\n",
        "                                   (length + self.smoothing))\n",
        "        return self\n",
        "\n",
        "    def transform(self, X):\n",
        "        X_transformed = X.copy()\n",
        "        for col in self.categorical_columns:\n",
        "            X_transformed[col] = X[col].map(self.encodings[col])\n",
        "\n",
        "        return X_transformed"
      ]
    },
    {
      "cell_type": "code",
      "source": [
        "start_time = time.time()\n",
        "\n",
        "encoder = SmoothedMeanTargetEncoder(X_train.columns).fit(X_train, y_train)\n",
        "train_encoded = encoder.transform(X_train)\n",
        "test_encoded = encoder.transform(X_test)\n",
        "\n",
        "logreg = LogisticRegression().fit(train_encoded, y_train)\n",
        "\n",
        "ordinal_time = time.time() - start_time\n",
        "\n",
        "y_pred_ordinal = logreg.predict_proba(test_encoded)[:, 1]\n",
        "precision, recall, _ = precision_recall_curve(y_test, y_pred_ordinal)\n",
        "\n",
        "print(f\"AUC-PR: {auc(recall, precision):.4f}\")\n",
        "print(f\"Time: {ordinal_time:.4f}\")"
      ],
      "metadata": {
        "colab": {
          "base_uri": "https://localhost:8080/"
        },
        "id": "HFFYp88YfPv8",
        "outputId": "57a4b056-d189-4f5a-88a7-96ebdf1576c0"
      },
      "execution_count": 202,
      "outputs": [
        {
          "output_type": "stream",
          "name": "stdout",
          "text": [
            "AUC-PR: 0.6690\n",
            "Time: 0.0455\n"
          ]
        }
      ]
    },
    {
      "cell_type": "markdown",
      "metadata": {
        "id": "TksKMbr_P75d"
      },
      "source": [
        "#### **Задание 8. Числовые или категориальные?**  (0.5 балла)\n",
        "\n",
        "Теперь добавим числовые признаки к счётчикам (тем, которые дали наибольший прирост качества).\n",
        "\n",
        "\n",
        "Проверьте их на наличие выбросов и заполните пропуски средним или медианой, подумайте, что лучше в условиях наших данных\n",
        "\n"
      ]
    },
    {
      "cell_type": "code",
      "execution_count": null,
      "metadata": {
        "id": "NGE4O-alP75e"
      },
      "outputs": [],
      "source": [
        "X_numerical.fillna(X_numerical.median(), inplace=True)"
      ]
    },
    {
      "cell_type": "code",
      "source": [
        "X_numerical.nunique().sum()"
      ],
      "metadata": {
        "colab": {
          "base_uri": "https://localhost:8080/"
        },
        "id": "smmBYPsweGm5",
        "outputId": "1edf0f67-d2aa-4565-e538-60d519cab1c7"
      },
      "execution_count": null,
      "outputs": [
        {
          "output_type": "execute_result",
          "data": {
            "text/plain": [
              "1080"
            ]
          },
          "metadata": {},
          "execution_count": 146
        }
      ]
    },
    {
      "cell_type": "code",
      "source": [
        "X_numerical = X_numerical.drop(columns=['ID'])"
      ],
      "metadata": {
        "id": "qK-RWB6JeKMq"
      },
      "execution_count": null,
      "outputs": []
    },
    {
      "cell_type": "code",
      "source": [
        "X_numerical.nunique().sum()"
      ],
      "metadata": {
        "colab": {
          "base_uri": "https://localhost:8080/"
        },
        "id": "VFkomY_hedLw",
        "outputId": "9c752f66-bd90-4f23-d375-5b0e6c9faa30"
      },
      "execution_count": null,
      "outputs": [
        {
          "output_type": "execute_result",
          "data": {
            "text/plain": [
              "80"
            ]
          },
          "metadata": {},
          "execution_count": 148
        }
      ]
    },
    {
      "cell_type": "markdown",
      "metadata": {
        "id": "JfqXdaqblnZo"
      },
      "source": [
        " Сейчас для числовых признаков мы ищем линейную зависимость, что в общем случае  может быть неверной гипотезой. Тем не менее, у этих признаков есть довольно много уникальных значений (сколько?), поэтому применять к ним one-hot кодирование может оказаться излишним. Попробуйте закодировать эти признаки с помощью счетчиков. Стало ли лучше?"
      ]
    },
    {
      "cell_type": "code",
      "source": [
        "X_trainn, X_testn, y_trainn, y_testn = train_test_split(X_numerical, y, test_size=0.25, random_state=777, stratify=y)"
      ],
      "metadata": {
        "id": "06Lt3pvgeqi0"
      },
      "execution_count": null,
      "outputs": []
    },
    {
      "cell_type": "code",
      "source": [
        "X_train_combined = pd.concat([X_train, X_trainn], axis=1)\n",
        "X_test_combined = pd.concat([X_test, X_testn], axis=1)"
      ],
      "metadata": {
        "id": "gKqfsHKfgoUW"
      },
      "execution_count": null,
      "outputs": []
    },
    {
      "cell_type": "code",
      "source": [
        "X_train_combined.head()"
      ],
      "metadata": {
        "colab": {
          "base_uri": "https://localhost:8080/",
          "height": 206
        },
        "id": "LSOZmXYiiL9T",
        "outputId": "a0b8cf8f-b386-48a9-a3b1-c6f0b66a3ed4"
      },
      "execution_count": null,
      "outputs": [
        {
          "output_type": "execute_result",
          "data": {
            "text/plain": [
              "    Marital Status  Gender        Education      Occupation Home Owner  \\\n",
              "345        Married  Female        Bachelors        Clerical        Yes   \n",
              "540         Single  Female  Graduate Degree      Management        Yes   \n",
              "110         Single  Female  Partial College          Manual         No   \n",
              "902         Single    Male        Bachelors  Skilled Manual        Yes   \n",
              "15          Single  Female      High School          Manual        Yes   \n",
              "\n",
              "    Commute Distance         Region   Income  Children  Cars   Age  \n",
              "345        0-1 Miles         Europe  20000.0       1.0   0.0  50.0  \n",
              "540        1-2 Miles  North America  70000.0       3.0   2.0  52.0  \n",
              "110        0-1 Miles         Europe  60000.0       1.0   0.0  46.0  \n",
              "902        2-5 Miles  North America  80000.0       3.0   0.0  40.0  \n",
              "15         0-1 Miles         Europe  10000.0       2.0   1.0  38.0  "
            ],
            "text/html": [
              "\n",
              "  <div id=\"df-ce3523cd-4111-4861-8ec4-93375531730b\" class=\"colab-df-container\">\n",
              "    <div>\n",
              "<style scoped>\n",
              "    .dataframe tbody tr th:only-of-type {\n",
              "        vertical-align: middle;\n",
              "    }\n",
              "\n",
              "    .dataframe tbody tr th {\n",
              "        vertical-align: top;\n",
              "    }\n",
              "\n",
              "    .dataframe thead th {\n",
              "        text-align: right;\n",
              "    }\n",
              "</style>\n",
              "<table border=\"1\" class=\"dataframe\">\n",
              "  <thead>\n",
              "    <tr style=\"text-align: right;\">\n",
              "      <th></th>\n",
              "      <th>Marital Status</th>\n",
              "      <th>Gender</th>\n",
              "      <th>Education</th>\n",
              "      <th>Occupation</th>\n",
              "      <th>Home Owner</th>\n",
              "      <th>Commute Distance</th>\n",
              "      <th>Region</th>\n",
              "      <th>Income</th>\n",
              "      <th>Children</th>\n",
              "      <th>Cars</th>\n",
              "      <th>Age</th>\n",
              "    </tr>\n",
              "  </thead>\n",
              "  <tbody>\n",
              "    <tr>\n",
              "      <th>345</th>\n",
              "      <td>Married</td>\n",
              "      <td>Female</td>\n",
              "      <td>Bachelors</td>\n",
              "      <td>Clerical</td>\n",
              "      <td>Yes</td>\n",
              "      <td>0-1 Miles</td>\n",
              "      <td>Europe</td>\n",
              "      <td>20000.0</td>\n",
              "      <td>1.0</td>\n",
              "      <td>0.0</td>\n",
              "      <td>50.0</td>\n",
              "    </tr>\n",
              "    <tr>\n",
              "      <th>540</th>\n",
              "      <td>Single</td>\n",
              "      <td>Female</td>\n",
              "      <td>Graduate Degree</td>\n",
              "      <td>Management</td>\n",
              "      <td>Yes</td>\n",
              "      <td>1-2 Miles</td>\n",
              "      <td>North America</td>\n",
              "      <td>70000.0</td>\n",
              "      <td>3.0</td>\n",
              "      <td>2.0</td>\n",
              "      <td>52.0</td>\n",
              "    </tr>\n",
              "    <tr>\n",
              "      <th>110</th>\n",
              "      <td>Single</td>\n",
              "      <td>Female</td>\n",
              "      <td>Partial College</td>\n",
              "      <td>Manual</td>\n",
              "      <td>No</td>\n",
              "      <td>0-1 Miles</td>\n",
              "      <td>Europe</td>\n",
              "      <td>60000.0</td>\n",
              "      <td>1.0</td>\n",
              "      <td>0.0</td>\n",
              "      <td>46.0</td>\n",
              "    </tr>\n",
              "    <tr>\n",
              "      <th>902</th>\n",
              "      <td>Single</td>\n",
              "      <td>Male</td>\n",
              "      <td>Bachelors</td>\n",
              "      <td>Skilled Manual</td>\n",
              "      <td>Yes</td>\n",
              "      <td>2-5 Miles</td>\n",
              "      <td>North America</td>\n",
              "      <td>80000.0</td>\n",
              "      <td>3.0</td>\n",
              "      <td>0.0</td>\n",
              "      <td>40.0</td>\n",
              "    </tr>\n",
              "    <tr>\n",
              "      <th>15</th>\n",
              "      <td>Single</td>\n",
              "      <td>Female</td>\n",
              "      <td>High School</td>\n",
              "      <td>Manual</td>\n",
              "      <td>Yes</td>\n",
              "      <td>0-1 Miles</td>\n",
              "      <td>Europe</td>\n",
              "      <td>10000.0</td>\n",
              "      <td>2.0</td>\n",
              "      <td>1.0</td>\n",
              "      <td>38.0</td>\n",
              "    </tr>\n",
              "  </tbody>\n",
              "</table>\n",
              "</div>\n",
              "    <div class=\"colab-df-buttons\">\n",
              "\n",
              "  <div class=\"colab-df-container\">\n",
              "    <button class=\"colab-df-convert\" onclick=\"convertToInteractive('df-ce3523cd-4111-4861-8ec4-93375531730b')\"\n",
              "            title=\"Convert this dataframe to an interactive table.\"\n",
              "            style=\"display:none;\">\n",
              "\n",
              "  <svg xmlns=\"http://www.w3.org/2000/svg\" height=\"24px\" viewBox=\"0 -960 960 960\">\n",
              "    <path d=\"M120-120v-720h720v720H120Zm60-500h600v-160H180v160Zm220 220h160v-160H400v160Zm0 220h160v-160H400v160ZM180-400h160v-160H180v160Zm440 0h160v-160H620v160ZM180-180h160v-160H180v160Zm440 0h160v-160H620v160Z\"/>\n",
              "  </svg>\n",
              "    </button>\n",
              "\n",
              "  <style>\n",
              "    .colab-df-container {\n",
              "      display:flex;\n",
              "      gap: 12px;\n",
              "    }\n",
              "\n",
              "    .colab-df-convert {\n",
              "      background-color: #E8F0FE;\n",
              "      border: none;\n",
              "      border-radius: 50%;\n",
              "      cursor: pointer;\n",
              "      display: none;\n",
              "      fill: #1967D2;\n",
              "      height: 32px;\n",
              "      padding: 0 0 0 0;\n",
              "      width: 32px;\n",
              "    }\n",
              "\n",
              "    .colab-df-convert:hover {\n",
              "      background-color: #E2EBFA;\n",
              "      box-shadow: 0px 1px 2px rgba(60, 64, 67, 0.3), 0px 1px 3px 1px rgba(60, 64, 67, 0.15);\n",
              "      fill: #174EA6;\n",
              "    }\n",
              "\n",
              "    .colab-df-buttons div {\n",
              "      margin-bottom: 4px;\n",
              "    }\n",
              "\n",
              "    [theme=dark] .colab-df-convert {\n",
              "      background-color: #3B4455;\n",
              "      fill: #D2E3FC;\n",
              "    }\n",
              "\n",
              "    [theme=dark] .colab-df-convert:hover {\n",
              "      background-color: #434B5C;\n",
              "      box-shadow: 0px 1px 3px 1px rgba(0, 0, 0, 0.15);\n",
              "      filter: drop-shadow(0px 1px 2px rgba(0, 0, 0, 0.3));\n",
              "      fill: #FFFFFF;\n",
              "    }\n",
              "  </style>\n",
              "\n",
              "    <script>\n",
              "      const buttonEl =\n",
              "        document.querySelector('#df-ce3523cd-4111-4861-8ec4-93375531730b button.colab-df-convert');\n",
              "      buttonEl.style.display =\n",
              "        google.colab.kernel.accessAllowed ? 'block' : 'none';\n",
              "\n",
              "      async function convertToInteractive(key) {\n",
              "        const element = document.querySelector('#df-ce3523cd-4111-4861-8ec4-93375531730b');\n",
              "        const dataTable =\n",
              "          await google.colab.kernel.invokeFunction('convertToInteractive',\n",
              "                                                    [key], {});\n",
              "        if (!dataTable) return;\n",
              "\n",
              "        const docLinkHtml = 'Like what you see? Visit the ' +\n",
              "          '<a target=\"_blank\" href=https://colab.research.google.com/notebooks/data_table.ipynb>data table notebook</a>'\n",
              "          + ' to learn more about interactive tables.';\n",
              "        element.innerHTML = '';\n",
              "        dataTable['output_type'] = 'display_data';\n",
              "        await google.colab.output.renderOutput(dataTable, element);\n",
              "        const docLink = document.createElement('div');\n",
              "        docLink.innerHTML = docLinkHtml;\n",
              "        element.appendChild(docLink);\n",
              "      }\n",
              "    </script>\n",
              "  </div>\n",
              "\n",
              "\n",
              "<div id=\"df-d959cb60-00ba-42e2-92ef-91a93fe6fb35\">\n",
              "  <button class=\"colab-df-quickchart\" onclick=\"quickchart('df-d959cb60-00ba-42e2-92ef-91a93fe6fb35')\"\n",
              "            title=\"Suggest charts\"\n",
              "            style=\"display:none;\">\n",
              "\n",
              "<svg xmlns=\"http://www.w3.org/2000/svg\" height=\"24px\"viewBox=\"0 0 24 24\"\n",
              "     width=\"24px\">\n",
              "    <g>\n",
              "        <path d=\"M19 3H5c-1.1 0-2 .9-2 2v14c0 1.1.9 2 2 2h14c1.1 0 2-.9 2-2V5c0-1.1-.9-2-2-2zM9 17H7v-7h2v7zm4 0h-2V7h2v10zm4 0h-2v-4h2v4z\"/>\n",
              "    </g>\n",
              "</svg>\n",
              "  </button>\n",
              "\n",
              "<style>\n",
              "  .colab-df-quickchart {\n",
              "      --bg-color: #E8F0FE;\n",
              "      --fill-color: #1967D2;\n",
              "      --hover-bg-color: #E2EBFA;\n",
              "      --hover-fill-color: #174EA6;\n",
              "      --disabled-fill-color: #AAA;\n",
              "      --disabled-bg-color: #DDD;\n",
              "  }\n",
              "\n",
              "  [theme=dark] .colab-df-quickchart {\n",
              "      --bg-color: #3B4455;\n",
              "      --fill-color: #D2E3FC;\n",
              "      --hover-bg-color: #434B5C;\n",
              "      --hover-fill-color: #FFFFFF;\n",
              "      --disabled-bg-color: #3B4455;\n",
              "      --disabled-fill-color: #666;\n",
              "  }\n",
              "\n",
              "  .colab-df-quickchart {\n",
              "    background-color: var(--bg-color);\n",
              "    border: none;\n",
              "    border-radius: 50%;\n",
              "    cursor: pointer;\n",
              "    display: none;\n",
              "    fill: var(--fill-color);\n",
              "    height: 32px;\n",
              "    padding: 0;\n",
              "    width: 32px;\n",
              "  }\n",
              "\n",
              "  .colab-df-quickchart:hover {\n",
              "    background-color: var(--hover-bg-color);\n",
              "    box-shadow: 0 1px 2px rgba(60, 64, 67, 0.3), 0 1px 3px 1px rgba(60, 64, 67, 0.15);\n",
              "    fill: var(--button-hover-fill-color);\n",
              "  }\n",
              "\n",
              "  .colab-df-quickchart-complete:disabled,\n",
              "  .colab-df-quickchart-complete:disabled:hover {\n",
              "    background-color: var(--disabled-bg-color);\n",
              "    fill: var(--disabled-fill-color);\n",
              "    box-shadow: none;\n",
              "  }\n",
              "\n",
              "  .colab-df-spinner {\n",
              "    border: 2px solid var(--fill-color);\n",
              "    border-color: transparent;\n",
              "    border-bottom-color: var(--fill-color);\n",
              "    animation:\n",
              "      spin 1s steps(1) infinite;\n",
              "  }\n",
              "\n",
              "  @keyframes spin {\n",
              "    0% {\n",
              "      border-color: transparent;\n",
              "      border-bottom-color: var(--fill-color);\n",
              "      border-left-color: var(--fill-color);\n",
              "    }\n",
              "    20% {\n",
              "      border-color: transparent;\n",
              "      border-left-color: var(--fill-color);\n",
              "      border-top-color: var(--fill-color);\n",
              "    }\n",
              "    30% {\n",
              "      border-color: transparent;\n",
              "      border-left-color: var(--fill-color);\n",
              "      border-top-color: var(--fill-color);\n",
              "      border-right-color: var(--fill-color);\n",
              "    }\n",
              "    40% {\n",
              "      border-color: transparent;\n",
              "      border-right-color: var(--fill-color);\n",
              "      border-top-color: var(--fill-color);\n",
              "    }\n",
              "    60% {\n",
              "      border-color: transparent;\n",
              "      border-right-color: var(--fill-color);\n",
              "    }\n",
              "    80% {\n",
              "      border-color: transparent;\n",
              "      border-right-color: var(--fill-color);\n",
              "      border-bottom-color: var(--fill-color);\n",
              "    }\n",
              "    90% {\n",
              "      border-color: transparent;\n",
              "      border-bottom-color: var(--fill-color);\n",
              "    }\n",
              "  }\n",
              "</style>\n",
              "\n",
              "  <script>\n",
              "    async function quickchart(key) {\n",
              "      const quickchartButtonEl =\n",
              "        document.querySelector('#' + key + ' button');\n",
              "      quickchartButtonEl.disabled = true;  // To prevent multiple clicks.\n",
              "      quickchartButtonEl.classList.add('colab-df-spinner');\n",
              "      try {\n",
              "        const charts = await google.colab.kernel.invokeFunction(\n",
              "            'suggestCharts', [key], {});\n",
              "      } catch (error) {\n",
              "        console.error('Error during call to suggestCharts:', error);\n",
              "      }\n",
              "      quickchartButtonEl.classList.remove('colab-df-spinner');\n",
              "      quickchartButtonEl.classList.add('colab-df-quickchart-complete');\n",
              "    }\n",
              "    (() => {\n",
              "      let quickchartButtonEl =\n",
              "        document.querySelector('#df-d959cb60-00ba-42e2-92ef-91a93fe6fb35 button');\n",
              "      quickchartButtonEl.style.display =\n",
              "        google.colab.kernel.accessAllowed ? 'block' : 'none';\n",
              "    })();\n",
              "  </script>\n",
              "</div>\n",
              "\n",
              "    </div>\n",
              "  </div>\n"
            ],
            "application/vnd.google.colaboratory.intrinsic+json": {
              "type": "dataframe",
              "variable_name": "X_train_combined",
              "summary": "{\n  \"name\": \"X_train_combined\",\n  \"rows\": 750,\n  \"fields\": [\n    {\n      \"column\": \"Marital Status\",\n      \"properties\": {\n        \"dtype\": \"category\",\n        \"num_unique_values\": 3,\n        \"samples\": [\n          \"Married\",\n          \"Single\",\n          \"undefined\"\n        ],\n        \"semantic_type\": \"\",\n        \"description\": \"\"\n      }\n    },\n    {\n      \"column\": \"Gender\",\n      \"properties\": {\n        \"dtype\": \"category\",\n        \"num_unique_values\": 3,\n        \"samples\": [\n          \"Female\",\n          \"Male\",\n          \"undefined\"\n        ],\n        \"semantic_type\": \"\",\n        \"description\": \"\"\n      }\n    },\n    {\n      \"column\": \"Education\",\n      \"properties\": {\n        \"dtype\": \"category\",\n        \"num_unique_values\": 5,\n        \"samples\": [\n          \"Graduate Degree\",\n          \"Partial High School\",\n          \"Partial College\"\n        ],\n        \"semantic_type\": \"\",\n        \"description\": \"\"\n      }\n    },\n    {\n      \"column\": \"Occupation\",\n      \"properties\": {\n        \"dtype\": \"category\",\n        \"num_unique_values\": 5,\n        \"samples\": [\n          \"Management\",\n          \"Professional\",\n          \"Manual\"\n        ],\n        \"semantic_type\": \"\",\n        \"description\": \"\"\n      }\n    },\n    {\n      \"column\": \"Home Owner\",\n      \"properties\": {\n        \"dtype\": \"category\",\n        \"num_unique_values\": 3,\n        \"samples\": [\n          \"Yes\",\n          \"No\",\n          \"undefined\"\n        ],\n        \"semantic_type\": \"\",\n        \"description\": \"\"\n      }\n    },\n    {\n      \"column\": \"Commute Distance\",\n      \"properties\": {\n        \"dtype\": \"category\",\n        \"num_unique_values\": 5,\n        \"samples\": [\n          \"1-2 Miles\",\n          \"10+ Miles\",\n          \"2-5 Miles\"\n        ],\n        \"semantic_type\": \"\",\n        \"description\": \"\"\n      }\n    },\n    {\n      \"column\": \"Region\",\n      \"properties\": {\n        \"dtype\": \"category\",\n        \"num_unique_values\": 3,\n        \"samples\": [\n          \"Europe\",\n          \"North America\",\n          \"Pacific\"\n        ],\n        \"semantic_type\": \"\",\n        \"description\": \"\"\n      }\n    },\n    {\n      \"column\": \"Income\",\n      \"properties\": {\n        \"dtype\": \"number\",\n        \"std\": 30240.775368400664,\n        \"min\": 10000.0,\n        \"max\": 170000.0,\n        \"num_unique_values\": 16,\n        \"samples\": [\n          20000.0,\n          70000.0,\n          40000.0\n        ],\n        \"semantic_type\": \"\",\n        \"description\": \"\"\n      }\n    },\n    {\n      \"column\": \"Children\",\n      \"properties\": {\n        \"dtype\": \"number\",\n        \"std\": 1.621904466606582,\n        \"min\": 0.0,\n        \"max\": 5.0,\n        \"num_unique_values\": 6,\n        \"samples\": [\n          1.0,\n          3.0,\n          5.0\n        ],\n        \"semantic_type\": \"\",\n        \"description\": \"\"\n      }\n    },\n    {\n      \"column\": \"Cars\",\n      \"properties\": {\n        \"dtype\": \"number\",\n        \"std\": 1.0987916654969476,\n        \"min\": 0.0,\n        \"max\": 4.0,\n        \"num_unique_values\": 5,\n        \"samples\": [\n          2.0,\n          4.0,\n          1.0\n        ],\n        \"semantic_type\": \"\",\n        \"description\": \"\"\n      }\n    },\n    {\n      \"column\": \"Age\",\n      \"properties\": {\n        \"dtype\": \"number\",\n        \"std\": 11.528344048947508,\n        \"min\": 25.0,\n        \"max\": 89.0,\n        \"num_unique_values\": 53,\n        \"samples\": [\n          27.0,\n          61.0,\n          54.0\n        ],\n        \"semantic_type\": \"\",\n        \"description\": \"\"\n      }\n    }\n  ]\n}"
            }
          },
          "metadata": {},
          "execution_count": 152
        }
      ]
    },
    {
      "cell_type": "code",
      "source": [
        "def computer(features) -> None:\n",
        "    start_time = time.time()\n",
        "\n",
        "    encoder = SmoothedMeanTargetEncoder(features).fit(X_train_combined, y_train)\n",
        "    train_encoded = encoder.transform(X_train_combined)\n",
        "    test_encoded = encoder.transform(X_test_combined)\n",
        "\n",
        "    logreg = LogisticRegression(max_iter=300).fit(train_encoded, y_train)\n",
        "\n",
        "    ordinal_time = time.time() - start_time\n",
        "\n",
        "    y_pred_ordinal = logreg.predict_proba(test_encoded)[:, 1]\n",
        "    precision, recall, _ = precision_recall_curve(y_test, y_pred_ordinal)\n",
        "    print\n",
        "    print(f\"AUC-PR: {auc(recall, precision):.4f}\")\n",
        "    print(f\"Time: {ordinal_time:.4f}\")"
      ],
      "metadata": {
        "id": "r28DEtHpluW7"
      },
      "execution_count": null,
      "outputs": []
    },
    {
      "cell_type": "code",
      "source": [
        "import itertools\n",
        "import warnings\n",
        "warnings.filterwarnings('ignore')\n",
        "\n",
        "for i in range(len(X_numerical.columns) + 1):\n",
        "    for subset in itertools.combinations(X_numerical.columns, i):\n",
        "        print(*subset)\n",
        "        computer(list(X_train.columns) + list(subset))\n",
        "        print(\"-------------\")\n",
        "warnings.filterwarnings('always')"
      ],
      "metadata": {
        "colab": {
          "base_uri": "https://localhost:8080/"
        },
        "id": "IbNy-HCcjlcR",
        "outputId": "1f6af2eb-ed0e-42dd-9785-da11fd94e7fb"
      },
      "execution_count": null,
      "outputs": [
        {
          "output_type": "stream",
          "name": "stdout",
          "text": [
            "\n",
            "AUC-PR: 0.6740\n",
            "Time: 0.4382\n",
            "-------------\n",
            "Income\n",
            "AUC-PR: 0.6776\n",
            "Time: 0.1461\n",
            "-------------\n",
            "Children\n",
            "AUC-PR: 0.6943\n",
            "Time: 0.1917\n",
            "-------------\n",
            "Cars\n",
            "AUC-PR: 0.6895\n",
            "Time: 0.2589\n",
            "-------------\n",
            "Age\n",
            "AUC-PR: 0.6997\n",
            "Time: 0.2796\n",
            "-------------\n",
            "Income Children\n",
            "AUC-PR: 0.6808\n",
            "Time: 0.1121\n",
            "-------------\n",
            "Income Cars\n",
            "AUC-PR: 0.6862\n",
            "Time: 0.1537\n",
            "-------------\n",
            "Income Age\n",
            "AUC-PR: 0.6825\n",
            "Time: 0.1087\n",
            "-------------\n",
            "Children Cars\n",
            "AUC-PR: 0.7105\n",
            "Time: 0.2010\n",
            "-------------\n",
            "Children Age\n",
            "AUC-PR: 0.6925\n",
            "Time: 0.2413\n",
            "-------------\n",
            "Cars Age\n",
            "AUC-PR: 0.6744\n",
            "Time: 0.2641\n",
            "-------------\n",
            "Income Children Cars\n",
            "AUC-PR: 0.6876\n",
            "Time: 0.1375\n",
            "-------------\n",
            "Income Children Age\n",
            "AUC-PR: 0.6807\n",
            "Time: 0.0961\n",
            "-------------\n",
            "Income Cars Age\n",
            "AUC-PR: 0.6710\n",
            "Time: 0.1239\n",
            "-------------\n",
            "Children Cars Age\n",
            "AUC-PR: 0.6672\n",
            "Time: 0.1139\n",
            "-------------\n",
            "Income Children Cars Age\n",
            "AUC-PR: 0.6675\n",
            "Time: 0.0420\n",
            "-------------\n"
          ]
        }
      ]
    },
    {
      "cell_type": "markdown",
      "metadata": {
        "id": "ia0qk__0iNCS"
      },
      "source": [
        "> __Замечание.__ Усложнение методов вычисления счётчиков не делают результаты модели гарантированно лучше. Особенно с учётом того, что логистическая регрессия не такая сложная модель, чтобы переобучаться. Поэтому вы необязательно должны были получать на каждом шаге всё лучшие и лучшие результаты (но необходимые результаты у вас должны были получиться)."
      ]
    },
    {
      "cell_type": "markdown",
      "metadata": {
        "id": "2mwXyUnOP75e"
      },
      "source": [
        "\n",
        "\n",
        "Как мы могли пронаблюдать, счётчики являются конкурентной альтернативой one-hot-кодированию. Опишите, какие плюсы и минусы использования счётчиков по сравнению с one-hot-кодированием вы заметили.\n",
        "\n",
        "__Ответ:__  К очевидным плюсам можн отнести легковесность, т.к. мы не плодим уйму новых признаков, качество на многих наборах лучше чем Ohe. А вот проблемой может быть переобучение. Я бы не сказал, что какие-то из предложенных методов реально решают эту проблему (в конце концов, это инжененрная задача)"
      ]
    },
    {
      "cell_type": "markdown",
      "metadata": {
        "id": "_oU4I7HjP75f"
      },
      "source": [
        "# Часть 3. Отбор признаков (2 балла)"
      ]
    },
    {
      "cell_type": "markdown",
      "metadata": {
        "id": "EsmcHDoZNu5l"
      },
      "source": [
        "Загрузим данные [UCI Adult Dataset](https://archive.ics.uci.edu/ml/datasets/Adult). Этот набор данных содержит информацию о годовых доходах отдельных людей. В качестве признакового описания используется различная информация о человеке (образование, профессия, брачный статус и т.д.). Целевая переменная является бинарной: больше ли годовой доход 50K долларов или нет."
      ]
    },
    {
      "cell_type": "code",
      "execution_count": null,
      "metadata": {
        "id": "hk7jX8EsNrz2",
        "colab": {
          "base_uri": "https://localhost:8080/"
        },
        "outputId": "b6e0cd46-e7b7-4d35-9b9d-ba87198870f0"
      },
      "outputs": [
        {
          "output_type": "stream",
          "name": "stdout",
          "text": [
            "--2024-11-27 20:32:21--  https://archive.ics.uci.edu/ml/machine-learning-databases/adult/adult.data\n",
            "Resolving archive.ics.uci.edu (archive.ics.uci.edu)... 128.195.10.252\n",
            "Connecting to archive.ics.uci.edu (archive.ics.uci.edu)|128.195.10.252|:443... connected.\n",
            "HTTP request sent, awaiting response... 200 OK\n",
            "Length: unspecified\n",
            "Saving to: ‘adult.data.1’\n",
            "\n",
            "adult.data.1            [  <=>               ]   3.79M  8.82MB/s    in 0.4s    \n",
            "\n",
            "2024-11-27 20:32:22 (8.82 MB/s) - ‘adult.data.1’ saved [3974305]\n",
            "\n"
          ]
        }
      ],
      "source": [
        "!wget https://archive.ics.uci.edu/ml/machine-learning-databases/adult/adult.data"
      ]
    },
    {
      "cell_type": "code",
      "execution_count": null,
      "metadata": {
        "id": "XVqw4RQ5iXRC",
        "colab": {
          "base_uri": "https://localhost:8080/",
          "height": 153
        },
        "outputId": "edd468c1-48a4-49cf-a5a4-11f3655d6b91"
      },
      "outputs": [
        {
          "output_type": "execute_result",
          "data": {
            "text/plain": [
              "      age workclass  fnlwgt      education  education-num  marital-status  \\\n",
              "4299   20         ?  124242   Some-college             10   Never-married   \n",
              "\n",
              "     occupation relationship    race      sex  capital-gain  capital-loss  \\\n",
              "4299          ?    Own-child   White   Female             0             0   \n",
              "\n",
              "      hours-per-week  native-country  income  \n",
              "4299              40   United-States       0  "
            ],
            "text/html": [
              "\n",
              "  <div id=\"df-86562bcd-1b41-4076-a694-85bb8382edbf\" class=\"colab-df-container\">\n",
              "    <div>\n",
              "<style scoped>\n",
              "    .dataframe tbody tr th:only-of-type {\n",
              "        vertical-align: middle;\n",
              "    }\n",
              "\n",
              "    .dataframe tbody tr th {\n",
              "        vertical-align: top;\n",
              "    }\n",
              "\n",
              "    .dataframe thead th {\n",
              "        text-align: right;\n",
              "    }\n",
              "</style>\n",
              "<table border=\"1\" class=\"dataframe\">\n",
              "  <thead>\n",
              "    <tr style=\"text-align: right;\">\n",
              "      <th></th>\n",
              "      <th>age</th>\n",
              "      <th>workclass</th>\n",
              "      <th>fnlwgt</th>\n",
              "      <th>education</th>\n",
              "      <th>education-num</th>\n",
              "      <th>marital-status</th>\n",
              "      <th>occupation</th>\n",
              "      <th>relationship</th>\n",
              "      <th>race</th>\n",
              "      <th>sex</th>\n",
              "      <th>capital-gain</th>\n",
              "      <th>capital-loss</th>\n",
              "      <th>hours-per-week</th>\n",
              "      <th>native-country</th>\n",
              "      <th>income</th>\n",
              "    </tr>\n",
              "  </thead>\n",
              "  <tbody>\n",
              "    <tr>\n",
              "      <th>4299</th>\n",
              "      <td>20</td>\n",
              "      <td>?</td>\n",
              "      <td>124242</td>\n",
              "      <td>Some-college</td>\n",
              "      <td>10</td>\n",
              "      <td>Never-married</td>\n",
              "      <td>?</td>\n",
              "      <td>Own-child</td>\n",
              "      <td>White</td>\n",
              "      <td>Female</td>\n",
              "      <td>0</td>\n",
              "      <td>0</td>\n",
              "      <td>40</td>\n",
              "      <td>United-States</td>\n",
              "      <td>0</td>\n",
              "    </tr>\n",
              "  </tbody>\n",
              "</table>\n",
              "</div>\n",
              "    <div class=\"colab-df-buttons\">\n",
              "\n",
              "  <div class=\"colab-df-container\">\n",
              "    <button class=\"colab-df-convert\" onclick=\"convertToInteractive('df-86562bcd-1b41-4076-a694-85bb8382edbf')\"\n",
              "            title=\"Convert this dataframe to an interactive table.\"\n",
              "            style=\"display:none;\">\n",
              "\n",
              "  <svg xmlns=\"http://www.w3.org/2000/svg\" height=\"24px\" viewBox=\"0 -960 960 960\">\n",
              "    <path d=\"M120-120v-720h720v720H120Zm60-500h600v-160H180v160Zm220 220h160v-160H400v160Zm0 220h160v-160H400v160ZM180-400h160v-160H180v160Zm440 0h160v-160H620v160ZM180-180h160v-160H180v160Zm440 0h160v-160H620v160Z\"/>\n",
              "  </svg>\n",
              "    </button>\n",
              "\n",
              "  <style>\n",
              "    .colab-df-container {\n",
              "      display:flex;\n",
              "      gap: 12px;\n",
              "    }\n",
              "\n",
              "    .colab-df-convert {\n",
              "      background-color: #E8F0FE;\n",
              "      border: none;\n",
              "      border-radius: 50%;\n",
              "      cursor: pointer;\n",
              "      display: none;\n",
              "      fill: #1967D2;\n",
              "      height: 32px;\n",
              "      padding: 0 0 0 0;\n",
              "      width: 32px;\n",
              "    }\n",
              "\n",
              "    .colab-df-convert:hover {\n",
              "      background-color: #E2EBFA;\n",
              "      box-shadow: 0px 1px 2px rgba(60, 64, 67, 0.3), 0px 1px 3px 1px rgba(60, 64, 67, 0.15);\n",
              "      fill: #174EA6;\n",
              "    }\n",
              "\n",
              "    .colab-df-buttons div {\n",
              "      margin-bottom: 4px;\n",
              "    }\n",
              "\n",
              "    [theme=dark] .colab-df-convert {\n",
              "      background-color: #3B4455;\n",
              "      fill: #D2E3FC;\n",
              "    }\n",
              "\n",
              "    [theme=dark] .colab-df-convert:hover {\n",
              "      background-color: #434B5C;\n",
              "      box-shadow: 0px 1px 3px 1px rgba(0, 0, 0, 0.15);\n",
              "      filter: drop-shadow(0px 1px 2px rgba(0, 0, 0, 0.3));\n",
              "      fill: #FFFFFF;\n",
              "    }\n",
              "  </style>\n",
              "\n",
              "    <script>\n",
              "      const buttonEl =\n",
              "        document.querySelector('#df-86562bcd-1b41-4076-a694-85bb8382edbf button.colab-df-convert');\n",
              "      buttonEl.style.display =\n",
              "        google.colab.kernel.accessAllowed ? 'block' : 'none';\n",
              "\n",
              "      async function convertToInteractive(key) {\n",
              "        const element = document.querySelector('#df-86562bcd-1b41-4076-a694-85bb8382edbf');\n",
              "        const dataTable =\n",
              "          await google.colab.kernel.invokeFunction('convertToInteractive',\n",
              "                                                    [key], {});\n",
              "        if (!dataTable) return;\n",
              "\n",
              "        const docLinkHtml = 'Like what you see? Visit the ' +\n",
              "          '<a target=\"_blank\" href=https://colab.research.google.com/notebooks/data_table.ipynb>data table notebook</a>'\n",
              "          + ' to learn more about interactive tables.';\n",
              "        element.innerHTML = '';\n",
              "        dataTable['output_type'] = 'display_data';\n",
              "        await google.colab.output.renderOutput(dataTable, element);\n",
              "        const docLink = document.createElement('div');\n",
              "        docLink.innerHTML = docLinkHtml;\n",
              "        element.appendChild(docLink);\n",
              "      }\n",
              "    </script>\n",
              "  </div>\n",
              "\n",
              "\n",
              "    </div>\n",
              "  </div>\n"
            ],
            "application/vnd.google.colaboratory.intrinsic+json": {
              "type": "dataframe",
              "summary": "{\n  \"name\": \"df\",\n  \"rows\": 1,\n  \"fields\": [\n    {\n      \"column\": \"age\",\n      \"properties\": {\n        \"dtype\": \"number\",\n        \"std\": null,\n        \"min\": 20,\n        \"max\": 20,\n        \"num_unique_values\": 1,\n        \"samples\": [\n          20\n        ],\n        \"semantic_type\": \"\",\n        \"description\": \"\"\n      }\n    },\n    {\n      \"column\": \"workclass\",\n      \"properties\": {\n        \"dtype\": \"string\",\n        \"num_unique_values\": 1,\n        \"samples\": [\n          \" ?\"\n        ],\n        \"semantic_type\": \"\",\n        \"description\": \"\"\n      }\n    },\n    {\n      \"column\": \"fnlwgt\",\n      \"properties\": {\n        \"dtype\": \"number\",\n        \"std\": null,\n        \"min\": 124242,\n        \"max\": 124242,\n        \"num_unique_values\": 1,\n        \"samples\": [\n          124242\n        ],\n        \"semantic_type\": \"\",\n        \"description\": \"\"\n      }\n    },\n    {\n      \"column\": \"education\",\n      \"properties\": {\n        \"dtype\": \"string\",\n        \"num_unique_values\": 1,\n        \"samples\": [\n          \" Some-college\"\n        ],\n        \"semantic_type\": \"\",\n        \"description\": \"\"\n      }\n    },\n    {\n      \"column\": \"education-num\",\n      \"properties\": {\n        \"dtype\": \"number\",\n        \"std\": null,\n        \"min\": 10,\n        \"max\": 10,\n        \"num_unique_values\": 1,\n        \"samples\": [\n          10\n        ],\n        \"semantic_type\": \"\",\n        \"description\": \"\"\n      }\n    },\n    {\n      \"column\": \"marital-status\",\n      \"properties\": {\n        \"dtype\": \"string\",\n        \"num_unique_values\": 1,\n        \"samples\": [\n          \" Never-married\"\n        ],\n        \"semantic_type\": \"\",\n        \"description\": \"\"\n      }\n    },\n    {\n      \"column\": \"occupation\",\n      \"properties\": {\n        \"dtype\": \"string\",\n        \"num_unique_values\": 1,\n        \"samples\": [\n          \" ?\"\n        ],\n        \"semantic_type\": \"\",\n        \"description\": \"\"\n      }\n    },\n    {\n      \"column\": \"relationship\",\n      \"properties\": {\n        \"dtype\": \"string\",\n        \"num_unique_values\": 1,\n        \"samples\": [\n          \" Own-child\"\n        ],\n        \"semantic_type\": \"\",\n        \"description\": \"\"\n      }\n    },\n    {\n      \"column\": \"race\",\n      \"properties\": {\n        \"dtype\": \"string\",\n        \"num_unique_values\": 1,\n        \"samples\": [\n          \" White\"\n        ],\n        \"semantic_type\": \"\",\n        \"description\": \"\"\n      }\n    },\n    {\n      \"column\": \"sex\",\n      \"properties\": {\n        \"dtype\": \"string\",\n        \"num_unique_values\": 1,\n        \"samples\": [\n          \" Female\"\n        ],\n        \"semantic_type\": \"\",\n        \"description\": \"\"\n      }\n    },\n    {\n      \"column\": \"capital-gain\",\n      \"properties\": {\n        \"dtype\": \"number\",\n        \"std\": null,\n        \"min\": 0,\n        \"max\": 0,\n        \"num_unique_values\": 1,\n        \"samples\": [\n          0\n        ],\n        \"semantic_type\": \"\",\n        \"description\": \"\"\n      }\n    },\n    {\n      \"column\": \"capital-loss\",\n      \"properties\": {\n        \"dtype\": \"number\",\n        \"std\": null,\n        \"min\": 0,\n        \"max\": 0,\n        \"num_unique_values\": 1,\n        \"samples\": [\n          0\n        ],\n        \"semantic_type\": \"\",\n        \"description\": \"\"\n      }\n    },\n    {\n      \"column\": \"hours-per-week\",\n      \"properties\": {\n        \"dtype\": \"number\",\n        \"std\": null,\n        \"min\": 40,\n        \"max\": 40,\n        \"num_unique_values\": 1,\n        \"samples\": [\n          40\n        ],\n        \"semantic_type\": \"\",\n        \"description\": \"\"\n      }\n    },\n    {\n      \"column\": \"native-country\",\n      \"properties\": {\n        \"dtype\": \"string\",\n        \"num_unique_values\": 1,\n        \"samples\": [\n          \" United-States\"\n        ],\n        \"semantic_type\": \"\",\n        \"description\": \"\"\n      }\n    },\n    {\n      \"column\": \"income\",\n      \"properties\": {\n        \"dtype\": \"int32\",\n        \"num_unique_values\": 1,\n        \"samples\": [\n          0\n        ],\n        \"semantic_type\": \"\",\n        \"description\": \"\"\n      }\n    }\n  ]\n}"
            }
          },
          "metadata": {},
          "execution_count": 8
        }
      ],
      "source": [
        "columns = [\n",
        "    'age', 'workclass', 'fnlwgt', 'education', 'education-num',\n",
        "    'marital-status', 'occupation', 'relationship', 'race', 'sex',\n",
        "    'capital-gain', 'capital-loss', 'hours-per-week', 'native-country',\n",
        "    'income'\n",
        "]\n",
        "\n",
        "df = pd.read_csv('adult.data', header=None, names=columns)\n",
        "df['income'] = (df['income'] != \" <=50K\").astype('int32')\n",
        "df.sample()"
      ]
    },
    {
      "cell_type": "markdown",
      "metadata": {
        "id": "JKb6BsQMP75f"
      },
      "source": [
        "Важной частью процесса построения модели является отбор признаков. На практике многие признаки оказывают малое влияние на модель (при этом их расчёт занимает время) или даже негативно сказываются на качестве модели. Попробуем несколько подходов отбора признаков, оценим, как они влияют на качество модели и сколько времени занимают.\n",
        "\n"
      ]
    },
    {
      "cell_type": "markdown",
      "metadata": {
        "id": "iGqys4ZpiXjr"
      },
      "source": [
        "Разделите выборку на обучающую и тестовую в соотношении 3:1. Зафиксируйте `random_state=777`, также используйте `stratify=True`."
      ]
    },
    {
      "cell_type": "code",
      "execution_count": null,
      "metadata": {
        "id": "M2TT35c_iYc-"
      },
      "outputs": [],
      "source": [
        "X = df.drop(columns=['income'])\n",
        "y = df['income']\n",
        "\n",
        "X_train, X_test, y_train, y_test = train_test_split(X, y, test_size=0.25, random_state=777, stratify=y)"
      ]
    },
    {
      "cell_type": "markdown",
      "metadata": {
        "id": "-uAlw2X-P75f"
      },
      "source": [
        "Давайте закодируем все категориальные признаки с помощью One-hot Encoding. Сколько новых признаков мы получим?"
      ]
    },
    {
      "cell_type": "code",
      "execution_count": null,
      "metadata": {
        "id": "ILg-JGugP75f",
        "colab": {
          "base_uri": "https://localhost:8080/"
        },
        "outputId": "b8dc25d2-f762-4eaa-bfaa-08bd47235ee0"
      },
      "outputs": [
        {
          "output_type": "execute_result",
          "data": {
            "text/plain": [
              "Index(['age', 'fnlwgt', 'education-num', 'capital-gain', 'capital-loss',\n",
              "       'hours-per-week'],\n",
              "      dtype='object')"
            ]
          },
          "metadata": {},
          "execution_count": 10
        }
      ],
      "source": [
        "categorical_columns = X.select_dtypes(include='object').columns\n",
        "numerical_columns = X.select_dtypes(include=['int64', 'float64']).columns\n",
        "numerical_columns"
      ]
    },
    {
      "cell_type": "code",
      "source": [
        "from sklearn.preprocessing import OneHotEncoder, StandardScaler\n",
        "\n",
        "onehot_encoder = OneHotEncoder(sparse_output=False)\n",
        "X_train_encoded = onehot_encoder.fit_transform(X_train[categorical_columns])\n",
        "\n",
        "print(f\"Before {X_train.shape[1]} features\")\n",
        "print(f\"After {X_train_encoded.shape[1]} features\")"
      ],
      "metadata": {
        "colab": {
          "base_uri": "https://localhost:8080/"
        },
        "id": "d5E6jb3IpwFr",
        "outputId": "ef8fde6d-f7e9-41ce-a836-945f9a1afe11"
      },
      "execution_count": null,
      "outputs": [
        {
          "output_type": "stream",
          "name": "stdout",
          "text": [
            "Before 14 features\n",
            "After 102 features\n"
          ]
        }
      ]
    },
    {
      "cell_type": "markdown",
      "metadata": {
        "id": "kq-XZwf3P75g"
      },
      "source": [
        "В качестве основной модели будем использовать логистическую регрессию, а целевой метрики — `AUC-PR`. Обучите модель и посчитайте качество на тестовой выборке. Давайте запомним полученное значение."
      ]
    },
    {
      "cell_type": "code",
      "execution_count": null,
      "metadata": {
        "id": "XMH5D_6OP75g",
        "colab": {
          "base_uri": "https://localhost:8080/"
        },
        "outputId": "1f6dbab2-3e04-4abb-a522-cf0aae5aed75"
      },
      "outputs": [
        {
          "output_type": "stream",
          "name": "stdout",
          "text": [
            "AUC-PR: 0.4559\n"
          ]
        }
      ],
      "source": [
        "from scipy.sparse import hstack\n",
        "import warnings\n",
        "warnings.filterwarnings('ignore')\n",
        "\n",
        "onehot_encoder = OneHotEncoder()\n",
        "X_train_cat_encoded = onehot_encoder.fit_transform(X_train[categorical_columns])\n",
        "X_test_cat_encoded = onehot_encoder.transform(X_test[categorical_columns])\n",
        "\n",
        "#use it later\n",
        "scaler = StandardScaler()\n",
        "X_train_num_scaled = scaler.fit_transform(X_train[numerical_columns])\n",
        "X_test_num_scaled = scaler.transform(X_test[numerical_columns])\n",
        "\n",
        "train_x = hstack([X_train_cat_encoded, X_train[numerical_columns]])\n",
        "test_x = hstack([X_test_cat_encoded, X_test[numerical_columns]])\n",
        "\n",
        "logreg = LogisticRegression().fit(train_x, y_train)\n",
        "\n",
        "y_combined = logreg.predict_proba(test_x)[:, 1]\n",
        "precision, recall, _ = precision_recall_curve(y_test, y_combined)\n",
        "\n",
        "print(f\"AUC-PR: {auc(recall, precision):.4f}\")\n"
      ]
    },
    {
      "cell_type": "markdown",
      "source": [
        "Допустим, мы хотим оставить только 40 лучших признаков.\n",
        "\n",
        "Заметим, что нельзя оценивать качество по тестовой выборке, иначе мы можем переобучиться, как, например, при настройке гиперпараметров. Разделите обучающую выборку на 2 части, одну из которых, используйте для валидации. Исходную тестовую выборку стоит использовать только для финальной оценки качества после процедуры фильтрации"
      ],
      "metadata": {
        "id": "hrbIEFGUIQ6I"
      }
    },
    {
      "cell_type": "code",
      "source": [
        "y_old = y_train"
      ],
      "metadata": {
        "id": "9yg_d-k1xQcP"
      },
      "execution_count": null,
      "outputs": []
    },
    {
      "cell_type": "code",
      "source": [
        "X_train, X_val, y_train, y_val = train_test_split(train_x, y_train, test_size=0.25, random_state=777, stratify=y_train)"
      ],
      "metadata": {
        "id": "DuHUvh0UwsxZ"
      },
      "execution_count": null,
      "outputs": []
    },
    {
      "cell_type": "markdown",
      "source": [
        "Попробуем сделать это следующими способами:"
      ],
      "metadata": {
        "id": "hymygH5YwveY"
      }
    },
    {
      "cell_type": "markdown",
      "metadata": {
        "id": "QD7jIiDeP75g"
      },
      "source": [
        "#### __Задание 9. Встроенные методы (0.5 балла)__"
      ]
    },
    {
      "cell_type": "markdown",
      "metadata": {
        "id": "bf2T9xtUP75g"
      },
      "source": [
        "Начнём с отбора признаков с помощью модели. У разных алгоритмов есть разные встроенные способы оценки вклада признаков в предсказание. Как известно, у линейной модели за это отвечают веса, а значит, их модуль можно интерпретировать как важность. Такой метод отбора называются встроенным или embedded method, так как он заложен в особенности модели.\n",
        "\n",
        "Оставьте 40 признаков с наибольшим модулем соответствующего параметра линейной модели. Обучите модели заново и оцените её качество. Замерьте скорость такого отбора признаков.\n",
        "\n"
      ]
    },
    {
      "cell_type": "markdown",
      "source": [
        "Условие сформулировано очень глупо, но раз говорят, что надо на валидации, я просто еще раз обучу модель, срежу признаки, а затем проверю качество."
      ],
      "metadata": {
        "id": "20l3-Bf6pNik"
      }
    },
    {
      "cell_type": "code",
      "source": [
        "logreg = LogisticRegression().fit(X_train, y_train)\n",
        "\n",
        "y_combined = logreg.predict_proba(X_val)[:, 1]\n",
        "precision, recall, _ = precision_recall_curve(y_val, y_combined)\n",
        "\n",
        "print(f\"AUC-PR: {auc(recall, precision):.4f}\")"
      ],
      "metadata": {
        "colab": {
          "base_uri": "https://localhost:8080/"
        },
        "id": "Lxt1JqEZpHuF",
        "outputId": "3f9fef59-61c1-4e74-f177-6bfca70c30f1"
      },
      "execution_count": null,
      "outputs": [
        {
          "output_type": "stream",
          "name": "stdout",
          "text": [
            "AUC-PR: 0.4670\n"
          ]
        }
      ]
    },
    {
      "cell_type": "code",
      "execution_count": null,
      "metadata": {
        "id": "wqOH9EunP75g",
        "colab": {
          "base_uri": "https://localhost:8080/"
        },
        "outputId": "cc92349f-8d44-4528-9380-931aaa0d60d5"
      },
      "outputs": [
        {
          "output_type": "stream",
          "name": "stdout",
          "text": [
            "AUC-PR: 0.6864\n",
            "Time: 0.0120\n"
          ]
        }
      ],
      "source": [
        "import time\n",
        "start_time = time.time()\n",
        "\n",
        "feature_importances = np.abs(logreg.coef_[0])\n",
        "top_40_indices = np.argsort(feature_importances)[::-1][:40]\n",
        "\n",
        "train_x_selected = X_train[:, top_40_indices]\n",
        "val_x_selected = X_val[:, top_40_indices]\n",
        "\n",
        "ordinal_time = time.time() - start_time\n",
        "\n",
        "logreg = LogisticRegression().fit(train_x_selected, y_train)\n",
        "y_val_pred = logreg.predict_proba(val_x_selected)[:, 1]\n",
        "precision, recall, _ = precision_recall_curve(y_val, y_val_pred)\n",
        "\n",
        "print(f\"AUC-PR: {auc(recall, precision):.4f}\")\n",
        "print(f\"Time: {ordinal_time:.4f}\")"
      ]
    },
    {
      "cell_type": "markdown",
      "metadata": {
        "id": "CCmtS99eVVrC"
      },
      "source": [
        "Изменилось ли качество? Как?"
      ]
    },
    {
      "cell_type": "markdown",
      "source": [
        "Качество существенно возрасло."
      ],
      "metadata": {
        "id": "tNh_tPyK0Xq-"
      }
    },
    {
      "cell_type": "markdown",
      "metadata": {
        "id": "E5y5hVyYP75h"
      },
      "source": [
        "Подумаем, что мы не учли. Мы действовали в предположении, что признаки вносят вклад равномерно, и не учитывали их масштаб. Если мы умножим один из признаков в 100 раз, то без учёта регуляризации его вес уменьшится в эти же 100 раз. А мы на основе этого отбираем признаки! Давайте сначала отмасштабируем признаки одним из способов, а только потом будем удалять признаки.\n",
        "\n",
        "Помните, что не все способы одинаково хороши, особенно в условиях наличия выбросов\n",
        "\n",
        "Кстати, в таком случае надо пересчитать качество на всех признаках (сделайте это ниже). Если вы сделали нормирование признаков в самом начале, то попробуйте отобрать признаки на неотмасштабированных данных.\n",
        "\n",
        "Что получилось?"
      ]
    },
    {
      "cell_type": "code",
      "source": [
        "# now we use what we normalized before\n",
        "train_x = hstack([X_train_cat_encoded, X_train_num_scaled])\n",
        "test_x = hstack([X_test_cat_encoded, X_test_num_scaled])\n",
        "X_train, X_val, y_train, y_val = train_test_split(train_x, y_old, test_size=0.25, random_state=777, stratify=y_old)"
      ],
      "metadata": {
        "id": "mDzsvqZ7wQYh"
      },
      "execution_count": null,
      "outputs": []
    },
    {
      "cell_type": "code",
      "source": [
        "logreg = LogisticRegression().fit(X_train, y_train)\n",
        "\n",
        "y_combined = logreg.predict_proba(X_val)[:, 1]\n",
        "precision, recall, _ = precision_recall_curve(y_val, y_combined)\n",
        "\n",
        "print(f\"AUC-PR old: {auc(recall, precision):.4f}\")\n",
        "\n",
        "start_time = time.time()\n",
        "\n",
        "feature_importances = np.abs(logreg.coef_[0])\n",
        "top_40_indices_scale = np.argsort(feature_importances)[::-1][:40]\n",
        "\n",
        "train_x_selected = X_train[:, top_40_indices_scale]\n",
        "val_x_selected = X_val[:, top_40_indices_scale]\n",
        "\n",
        "ordinal_time = time.time() - start_time\n",
        "\n",
        "logreg = LogisticRegression().fit(train_x_selected, y_train)\n",
        "y_val_pred = logreg.predict_proba(val_x_selected)[:, 1]\n",
        "precision, recall, _ = precision_recall_curve(y_val, y_val_pred)\n",
        "\n",
        "print(f\"AUC-PR: {auc(recall, precision):.4f}\")\n",
        "print(f\"Time: {ordinal_time:.4f}\")\n",
        "print(top_40_indices_scale)"
      ],
      "metadata": {
        "colab": {
          "base_uri": "https://localhost:8080/"
        },
        "id": "qWZuKLSHxhpY",
        "outputId": "725f504e-f3bf-4e0a-e184-d3974f5ca03f"
      },
      "execution_count": null,
      "outputs": [
        {
          "output_type": "stream",
          "name": "stdout",
          "text": [
            "AUC-PR old: 0.7648\n",
            "AUC-PR: 0.7381\n",
            "Time: 0.0210\n",
            "[105  26  27  41  64  29  37  50  52  84  30  58  36  40  93  61  49 104\n",
            "  28  62  71  82  66  45  43  25  22  65  90  96   8  53   1  16  83  12\n",
            "  70  85  42  31]\n"
          ]
        }
      ]
    },
    {
      "cell_type": "markdown",
      "source": [
        "Видим, что после нашей нормировки оставлять лишь 40 было лишним"
      ],
      "metadata": {
        "id": "auVaHmF4xzef"
      }
    },
    {
      "cell_type": "markdown",
      "metadata": {
        "id": "OLZJRpxjP75h"
      },
      "source": [
        "Вопрос на засыпку: one-hot кодирование возвращает нам единичные признаки-индикаторы. Попробуйте также отскалировать их, как и обычные числовые, и снова выбрать 40 главных по вкладу признаков. Изменился ли их список? Изменится ли качество?"
      ]
    },
    {
      "cell_type": "code",
      "source": [
        "scaler = StandardScaler(with_mean=False)\n",
        "X_train_scaled = scaler.fit_transform(X_train)\n",
        "X_val_scaled = scaler.transform(X_val)"
      ],
      "metadata": {
        "id": "4RqYqMoOyNwQ"
      },
      "execution_count": null,
      "outputs": []
    },
    {
      "cell_type": "code",
      "source": [
        "logreg = LogisticRegression().fit(X_train_scaled, y_train)\n",
        "\n",
        "y_combined = logreg.predict_proba(X_val_scaled)[:, 1]\n",
        "precision, recall, _ = precision_recall_curve(y_val, y_combined)\n",
        "\n",
        "print(f\"AUC-PR old: {auc(recall, precision):.4f}\")\n",
        "\n",
        "start_time = time.time()\n",
        "\n",
        "feature_importances = np.abs(logreg.coef_[0])\n",
        "top_40_indices_all = np.argsort(feature_importances)[::-1][:40]\n",
        "\n",
        "train_x_selected = X_train_scaled[:, top_40_indices_all]\n",
        "val_x_selected = X_val_scaled[:, top_40_indices_all]\n",
        "\n",
        "ordinal_time = time.time() - start_time\n",
        "\n",
        "logreg = LogisticRegression().fit(train_x_selected, y_train)\n",
        "y_val_pred = logreg.predict_proba(val_x_selected)[:, 1]\n",
        "precision, recall, _ = precision_recall_curve(y_val, y_val_pred)\n",
        "\n",
        "print(f\"AUC-PR: {auc(recall, precision):.4f}\")\n",
        "print(f\"Time: {ordinal_time:.4f}\")\n",
        "print(top_40_indices_all)"
      ],
      "metadata": {
        "colab": {
          "base_uri": "https://localhost:8080/"
        },
        "id": "XaRosRm7yBW2",
        "outputId": "1032a4fa-7514-4978-8f75-fa9e656fb235"
      },
      "execution_count": null,
      "outputs": [
        {
          "output_type": "stream",
          "name": "stdout",
          "text": [
            "AUC-PR old: 0.7637\n",
            "AUC-PR: 0.7584\n",
            "Time: 0.0131\n",
            "[105  27  29  22 104 107  58  41  50 102  40  25 106  37  47  30  36  55\n",
            "  52  20   6  86  57  99  48  10  19  64   8  38  31  49  28  88  60  21\n",
            "  32   0  23   9]\n"
          ]
        }
      ]
    },
    {
      "cell_type": "markdown",
      "source": [
        "Видим, что качество практически не изменилось (применяли with_mean=False, т.к. спарс-структура) разве что чуть уменьшилось. Тем не менее, модель работает сильно быстрее и мы экономимм по памяти, так что имеет смысл срезать лишние признаки. Наборы между двумя послденими пунктами изменились."
      ],
      "metadata": {
        "id": "jSPIhEEiyvek"
      }
    },
    {
      "cell_type": "markdown",
      "metadata": {
        "id": "3nK78Ag2P75i"
      },
      "source": [
        "#### __Задание 10. Методы фильтрации (0.5 балла)__\n",
        "\n",
        "\n",
        "Давайте отбирать признаки умнее, а именно через подсчёт некоторой функции для каждого признака. На основании значений этой функции будем оставлять наиболее важные признаки. Методы этого семейства называют фильтрующими или  filter methods.\n",
        "\n",
        "Одна из самых простых функция - корреляция между признаком и целевой переменной. Подумайте, какая взаимосвязь между корреляцией и предсказательной способностью модели, и как бы вы использовали информацию о корреляции для отбора признаков\n",
        "\n",
        "**Ответ:** Чем выше модуль корреляции, тем сильнее связь между признаками. Однако не думаю, что стоит на это ориентироваться, т.к. таким бразом результат протекает в выборку.\n",
        "\n",
        "Посчитайте корреляцию каждого признака с таргетом и отфильтруйте 40 признаков исходя из того, что вы описали, после чего замерьте качество и время отбора\n",
        "\n"
      ]
    },
    {
      "cell_type": "markdown",
      "source": [
        "Посчитаем с помощью втсроенной функции (данные у нас не большие, потому от материализации ни холодно, ни жарко (конечно, на больших данных я так бы не делал (как и не считал корреляцию с целевой переменной)))"
      ],
      "metadata": {
        "id": "XXGxPsfC1J3-"
      }
    },
    {
      "cell_type": "code",
      "execution_count": null,
      "metadata": {
        "id": "0snv1D-hP75i",
        "colab": {
          "base_uri": "https://localhost:8080/"
        },
        "outputId": "0553c888-902c-45d1-db49-59f482339f52"
      },
      "outputs": [
        {
          "output_type": "stream",
          "name": "stdout",
          "text": [
            "AUC-PR: 0.6601\n",
            "Time: 1.9933\n",
            "Index([101,  49,  83,  57,  55,  10,  11,  91,  74,  51,  71,  48,  67, 103,\n",
            "       105,  17,  99,  82,  19,   1,  77,  73,  68,  42,   5,  84,  61,  45,\n",
            "        88,   6,  96,  78,  58,  59,  85,  47,  24,  54,  62,  28],\n",
            "      dtype='int64')\n"
          ]
        }
      ],
      "source": [
        "start_time = time.time()\n",
        "\n",
        "correlations = pd.DataFrame(X_train.toarray()).corrwith(y_train)\n",
        "\n",
        "top_corr_features = correlations.abs().sort_values(ascending=False).head(40).index\n",
        "\n",
        "train_x_selected = X_train_scaled[:, top_corr_features]\n",
        "val_x_selected = X_val_scaled[:, top_corr_features]\n",
        "\n",
        "ordinal_time = time.time() - start_time\n",
        "\n",
        "logreg = LogisticRegression().fit(train_x_selected, y_train)\n",
        "y_val_pred = logreg.predict_proba(val_x_selected)[:, 1]\n",
        "precision, recall, _ = precision_recall_curve(y_val, y_val_pred)\n",
        "\n",
        "print(f\"AUC-PR: {auc(recall, precision):.4f}\")\n",
        "print(f\"Time: {ordinal_time:.4f}\")\n",
        "print(top_corr_features)"
      ]
    },
    {
      "cell_type": "markdown",
      "source": [
        "В качестве еще одной функция можно считать t-статистику:\n",
        "\n",
        "$$t(j) = \\frac{|\\mu_+ - \\mu_-|}{\\sqrt{\\frac{n_+ \\sigma^2_+ + n_- \\sigma^2_-}{n_+ + n_-}}},$$\n",
        "\n",
        "где $\\mu$, $\\sigma$, $n$ соответственно среднее, стандартное отклонение и количество объектов каждого из классов.\n",
        "\n",
        "Оставьте 40 признаков с наибольшим значением $t$, замерьте качество и скорость отбора признаков."
      ],
      "metadata": {
        "id": "2E6yxKB2KBav"
      }
    },
    {
      "cell_type": "code",
      "source": [
        "start_time = time.time()\n",
        "\n",
        "pos = X_train[y_train == 1].toarray()\n",
        "neg = X_train[y_train == 0].toarray()\n",
        "\n",
        "n_pos = pos.shape[0]\n",
        "n_neg = neg.shape[0]\n",
        "\n",
        "mean_pos = pos.mean(axis=0)\n",
        "mean_neg = neg.mean(axis=0)\n",
        "\n",
        "var_pos = pos.var(axis=0)\n",
        "var_neg = neg.var(axis=0)\n",
        "\n",
        "t_score = np.abs(mean_pos - mean_neg) / np.sqrt((var_pos * n_pos + var_neg * n_neg) / X_train.shape[0])\n",
        "\n",
        "top_t_features = np.argsort(np.abs(t_score))[::-1][:40]\n",
        "\n",
        "train_x_selected = X_train_scaled[:, top_t_features]\n",
        "val_x_selected = X_val_scaled[:, top_t_features]\n",
        "\n",
        "ordinal_time = time.time() - start_time\n",
        "\n",
        "logreg = LogisticRegression().fit(train_x_selected, y_train)\n",
        "y_val_pred = logreg.predict_proba(val_x_selected)[:, 1]\n",
        "precision, recall, _ = precision_recall_curve(y_val, y_val_pred)\n",
        "\n",
        "print(f\"AUC-PR: {auc(recall, precision):.4f}\")\n",
        "print(f\"Time: {ordinal_time:.4f}\")"
      ],
      "metadata": {
        "id": "a-IuzDptKE5J",
        "colab": {
          "base_uri": "https://localhost:8080/"
        },
        "outputId": "e08dd58e-b5d1-4935-9fc6-d1844ece8213"
      },
      "execution_count": null,
      "outputs": [
        {
          "output_type": "stream",
          "name": "stdout",
          "text": [
            "AUC-PR: 0.7597\n",
            "Time: 0.2756\n"
          ]
        }
      ]
    },
    {
      "cell_type": "markdown",
      "metadata": {
        "id": "zO63RNCLP75i"
      },
      "source": [
        "#### __Задание 11. Методы-обёртки__ (1 балл)\n",
        "\n",
        "Третий из рассматриваемых нами методов работает следующим образом: мы исключаем признаки по очереди и смотрим, как это влияет на качество. Удаляем признаки таким жадным способом, пока не окажется выполненым некоторое условие (количество признаков или ухудшение качества). Более конкретно, алгоритм выглядит так:\n",
        "\n",
        "- $k$ - число признаков, которых мы хотим оставить\n",
        "- $m$ - число признаков, которых мы выбрасываем на каждой итерации, оно же длина шага\n",
        "\n",
        "Шаг $i$:\n",
        "- $F_i$ - набор признаков (равный всему множеству признаков на i=0)\n",
        "- $M_i$ - их число, в общем случае $\\max(k, M_{i-1} - m)$\n",
        "1. Если признаков осталось ровно $k$, либо метрика стала уменьшаться более, чем на $\\epsilon$ — останавливаемся (не наш случай, но так тоже можно)\n",
        "2. Обучаем модель $a_i$ на наборе $F_i$, после чего оцениваем важность признаков (любым из способов выше или какими-нибудь ещё)\n",
        "3. Отбираем $\\min(M_i - k, m)$ наиболее бесполезных, согласно пункту 2, признаков (берем $m$, если можем, иначе оставляем вплоть до k), удаляем, переходим к следующему шагу\n",
        "\n",
        "Снова оставьте только 40 признаков и оцените качество на тестовой выборке. Подберите длину шага из каких-то соображений (каких, кстати?) и замерьте время работы метода"
      ]
    },
    {
      "cell_type": "markdown",
      "source": [
        "Я знаете ли, фанат классики, а потому просто для отскалированной выборки (по всем столбцам) буду смотреть максимальный вес."
      ],
      "metadata": {
        "id": "pXI4hK8ePZ0L"
      }
    },
    {
      "cell_type": "code",
      "execution_count": null,
      "metadata": {
        "id": "ISGdzDQQP75j",
        "colab": {
          "base_uri": "https://localhost:8080/"
        },
        "outputId": "43caaa99-7acf-40f7-fa47-90e6179fbbdb"
      },
      "outputs": [
        {
          "output_type": "stream",
          "name": "stdout",
          "text": [
            "AUC-PR: 0.7595\n",
            "Time: 3.1995\n"
          ]
        }
      ],
      "source": [
        "start_time = time.time()\n",
        "\n",
        "current_features = list(range(X_train_scaled.shape[1]))\n",
        "step = 5\n",
        "final_features_count = 40\n",
        "\n",
        "while len(current_features) > final_features_count:\n",
        "    logreg = LogisticRegression()\n",
        "    logreg.fit(X_train_scaled[:, current_features], y_train)\n",
        "\n",
        "    feature_importance = np.abs(logreg.coef_).flatten()\n",
        "\n",
        "    to_remove = np.argsort(feature_importance)[:step]\n",
        "    current_features = [f for i, f in enumerate(current_features) if i not in to_remove]\n",
        "\n",
        "\n",
        "current_features.extend(to_remove[:(final_features_count - len(current_features))])\n",
        "\n",
        "train_x_selected = X_train_scaled[:, current_features]\n",
        "val_x_selected = X_val_scaled[:, current_features]\n",
        "\n",
        "ordinal_time = time.time() - start_time\n",
        "\n",
        "logreg = LogisticRegression().fit(train_x_selected, y_train)\n",
        "y_val_pred = logreg.predict_proba(val_x_selected)[:, 1]\n",
        "precision, recall, _ = precision_recall_curve(y_val, y_val_pred)\n",
        "\n",
        "print(f\"AUC-PR: {auc(recall, precision):.4f}\")\n",
        "print(f\"Time: {ordinal_time:.4f}\")\n",
        "forward_features = current_features.copy()"
      ]
    },
    {
      "cell_type": "markdown",
      "metadata": {
        "id": "1AEL4z61P75j"
      },
      "source": [
        "Стоит отметить, что с помощью такого метода можно пойти и в обратную сторону. Попробуйте _добавлять_ самые полезные признаки в выборку до тех пор, пока не наберется 40 штук. Найдется ли порог, при котором добавление следующих признаков будет только ухудшать качество модели?"
      ]
    },
    {
      "cell_type": "code",
      "execution_count": null,
      "metadata": {
        "id": "ZzF8TzVFP75j",
        "colab": {
          "base_uri": "https://localhost:8080/"
        },
        "outputId": "baa8d2f2-7f0c-4dc3-92a6-c1bc39079888"
      },
      "outputs": [
        {
          "output_type": "stream",
          "name": "stdout",
          "text": [
            "AUC-PR: 0.7680\n",
            "Time: 242.8691\n"
          ]
        }
      ],
      "source": [
        "start_time = time.time()\n",
        "\n",
        "available_features = set(range(X_train_scaled.shape[1]))\n",
        "current_features = []\n",
        "final_features_count = 40\n",
        "\n",
        "while len(current_features) < final_features_count:\n",
        "    best_auc = 0\n",
        "    best_feature = None\n",
        "\n",
        "    for feature in available_features:\n",
        "        temp_features = current_features + [feature]\n",
        "        logreg = LogisticRegression()\n",
        "        logreg.fit(X_train_scaled[:, temp_features], y_train)\n",
        "\n",
        "        y_pred = logreg.predict_proba(X_val_scaled[:, temp_features])[:, 1]\n",
        "        precision, recall, _ = precision_recall_curve(y_val, y_pred)\n",
        "        auc_pr = auc(recall, precision)\n",
        "\n",
        "        if auc_pr > best_auc:\n",
        "            best_auc = auc_pr\n",
        "            best_feature = feature\n",
        "\n",
        "    current_features.append(best_feature)\n",
        "    available_features.remove(best_feature)\n",
        "\n",
        "train_x_selected = X_train_scaled[:, current_features]\n",
        "val_x_selected = X_val_scaled[:, current_features]\n",
        "\n",
        "ordinal_time = time.time() - start_time\n",
        "\n",
        "logreg = LogisticRegression().fit(train_x_selected, y_train)\n",
        "y_val_pred = logreg.predict_proba(val_x_selected)[:, 1]\n",
        "precision, recall, _ = precision_recall_curve(y_val, y_val_pred)\n",
        "\n",
        "print(f\"AUC-PR: {auc(recall, precision):.4f}\")\n",
        "print(f\"Time: {ordinal_time:.4f}\")\n",
        "forward_features = current_features.copy()\n"
      ]
    },
    {
      "cell_type": "markdown",
      "source": [
        "Первый метод работает быстро, т.к. мы всего final_features_count / step раз обучаем регрессию, при этом результат получается такой же, как при использовании t статистики. Второй метод работает заметно дольше, так как обучает регресиию пордка final_features_count умноженного на число признаков. Но сильного улучшения качества не произошло."
      ],
      "metadata": {
        "id": "DA8qD4oFQgin"
      }
    },
    {
      "cell_type": "markdown",
      "source": [
        "Проведем сравнение на тесте."
      ],
      "metadata": {
        "id": "G0V6WuNCRvqN"
      }
    },
    {
      "cell_type": "code",
      "source": [
        "X_train, X_test, y_train, y_test = train_test_split(X, y, test_size=0.25, random_state=777, stratify=y)"
      ],
      "metadata": {
        "id": "Zd7eplxxR_LK"
      },
      "execution_count": null,
      "outputs": []
    },
    {
      "cell_type": "code",
      "source": [
        "onehot_encoder = OneHotEncoder()\n",
        "scaler = StandardScaler(with_mean=False)\n",
        "X_train_cat_encoded = onehot_encoder.fit_transform(X_train[categorical_columns])\n",
        "X_test_cat_encoded = onehot_encoder.transform(X_test[categorical_columns])\n",
        "\n",
        "train_x = scaler.fit_transform(X_train_cat_encoded)\n",
        "test_x = scaler.transform(X_test_cat_encoded)\n",
        "\n",
        "scaler1 = StandardScaler()\n",
        "train_num = scaler1.fit_transform(X_train[numerical_columns])\n",
        "test_num = scaler1.transform(X_test[numerical_columns])\n",
        "\n",
        "X_train = hstack([train_x, train_num])\n",
        "X_test = hstack([test_x, test_num])"
      ],
      "metadata": {
        "id": "kHHbCRdUSB-c"
      },
      "execution_count": null,
      "outputs": []
    },
    {
      "cell_type": "code",
      "source": [
        "X_train = X_train.tocsr()\n",
        "X_test = X_test.tocsr()"
      ],
      "metadata": {
        "id": "11gKlDsbXzr8"
      },
      "execution_count": null,
      "outputs": []
    },
    {
      "cell_type": "code",
      "source": [
        "#just with weights\n",
        "train_x = X_train[:, top_40_indices_all]\n",
        "test_x= X_test[:, top_40_indices_all]\n",
        "\n",
        "logreg = LogisticRegression().fit(train_x, y_train)\n",
        "y_test_pred = logreg.predict_proba(test_x)[:, 1]\n",
        "precision, recall, _ = precision_recall_curve(y_test, y_test_pred)\n",
        "\n",
        "print(f\"AUC-PR: {auc(recall, precision):.4f}\")"
      ],
      "metadata": {
        "colab": {
          "base_uri": "https://localhost:8080/"
        },
        "id": "yJr62JZCS6Do",
        "outputId": "e11b1bc7-d842-4b63-d4e0-0c4d38fcf0d2"
      },
      "execution_count": null,
      "outputs": [
        {
          "output_type": "stream",
          "name": "stdout",
          "text": [
            "AUC-PR: 0.7601\n"
          ]
        }
      ]
    },
    {
      "cell_type": "code",
      "source": [
        "#correlation\n",
        "train_x = X_train[:, top_corr_features]\n",
        "test_x= X_test[:, top_corr_features]\n",
        "\n",
        "logreg = LogisticRegression().fit(train_x, y_train)\n",
        "y_test_pred = logreg.predict_proba(test_x)[:, 1]\n",
        "precision, recall, _ = precision_recall_curve(y_test, y_test_pred)\n",
        "\n",
        "print(f\"AUC-PR: {auc(recall, precision):.4f}\")"
      ],
      "metadata": {
        "colab": {
          "base_uri": "https://localhost:8080/"
        },
        "id": "oL_erCrnTcaa",
        "outputId": "ba74901e-0038-41c7-dc74-e14528993e11"
      },
      "execution_count": null,
      "outputs": [
        {
          "output_type": "stream",
          "name": "stdout",
          "text": [
            "AUC-PR: 0.6539\n"
          ]
        }
      ]
    },
    {
      "cell_type": "code",
      "source": [
        "#t-test\n",
        "train_x = X_train[:, top_t_features]\n",
        "test_x= X_test[:, top_t_features]\n",
        "\n",
        "logreg = LogisticRegression().fit(train_x, y_train)\n",
        "y_test_pred = logreg.predict_proba(test_x)[:, 1]\n",
        "precision, recall, _ = precision_recall_curve(y_test, y_test_pred)\n",
        "\n",
        "print(f\"AUC-PR: {auc(recall, precision):.4f}\")"
      ],
      "metadata": {
        "colab": {
          "base_uri": "https://localhost:8080/"
        },
        "id": "iw7LDFcYT0Bf",
        "outputId": "51ad30e4-5859-4dc4-c786-89ea0e8fdceb"
      },
      "execution_count": null,
      "outputs": [
        {
          "output_type": "stream",
          "name": "stdout",
          "text": [
            "AUC-PR: 0.7620\n"
          ]
        }
      ]
    },
    {
      "cell_type": "code",
      "source": [
        "#forward\n",
        "train_x = X_train[:, forward_features]\n",
        "test_x= X_test[:, forward_features]\n",
        "\n",
        "logreg = LogisticRegression().fit(train_x, y_train)\n",
        "y_test_pred = logreg.predict_proba(test_x)[:, 1]\n",
        "precision, recall, _ = precision_recall_curve(y_test, y_test_pred)\n",
        "\n",
        "print(f\"AUC-PR: {auc(recall, precision):.4f}\")"
      ],
      "metadata": {
        "colab": {
          "base_uri": "https://localhost:8080/"
        },
        "id": "Q9w6QLlOT-OW",
        "outputId": "a2290529-107f-4740-db79-36b5dfa7cca1"
      },
      "execution_count": null,
      "outputs": [
        {
          "output_type": "stream",
          "name": "stdout",
          "text": [
            "AUC-PR: 0.7645\n"
          ]
        }
      ]
    },
    {
      "cell_type": "code",
      "source": [
        "#backward\n",
        "train_x = X_train[:, current_features]\n",
        "test_x= X_test[:, current_features]\n",
        "\n",
        "logreg = LogisticRegression().fit(train_x, y_train)\n",
        "y_test_pred = logreg.predict_proba(test_x)[:, 1]\n",
        "precision, recall, _ = precision_recall_curve(y_test, y_test_pred)\n",
        "\n",
        "print(f\"AUC-PR: {auc(recall, precision):.4f}\")"
      ],
      "metadata": {
        "colab": {
          "base_uri": "https://localhost:8080/"
        },
        "id": "gYs3YJ-cUGwt",
        "outputId": "afbd9b9d-1d8b-44b9-fdb4-2347b0ed1d9b"
      },
      "execution_count": null,
      "outputs": [
        {
          "output_type": "stream",
          "name": "stdout",
          "text": [
            "AUC-PR: 0.7645\n"
          ]
        }
      ]
    },
    {
      "cell_type": "markdown",
      "metadata": {
        "id": "wj6a-BERP75j"
      },
      "source": [
        "Давайте подведём итоги по отбору признаков. Назовите преимущества и недостатки каждого из методов. Какой метод привёл к наилучшему качеству?\n",
        "\n",
        "**Ответ:** Преимущет=ства всех методов в экономии памяти, но потенциальная проблема с тем, что может протечь целева переменная (если только по валидации выбираем, то ок), но также проблема в обобщаемости (добавятся новыые признаки и все, поднимаем лапки). Встроенный метод, фильтрация и forward работают довольно быстро (forward при адекватном шаге), а вот backward это будто бы слишком инструмент (есть идея, что в ином случае может произойти переобучение). Как видим, на тесте лучшими являются forward, t-test и просто веса (разница между ними в тысячных)."
      ]
    },
    {
      "cell_type": "markdown",
      "metadata": {
        "id": "zrR06pp7P75k"
      },
      "source": [
        "# Часть 4. Оценка экономического эффекта модели (2 балла)\n",
        "\n"
      ]
    },
    {
      "cell_type": "markdown",
      "metadata": {
        "id": "CmgOdf7GT3uh"
      },
      "source": [
        "В данной части мы займемся тем, что от вас скорее всего потребуется на реальной работе (помимо перекладки `json`, разумеется). А именно:\n",
        "- мы соберем несколько специализированных метрик качества,\n",
        "- попытаемся настроить модель на максимизацию _прибыли_,\n",
        "- оценим, сколько вообще получится заработать на этом.\n",
        "\n",
        "Разумеется, здесь будет сделано множество упрощающих жизнь допущений, но обо всем по порядку. Если вы всё прослушали на экономике, то напомним, что выручка — это сколько денег нам принесли клиенты, а прибыль — выручка за вычетом расходов на зарплату и прочее."
      ]
    },
    {
      "cell_type": "markdown",
      "metadata": {
        "id": "NQkW5Xh6yip2"
      },
      "source": [
        "\n",
        "#### __Задание 12. Прогноз по доходам и расходам__ (1 балл)\n",
        "\n",
        "В этой части мы будем работать с данными [UCI Bank Marketing Dataset](https://archive.ics.uci.edu/ml/datasets/bank+marketing). Этот датасет содержит информацию о банковском телефонном маркетинге.\n",
        "\n",
        "__Объектом__ здесь является телефонный звонок потенциальному клиенту с предложением некоторой услуги (утверждается, что это краткосрочный депозит). В качестве признакового описания используются характеристики клиента (образование, брак и т.д.), данные о звонке и различные экономические индикаторы - более подробная информация представлена в файле `bank-additional-names.txt`.\n",
        "__Целевая переменная__ - ответ клиента (согласился ли он открыть депозит?)"
      ]
    },
    {
      "cell_type": "code",
      "execution_count": 120,
      "metadata": {
        "id": "e9WBqQd1aAjp",
        "colab": {
          "base_uri": "https://localhost:8080/"
        },
        "outputId": "5352262f-3eda-4d12-d87e-4ec3ffe1cba9"
      },
      "outputs": [
        {
          "output_type": "stream",
          "name": "stdout",
          "text": [
            "--2024-11-28 18:26:10--  https://archive.ics.uci.edu/ml/machine-learning-databases/00222/bank-additional.zip\n",
            "Resolving archive.ics.uci.edu (archive.ics.uci.edu)... 128.195.10.252\n",
            "Connecting to archive.ics.uci.edu (archive.ics.uci.edu)|128.195.10.252|:443... connected.\n",
            "HTTP request sent, awaiting response... 200 OK\n",
            "Length: unspecified\n",
            "Saving to: ‘bank-additional.zip.1’\n",
            "\n",
            "bank-additional.zip     [   <=>              ] 434.15K   575KB/s    in 0.8s    \n",
            "\n",
            "2024-11-28 18:26:11 (575 KB/s) - ‘bank-additional.zip.1’ saved [444572]\n",
            "\n",
            "Archive:  bank-additional.zip\n",
            "replace bank-additional/.DS_Store? [y]es, [n]o, [A]ll, [N]one, [r]ename: "
          ]
        }
      ],
      "source": [
        "!wget https://archive.ics.uci.edu/ml/machine-learning-databases/00222/bank-additional.zip\n",
        "!unzip bank-additional.zip\n",
        "df = pd.read_csv('bank-additional/bank-additional-full.csv', sep=';')"
      ]
    },
    {
      "cell_type": "code",
      "execution_count": 121,
      "metadata": {
        "id": "Gbw5k7lMaYT1",
        "colab": {
          "base_uri": "https://localhost:8080/",
          "height": 206
        },
        "outputId": "38b61c84-b77d-4ce3-b8f4-6616e422b319"
      },
      "outputs": [
        {
          "output_type": "execute_result",
          "data": {
            "text/plain": [
              "   age        job  marital    education  default housing loan    contact  \\\n",
              "0   56  housemaid  married     basic.4y       no      no   no  telephone   \n",
              "1   57   services  married  high.school  unknown      no   no  telephone   \n",
              "2   37   services  married  high.school       no     yes   no  telephone   \n",
              "3   40     admin.  married     basic.6y       no      no   no  telephone   \n",
              "4   56   services  married  high.school       no      no  yes  telephone   \n",
              "\n",
              "  month day_of_week  duration  campaign  pdays  previous     poutcome  \\\n",
              "0   may         mon       261         1    999         0  nonexistent   \n",
              "1   may         mon       149         1    999         0  nonexistent   \n",
              "2   may         mon       226         1    999         0  nonexistent   \n",
              "3   may         mon       151         1    999         0  nonexistent   \n",
              "4   may         mon       307         1    999         0  nonexistent   \n",
              "\n",
              "   emp.var.rate  cons.price.idx  cons.conf.idx  euribor3m  nr.employed   y  \n",
              "0           1.1          93.994          -36.4      4.857       5191.0  no  \n",
              "1           1.1          93.994          -36.4      4.857       5191.0  no  \n",
              "2           1.1          93.994          -36.4      4.857       5191.0  no  \n",
              "3           1.1          93.994          -36.4      4.857       5191.0  no  \n",
              "4           1.1          93.994          -36.4      4.857       5191.0  no  "
            ],
            "text/html": [
              "\n",
              "  <div id=\"df-d05f90c1-8a00-43ac-8352-54cd6f2e7ace\" class=\"colab-df-container\">\n",
              "    <div>\n",
              "<style scoped>\n",
              "    .dataframe tbody tr th:only-of-type {\n",
              "        vertical-align: middle;\n",
              "    }\n",
              "\n",
              "    .dataframe tbody tr th {\n",
              "        vertical-align: top;\n",
              "    }\n",
              "\n",
              "    .dataframe thead th {\n",
              "        text-align: right;\n",
              "    }\n",
              "</style>\n",
              "<table border=\"1\" class=\"dataframe\">\n",
              "  <thead>\n",
              "    <tr style=\"text-align: right;\">\n",
              "      <th></th>\n",
              "      <th>age</th>\n",
              "      <th>job</th>\n",
              "      <th>marital</th>\n",
              "      <th>education</th>\n",
              "      <th>default</th>\n",
              "      <th>housing</th>\n",
              "      <th>loan</th>\n",
              "      <th>contact</th>\n",
              "      <th>month</th>\n",
              "      <th>day_of_week</th>\n",
              "      <th>duration</th>\n",
              "      <th>campaign</th>\n",
              "      <th>pdays</th>\n",
              "      <th>previous</th>\n",
              "      <th>poutcome</th>\n",
              "      <th>emp.var.rate</th>\n",
              "      <th>cons.price.idx</th>\n",
              "      <th>cons.conf.idx</th>\n",
              "      <th>euribor3m</th>\n",
              "      <th>nr.employed</th>\n",
              "      <th>y</th>\n",
              "    </tr>\n",
              "  </thead>\n",
              "  <tbody>\n",
              "    <tr>\n",
              "      <th>0</th>\n",
              "      <td>56</td>\n",
              "      <td>housemaid</td>\n",
              "      <td>married</td>\n",
              "      <td>basic.4y</td>\n",
              "      <td>no</td>\n",
              "      <td>no</td>\n",
              "      <td>no</td>\n",
              "      <td>telephone</td>\n",
              "      <td>may</td>\n",
              "      <td>mon</td>\n",
              "      <td>261</td>\n",
              "      <td>1</td>\n",
              "      <td>999</td>\n",
              "      <td>0</td>\n",
              "      <td>nonexistent</td>\n",
              "      <td>1.1</td>\n",
              "      <td>93.994</td>\n",
              "      <td>-36.4</td>\n",
              "      <td>4.857</td>\n",
              "      <td>5191.0</td>\n",
              "      <td>no</td>\n",
              "    </tr>\n",
              "    <tr>\n",
              "      <th>1</th>\n",
              "      <td>57</td>\n",
              "      <td>services</td>\n",
              "      <td>married</td>\n",
              "      <td>high.school</td>\n",
              "      <td>unknown</td>\n",
              "      <td>no</td>\n",
              "      <td>no</td>\n",
              "      <td>telephone</td>\n",
              "      <td>may</td>\n",
              "      <td>mon</td>\n",
              "      <td>149</td>\n",
              "      <td>1</td>\n",
              "      <td>999</td>\n",
              "      <td>0</td>\n",
              "      <td>nonexistent</td>\n",
              "      <td>1.1</td>\n",
              "      <td>93.994</td>\n",
              "      <td>-36.4</td>\n",
              "      <td>4.857</td>\n",
              "      <td>5191.0</td>\n",
              "      <td>no</td>\n",
              "    </tr>\n",
              "    <tr>\n",
              "      <th>2</th>\n",
              "      <td>37</td>\n",
              "      <td>services</td>\n",
              "      <td>married</td>\n",
              "      <td>high.school</td>\n",
              "      <td>no</td>\n",
              "      <td>yes</td>\n",
              "      <td>no</td>\n",
              "      <td>telephone</td>\n",
              "      <td>may</td>\n",
              "      <td>mon</td>\n",
              "      <td>226</td>\n",
              "      <td>1</td>\n",
              "      <td>999</td>\n",
              "      <td>0</td>\n",
              "      <td>nonexistent</td>\n",
              "      <td>1.1</td>\n",
              "      <td>93.994</td>\n",
              "      <td>-36.4</td>\n",
              "      <td>4.857</td>\n",
              "      <td>5191.0</td>\n",
              "      <td>no</td>\n",
              "    </tr>\n",
              "    <tr>\n",
              "      <th>3</th>\n",
              "      <td>40</td>\n",
              "      <td>admin.</td>\n",
              "      <td>married</td>\n",
              "      <td>basic.6y</td>\n",
              "      <td>no</td>\n",
              "      <td>no</td>\n",
              "      <td>no</td>\n",
              "      <td>telephone</td>\n",
              "      <td>may</td>\n",
              "      <td>mon</td>\n",
              "      <td>151</td>\n",
              "      <td>1</td>\n",
              "      <td>999</td>\n",
              "      <td>0</td>\n",
              "      <td>nonexistent</td>\n",
              "      <td>1.1</td>\n",
              "      <td>93.994</td>\n",
              "      <td>-36.4</td>\n",
              "      <td>4.857</td>\n",
              "      <td>5191.0</td>\n",
              "      <td>no</td>\n",
              "    </tr>\n",
              "    <tr>\n",
              "      <th>4</th>\n",
              "      <td>56</td>\n",
              "      <td>services</td>\n",
              "      <td>married</td>\n",
              "      <td>high.school</td>\n",
              "      <td>no</td>\n",
              "      <td>no</td>\n",
              "      <td>yes</td>\n",
              "      <td>telephone</td>\n",
              "      <td>may</td>\n",
              "      <td>mon</td>\n",
              "      <td>307</td>\n",
              "      <td>1</td>\n",
              "      <td>999</td>\n",
              "      <td>0</td>\n",
              "      <td>nonexistent</td>\n",
              "      <td>1.1</td>\n",
              "      <td>93.994</td>\n",
              "      <td>-36.4</td>\n",
              "      <td>4.857</td>\n",
              "      <td>5191.0</td>\n",
              "      <td>no</td>\n",
              "    </tr>\n",
              "  </tbody>\n",
              "</table>\n",
              "</div>\n",
              "    <div class=\"colab-df-buttons\">\n",
              "\n",
              "  <div class=\"colab-df-container\">\n",
              "    <button class=\"colab-df-convert\" onclick=\"convertToInteractive('df-d05f90c1-8a00-43ac-8352-54cd6f2e7ace')\"\n",
              "            title=\"Convert this dataframe to an interactive table.\"\n",
              "            style=\"display:none;\">\n",
              "\n",
              "  <svg xmlns=\"http://www.w3.org/2000/svg\" height=\"24px\" viewBox=\"0 -960 960 960\">\n",
              "    <path d=\"M120-120v-720h720v720H120Zm60-500h600v-160H180v160Zm220 220h160v-160H400v160Zm0 220h160v-160H400v160ZM180-400h160v-160H180v160Zm440 0h160v-160H620v160ZM180-180h160v-160H180v160Zm440 0h160v-160H620v160Z\"/>\n",
              "  </svg>\n",
              "    </button>\n",
              "\n",
              "  <style>\n",
              "    .colab-df-container {\n",
              "      display:flex;\n",
              "      gap: 12px;\n",
              "    }\n",
              "\n",
              "    .colab-df-convert {\n",
              "      background-color: #E8F0FE;\n",
              "      border: none;\n",
              "      border-radius: 50%;\n",
              "      cursor: pointer;\n",
              "      display: none;\n",
              "      fill: #1967D2;\n",
              "      height: 32px;\n",
              "      padding: 0 0 0 0;\n",
              "      width: 32px;\n",
              "    }\n",
              "\n",
              "    .colab-df-convert:hover {\n",
              "      background-color: #E2EBFA;\n",
              "      box-shadow: 0px 1px 2px rgba(60, 64, 67, 0.3), 0px 1px 3px 1px rgba(60, 64, 67, 0.15);\n",
              "      fill: #174EA6;\n",
              "    }\n",
              "\n",
              "    .colab-df-buttons div {\n",
              "      margin-bottom: 4px;\n",
              "    }\n",
              "\n",
              "    [theme=dark] .colab-df-convert {\n",
              "      background-color: #3B4455;\n",
              "      fill: #D2E3FC;\n",
              "    }\n",
              "\n",
              "    [theme=dark] .colab-df-convert:hover {\n",
              "      background-color: #434B5C;\n",
              "      box-shadow: 0px 1px 3px 1px rgba(0, 0, 0, 0.15);\n",
              "      filter: drop-shadow(0px 1px 2px rgba(0, 0, 0, 0.3));\n",
              "      fill: #FFFFFF;\n",
              "    }\n",
              "  </style>\n",
              "\n",
              "    <script>\n",
              "      const buttonEl =\n",
              "        document.querySelector('#df-d05f90c1-8a00-43ac-8352-54cd6f2e7ace button.colab-df-convert');\n",
              "      buttonEl.style.display =\n",
              "        google.colab.kernel.accessAllowed ? 'block' : 'none';\n",
              "\n",
              "      async function convertToInteractive(key) {\n",
              "        const element = document.querySelector('#df-d05f90c1-8a00-43ac-8352-54cd6f2e7ace');\n",
              "        const dataTable =\n",
              "          await google.colab.kernel.invokeFunction('convertToInteractive',\n",
              "                                                    [key], {});\n",
              "        if (!dataTable) return;\n",
              "\n",
              "        const docLinkHtml = 'Like what you see? Visit the ' +\n",
              "          '<a target=\"_blank\" href=https://colab.research.google.com/notebooks/data_table.ipynb>data table notebook</a>'\n",
              "          + ' to learn more about interactive tables.';\n",
              "        element.innerHTML = '';\n",
              "        dataTable['output_type'] = 'display_data';\n",
              "        await google.colab.output.renderOutput(dataTable, element);\n",
              "        const docLink = document.createElement('div');\n",
              "        docLink.innerHTML = docLinkHtml;\n",
              "        element.appendChild(docLink);\n",
              "      }\n",
              "    </script>\n",
              "  </div>\n",
              "\n",
              "\n",
              "<div id=\"df-e1b741cd-5597-4b04-af9b-6fbaa96b0e18\">\n",
              "  <button class=\"colab-df-quickchart\" onclick=\"quickchart('df-e1b741cd-5597-4b04-af9b-6fbaa96b0e18')\"\n",
              "            title=\"Suggest charts\"\n",
              "            style=\"display:none;\">\n",
              "\n",
              "<svg xmlns=\"http://www.w3.org/2000/svg\" height=\"24px\"viewBox=\"0 0 24 24\"\n",
              "     width=\"24px\">\n",
              "    <g>\n",
              "        <path d=\"M19 3H5c-1.1 0-2 .9-2 2v14c0 1.1.9 2 2 2h14c1.1 0 2-.9 2-2V5c0-1.1-.9-2-2-2zM9 17H7v-7h2v7zm4 0h-2V7h2v10zm4 0h-2v-4h2v4z\"/>\n",
              "    </g>\n",
              "</svg>\n",
              "  </button>\n",
              "\n",
              "<style>\n",
              "  .colab-df-quickchart {\n",
              "      --bg-color: #E8F0FE;\n",
              "      --fill-color: #1967D2;\n",
              "      --hover-bg-color: #E2EBFA;\n",
              "      --hover-fill-color: #174EA6;\n",
              "      --disabled-fill-color: #AAA;\n",
              "      --disabled-bg-color: #DDD;\n",
              "  }\n",
              "\n",
              "  [theme=dark] .colab-df-quickchart {\n",
              "      --bg-color: #3B4455;\n",
              "      --fill-color: #D2E3FC;\n",
              "      --hover-bg-color: #434B5C;\n",
              "      --hover-fill-color: #FFFFFF;\n",
              "      --disabled-bg-color: #3B4455;\n",
              "      --disabled-fill-color: #666;\n",
              "  }\n",
              "\n",
              "  .colab-df-quickchart {\n",
              "    background-color: var(--bg-color);\n",
              "    border: none;\n",
              "    border-radius: 50%;\n",
              "    cursor: pointer;\n",
              "    display: none;\n",
              "    fill: var(--fill-color);\n",
              "    height: 32px;\n",
              "    padding: 0;\n",
              "    width: 32px;\n",
              "  }\n",
              "\n",
              "  .colab-df-quickchart:hover {\n",
              "    background-color: var(--hover-bg-color);\n",
              "    box-shadow: 0 1px 2px rgba(60, 64, 67, 0.3), 0 1px 3px 1px rgba(60, 64, 67, 0.15);\n",
              "    fill: var(--button-hover-fill-color);\n",
              "  }\n",
              "\n",
              "  .colab-df-quickchart-complete:disabled,\n",
              "  .colab-df-quickchart-complete:disabled:hover {\n",
              "    background-color: var(--disabled-bg-color);\n",
              "    fill: var(--disabled-fill-color);\n",
              "    box-shadow: none;\n",
              "  }\n",
              "\n",
              "  .colab-df-spinner {\n",
              "    border: 2px solid var(--fill-color);\n",
              "    border-color: transparent;\n",
              "    border-bottom-color: var(--fill-color);\n",
              "    animation:\n",
              "      spin 1s steps(1) infinite;\n",
              "  }\n",
              "\n",
              "  @keyframes spin {\n",
              "    0% {\n",
              "      border-color: transparent;\n",
              "      border-bottom-color: var(--fill-color);\n",
              "      border-left-color: var(--fill-color);\n",
              "    }\n",
              "    20% {\n",
              "      border-color: transparent;\n",
              "      border-left-color: var(--fill-color);\n",
              "      border-top-color: var(--fill-color);\n",
              "    }\n",
              "    30% {\n",
              "      border-color: transparent;\n",
              "      border-left-color: var(--fill-color);\n",
              "      border-top-color: var(--fill-color);\n",
              "      border-right-color: var(--fill-color);\n",
              "    }\n",
              "    40% {\n",
              "      border-color: transparent;\n",
              "      border-right-color: var(--fill-color);\n",
              "      border-top-color: var(--fill-color);\n",
              "    }\n",
              "    60% {\n",
              "      border-color: transparent;\n",
              "      border-right-color: var(--fill-color);\n",
              "    }\n",
              "    80% {\n",
              "      border-color: transparent;\n",
              "      border-right-color: var(--fill-color);\n",
              "      border-bottom-color: var(--fill-color);\n",
              "    }\n",
              "    90% {\n",
              "      border-color: transparent;\n",
              "      border-bottom-color: var(--fill-color);\n",
              "    }\n",
              "  }\n",
              "</style>\n",
              "\n",
              "  <script>\n",
              "    async function quickchart(key) {\n",
              "      const quickchartButtonEl =\n",
              "        document.querySelector('#' + key + ' button');\n",
              "      quickchartButtonEl.disabled = true;  // To prevent multiple clicks.\n",
              "      quickchartButtonEl.classList.add('colab-df-spinner');\n",
              "      try {\n",
              "        const charts = await google.colab.kernel.invokeFunction(\n",
              "            'suggestCharts', [key], {});\n",
              "      } catch (error) {\n",
              "        console.error('Error during call to suggestCharts:', error);\n",
              "      }\n",
              "      quickchartButtonEl.classList.remove('colab-df-spinner');\n",
              "      quickchartButtonEl.classList.add('colab-df-quickchart-complete');\n",
              "    }\n",
              "    (() => {\n",
              "      let quickchartButtonEl =\n",
              "        document.querySelector('#df-e1b741cd-5597-4b04-af9b-6fbaa96b0e18 button');\n",
              "      quickchartButtonEl.style.display =\n",
              "        google.colab.kernel.accessAllowed ? 'block' : 'none';\n",
              "    })();\n",
              "  </script>\n",
              "</div>\n",
              "\n",
              "    </div>\n",
              "  </div>\n"
            ],
            "application/vnd.google.colaboratory.intrinsic+json": {
              "type": "dataframe",
              "variable_name": "df"
            }
          },
          "metadata": {},
          "execution_count": 121
        }
      ],
      "source": [
        "df.head()"
      ]
    },
    {
      "cell_type": "code",
      "execution_count": 122,
      "metadata": {
        "id": "qmxCn_Pz3kJB"
      },
      "outputs": [],
      "source": [
        "X = df.drop(columns=['duration', 'y'])\n",
        "y = (df.y == 'yes')"
      ]
    },
    {
      "cell_type": "markdown",
      "metadata": {
        "id": "lMKgtxfwaBEQ"
      },
      "source": [
        "В этой части не нужно делить выборку - мы будем использовать кросс-валидацию.  Используйте наиболее подходящие с вашей точки зрения параметры и их значения (`shuffle`, `stratify`, число фолдов, ...). По кросс-валидации у вас получится несколько вариантов обучающей и тестовой выборки. Для удобства можно воспользоваться шаблоном ниже, который по ходу выполнения задания будет обрастать функционалом. Как обычно, это необязательно, но сохранять результаты экспериментов очень и очень желательно, в конце мы будем их сравнивать"
      ]
    },
    {
      "cell_type": "code",
      "source": [
        "from collections import defaultdict\n",
        "from sklearn.model_selection import KFold, StratifiedKFold\n",
        "from sklearn.compose import ColumnTransformer\n",
        "from sklearn.preprocessing import StandardScaler, OneHotEncoder\n",
        "from sklearn.pipeline import Pipeline\n",
        "\n",
        "def cross_validate(\n",
        "    X,\n",
        "    y,\n",
        "    n_splits=5,\n",
        "    random_state=None,\n",
        "    shuffle=False,\n",
        "    # другие аргументы, которые могут вам пригодиться дальше по пунктам\n",
        "):\n",
        "    metrics = []\n",
        "    # или любой другой фолд, посмотрите в model_selection\n",
        "    skf = KFold(n_splits=n_splits, random_state=random_state, shuffle=shuffle)\n",
        "\n",
        "    num_features = X.select_dtypes(include=[\"int64\", \"float64\"]).columns\n",
        "    cat_features = X.select_dtypes(include=[\"object\", \"category\"]).columns\n",
        "\n",
        "    preprocessor = ColumnTransformer([\n",
        "        (\"num\", StandardScaler(), num_features),\n",
        "        (\"cat\", OneHotEncoder(handle_unknown=\"ignore\"), cat_features)])\n",
        "\n",
        "    model = Pipeline(steps=[\n",
        "        (\"preprocessor\", preprocessor),\n",
        "        (\"classifier\", LogisticRegression(random_state=random_state))\n",
        "    ])\n",
        "\n",
        "    for train_index, test_index in skf.split(X, y):\n",
        "        X_train, X_test = X.iloc[train_index], X.iloc[test_index]\n",
        "        y_train, y_test = y.iloc[train_index], y.iloc[test_index]\n",
        "\n",
        "        model.fit(X_train, y_train)\n",
        "\n",
        "        y_pred = model.predict(X_test)\n",
        "        y_pred = model.predict_proba(X_test)[:, 1]\n",
        "\n",
        "        precision, recall, _ = precision_recall_curve(y_test, y_pred)\n",
        "        metrics.append({\"AUC-PR\":  auc(recall, precision)})\n",
        "\n",
        "    return pd.DataFrame(metrics)"
      ],
      "metadata": {
        "id": "DWH-ApMjY4et"
      },
      "execution_count": 123,
      "outputs": []
    },
    {
      "cell_type": "markdown",
      "metadata": {
        "id": "YIX-omTIyxtU"
      },
      "source": [
        "Выберите метрику классификации, которая вам кажется подходящей, и обучите логистическую регрессию на каждой обучающей выборке (закодируйте категориальные признаки способом, который выше вам понравился больше всех, отнормируйте числовые, гиперпараметры оставьте по умолчанию), сделайте предсказания для соответствующих тестовых выборок, выведите результаты"
      ]
    },
    {
      "cell_type": "code",
      "execution_count": 124,
      "metadata": {
        "id": "5V3f4cQryx6c",
        "colab": {
          "base_uri": "https://localhost:8080/"
        },
        "outputId": "acc4689e-0afb-442e-a4f6-ea98b5c74c7f"
      },
      "outputs": [
        {
          "output_type": "stream",
          "name": "stdout",
          "text": [
            "Mean AUC:\n",
            "AUC-PR    0.45221\n",
            "dtype: float64\n",
            "Dviation:\n",
            "AUC-PR    0.028399\n",
            "dtype: float64\n",
            "     AUC-PR\n",
            "0  0.473217\n",
            "1  0.434229\n",
            "2  0.441163\n",
            "3  0.422255\n",
            "4  0.490186\n"
          ]
        }
      ],
      "source": [
        "results = cross_validate(X, y, random_state=777, shuffle=True)\n",
        "\n",
        "print(\"Mean AUC:\")\n",
        "print(results.mean())\n",
        "print(\"Dviation:\")\n",
        "print(results.std())\n",
        "print(results)"
      ]
    },
    {
      "cell_type": "markdown",
      "metadata": {
        "id": "CcuHfZjfzmnt"
      },
      "source": [
        "Допустим, работники вашего колл-центра получают за один звонок клиенту 2 доллара. При согласии клиента на предлагаемые условия он принесет в банк 10 долларов. Предположим, что всем положительным прогнозам ваши сотрудники решили позвонить.\n",
        "\n",
        "В качестве бизнес-метрики в нашей задаче мы будем считать прибыль aka `profit`, соответственно лучшую модель будем выбирать исходя из этого.\n",
        "Посчитайте на всех тестовых выборках выручку и сохраните результаты для бизнес-метрики вместе с предыдущей метрикой, которую вы выбрали\n",
        "\n",
        "Ответьте на вопросы:\n",
        "- Сколько денег вы в среднем заработаете?\n",
        "- Какое получилось стандартное отклонение профита?\n",
        "- Сколько из заработанных денег придётся отдать операторам вашего колл-центра?\n",
        "- Пропорциональна ли бизнес-метрика выбранной метрике классификации?"
      ]
    },
    {
      "cell_type": "code",
      "execution_count": 125,
      "metadata": {
        "id": "0okqAh-AzWTX"
      },
      "outputs": [],
      "source": [
        "def calculate_profit(y_true, y_pred, threshold, cost_call, earn_success):\n",
        "    y_pred = (y_pred >= threshold).astype(int)\n",
        "    cost = y_pred.sum() * cost_call\n",
        "\n",
        "    true_positive = ((y_true == 1) & (y_pred == 1)).sum()\n",
        "    revenue = true_positive * earn_success\n",
        "    return revenue, cost"
      ]
    },
    {
      "cell_type": "code",
      "source": [
        "def cross_validate_with_profit(\n",
        "    X,\n",
        "    y,\n",
        "    n_splits=5,\n",
        "    random_state=None,\n",
        "    shuffle=True,\n",
        "    cost_call=2,\n",
        "    earn_success=10,\n",
        "    thrs=0.5\n",
        "):\n",
        "    metrics = []\n",
        "    skf = KFold(n_splits=n_splits, random_state=random_state, shuffle=shuffle)\n",
        "\n",
        "    num_features = X.select_dtypes(include=[\"int64\", \"float64\"]).columns\n",
        "    cat_features = X.select_dtypes(include=[\"object\", \"category\"]).columns\n",
        "\n",
        "    preprocessor = ColumnTransformer([\n",
        "        (\"num\", StandardScaler(), num_features),\n",
        "        (\"cat\", OneHotEncoder(handle_unknown=\"ignore\"), cat_features)])\n",
        "\n",
        "    model = Pipeline(steps=[\n",
        "        (\"preprocessor\", preprocessor),\n",
        "        (\"classifier\", LogisticRegression(random_state=random_state))\n",
        "    ])\n",
        "\n",
        "    for train_index, test_index in skf.split(X, y):\n",
        "        X_train, X_test = X.iloc[train_index], X.iloc[test_index]\n",
        "        y_train, y_test = y.iloc[train_index], y.iloc[test_index]\n",
        "\n",
        "        model.fit(X_train, y_train)\n",
        "        y_pred = model.predict_proba(X_test)[:, 1]\n",
        "\n",
        "        profit, cost = calculate_profit(y_test, y_pred, thrs, cost_call, earn_success)\n",
        "\n",
        "        precision, recall, _ = precision_recall_curve(y_test, y_pred)\n",
        "        metrics.append({\"AUC-PR\": auc(recall, precision), \"Profit\": profit - cost, \"Cost\": cost})\n",
        "\n",
        "    return pd.DataFrame(metrics)\n",
        "\n",
        "business_results = cross_validate_with_profit(X, y, n_splits=5, random_state=777, shuffle=True)\n",
        "\n",
        "print(f\"Mean profit: {business_results['Profit'].mean():.2f}\")\n",
        "print(f\"Diviation: {business_results['Profit'].std():.2f}\")\n",
        "print(f\"Price for calls : {business_results['Cost'].mean():.2f}\")\n",
        "print(f\"Mean AUC-PR: {business_results['AUC-PR'].mean():.4f}\")\n",
        "correlation = business_results['Profit'].corr(business_results['AUC-PR'])\n",
        "print(f\"Correlation between Profit and AUC-PR: {correlation}\")"
      ],
      "metadata": {
        "colab": {
          "base_uri": "https://localhost:8080/"
        },
        "id": "Rmao3gWSPrZn",
        "outputId": "db8c689e-c0e3-4f06-9463-c21b5f759fda"
      },
      "execution_count": 126,
      "outputs": [
        {
          "output_type": "stream",
          "name": "stdout",
          "text": [
            "Mean profit: 1474.00\n",
            "Diviation: 157.58\n",
            "Price for calls : 642.00\n",
            "Mean AUC-PR: 0.4522\n",
            "Correlation between Profit and AUC-PR: 0.9845105351691801\n"
          ]
        }
      ]
    },
    {
      "cell_type": "markdown",
      "source": [
        "Ответы на все вопросы выше"
      ],
      "metadata": {
        "id": "ml49JNGEByto"
      }
    },
    {
      "cell_type": "markdown",
      "metadata": {
        "id": "Da1x6u6wP75k"
      },
      "source": [
        "Внесем некоторую долю случайности. Пусть теперь согласный на условия клиент будет приносить не 10 долларов, а случайную величину, равномерно распределенную в интервале $[0;20)$. Проделайте все те же самые действия. Для имитации реальной ситуации **НЕ** фиксируйте `random_seed` при подсчете выручки с клиента (для разбиения на фолды разумеется оставьте). Что получилось?"
      ]
    },
    {
      "cell_type": "code",
      "source": [
        "def calculate_profit_with_random_revenue(y_true, y_pred, threshold, cost_call, max_revenue):\n",
        "    y_pred = (y_pred > threshold).astype(int)\n",
        "    cost = y_pred.sum() * cost_call\n",
        "\n",
        "    true_positive = ((y_true == 1) & (y_pred == 1))\n",
        "    random_revenue = np.random.uniform(0, max_revenue, size=y_true.shape[0])\n",
        "    revenue = (true_positive * random_revenue).sum()\n",
        "    return revenue - cost"
      ],
      "metadata": {
        "id": "WEc9RKwsuZle"
      },
      "execution_count": 127,
      "outputs": []
    },
    {
      "cell_type": "code",
      "execution_count": 128,
      "metadata": {
        "id": "0AKmJpRAP75k",
        "colab": {
          "base_uri": "https://localhost:8080/"
        },
        "outputId": "215c87bb-f3ae-49c7-e251-99a7ea994a3b"
      },
      "outputs": [
        {
          "output_type": "stream",
          "name": "stdout",
          "text": [
            "Mean profit: 1484.73\n",
            "Diviation: 131.27\n"
          ]
        }
      ],
      "source": [
        "def cross_validate_with_random_revenue(\n",
        "    X,\n",
        "    y,\n",
        "    n_splits=5,\n",
        "    random_state=None,\n",
        "    shuffle=True,\n",
        "    cost_call=2,\n",
        "    max_revenue=20,\n",
        "    thrs=0.5\n",
        "):\n",
        "    metrics = []\n",
        "    skf = StratifiedKFold(n_splits=n_splits, random_state=random_state, shuffle=shuffle)\n",
        "\n",
        "    num_features = X.select_dtypes(include=[\"int64\", \"float64\"]).columns\n",
        "    cat_features = X.select_dtypes(include=[\"object\", \"category\"]).columns\n",
        "\n",
        "    preprocessor = ColumnTransformer([\n",
        "        (\"num\", StandardScaler(), num_features),\n",
        "        (\"cat\", OneHotEncoder(handle_unknown=\"ignore\"), cat_features)])\n",
        "\n",
        "    model = Pipeline(steps=[\n",
        "        (\"preprocessor\", preprocessor),\n",
        "        (\"classifier\", LogisticRegression(random_state=random_state))\n",
        "    ])\n",
        "\n",
        "    for train_index, test_index in skf.split(X, y):\n",
        "        X_train, X_test = X.iloc[train_index], X.iloc[test_index]\n",
        "        y_train, y_test = y.iloc[train_index], y.iloc[test_index]\n",
        "\n",
        "        model.fit(X_train, y_train)\n",
        "        y_pred = model.predict_proba(X_test)[:, 1]\n",
        "\n",
        "        profit = calculate_profit_with_random_revenue(\n",
        "            y_test, y_pred, thrs, cost_call, max_revenue\n",
        "        )\n",
        "        precision, recall, _ = precision_recall_curve(y_test, y_pred)\n",
        "        metrics.append({\"AUC-PR\": auc(recall, precision), \"Profit\": profit})\n",
        "\n",
        "    return pd.DataFrame(metrics)\n",
        "\n",
        "business_results = cross_validate_with_random_revenue(X, y, n_splits=5, random_state=777, shuffle=True)\n",
        "\n",
        "print(f\"Mean profit: {business_results['Profit'].mean():.2f}\")\n",
        "print(f\"Diviation: {business_results['Profit'].std():.2f}\")\n"
      ]
    },
    {
      "cell_type": "markdown",
      "source": [
        "Чуть подросли, но в целом должно было получиться то же самое, т.к. матожидание равномерного 0-20 это 10."
      ],
      "metadata": {
        "id": "-QJxVlYoB6Gz"
      }
    },
    {
      "cell_type": "markdown",
      "metadata": {
        "id": "O1g9FPExP75k"
      },
      "source": [
        "Настройте по кросс-валидации коэффициент регуляризации модели для максимизации прибыли (считайте как случайную величину выше). Удалось ли получить какой-то выигрыш? При каком коэффициенте регуляризациии прибыль максимальна? Постройте график зависимости ожидаемой прибыли от коэффициента"
      ]
    },
    {
      "cell_type": "code",
      "execution_count": 25,
      "metadata": {
        "id": "YXx7qU5PP75l",
        "colab": {
          "base_uri": "https://localhost:8080/",
          "height": 476
        },
        "outputId": "6c7c326b-e3c1-4930-d04e-6c0fa8fe3327"
      },
      "outputs": [
        {
          "output_type": "display_data",
          "data": {
            "text/plain": [
              "<Figure size 640x480 with 1 Axes>"
            ],
            "image/png": "[encoded data removed]"
          },
          "metadata": {}
        }
      ],
      "source": [
        "def searcher(X, y, C_values, n_splits=5):\n",
        "    profit_means = []\n",
        "    for C in C_values:\n",
        "        model = LogisticRegression(C=C)\n",
        "        profits = cross_validate_with_random_revenue(\n",
        "            X, y, n_splits=n_splits, random_state=777\n",
        "        )\n",
        "        profit_means.append(profits['Profit'].mean())\n",
        "\n",
        "    return profit_means\n",
        "\n",
        "C_values = np.logspace(-2, 2, 8)\n",
        "profit_means = searcher(X, y, C_values)\n",
        "\n",
        "plt.plot(C_values, profit_means, marker='o')\n",
        "plt.xscale(\"log\")\n",
        "plt.xlabel(\"Coef C\")\n",
        "plt.ylabel(\"Revenue\")\n",
        "plt.title(\"Revenue on C\")\n",
        "plt.show()\n"
      ]
    },
    {
      "cell_type": "markdown",
      "source": [
        "В целом видим, что выручка подросла на баксов 40."
      ],
      "metadata": {
        "id": "qhO0UUOzhWSk"
      }
    },
    {
      "cell_type": "markdown",
      "metadata": {
        "id": "sdptRdaIP75l"
      },
      "source": [
        "Попробуйте запустить перебор несколько раз. Находится ли каждый раз один и тот же \"лучший\" коэффициент? Присутствует ли какая-то закономерность? Какие вы можете сделать из этого выводы?"
      ]
    },
    {
      "cell_type": "code",
      "execution_count": 31,
      "metadata": {
        "id": "inD5UMbGP75l",
        "colab": {
          "base_uri": "https://localhost:8080/",
          "height": 434
        },
        "outputId": "82169db5-31e3-49b0-a8e0-391e61589f3a"
      },
      "outputs": [
        {
          "output_type": "display_data",
          "data": {
            "text/plain": [
              "<Figure size 640x480 with 1 Axes>"
            ],
            "image/png": "[encoded data removed]"
          },
          "metadata": {}
        }
      ],
      "source": [
        "for _ in range(5):\n",
        "    profit_means = searcher(X, y, C_values)\n",
        "    plt.plot(C_values, profit_means)\n",
        "    plt.xscale(\"log\")\n",
        "    profit_means_series = pd.Series(profit_means, index=C_values)\n",
        "\n",
        "    plt.scatter(profit_means_series.idxmax(), np.max(profit_means), color='red')"
      ]
    },
    {
      "cell_type": "markdown",
      "source": [
        "Ну какой тут можно сделать вывод. Казино это.\n",
        "\n",
        "Хотя по хорошему, видимо какой-то паттерн (коридор) намечается, но я бф не стал на нем зацикливаться."
      ],
      "metadata": {
        "id": "DsmBcwVWkMhE"
      }
    },
    {
      "cell_type": "markdown",
      "metadata": {
        "id": "J0j8HubaP75l"
      },
      "source": [
        "#### __Задание 13. Ключевая метрика__ (1 балл)\n",
        "\n",
        "Выше мы уже описали примерную экономическую модель вашей задачи. Как вы считаете, что для вашего бизнеса важнее — хороший precision или recall модели? Почему?\n",
        "\n",
        "__Ответ:__ Я бы сказал, что скорее recall, так как мы зарабатываем на тех, кого мы правильно определили (в прочем, стоит понимать, что если точность маленькая мы обанкротимся на лишних звонках)\n",
        "\n"
      ]
    },
    {
      "cell_type": "markdown",
      "metadata": {
        "id": "4LFRNnrtP75m"
      },
      "source": [
        "> Вспомним, что на самом деле логистическая регрессия предсказывает нам вероятности положительного класса для объекта. Возможно, путем настройки __порога бинаризации__ этих вероятностей мы сможем получить какой-то выигрыш?\n",
        "\n",
        "Проверьте ваши рассуждения выше с помощью настройки порога бинаризации на кросс-валидации для максимизации прибыли. Воспользуйтесь сеткой от 0 до 1 с шагом 0.01. Напомним, что снижение порога дает нам более высокий recall и более низкий precision, и наоборот. Добавьте новую ML-метрику в ваш CV-пайплайн, найдите такой порог, при котором бизнес-метрика максимальна, и проверьте, связана ли новая ML метрика с профитом"
      ]
    },
    {
      "cell_type": "code",
      "source": [
        "def cross_validate_with_threshold(X, y, n_splits=5, random_state=None, shuffle=True, cost_call=2, max_revenue=20):\n",
        "    thresholds = np.arange(0, 1, 0.01)\n",
        "    num_features = X.select_dtypes(include=[\"int64\", \"float64\"]).columns\n",
        "    cat_features = X.select_dtypes(include=[\"object\", \"category\"]).columns\n",
        "\n",
        "    preprocessor = ColumnTransformer([\n",
        "        (\"num\", StandardScaler(), num_features),\n",
        "        (\"cat\", OneHotEncoder(handle_unknown=\"ignore\"), cat_features)])\n",
        "\n",
        "    model = Pipeline(steps=[\n",
        "        (\"preprocessor\", preprocessor),\n",
        "        (\"classifier\", LogisticRegression(random_state=random_state))\n",
        "    ])\n",
        "    results = []\n",
        "    for threshold in thresholds:\n",
        "        metrics = []\n",
        "        profits = []\n",
        "        recalls = []\n",
        "        skf = StratifiedKFold(n_splits=n_splits, random_state=random_state, shuffle=shuffle)\n",
        "\n",
        "        for train_index, test_index in skf.split(X, y):\n",
        "            X_train, X_test = X.iloc[train_index], X.iloc[test_index]\n",
        "            y_train, y_test = y.iloc[train_index], y.iloc[test_index]\n",
        "            model.fit(X_train, y_train)\n",
        "            y_pred = model.predict_proba(X_test)[:, 1]\n",
        "\n",
        "            prediction = (y_pred >= threshold).astype(int)\n",
        "            true_positive = ((y_test == 1) & (prediction == 1))\n",
        "\n",
        "            profit = calculate_profit_with_random_revenue(y_test, y_pred, threshold, cost_call, max_revenue)\n",
        "\n",
        "            profits.append(profit)\n",
        "            precision, recall, _ = precision_recall_curve(y_test, y_pred)\n",
        "            metrics.append(auc(recall, precision))\n",
        "            recalls.append(true_positive.sum() / y_test.sum())\n",
        "        results.append({\"AUC-PR\": np.mean(metrics), \"Profit\": np.mean(profits), \"Recall\": np.mean(recalls)})\n",
        "    return pd.DataFrame(results)"
      ],
      "metadata": {
        "id": "iuGdF71-cX0F"
      },
      "execution_count": 89,
      "outputs": []
    },
    {
      "cell_type": "markdown",
      "metadata": {
        "id": "fLL7uqb2P75m"
      },
      "source": [
        "Постройте график зависимости прибыли от порога бинаризации. Выделите наилучший порог\n",
        "\n",
        "\n"
      ]
    },
    {
      "cell_type": "code",
      "source": [
        "all_results = cross_validate_with_threshold(X, y)\n",
        "thresholds = np.arange(0, 1, 0.01)\n",
        "max_profit_column = all_results['Profit'].idxmax()\n",
        "print(f\"Column with maximum Profit: {max_profit_column}\")\n",
        "\n",
        "correlation = all_results['Profit'][max_profit_column:].corr(all_results['Recall'][max_profit_column:])\n",
        "print(f\"Correlation between Profit and Recall: {correlation}\")\n",
        "plt.plot(thresholds, all_results['Profit'], label=\"Profit vs Threshold\")\n",
        "plt.scatter(thresholds[max_profit_column], all_results['Profit'][max_profit_column], color=\"red\")\n",
        "plt.xlabel(\"Threshold\")\n",
        "plt.ylabel(\"Profit\")\n",
        "plt.title(\"Profit vs Threshold\")\n",
        "plt.legend()\n",
        "plt.show()"
      ],
      "metadata": {
        "colab": {
          "base_uri": "https://localhost:8080/",
          "height": 507
        },
        "id": "pstge-Edh_IJ",
        "outputId": "04545c12-ffcf-4aa3-a2ed-8633bc74b381"
      },
      "execution_count": 83,
      "outputs": [
        {
          "output_type": "stream",
          "name": "stdout",
          "text": [
            "Column with maximum Profit: 18\n",
            "Correlation between Profit and Recall: 0.989684312617597\n"
          ]
        },
        {
          "output_type": "display_data",
          "data": {
            "text/plain": [
              "<Figure size 640x480 with 1 Axes>"
            ],
            "image/png": "[encoded data removed]"
          },
          "metadata": {}
        }
      ]
    },
    {
      "cell_type": "markdown",
      "source": [
        "Мы, как и ожидалось, уходим в 0 при высоком пороге, а на малых значениях мы звоним почти всем, тем самым уходя в минус (наше оптимальное значение около 0.2) (отрицательные значения, так как по началу мы зарабатываем 900 * 10, а тратим 8000 * 2)"
      ],
      "metadata": {
        "id": "LcdQfP0l0INV"
      }
    },
    {
      "cell_type": "markdown",
      "metadata": {
        "id": "pjw2DImXXoFx"
      },
      "source": [
        "__Вопрос:__ Замечаете ли вы какую-то закономерность? Для правильного ответа на этот вопрос попробуйте запустить несколько раз и задумайтесь, почему порог получается в какой-то конкретной области?"
      ]
    },
    {
      "cell_type": "code",
      "source": [
        "for _ in range(3):\n",
        "    all_results = cross_validate_with_threshold(X, y)\n",
        "    thresholds = np.arange(0, 1, 0.01)\n",
        "    max_profit_column = all_results['Profit'].idxmax()\n",
        "    print(thresholds[max_profit_column])"
      ],
      "metadata": {
        "colab": {
          "base_uri": "https://localhost:8080/"
        },
        "id": "uhEYvLPmamfF",
        "outputId": "ce615132-d74c-46f7-b16e-47c0481eab2b"
      },
      "execution_count": 84,
      "outputs": [
        {
          "output_type": "stream",
          "name": "stdout",
          "text": [
            "0.21\n",
            "0.2\n",
            "0.21\n"
          ]
        }
      ]
    },
    {
      "cell_type": "markdown",
      "metadata": {
        "id": "WfnHUQ7sXouL"
      },
      "source": [
        "__Ответ:__ Действительно, порог в основном в конкретной зоне. Видимо в таком случае мы совершаем достаточно звонков, чтобы заработать и не растратиться на звонки."
      ]
    },
    {
      "cell_type": "markdown",
      "source": [
        "Наконец, чтобы точнее понять, что наша модель лучше исходной, посчитайте среднее и стандартное отклонение по фолдам бизнес-метрики для оптимизированной модели (гиперпараметры + порог) и дефолтной логистической регрессии. Проверьте, действительно ли удалось добиться значимого изменения прибыли — примените какой-либо статистический тест (например, парный t-критерий с $\\alpha=0.95$) к метрике, полученной двумя этими моделями"
      ],
      "metadata": {
        "id": "7tyapxyGdrSX"
      }
    },
    {
      "cell_type": "code",
      "source": [
        "from scipy.stats import ttest_rel\n",
        "\n",
        "optimized_profits = cross_validate_with_random_revenue(X, y, n_splits=5, thrs=thresholds[max_profit_column])\n",
        "\n",
        "default_profits = cross_validate_with_random_revenue(X, y, n_splits=5)\n",
        "\n",
        "optimized_mean = np.mean(optimized_profits[\"Profit\"])\n",
        "optimized_std = np.std(optimized_profits[\"Profit\"])\n",
        "\n",
        "default_mean = np.mean(default_profits[\"Profit\"])\n",
        "default_std = np.std(default_profits[\"Profit\"])\n",
        "\n",
        "t_stat, p_value = ttest_rel(optimized_profits[\"Profit\"], default_profits[\"Profit\"])\n",
        "\n",
        "print(f\"Mean revenue opt: {optimized_mean:.2f} +- {optimized_std:.2f}\")\n",
        "print(f\"Mean revenue default: {default_mean:.2f} +- {default_std:.2f}\")\n",
        "print(f\"T_stat: {t_stat:.2f}, p_value: {p_value:.4f}\")\n",
        "\n",
        "if p_value < 0.05:\n",
        "    print(\"Opt is significantly better than default\")\n",
        "else:\n",
        "    print(\"No significant difference\")\n"
      ],
      "metadata": {
        "id": "kosI-CEjeeSb",
        "colab": {
          "base_uri": "https://localhost:8080/"
        },
        "outputId": "ad3a4449-ce03-4fe0-971f-c4e000ad0303"
      },
      "execution_count": 93,
      "outputs": [
        {
          "output_type": "stream",
          "name": "stdout",
          "text": [
            "Mean revenue opt: 2745.83 +- 154.35\n",
            "Mean revenue default: 1473.13 +- 86.31\n",
            "T_stat: 17.87, p_value: 0.0001\n",
            "Opt is significantly better than default\n"
          ]
        }
      ]
    },
    {
      "cell_type": "markdown",
      "source": [
        "# __Бонусная часть. Многоклассовая классификация__ (1.5 балла)\n",
        "\n",
        "Как известно, некоторые задачи не ограничиваются всего лишь двумя классами. На лекции вы проходили несколько способов обобщения линейных моделей на этот случай: One-vs-Rest и One-vs-One. Ниже мы посмотрим, в чём преимущества и недостатки обоих подходов, а так же попробуем ещё один чуть более экзотический метод\n",
        "\n",
        "#### **Задание 14. One-vs-Rest vs One-vs-One** (0.5 балла)\n",
        "\n",
        "В качестве [датасета](https://www.kaggle.com/datasets/thedevastator/higher-education-predictors-of-student-retention/data) здесь и ниже мы будем брать очень жизненные и актуальные данные о том, доучится студент или нет, в зависимости от курсов, возраста, гендера и прочих (не)осуждаемых признаков."
      ],
      "metadata": {
        "id": "eELf9JBWM9D5"
      }
    },
    {
      "cell_type": "code",
      "source": [
        "import kagglehub\n",
        "\n",
        "path = kagglehub.dataset_download(\"thedevastator/higher-education-predictors-of-student-retention\") + \"/dataset.csv\"\n",
        "\n",
        "features = [\"Marital status\", \"Course\", \"Nacionality\", \"Gender\", \"Age at enrollment\"]\n",
        "target = \"Target\""
      ],
      "metadata": {
        "id": "23xX_I3bO3uQ"
      },
      "execution_count": 178,
      "outputs": []
    },
    {
      "cell_type": "markdown",
      "source": [
        "Будем смотреть только какое-то подмножество наиболее весёлых факторов. От вас по классике потребуется их преобразовать, в зависимости от того, числовые они или категориальные и **закодировать таргет чиселками!!!**"
      ],
      "metadata": {
        "id": "KMuDGcDiO6bI"
      }
    },
    {
      "cell_type": "code",
      "source": [
        "from sklearn.preprocessing import LabelEncoder\n",
        "\n",
        "df = pd.read_csv(path)\n",
        "X = df[features]\n",
        "y = df[target]\n",
        "\n",
        "label_encoder = LabelEncoder()\n",
        "y = label_encoder.fit_transform(y)"
      ],
      "metadata": {
        "id": "_Y8NbWwPPVHZ"
      },
      "execution_count": 179,
      "outputs": []
    },
    {
      "cell_type": "code",
      "source": [
        "X_train, X_test, y_train, y_test = train_test_split(X, y, random_state=228, shuffle=True, test_size=0.2)"
      ],
      "metadata": {
        "id": "f8kXNmpIPYdA"
      },
      "execution_count": 180,
      "outputs": []
    },
    {
      "cell_type": "code",
      "source": [
        "categorical_features = [\"Marital status\", \"Course\", \"Nacionality\", \"Gender\"]\n",
        "numerical_features = [\"Age at enrollment\"]\n",
        "\n",
        "preprocessor = ColumnTransformer(\n",
        "    transformers=[\n",
        "        (\"num\", \"passthrough\", numerical_features),\n",
        "        (\"cat\", OneHotEncoder(handle_unknown=\"ignore\"), categorical_features),\n",
        "    ]\n",
        ")"
      ],
      "metadata": {
        "id": "gAdcfRdYrdZX"
      },
      "execution_count": 181,
      "outputs": []
    },
    {
      "cell_type": "markdown",
      "source": [
        "Ваш следующий шаг - посмотреть, каким образом в `sklearn` реализованы OvR и OvO, обучить таким образом логистическую регрессию с `max_iter=10000`, далее выбрать какую-то метрику (и её усреднение, его выбор тоже аргументируйте), и сравнить следующие параметры:\n",
        "- число классификаторов\n",
        "- скорость обучения\n",
        "- качество модели\n",
        "\n",
        "Также сохраните куда-нибудь предсказания вероятностей у каждой из моделей. Это можно сделать не одним способом, но возможно вам чуть с этим поможет следующий пункт\n"
      ],
      "metadata": {
        "id": "j4cGqq_kPfrQ"
      }
    },
    {
      "cell_type": "code",
      "source": [
        "from sklearn.multiclass import OneVsRestClassifier, OneVsOneClassifier\n",
        "from sklearn.metrics import accuracy_score, f1_score\n",
        "\n",
        "base_model = LogisticRegression(max_iter=10000, random_state=228)\n",
        "\n",
        "ovr_model = OneVsRestClassifier(base_model)\n",
        "pipeline_ovr = Pipeline([(\"preprocessor\", preprocessor), (\"classifier\", ovr_model)])\n",
        "pipeline_ovr.fit(X_train, y_train)\n",
        "y_pred_ovr = pipeline_ovr.predict(X_test)\n",
        "y_proba_ovr = pipeline_ovr.predict_proba(X_test)\n",
        "\n",
        "ovo_model = OneVsOneClassifier(base_model)\n",
        "pipeline_ovo = Pipeline([(\"preprocessor\", preprocessor), (\"classifier\", ovo_model)])\n",
        "pipeline_ovo.fit(X_train, y_train)\n",
        "y_pred_ovo = pipeline_ovo.predict(X_test)\n",
        "y_proba_ovo = pipeline_ovo.decision_function(X_test)"
      ],
      "metadata": {
        "id": "BuO6VHE1P4dA"
      },
      "execution_count": 182,
      "outputs": []
    },
    {
      "cell_type": "markdown",
      "source": [
        "В многоклассовом случае довольно просто считается accuracy (на википедии еще посоветовали macro f1)"
      ],
      "metadata": {
        "id": "VjuW42Jd7Efs"
      }
    },
    {
      "cell_type": "code",
      "source": [
        "n_classes = len(np.unique(y))\n",
        "n_classifiers_ovr = n_classes\n",
        "n_classifiers_ovo = n_classes * (n_classes - 1) // 2\n",
        "\n",
        "print(f\"Number classifiers OvR: {n_classifiers_ovr}\")\n",
        "print(f\"Number classifiers OvO: {n_classifiers_ovo}\")"
      ],
      "metadata": {
        "colab": {
          "base_uri": "https://localhost:8080/"
        },
        "id": "6ssjvwZC8RKK",
        "outputId": "6cb1c51a-dce2-4269-b4b4-6149cbcbff8c"
      },
      "execution_count": 183,
      "outputs": [
        {
          "output_type": "stream",
          "name": "stdout",
          "text": [
            "Number classifiers OvR: 3\n",
            "Number classifiers OvO: 3\n"
          ]
        }
      ]
    },
    {
      "cell_type": "code",
      "source": [
        "from time import time\n",
        "\n",
        "start_time = time()\n",
        "pipeline_ovr.fit(X_train, y_train)\n",
        "time_ovr = time() - start_time\n",
        "\n",
        "start_time = time()\n",
        "pipeline_ovo.fit(X_train, y_train)\n",
        "time_ovo = time() - start_time\n",
        "\n",
        "print(f\"Time OvR: {time_ovr:.2f}\")\n",
        "print(f\"Time OvO: {time_ovo:.2f}\")"
      ],
      "metadata": {
        "colab": {
          "base_uri": "https://localhost:8080/"
        },
        "id": "nwAbrYGjr4I3",
        "outputId": "4d89ed1c-615a-4b54-ae4c-70b2b7ec4144"
      },
      "execution_count": 140,
      "outputs": [
        {
          "output_type": "stream",
          "name": "stdout",
          "text": [
            "Time OvR: 0.37\n",
            "Time OvO: 0.38\n"
          ]
        }
      ]
    },
    {
      "cell_type": "code",
      "source": [
        "print(f\"OvR accuracy: {accuracy_score(y_test, y_pred_ovr)}\")\n",
        "print(f\"OvO accuracy: {accuracy_score(y_test, y_pred_ovo)}\")\n",
        "print(f\"OvR f1_macro: {f1_score(y_test, y_pred_ovr, average='macro')}\")\n",
        "print(f\"OvO f1_macro: {f1_score(y_test, y_pred_ovo, average='macro')}\")"
      ],
      "metadata": {
        "colab": {
          "base_uri": "https://localhost:8080/"
        },
        "id": "oEElq-Z6GZfn",
        "outputId": "4ef8d122-f93d-43c0-d171-d41e2e605d6d"
      },
      "execution_count": 162,
      "outputs": [
        {
          "output_type": "stream",
          "name": "stdout",
          "text": [
            "OvR accuracy: 0.5638418079096045\n",
            "OvO accuracy: 0.5661016949152542\n",
            "OvR f1_macro: 0.397388694690007\n",
            "OvO f1_macro: 0.4128961456771485\n"
          ]
        }
      ]
    },
    {
      "cell_type": "markdown",
      "source": [
        "Как вы объясните полученные результаты?\n",
        "\n",
        "__Ответ:__ У нас всего 3 класса, потому OvR не особо быстрее OvO (еще и число классификаторов у них одинаковое). По качеству почти одинаковое исполненение."
      ],
      "metadata": {
        "id": "rCxJ7e3QYsgF"
      }
    },
    {
      "cell_type": "markdown",
      "source": [
        "#### __Задание 15. Softmax регрессия__ (1 балл)\n",
        "\n",
        "Однако любознательные машинисты могут задаться вопросом \"А зачем нам вся эта шляпа, если у сигмоиды есть обобщение на случай многоклассовой классификации?\" Если вам понравилось считать градиенты в прошлом дз, или вам нравится обучать нейросети, этот пункт для вас. Здесь мы попробуем построить одну-единственную модель, которая будет всё предсказывать, а также сравним с вариантами выше"
      ],
      "metadata": {
        "id": "075hgy9sP7QX"
      }
    },
    {
      "cell_type": "markdown",
      "source": [
        "Начнём с подсчёта лосса. Вспомним, что логистическая функция потерь это частный случай кросс-энтропии, её и будем пытаться оптимизировать.\n",
        "\n",
        "$$\n",
        "\\text{CE}(X, y) = -\\frac{1}{N}\\sum_i \\sum_k [y_i = k] \\log p(x_i = k)\n",
        "$$\n",
        "Вероятности в данном случае будем считать при помощи софтмакса, что есть общий случай сигмоиды\n",
        "\n",
        "$$\n",
        "p(x_i) = \\text{Softmax}(a(x_i)); \\quad\n",
        "\\text{Softmax}(x)_k = \\frac{e^{x_{k}}}{\\sum_j e^{x_{j}}} \\\\\n",
        "$$\n",
        "\n",
        "Предсказание модели на одном объекта будет делаться уже при помощи матрицы весов, посклоьку выходов несколько\n",
        "\n",
        "$$\n",
        "a(x_i) = x_i\\cdot W \\\\\n",
        "$$\n",
        "\n",
        "Ниже предлагается написать код для такой функции потерь. Если необходимо, модифицируйте шаблон по своему усмотрению (вспомогательные функции, новые аргументы, всё, что душа пожелает)"
      ],
      "metadata": {
        "id": "HgBxUToxRPN8"
      }
    },
    {
      "cell_type": "code",
      "source": [
        "from typing import Iterable, Optional\n",
        "from torch.nn.functional import cross_entropy\n",
        "import torch\n",
        "\n",
        "def custom_ce(\n",
        "    y_pred: np.ndarray[float],\n",
        "    y_true: np.ndarray[int],\n",
        ") -> float:\n",
        "    exp_x = np.exp(y_pred - np.max(y_pred, axis=1, keepdims=True))\n",
        "    probabilities = exp_x / np.sum(exp_x, axis=1, keepdims=True)\n",
        "\n",
        "    log_probs = np.log(probabilities[np.arange(len(y_true)), y_true])\n",
        "\n",
        "    loss = -np.mean(log_probs)\n",
        "    return loss"
      ],
      "metadata": {
        "id": "AYsBvtxmTK5d"
      },
      "execution_count": 184,
      "outputs": []
    },
    {
      "cell_type": "code",
      "source": [
        "for _ in range(1000):\n",
        "\n",
        "    n_objects = np.random.randint(1, 100)\n",
        "    n_classes = np.random.randint(2, 20)\n",
        "    y_pred = np.random.normal(0, 1, (n_objects, n_classes))\n",
        "    y_true = np.random.randint(low=0, high=n_classes, size=(n_objects,))\n",
        "\n",
        "    your_ce = custom_ce(y_pred, y_true) # не забудьте поправить, если меняли шаблон\n",
        "    torch_ce = cross_entropy(torch.tensor(y_pred), torch.tensor(y_true))\n",
        "    assert np.allclose(your_ce, torch_ce), \"Что-то пошло не так\""
      ],
      "metadata": {
        "id": "JOK4eJXpSamh"
      },
      "execution_count": 185,
      "outputs": []
    },
    {
      "cell_type": "markdown",
      "source": [
        "Дальше самая интересная часть - нужно вывести производную этой функции потерь (на всякий случай уточним, что `torch` использовать нельзя, разве что для самопроверки). Полезные факты, которые вам могут пригодиться:\n",
        "\n",
        "- в матричном виде найти производную непросто, попробуйте сперва сделать это для одного объекта, обобщить будет полегче\n",
        "- логсофтмакс дифференцировать гораздо легче, чем просто софтмакс\n",
        "- не забывайте про правило дифференцирования сложной функции\n",
        "- поскольку веса в данном случае матрица, результат будет тоже матрица, учтите при сверке размерностей\n",
        "- если вы не придумали, как преобразовать индикаторы в векторный вид, сейчас самое время"
      ],
      "metadata": {
        "id": "X9MLDIQrT24U"
      }
    },
    {
      "cell_type": "markdown",
      "source": [
        "https://math.stackexchange.com/questions/2013050/log-of-softmax-function-derivative"
      ],
      "metadata": {
        "id": "9bY1uQBDQKvd"
      }
    },
    {
      "cell_type": "markdown",
      "source": [
        "Вообще, мы таким на DL занимались, но, как видно, градиаент от лог софтмакса по pred это просто матрица c истинными классами за вычетом матрицы вероятностей. Далее нам останется просто домножить на матрицу X по цепному правилу (когда pred по весам ищем).  При этом, мы понимаем, что все индикаторы можно прокинуть (там либо 0, либо 1, т.е. дифференцируем мы также логсофтмакс)"
      ],
      "metadata": {
        "id": "CbaHIIShQN4l"
      }
    },
    {
      "cell_type": "code",
      "source": [
        "def ce_gradient(X: np.ndarray, W: np.ndarray, y: np.ndarray) -> np.ndarray[float]:\n",
        "    pred = X @ W\n",
        "\n",
        "    exp_x = np.exp(pred - np.max(pred, axis=1, keepdims=True))\n",
        "    probabilities = exp_x / np.sum(exp_x, axis=1, keepdims=True)\n",
        "\n",
        "    mask = np.zeros_like(probabilities)\n",
        "    mask[np.arange(len(y)), y] = 1\n",
        "\n",
        "    grad = X.T @ (probabilities - mask) / len(X)\n",
        "    return grad"
      ],
      "metadata": {
        "id": "tYHes6fVVO7s"
      },
      "execution_count": 186,
      "outputs": []
    },
    {
      "cell_type": "markdown",
      "source": [
        "Дальше дело за малым. Вспомните (или узнайте), как делается градиентный спуск, и дополните класс софтмакс-регрессии ниже. Здесь разумнее использовать критерий останова по итерациям, но логрег из `sklearn` устроен немного хитрее. Если хотите добавить еще критерии останова, какие-то другие параметры, то пожалуйста"
      ],
      "metadata": {
        "id": "x8KP9v4WW6UL"
      }
    },
    {
      "cell_type": "code",
      "source": [
        "class SoftmaxRegression:\n",
        "\n",
        "    def __init__(self, lr=1e-3, max_iter=10000):\n",
        "        self.W = None\n",
        "        self.max_iter = max_iter\n",
        "        self.lr = lr\n",
        "\n",
        "    def fit(self, X, y):\n",
        "        n_samples, n_features = X.shape\n",
        "        n_classes = np.max(y) + 1\n",
        "        self.W = np.random.normal(0, 0.01, (n_features, n_classes))\n",
        "\n",
        "        for i in range(self.max_iter):\n",
        "            grad = ce_gradient(X, self.W, y)\n",
        "            self.W -= self.lr * grad\n",
        "\n",
        "    def predict(self, X, y=None):\n",
        "        pred = X @ self.W\n",
        "        return np.argmax(pred, axis=1)\n",
        "\n",
        "    def predict_proba(self, X):\n",
        "        pred = X @ self.W\n",
        "        exp_x = np.exp(pred - np.max(pred, axis=1, keepdims=True))\n",
        "        probabilities = exp_x / np.sum(exp_x, axis=1, keepdims=True)\n",
        "        return probabilities"
      ],
      "metadata": {
        "id": "n133i8Nlc9Et"
      },
      "execution_count": 188,
      "outputs": []
    },
    {
      "cell_type": "markdown",
      "source": [
        "Обучите на тех же данных, что и выше, замерьте те же три параметра, плюс сравните значения кросс-энтропии для уже трёх моделей. Сравните модели между собой и выберите фаворита в данной задаче."
      ],
      "metadata": {
        "id": "-JSpEv6oXSIX"
      }
    },
    {
      "cell_type": "code",
      "source": [
        "softmax_model = SoftmaxRegression(lr=0.005, max_iter=1000)\n",
        "start_time = time()\n",
        "softmax_model.fit(X_train.values, y_train)\n",
        "time_soft = time() - start_time\n",
        "\n",
        "y_pred_softmax = softmax_model.predict(X_test.values)\n",
        "y_proba_softmax = softmax_model.predict_proba(X_test.values)\n",
        "\n",
        "softmax_ce = custom_ce(y_proba_softmax, y_test)\n",
        "\n",
        "ovr_ce = custom_ce(y_proba_ovr, y_test)\n",
        "ovo_ce = custom_ce(y_proba_ovo, y_test)\n",
        "\n",
        "print(f\"Time: {time_soft:.2f}\")\n",
        "print(f\"Accuracy: {accuracy_score(y_test, y_pred_softmax)}\")\n",
        "print(f\"F1 macro: {f1_score(y_test, y_pred_softmax, average='macro')}\")\n",
        "print(\"Cross-entropy:\")\n",
        "print(f\"OvR: {ovr_ce:.4f}, OvO: {ovo_ce:.4f}, Softmax: {softmax_ce:.4f}\")\n"
      ],
      "metadata": {
        "id": "6sUQDl5_Y8HB",
        "colab": {
          "base_uri": "https://localhost:8080/"
        },
        "outputId": "a6eec876-c4b4-45b6-a654-0a6f12e1a0cc"
      },
      "execution_count": 171,
      "outputs": [
        {
          "output_type": "stream",
          "name": "stdout",
          "text": [
            "Time: 0.69\n",
            "Accuracy: 0.5242937853107345\n",
            "F1 macro: 0.34914743575748314\n",
            "Cross-entropy:\n",
            "OvR: 0.9986, OvO: 1.0183, Softmax: 1.0493\n"
          ]
        }
      ]
    },
    {
      "cell_type": "markdown",
      "source": [
        "__Ответ__: Как видим, SoftMax не очень себя показал (видимо потому про него и не говрили на лекции, что совсем экзотика). В принципе, он сравним с другими методами (accuracy чуть хуже, f1 чуть лучше, кросс-энтропия худшая). Обучаение зависит от числа итераций, но больше 1000 реузльтат особо не менятеся. Задача довольно искусственная, а потому выбрать фаворита проблематично, каждый в каком-то одном показателе да лидирует. Но я бы сказал, что OvO, т.к. в среднем он выше своих конкурентов (по метрикам да и времени выполенения)"
      ],
      "metadata": {
        "id": "U6xDfck0cfrr"
      }
    },
    {
      "cell_type": "markdown",
      "metadata": {
        "id": "ACYk14eyP75n"
      },
      "source": [
        "__Бонус (0.01 балла):__ что вы кушали в день сдачи данного ДЗ на завтрак?\n",
        "\n",
        "__Ответ:__ Овсянка, чай с пряниками"
      ]
    }
  ],
  "metadata": {
    "colab": {
      "provenance": []
    },
    "kernelspec": {
      "display_name": "Python 3 (ipykernel)",
      "language": "python",
      "name": "python3"
    },
    "language_info": {
      "codemirror_mode": {
        "name": "ipython",
        "version": 3
      },
      "file_extension": ".py",
      "mimetype": "text/x-python",
      "name": "python",
      "nbconvert_exporter": "python",
      "pygments_lexer": "ipython3",
      "version": "3.9.7"
    }
  },
  "nbformat": 4,
  "nbformat_minor": 0
}